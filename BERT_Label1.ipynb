{
  "nbformat": 4,
  "nbformat_minor": 0,
  "metadata": {
    "colab": {
      "provenance": []
    },
    "kernelspec": {
      "name": "python3",
      "display_name": "Python 3"
    },
    "language_info": {
      "name": "python"
    },
    "widgets": {
      "application/vnd.jupyter.widget-state+json": {
        "0de3519a2c6f40fd85e5c3503341cb0c": {
          "model_module": "@jupyter-widgets/controls",
          "model_name": "HBoxModel",
          "model_module_version": "1.5.0",
          "state": {
            "_dom_classes": [],
            "_model_module": "@jupyter-widgets/controls",
            "_model_module_version": "1.5.0",
            "_model_name": "HBoxModel",
            "_view_count": null,
            "_view_module": "@jupyter-widgets/controls",
            "_view_module_version": "1.5.0",
            "_view_name": "HBoxView",
            "box_style": "",
            "children": [
              "IPY_MODEL_5a0683d32c354f62b4b5a97d470eb899",
              "IPY_MODEL_602ac68cb51c460ca666d5263f4a4bcf",
              "IPY_MODEL_3a84be2faf9a4454b00e4ea646f4eef3"
            ],
            "layout": "IPY_MODEL_793d7d0416f64a00854856fca8cef687"
          }
        },
        "5a0683d32c354f62b4b5a97d470eb899": {
          "model_module": "@jupyter-widgets/controls",
          "model_name": "HTMLModel",
          "model_module_version": "1.5.0",
          "state": {
            "_dom_classes": [],
            "_model_module": "@jupyter-widgets/controls",
            "_model_module_version": "1.5.0",
            "_model_name": "HTMLModel",
            "_view_count": null,
            "_view_module": "@jupyter-widgets/controls",
            "_view_module_version": "1.5.0",
            "_view_name": "HTMLView",
            "description": "",
            "description_tooltip": null,
            "layout": "IPY_MODEL_0fc115cf72ae473ea0ff1cea548dfe75",
            "placeholder": "​",
            "style": "IPY_MODEL_86674094cdd340aa9f21dff44397a215",
            "value": "config.json: 100%"
          }
        },
        "602ac68cb51c460ca666d5263f4a4bcf": {
          "model_module": "@jupyter-widgets/controls",
          "model_name": "FloatProgressModel",
          "model_module_version": "1.5.0",
          "state": {
            "_dom_classes": [],
            "_model_module": "@jupyter-widgets/controls",
            "_model_module_version": "1.5.0",
            "_model_name": "FloatProgressModel",
            "_view_count": null,
            "_view_module": "@jupyter-widgets/controls",
            "_view_module_version": "1.5.0",
            "_view_name": "ProgressView",
            "bar_style": "success",
            "description": "",
            "description_tooltip": null,
            "layout": "IPY_MODEL_73d039f188e749ee976d315986a10b61",
            "max": 635,
            "min": 0,
            "orientation": "horizontal",
            "style": "IPY_MODEL_f252abbe349f4f69a73e1088d63ca527",
            "value": 635
          }
        },
        "3a84be2faf9a4454b00e4ea646f4eef3": {
          "model_module": "@jupyter-widgets/controls",
          "model_name": "HTMLModel",
          "model_module_version": "1.5.0",
          "state": {
            "_dom_classes": [],
            "_model_module": "@jupyter-widgets/controls",
            "_model_module_version": "1.5.0",
            "_model_name": "HTMLModel",
            "_view_count": null,
            "_view_module": "@jupyter-widgets/controls",
            "_view_module_version": "1.5.0",
            "_view_name": "HTMLView",
            "description": "",
            "description_tooltip": null,
            "layout": "IPY_MODEL_2667bad87c6545929f58e9c315d4e3f9",
            "placeholder": "​",
            "style": "IPY_MODEL_c7ce940e6ab74b2d9368a80dcf2984e3",
            "value": " 635/635 [00:00&lt;00:00, 21.5kB/s]"
          }
        },
        "793d7d0416f64a00854856fca8cef687": {
          "model_module": "@jupyter-widgets/base",
          "model_name": "LayoutModel",
          "model_module_version": "1.2.0",
          "state": {
            "_model_module": "@jupyter-widgets/base",
            "_model_module_version": "1.2.0",
            "_model_name": "LayoutModel",
            "_view_count": null,
            "_view_module": "@jupyter-widgets/base",
            "_view_module_version": "1.2.0",
            "_view_name": "LayoutView",
            "align_content": null,
            "align_items": null,
            "align_self": null,
            "border": null,
            "bottom": null,
            "display": null,
            "flex": null,
            "flex_flow": null,
            "grid_area": null,
            "grid_auto_columns": null,
            "grid_auto_flow": null,
            "grid_auto_rows": null,
            "grid_column": null,
            "grid_gap": null,
            "grid_row": null,
            "grid_template_areas": null,
            "grid_template_columns": null,
            "grid_template_rows": null,
            "height": null,
            "justify_content": null,
            "justify_items": null,
            "left": null,
            "margin": null,
            "max_height": null,
            "max_width": null,
            "min_height": null,
            "min_width": null,
            "object_fit": null,
            "object_position": null,
            "order": null,
            "overflow": null,
            "overflow_x": null,
            "overflow_y": null,
            "padding": null,
            "right": null,
            "top": null,
            "visibility": null,
            "width": null
          }
        },
        "0fc115cf72ae473ea0ff1cea548dfe75": {
          "model_module": "@jupyter-widgets/base",
          "model_name": "LayoutModel",
          "model_module_version": "1.2.0",
          "state": {
            "_model_module": "@jupyter-widgets/base",
            "_model_module_version": "1.2.0",
            "_model_name": "LayoutModel",
            "_view_count": null,
            "_view_module": "@jupyter-widgets/base",
            "_view_module_version": "1.2.0",
            "_view_name": "LayoutView",
            "align_content": null,
            "align_items": null,
            "align_self": null,
            "border": null,
            "bottom": null,
            "display": null,
            "flex": null,
            "flex_flow": null,
            "grid_area": null,
            "grid_auto_columns": null,
            "grid_auto_flow": null,
            "grid_auto_rows": null,
            "grid_column": null,
            "grid_gap": null,
            "grid_row": null,
            "grid_template_areas": null,
            "grid_template_columns": null,
            "grid_template_rows": null,
            "height": null,
            "justify_content": null,
            "justify_items": null,
            "left": null,
            "margin": null,
            "max_height": null,
            "max_width": null,
            "min_height": null,
            "min_width": null,
            "object_fit": null,
            "object_position": null,
            "order": null,
            "overflow": null,
            "overflow_x": null,
            "overflow_y": null,
            "padding": null,
            "right": null,
            "top": null,
            "visibility": null,
            "width": null
          }
        },
        "86674094cdd340aa9f21dff44397a215": {
          "model_module": "@jupyter-widgets/controls",
          "model_name": "DescriptionStyleModel",
          "model_module_version": "1.5.0",
          "state": {
            "_model_module": "@jupyter-widgets/controls",
            "_model_module_version": "1.5.0",
            "_model_name": "DescriptionStyleModel",
            "_view_count": null,
            "_view_module": "@jupyter-widgets/base",
            "_view_module_version": "1.2.0",
            "_view_name": "StyleView",
            "description_width": ""
          }
        },
        "73d039f188e749ee976d315986a10b61": {
          "model_module": "@jupyter-widgets/base",
          "model_name": "LayoutModel",
          "model_module_version": "1.2.0",
          "state": {
            "_model_module": "@jupyter-widgets/base",
            "_model_module_version": "1.2.0",
            "_model_name": "LayoutModel",
            "_view_count": null,
            "_view_module": "@jupyter-widgets/base",
            "_view_module_version": "1.2.0",
            "_view_name": "LayoutView",
            "align_content": null,
            "align_items": null,
            "align_self": null,
            "border": null,
            "bottom": null,
            "display": null,
            "flex": null,
            "flex_flow": null,
            "grid_area": null,
            "grid_auto_columns": null,
            "grid_auto_flow": null,
            "grid_auto_rows": null,
            "grid_column": null,
            "grid_gap": null,
            "grid_row": null,
            "grid_template_areas": null,
            "grid_template_columns": null,
            "grid_template_rows": null,
            "height": null,
            "justify_content": null,
            "justify_items": null,
            "left": null,
            "margin": null,
            "max_height": null,
            "max_width": null,
            "min_height": null,
            "min_width": null,
            "object_fit": null,
            "object_position": null,
            "order": null,
            "overflow": null,
            "overflow_x": null,
            "overflow_y": null,
            "padding": null,
            "right": null,
            "top": null,
            "visibility": null,
            "width": null
          }
        },
        "f252abbe349f4f69a73e1088d63ca527": {
          "model_module": "@jupyter-widgets/controls",
          "model_name": "ProgressStyleModel",
          "model_module_version": "1.5.0",
          "state": {
            "_model_module": "@jupyter-widgets/controls",
            "_model_module_version": "1.5.0",
            "_model_name": "ProgressStyleModel",
            "_view_count": null,
            "_view_module": "@jupyter-widgets/base",
            "_view_module_version": "1.2.0",
            "_view_name": "StyleView",
            "bar_color": null,
            "description_width": ""
          }
        },
        "2667bad87c6545929f58e9c315d4e3f9": {
          "model_module": "@jupyter-widgets/base",
          "model_name": "LayoutModel",
          "model_module_version": "1.2.0",
          "state": {
            "_model_module": "@jupyter-widgets/base",
            "_model_module_version": "1.2.0",
            "_model_name": "LayoutModel",
            "_view_count": null,
            "_view_module": "@jupyter-widgets/base",
            "_view_module_version": "1.2.0",
            "_view_name": "LayoutView",
            "align_content": null,
            "align_items": null,
            "align_self": null,
            "border": null,
            "bottom": null,
            "display": null,
            "flex": null,
            "flex_flow": null,
            "grid_area": null,
            "grid_auto_columns": null,
            "grid_auto_flow": null,
            "grid_auto_rows": null,
            "grid_column": null,
            "grid_gap": null,
            "grid_row": null,
            "grid_template_areas": null,
            "grid_template_columns": null,
            "grid_template_rows": null,
            "height": null,
            "justify_content": null,
            "justify_items": null,
            "left": null,
            "margin": null,
            "max_height": null,
            "max_width": null,
            "min_height": null,
            "min_width": null,
            "object_fit": null,
            "object_position": null,
            "order": null,
            "overflow": null,
            "overflow_x": null,
            "overflow_y": null,
            "padding": null,
            "right": null,
            "top": null,
            "visibility": null,
            "width": null
          }
        },
        "c7ce940e6ab74b2d9368a80dcf2984e3": {
          "model_module": "@jupyter-widgets/controls",
          "model_name": "DescriptionStyleModel",
          "model_module_version": "1.5.0",
          "state": {
            "_model_module": "@jupyter-widgets/controls",
            "_model_module_version": "1.5.0",
            "_model_name": "DescriptionStyleModel",
            "_view_count": null,
            "_view_module": "@jupyter-widgets/base",
            "_view_module_version": "1.2.0",
            "_view_name": "StyleView",
            "description_width": ""
          }
        },
        "cf8ba55c8e524b9cb77d2a85ff5c26a9": {
          "model_module": "@jupyter-widgets/controls",
          "model_name": "HBoxModel",
          "model_module_version": "1.5.0",
          "state": {
            "_dom_classes": [],
            "_model_module": "@jupyter-widgets/controls",
            "_model_module_version": "1.5.0",
            "_model_name": "HBoxModel",
            "_view_count": null,
            "_view_module": "@jupyter-widgets/controls",
            "_view_module_version": "1.5.0",
            "_view_name": "HBoxView",
            "box_style": "",
            "children": [
              "IPY_MODEL_e016e5d8e76d45c2a39daccf5df3abd2",
              "IPY_MODEL_52b53ad92bb947bf9960482c147b48fc",
              "IPY_MODEL_81d119f2fe9a4e83a3f3fa980ebb1c57"
            ],
            "layout": "IPY_MODEL_a9f5f491ee4945db9e11de1840e08eb0"
          }
        },
        "e016e5d8e76d45c2a39daccf5df3abd2": {
          "model_module": "@jupyter-widgets/controls",
          "model_name": "HTMLModel",
          "model_module_version": "1.5.0",
          "state": {
            "_dom_classes": [],
            "_model_module": "@jupyter-widgets/controls",
            "_model_module_version": "1.5.0",
            "_model_name": "HTMLModel",
            "_view_count": null,
            "_view_module": "@jupyter-widgets/controls",
            "_view_module_version": "1.5.0",
            "_view_name": "HTMLView",
            "description": "",
            "description_tooltip": null,
            "layout": "IPY_MODEL_d396e46b027f45e4adc690290d98e082",
            "placeholder": "​",
            "style": "IPY_MODEL_4c3126bb72494461b261c97fbea2b7e6",
            "value": "pytorch_model.bin: 100%"
          }
        },
        "52b53ad92bb947bf9960482c147b48fc": {
          "model_module": "@jupyter-widgets/controls",
          "model_name": "FloatProgressModel",
          "model_module_version": "1.5.0",
          "state": {
            "_dom_classes": [],
            "_model_module": "@jupyter-widgets/controls",
            "_model_module_version": "1.5.0",
            "_model_name": "FloatProgressModel",
            "_view_count": null,
            "_view_module": "@jupyter-widgets/controls",
            "_view_module_version": "1.5.0",
            "_view_name": "ProgressView",
            "bar_style": "success",
            "description": "",
            "description_tooltip": null,
            "layout": "IPY_MODEL_d00ec816a9c141a4a3fd6a38eef0ce1e",
            "max": 266384939,
            "min": 0,
            "orientation": "horizontal",
            "style": "IPY_MODEL_821037b11a0641aebda0c1155337c286",
            "value": 266384939
          }
        },
        "81d119f2fe9a4e83a3f3fa980ebb1c57": {
          "model_module": "@jupyter-widgets/controls",
          "model_name": "HTMLModel",
          "model_module_version": "1.5.0",
          "state": {
            "_dom_classes": [],
            "_model_module": "@jupyter-widgets/controls",
            "_model_module_version": "1.5.0",
            "_model_name": "HTMLModel",
            "_view_count": null,
            "_view_module": "@jupyter-widgets/controls",
            "_view_module_version": "1.5.0",
            "_view_name": "HTMLView",
            "description": "",
            "description_tooltip": null,
            "layout": "IPY_MODEL_d1457795bbb84323913f38a3f749a5ff",
            "placeholder": "​",
            "style": "IPY_MODEL_d22b517aad244f1da85552689357ff11",
            "value": " 266M/266M [00:05&lt;00:00, 60.8MB/s]"
          }
        },
        "a9f5f491ee4945db9e11de1840e08eb0": {
          "model_module": "@jupyter-widgets/base",
          "model_name": "LayoutModel",
          "model_module_version": "1.2.0",
          "state": {
            "_model_module": "@jupyter-widgets/base",
            "_model_module_version": "1.2.0",
            "_model_name": "LayoutModel",
            "_view_count": null,
            "_view_module": "@jupyter-widgets/base",
            "_view_module_version": "1.2.0",
            "_view_name": "LayoutView",
            "align_content": null,
            "align_items": null,
            "align_self": null,
            "border": null,
            "bottom": null,
            "display": null,
            "flex": null,
            "flex_flow": null,
            "grid_area": null,
            "grid_auto_columns": null,
            "grid_auto_flow": null,
            "grid_auto_rows": null,
            "grid_column": null,
            "grid_gap": null,
            "grid_row": null,
            "grid_template_areas": null,
            "grid_template_columns": null,
            "grid_template_rows": null,
            "height": null,
            "justify_content": null,
            "justify_items": null,
            "left": null,
            "margin": null,
            "max_height": null,
            "max_width": null,
            "min_height": null,
            "min_width": null,
            "object_fit": null,
            "object_position": null,
            "order": null,
            "overflow": null,
            "overflow_x": null,
            "overflow_y": null,
            "padding": null,
            "right": null,
            "top": null,
            "visibility": null,
            "width": null
          }
        },
        "d396e46b027f45e4adc690290d98e082": {
          "model_module": "@jupyter-widgets/base",
          "model_name": "LayoutModel",
          "model_module_version": "1.2.0",
          "state": {
            "_model_module": "@jupyter-widgets/base",
            "_model_module_version": "1.2.0",
            "_model_name": "LayoutModel",
            "_view_count": null,
            "_view_module": "@jupyter-widgets/base",
            "_view_module_version": "1.2.0",
            "_view_name": "LayoutView",
            "align_content": null,
            "align_items": null,
            "align_self": null,
            "border": null,
            "bottom": null,
            "display": null,
            "flex": null,
            "flex_flow": null,
            "grid_area": null,
            "grid_auto_columns": null,
            "grid_auto_flow": null,
            "grid_auto_rows": null,
            "grid_column": null,
            "grid_gap": null,
            "grid_row": null,
            "grid_template_areas": null,
            "grid_template_columns": null,
            "grid_template_rows": null,
            "height": null,
            "justify_content": null,
            "justify_items": null,
            "left": null,
            "margin": null,
            "max_height": null,
            "max_width": null,
            "min_height": null,
            "min_width": null,
            "object_fit": null,
            "object_position": null,
            "order": null,
            "overflow": null,
            "overflow_x": null,
            "overflow_y": null,
            "padding": null,
            "right": null,
            "top": null,
            "visibility": null,
            "width": null
          }
        },
        "4c3126bb72494461b261c97fbea2b7e6": {
          "model_module": "@jupyter-widgets/controls",
          "model_name": "DescriptionStyleModel",
          "model_module_version": "1.5.0",
          "state": {
            "_model_module": "@jupyter-widgets/controls",
            "_model_module_version": "1.5.0",
            "_model_name": "DescriptionStyleModel",
            "_view_count": null,
            "_view_module": "@jupyter-widgets/base",
            "_view_module_version": "1.2.0",
            "_view_name": "StyleView",
            "description_width": ""
          }
        },
        "d00ec816a9c141a4a3fd6a38eef0ce1e": {
          "model_module": "@jupyter-widgets/base",
          "model_name": "LayoutModel",
          "model_module_version": "1.2.0",
          "state": {
            "_model_module": "@jupyter-widgets/base",
            "_model_module_version": "1.2.0",
            "_model_name": "LayoutModel",
            "_view_count": null,
            "_view_module": "@jupyter-widgets/base",
            "_view_module_version": "1.2.0",
            "_view_name": "LayoutView",
            "align_content": null,
            "align_items": null,
            "align_self": null,
            "border": null,
            "bottom": null,
            "display": null,
            "flex": null,
            "flex_flow": null,
            "grid_area": null,
            "grid_auto_columns": null,
            "grid_auto_flow": null,
            "grid_auto_rows": null,
            "grid_column": null,
            "grid_gap": null,
            "grid_row": null,
            "grid_template_areas": null,
            "grid_template_columns": null,
            "grid_template_rows": null,
            "height": null,
            "justify_content": null,
            "justify_items": null,
            "left": null,
            "margin": null,
            "max_height": null,
            "max_width": null,
            "min_height": null,
            "min_width": null,
            "object_fit": null,
            "object_position": null,
            "order": null,
            "overflow": null,
            "overflow_x": null,
            "overflow_y": null,
            "padding": null,
            "right": null,
            "top": null,
            "visibility": null,
            "width": null
          }
        },
        "821037b11a0641aebda0c1155337c286": {
          "model_module": "@jupyter-widgets/controls",
          "model_name": "ProgressStyleModel",
          "model_module_version": "1.5.0",
          "state": {
            "_model_module": "@jupyter-widgets/controls",
            "_model_module_version": "1.5.0",
            "_model_name": "ProgressStyleModel",
            "_view_count": null,
            "_view_module": "@jupyter-widgets/base",
            "_view_module_version": "1.2.0",
            "_view_name": "StyleView",
            "bar_color": null,
            "description_width": ""
          }
        },
        "d1457795bbb84323913f38a3f749a5ff": {
          "model_module": "@jupyter-widgets/base",
          "model_name": "LayoutModel",
          "model_module_version": "1.2.0",
          "state": {
            "_model_module": "@jupyter-widgets/base",
            "_model_module_version": "1.2.0",
            "_model_name": "LayoutModel",
            "_view_count": null,
            "_view_module": "@jupyter-widgets/base",
            "_view_module_version": "1.2.0",
            "_view_name": "LayoutView",
            "align_content": null,
            "align_items": null,
            "align_self": null,
            "border": null,
            "bottom": null,
            "display": null,
            "flex": null,
            "flex_flow": null,
            "grid_area": null,
            "grid_auto_columns": null,
            "grid_auto_flow": null,
            "grid_auto_rows": null,
            "grid_column": null,
            "grid_gap": null,
            "grid_row": null,
            "grid_template_areas": null,
            "grid_template_columns": null,
            "grid_template_rows": null,
            "height": null,
            "justify_content": null,
            "justify_items": null,
            "left": null,
            "margin": null,
            "max_height": null,
            "max_width": null,
            "min_height": null,
            "min_width": null,
            "object_fit": null,
            "object_position": null,
            "order": null,
            "overflow": null,
            "overflow_x": null,
            "overflow_y": null,
            "padding": null,
            "right": null,
            "top": null,
            "visibility": null,
            "width": null
          }
        },
        "d22b517aad244f1da85552689357ff11": {
          "model_module": "@jupyter-widgets/controls",
          "model_name": "DescriptionStyleModel",
          "model_module_version": "1.5.0",
          "state": {
            "_model_module": "@jupyter-widgets/controls",
            "_model_module_version": "1.5.0",
            "_model_name": "DescriptionStyleModel",
            "_view_count": null,
            "_view_module": "@jupyter-widgets/base",
            "_view_module_version": "1.2.0",
            "_view_name": "StyleView",
            "description_width": ""
          }
        },
        "06eceaf84bef4120b23f16cecf2642bf": {
          "model_module": "@jupyter-widgets/controls",
          "model_name": "HBoxModel",
          "model_module_version": "1.5.0",
          "state": {
            "_dom_classes": [],
            "_model_module": "@jupyter-widgets/controls",
            "_model_module_version": "1.5.0",
            "_model_name": "HBoxModel",
            "_view_count": null,
            "_view_module": "@jupyter-widgets/controls",
            "_view_module_version": "1.5.0",
            "_view_name": "HBoxView",
            "box_style": "",
            "children": [
              "IPY_MODEL_70ac8f5ad98d496eae77762d2e999939",
              "IPY_MODEL_e3a73fd3301145a29531080443e40591",
              "IPY_MODEL_81993621922344088dcf12505f01fc9e"
            ],
            "layout": "IPY_MODEL_f9f4a3e0255b4c038f7a9ccbe08bc377"
          }
        },
        "70ac8f5ad98d496eae77762d2e999939": {
          "model_module": "@jupyter-widgets/controls",
          "model_name": "HTMLModel",
          "model_module_version": "1.5.0",
          "state": {
            "_dom_classes": [],
            "_model_module": "@jupyter-widgets/controls",
            "_model_module_version": "1.5.0",
            "_model_name": "HTMLModel",
            "_view_count": null,
            "_view_module": "@jupyter-widgets/controls",
            "_view_module_version": "1.5.0",
            "_view_name": "HTMLView",
            "description": "",
            "description_tooltip": null,
            "layout": "IPY_MODEL_3cc4d07cabfc4c15b87549b8eb4710de",
            "placeholder": "​",
            "style": "IPY_MODEL_1a05455a59b1469c9b1095e2e94021d9",
            "value": "config.json: 100%"
          }
        },
        "e3a73fd3301145a29531080443e40591": {
          "model_module": "@jupyter-widgets/controls",
          "model_name": "FloatProgressModel",
          "model_module_version": "1.5.0",
          "state": {
            "_dom_classes": [],
            "_model_module": "@jupyter-widgets/controls",
            "_model_module_version": "1.5.0",
            "_model_name": "FloatProgressModel",
            "_view_count": null,
            "_view_module": "@jupyter-widgets/controls",
            "_view_module_version": "1.5.0",
            "_view_name": "ProgressView",
            "bar_style": "success",
            "description": "",
            "description_tooltip": null,
            "layout": "IPY_MODEL_ca219448423047b9896db736e1a20663",
            "max": 635,
            "min": 0,
            "orientation": "horizontal",
            "style": "IPY_MODEL_bc1f39ca43b848fc9ab80eed340acc73",
            "value": 635
          }
        },
        "81993621922344088dcf12505f01fc9e": {
          "model_module": "@jupyter-widgets/controls",
          "model_name": "HTMLModel",
          "model_module_version": "1.5.0",
          "state": {
            "_dom_classes": [],
            "_model_module": "@jupyter-widgets/controls",
            "_model_module_version": "1.5.0",
            "_model_name": "HTMLModel",
            "_view_count": null,
            "_view_module": "@jupyter-widgets/controls",
            "_view_module_version": "1.5.0",
            "_view_name": "HTMLView",
            "description": "",
            "description_tooltip": null,
            "layout": "IPY_MODEL_752f06668d4f4fac9e57f911a2d699c8",
            "placeholder": "​",
            "style": "IPY_MODEL_9557ed9cf2614f4aa1597dfce46b1a6f",
            "value": " 635/635 [00:00&lt;00:00, 27.7kB/s]"
          }
        },
        "f9f4a3e0255b4c038f7a9ccbe08bc377": {
          "model_module": "@jupyter-widgets/base",
          "model_name": "LayoutModel",
          "model_module_version": "1.2.0",
          "state": {
            "_model_module": "@jupyter-widgets/base",
            "_model_module_version": "1.2.0",
            "_model_name": "LayoutModel",
            "_view_count": null,
            "_view_module": "@jupyter-widgets/base",
            "_view_module_version": "1.2.0",
            "_view_name": "LayoutView",
            "align_content": null,
            "align_items": null,
            "align_self": null,
            "border": null,
            "bottom": null,
            "display": null,
            "flex": null,
            "flex_flow": null,
            "grid_area": null,
            "grid_auto_columns": null,
            "grid_auto_flow": null,
            "grid_auto_rows": null,
            "grid_column": null,
            "grid_gap": null,
            "grid_row": null,
            "grid_template_areas": null,
            "grid_template_columns": null,
            "grid_template_rows": null,
            "height": null,
            "justify_content": null,
            "justify_items": null,
            "left": null,
            "margin": null,
            "max_height": null,
            "max_width": null,
            "min_height": null,
            "min_width": null,
            "object_fit": null,
            "object_position": null,
            "order": null,
            "overflow": null,
            "overflow_x": null,
            "overflow_y": null,
            "padding": null,
            "right": null,
            "top": null,
            "visibility": null,
            "width": null
          }
        },
        "3cc4d07cabfc4c15b87549b8eb4710de": {
          "model_module": "@jupyter-widgets/base",
          "model_name": "LayoutModel",
          "model_module_version": "1.2.0",
          "state": {
            "_model_module": "@jupyter-widgets/base",
            "_model_module_version": "1.2.0",
            "_model_name": "LayoutModel",
            "_view_count": null,
            "_view_module": "@jupyter-widgets/base",
            "_view_module_version": "1.2.0",
            "_view_name": "LayoutView",
            "align_content": null,
            "align_items": null,
            "align_self": null,
            "border": null,
            "bottom": null,
            "display": null,
            "flex": null,
            "flex_flow": null,
            "grid_area": null,
            "grid_auto_columns": null,
            "grid_auto_flow": null,
            "grid_auto_rows": null,
            "grid_column": null,
            "grid_gap": null,
            "grid_row": null,
            "grid_template_areas": null,
            "grid_template_columns": null,
            "grid_template_rows": null,
            "height": null,
            "justify_content": null,
            "justify_items": null,
            "left": null,
            "margin": null,
            "max_height": null,
            "max_width": null,
            "min_height": null,
            "min_width": null,
            "object_fit": null,
            "object_position": null,
            "order": null,
            "overflow": null,
            "overflow_x": null,
            "overflow_y": null,
            "padding": null,
            "right": null,
            "top": null,
            "visibility": null,
            "width": null
          }
        },
        "1a05455a59b1469c9b1095e2e94021d9": {
          "model_module": "@jupyter-widgets/controls",
          "model_name": "DescriptionStyleModel",
          "model_module_version": "1.5.0",
          "state": {
            "_model_module": "@jupyter-widgets/controls",
            "_model_module_version": "1.5.0",
            "_model_name": "DescriptionStyleModel",
            "_view_count": null,
            "_view_module": "@jupyter-widgets/base",
            "_view_module_version": "1.2.0",
            "_view_name": "StyleView",
            "description_width": ""
          }
        },
        "ca219448423047b9896db736e1a20663": {
          "model_module": "@jupyter-widgets/base",
          "model_name": "LayoutModel",
          "model_module_version": "1.2.0",
          "state": {
            "_model_module": "@jupyter-widgets/base",
            "_model_module_version": "1.2.0",
            "_model_name": "LayoutModel",
            "_view_count": null,
            "_view_module": "@jupyter-widgets/base",
            "_view_module_version": "1.2.0",
            "_view_name": "LayoutView",
            "align_content": null,
            "align_items": null,
            "align_self": null,
            "border": null,
            "bottom": null,
            "display": null,
            "flex": null,
            "flex_flow": null,
            "grid_area": null,
            "grid_auto_columns": null,
            "grid_auto_flow": null,
            "grid_auto_rows": null,
            "grid_column": null,
            "grid_gap": null,
            "grid_row": null,
            "grid_template_areas": null,
            "grid_template_columns": null,
            "grid_template_rows": null,
            "height": null,
            "justify_content": null,
            "justify_items": null,
            "left": null,
            "margin": null,
            "max_height": null,
            "max_width": null,
            "min_height": null,
            "min_width": null,
            "object_fit": null,
            "object_position": null,
            "order": null,
            "overflow": null,
            "overflow_x": null,
            "overflow_y": null,
            "padding": null,
            "right": null,
            "top": null,
            "visibility": null,
            "width": null
          }
        },
        "bc1f39ca43b848fc9ab80eed340acc73": {
          "model_module": "@jupyter-widgets/controls",
          "model_name": "ProgressStyleModel",
          "model_module_version": "1.5.0",
          "state": {
            "_model_module": "@jupyter-widgets/controls",
            "_model_module_version": "1.5.0",
            "_model_name": "ProgressStyleModel",
            "_view_count": null,
            "_view_module": "@jupyter-widgets/base",
            "_view_module_version": "1.2.0",
            "_view_name": "StyleView",
            "bar_color": null,
            "description_width": ""
          }
        },
        "752f06668d4f4fac9e57f911a2d699c8": {
          "model_module": "@jupyter-widgets/base",
          "model_name": "LayoutModel",
          "model_module_version": "1.2.0",
          "state": {
            "_model_module": "@jupyter-widgets/base",
            "_model_module_version": "1.2.0",
            "_model_name": "LayoutModel",
            "_view_count": null,
            "_view_module": "@jupyter-widgets/base",
            "_view_module_version": "1.2.0",
            "_view_name": "LayoutView",
            "align_content": null,
            "align_items": null,
            "align_self": null,
            "border": null,
            "bottom": null,
            "display": null,
            "flex": null,
            "flex_flow": null,
            "grid_area": null,
            "grid_auto_columns": null,
            "grid_auto_flow": null,
            "grid_auto_rows": null,
            "grid_column": null,
            "grid_gap": null,
            "grid_row": null,
            "grid_template_areas": null,
            "grid_template_columns": null,
            "grid_template_rows": null,
            "height": null,
            "justify_content": null,
            "justify_items": null,
            "left": null,
            "margin": null,
            "max_height": null,
            "max_width": null,
            "min_height": null,
            "min_width": null,
            "object_fit": null,
            "object_position": null,
            "order": null,
            "overflow": null,
            "overflow_x": null,
            "overflow_y": null,
            "padding": null,
            "right": null,
            "top": null,
            "visibility": null,
            "width": null
          }
        },
        "9557ed9cf2614f4aa1597dfce46b1a6f": {
          "model_module": "@jupyter-widgets/controls",
          "model_name": "DescriptionStyleModel",
          "model_module_version": "1.5.0",
          "state": {
            "_model_module": "@jupyter-widgets/controls",
            "_model_module_version": "1.5.0",
            "_model_name": "DescriptionStyleModel",
            "_view_count": null,
            "_view_module": "@jupyter-widgets/base",
            "_view_module_version": "1.2.0",
            "_view_name": "StyleView",
            "description_width": ""
          }
        },
        "c6f1c9d057434da28864ff5855f73b23": {
          "model_module": "@jupyter-widgets/controls",
          "model_name": "HBoxModel",
          "model_module_version": "1.5.0",
          "state": {
            "_dom_classes": [],
            "_model_module": "@jupyter-widgets/controls",
            "_model_module_version": "1.5.0",
            "_model_name": "HBoxModel",
            "_view_count": null,
            "_view_module": "@jupyter-widgets/controls",
            "_view_module_version": "1.5.0",
            "_view_name": "HBoxView",
            "box_style": "",
            "children": [
              "IPY_MODEL_1fe460f15bbd405d8513925fc759f848",
              "IPY_MODEL_415120123cc54438acbf39700fdefa3d",
              "IPY_MODEL_598ec892f0d54fe4ae34c1b51e8f10f8"
            ],
            "layout": "IPY_MODEL_0e89a4d4dc0e48c285c3051eb1889468"
          }
        },
        "1fe460f15bbd405d8513925fc759f848": {
          "model_module": "@jupyter-widgets/controls",
          "model_name": "HTMLModel",
          "model_module_version": "1.5.0",
          "state": {
            "_dom_classes": [],
            "_model_module": "@jupyter-widgets/controls",
            "_model_module_version": "1.5.0",
            "_model_name": "HTMLModel",
            "_view_count": null,
            "_view_module": "@jupyter-widgets/controls",
            "_view_module_version": "1.5.0",
            "_view_name": "HTMLView",
            "description": "",
            "description_tooltip": null,
            "layout": "IPY_MODEL_76626ccdbefa41ae8c9cb202ad6e2973",
            "placeholder": "​",
            "style": "IPY_MODEL_2ed25dcfe15b4775931921851d1a32b0",
            "value": "vocab.json: 100%"
          }
        },
        "415120123cc54438acbf39700fdefa3d": {
          "model_module": "@jupyter-widgets/controls",
          "model_name": "FloatProgressModel",
          "model_module_version": "1.5.0",
          "state": {
            "_dom_classes": [],
            "_model_module": "@jupyter-widgets/controls",
            "_model_module_version": "1.5.0",
            "_model_name": "FloatProgressModel",
            "_view_count": null,
            "_view_module": "@jupyter-widgets/controls",
            "_view_module_version": "1.5.0",
            "_view_name": "ProgressView",
            "bar_style": "success",
            "description": "",
            "description_tooltip": null,
            "layout": "IPY_MODEL_ad96db847a7749709eb23b783b424df5",
            "max": 838898,
            "min": 0,
            "orientation": "horizontal",
            "style": "IPY_MODEL_236ff49702474ca5af9544ef6fd955fc",
            "value": 838898
          }
        },
        "598ec892f0d54fe4ae34c1b51e8f10f8": {
          "model_module": "@jupyter-widgets/controls",
          "model_name": "HTMLModel",
          "model_module_version": "1.5.0",
          "state": {
            "_dom_classes": [],
            "_model_module": "@jupyter-widgets/controls",
            "_model_module_version": "1.5.0",
            "_model_name": "HTMLModel",
            "_view_count": null,
            "_view_module": "@jupyter-widgets/controls",
            "_view_module_version": "1.5.0",
            "_view_name": "HTMLView",
            "description": "",
            "description_tooltip": null,
            "layout": "IPY_MODEL_90054411d2da4353aaa0bb6803edeff9",
            "placeholder": "​",
            "style": "IPY_MODEL_07e70a0218fc48c7b7b602a15c8a3871",
            "value": " 839k/839k [00:00&lt;00:00, 4.66MB/s]"
          }
        },
        "0e89a4d4dc0e48c285c3051eb1889468": {
          "model_module": "@jupyter-widgets/base",
          "model_name": "LayoutModel",
          "model_module_version": "1.2.0",
          "state": {
            "_model_module": "@jupyter-widgets/base",
            "_model_module_version": "1.2.0",
            "_model_name": "LayoutModel",
            "_view_count": null,
            "_view_module": "@jupyter-widgets/base",
            "_view_module_version": "1.2.0",
            "_view_name": "LayoutView",
            "align_content": null,
            "align_items": null,
            "align_self": null,
            "border": null,
            "bottom": null,
            "display": null,
            "flex": null,
            "flex_flow": null,
            "grid_area": null,
            "grid_auto_columns": null,
            "grid_auto_flow": null,
            "grid_auto_rows": null,
            "grid_column": null,
            "grid_gap": null,
            "grid_row": null,
            "grid_template_areas": null,
            "grid_template_columns": null,
            "grid_template_rows": null,
            "height": null,
            "justify_content": null,
            "justify_items": null,
            "left": null,
            "margin": null,
            "max_height": null,
            "max_width": null,
            "min_height": null,
            "min_width": null,
            "object_fit": null,
            "object_position": null,
            "order": null,
            "overflow": null,
            "overflow_x": null,
            "overflow_y": null,
            "padding": null,
            "right": null,
            "top": null,
            "visibility": null,
            "width": null
          }
        },
        "76626ccdbefa41ae8c9cb202ad6e2973": {
          "model_module": "@jupyter-widgets/base",
          "model_name": "LayoutModel",
          "model_module_version": "1.2.0",
          "state": {
            "_model_module": "@jupyter-widgets/base",
            "_model_module_version": "1.2.0",
            "_model_name": "LayoutModel",
            "_view_count": null,
            "_view_module": "@jupyter-widgets/base",
            "_view_module_version": "1.2.0",
            "_view_name": "LayoutView",
            "align_content": null,
            "align_items": null,
            "align_self": null,
            "border": null,
            "bottom": null,
            "display": null,
            "flex": null,
            "flex_flow": null,
            "grid_area": null,
            "grid_auto_columns": null,
            "grid_auto_flow": null,
            "grid_auto_rows": null,
            "grid_column": null,
            "grid_gap": null,
            "grid_row": null,
            "grid_template_areas": null,
            "grid_template_columns": null,
            "grid_template_rows": null,
            "height": null,
            "justify_content": null,
            "justify_items": null,
            "left": null,
            "margin": null,
            "max_height": null,
            "max_width": null,
            "min_height": null,
            "min_width": null,
            "object_fit": null,
            "object_position": null,
            "order": null,
            "overflow": null,
            "overflow_x": null,
            "overflow_y": null,
            "padding": null,
            "right": null,
            "top": null,
            "visibility": null,
            "width": null
          }
        },
        "2ed25dcfe15b4775931921851d1a32b0": {
          "model_module": "@jupyter-widgets/controls",
          "model_name": "DescriptionStyleModel",
          "model_module_version": "1.5.0",
          "state": {
            "_model_module": "@jupyter-widgets/controls",
            "_model_module_version": "1.5.0",
            "_model_name": "DescriptionStyleModel",
            "_view_count": null,
            "_view_module": "@jupyter-widgets/base",
            "_view_module_version": "1.2.0",
            "_view_name": "StyleView",
            "description_width": ""
          }
        },
        "ad96db847a7749709eb23b783b424df5": {
          "model_module": "@jupyter-widgets/base",
          "model_name": "LayoutModel",
          "model_module_version": "1.2.0",
          "state": {
            "_model_module": "@jupyter-widgets/base",
            "_model_module_version": "1.2.0",
            "_model_name": "LayoutModel",
            "_view_count": null,
            "_view_module": "@jupyter-widgets/base",
            "_view_module_version": "1.2.0",
            "_view_name": "LayoutView",
            "align_content": null,
            "align_items": null,
            "align_self": null,
            "border": null,
            "bottom": null,
            "display": null,
            "flex": null,
            "flex_flow": null,
            "grid_area": null,
            "grid_auto_columns": null,
            "grid_auto_flow": null,
            "grid_auto_rows": null,
            "grid_column": null,
            "grid_gap": null,
            "grid_row": null,
            "grid_template_areas": null,
            "grid_template_columns": null,
            "grid_template_rows": null,
            "height": null,
            "justify_content": null,
            "justify_items": null,
            "left": null,
            "margin": null,
            "max_height": null,
            "max_width": null,
            "min_height": null,
            "min_width": null,
            "object_fit": null,
            "object_position": null,
            "order": null,
            "overflow": null,
            "overflow_x": null,
            "overflow_y": null,
            "padding": null,
            "right": null,
            "top": null,
            "visibility": null,
            "width": null
          }
        },
        "236ff49702474ca5af9544ef6fd955fc": {
          "model_module": "@jupyter-widgets/controls",
          "model_name": "ProgressStyleModel",
          "model_module_version": "1.5.0",
          "state": {
            "_model_module": "@jupyter-widgets/controls",
            "_model_module_version": "1.5.0",
            "_model_name": "ProgressStyleModel",
            "_view_count": null,
            "_view_module": "@jupyter-widgets/base",
            "_view_module_version": "1.2.0",
            "_view_name": "StyleView",
            "bar_color": null,
            "description_width": ""
          }
        },
        "90054411d2da4353aaa0bb6803edeff9": {
          "model_module": "@jupyter-widgets/base",
          "model_name": "LayoutModel",
          "model_module_version": "1.2.0",
          "state": {
            "_model_module": "@jupyter-widgets/base",
            "_model_module_version": "1.2.0",
            "_model_name": "LayoutModel",
            "_view_count": null,
            "_view_module": "@jupyter-widgets/base",
            "_view_module_version": "1.2.0",
            "_view_name": "LayoutView",
            "align_content": null,
            "align_items": null,
            "align_self": null,
            "border": null,
            "bottom": null,
            "display": null,
            "flex": null,
            "flex_flow": null,
            "grid_area": null,
            "grid_auto_columns": null,
            "grid_auto_flow": null,
            "grid_auto_rows": null,
            "grid_column": null,
            "grid_gap": null,
            "grid_row": null,
            "grid_template_areas": null,
            "grid_template_columns": null,
            "grid_template_rows": null,
            "height": null,
            "justify_content": null,
            "justify_items": null,
            "left": null,
            "margin": null,
            "max_height": null,
            "max_width": null,
            "min_height": null,
            "min_width": null,
            "object_fit": null,
            "object_position": null,
            "order": null,
            "overflow": null,
            "overflow_x": null,
            "overflow_y": null,
            "padding": null,
            "right": null,
            "top": null,
            "visibility": null,
            "width": null
          }
        },
        "07e70a0218fc48c7b7b602a15c8a3871": {
          "model_module": "@jupyter-widgets/controls",
          "model_name": "DescriptionStyleModel",
          "model_module_version": "1.5.0",
          "state": {
            "_model_module": "@jupyter-widgets/controls",
            "_model_module_version": "1.5.0",
            "_model_name": "DescriptionStyleModel",
            "_view_count": null,
            "_view_module": "@jupyter-widgets/base",
            "_view_module_version": "1.2.0",
            "_view_name": "StyleView",
            "description_width": ""
          }
        },
        "db78453ed16f4cd9a3c8c9b702d633c5": {
          "model_module": "@jupyter-widgets/controls",
          "model_name": "HBoxModel",
          "model_module_version": "1.5.0",
          "state": {
            "_dom_classes": [],
            "_model_module": "@jupyter-widgets/controls",
            "_model_module_version": "1.5.0",
            "_model_name": "HBoxModel",
            "_view_count": null,
            "_view_module": "@jupyter-widgets/controls",
            "_view_module_version": "1.5.0",
            "_view_name": "HBoxView",
            "box_style": "",
            "children": [
              "IPY_MODEL_6c0e90812899409b896688cb1ebbb02d",
              "IPY_MODEL_bfa57cdb492f4f19a61bb8ea7c6b97ef",
              "IPY_MODEL_a6ff29d61cd944d8b3d27b22267d5b17"
            ],
            "layout": "IPY_MODEL_239ffb473b6545c59ce086709a1b4fa6"
          }
        },
        "6c0e90812899409b896688cb1ebbb02d": {
          "model_module": "@jupyter-widgets/controls",
          "model_name": "HTMLModel",
          "model_module_version": "1.5.0",
          "state": {
            "_dom_classes": [],
            "_model_module": "@jupyter-widgets/controls",
            "_model_module_version": "1.5.0",
            "_model_name": "HTMLModel",
            "_view_count": null,
            "_view_module": "@jupyter-widgets/controls",
            "_view_module_version": "1.5.0",
            "_view_name": "HTMLView",
            "description": "",
            "description_tooltip": null,
            "layout": "IPY_MODEL_280ecacb3bf9486daf3089c2a41509ab",
            "placeholder": "​",
            "style": "IPY_MODEL_ea753bd1d13e4d8e9209204e04f0cde6",
            "value": "merges.txt: 100%"
          }
        },
        "bfa57cdb492f4f19a61bb8ea7c6b97ef": {
          "model_module": "@jupyter-widgets/controls",
          "model_name": "FloatProgressModel",
          "model_module_version": "1.5.0",
          "state": {
            "_dom_classes": [],
            "_model_module": "@jupyter-widgets/controls",
            "_model_module_version": "1.5.0",
            "_model_name": "FloatProgressModel",
            "_view_count": null,
            "_view_module": "@jupyter-widgets/controls",
            "_view_module_version": "1.5.0",
            "_view_name": "ProgressView",
            "bar_style": "success",
            "description": "",
            "description_tooltip": null,
            "layout": "IPY_MODEL_52abb0bd38bc47e79c03d4ab43a5d029",
            "max": 639094,
            "min": 0,
            "orientation": "horizontal",
            "style": "IPY_MODEL_12111ce1d38a4cd79100377741d24f89",
            "value": 639094
          }
        },
        "a6ff29d61cd944d8b3d27b22267d5b17": {
          "model_module": "@jupyter-widgets/controls",
          "model_name": "HTMLModel",
          "model_module_version": "1.5.0",
          "state": {
            "_dom_classes": [],
            "_model_module": "@jupyter-widgets/controls",
            "_model_module_version": "1.5.0",
            "_model_name": "HTMLModel",
            "_view_count": null,
            "_view_module": "@jupyter-widgets/controls",
            "_view_module_version": "1.5.0",
            "_view_name": "HTMLView",
            "description": "",
            "description_tooltip": null,
            "layout": "IPY_MODEL_0d12e1e1629641da8ca2744b3bdd87af",
            "placeholder": "​",
            "style": "IPY_MODEL_2ca4dbe0fe284bceb94e78549f485634",
            "value": " 639k/639k [00:00&lt;00:00, 3.68MB/s]"
          }
        },
        "239ffb473b6545c59ce086709a1b4fa6": {
          "model_module": "@jupyter-widgets/base",
          "model_name": "LayoutModel",
          "model_module_version": "1.2.0",
          "state": {
            "_model_module": "@jupyter-widgets/base",
            "_model_module_version": "1.2.0",
            "_model_name": "LayoutModel",
            "_view_count": null,
            "_view_module": "@jupyter-widgets/base",
            "_view_module_version": "1.2.0",
            "_view_name": "LayoutView",
            "align_content": null,
            "align_items": null,
            "align_self": null,
            "border": null,
            "bottom": null,
            "display": null,
            "flex": null,
            "flex_flow": null,
            "grid_area": null,
            "grid_auto_columns": null,
            "grid_auto_flow": null,
            "grid_auto_rows": null,
            "grid_column": null,
            "grid_gap": null,
            "grid_row": null,
            "grid_template_areas": null,
            "grid_template_columns": null,
            "grid_template_rows": null,
            "height": null,
            "justify_content": null,
            "justify_items": null,
            "left": null,
            "margin": null,
            "max_height": null,
            "max_width": null,
            "min_height": null,
            "min_width": null,
            "object_fit": null,
            "object_position": null,
            "order": null,
            "overflow": null,
            "overflow_x": null,
            "overflow_y": null,
            "padding": null,
            "right": null,
            "top": null,
            "visibility": null,
            "width": null
          }
        },
        "280ecacb3bf9486daf3089c2a41509ab": {
          "model_module": "@jupyter-widgets/base",
          "model_name": "LayoutModel",
          "model_module_version": "1.2.0",
          "state": {
            "_model_module": "@jupyter-widgets/base",
            "_model_module_version": "1.2.0",
            "_model_name": "LayoutModel",
            "_view_count": null,
            "_view_module": "@jupyter-widgets/base",
            "_view_module_version": "1.2.0",
            "_view_name": "LayoutView",
            "align_content": null,
            "align_items": null,
            "align_self": null,
            "border": null,
            "bottom": null,
            "display": null,
            "flex": null,
            "flex_flow": null,
            "grid_area": null,
            "grid_auto_columns": null,
            "grid_auto_flow": null,
            "grid_auto_rows": null,
            "grid_column": null,
            "grid_gap": null,
            "grid_row": null,
            "grid_template_areas": null,
            "grid_template_columns": null,
            "grid_template_rows": null,
            "height": null,
            "justify_content": null,
            "justify_items": null,
            "left": null,
            "margin": null,
            "max_height": null,
            "max_width": null,
            "min_height": null,
            "min_width": null,
            "object_fit": null,
            "object_position": null,
            "order": null,
            "overflow": null,
            "overflow_x": null,
            "overflow_y": null,
            "padding": null,
            "right": null,
            "top": null,
            "visibility": null,
            "width": null
          }
        },
        "ea753bd1d13e4d8e9209204e04f0cde6": {
          "model_module": "@jupyter-widgets/controls",
          "model_name": "DescriptionStyleModel",
          "model_module_version": "1.5.0",
          "state": {
            "_model_module": "@jupyter-widgets/controls",
            "_model_module_version": "1.5.0",
            "_model_name": "DescriptionStyleModel",
            "_view_count": null,
            "_view_module": "@jupyter-widgets/base",
            "_view_module_version": "1.2.0",
            "_view_name": "StyleView",
            "description_width": ""
          }
        },
        "52abb0bd38bc47e79c03d4ab43a5d029": {
          "model_module": "@jupyter-widgets/base",
          "model_name": "LayoutModel",
          "model_module_version": "1.2.0",
          "state": {
            "_model_module": "@jupyter-widgets/base",
            "_model_module_version": "1.2.0",
            "_model_name": "LayoutModel",
            "_view_count": null,
            "_view_module": "@jupyter-widgets/base",
            "_view_module_version": "1.2.0",
            "_view_name": "LayoutView",
            "align_content": null,
            "align_items": null,
            "align_self": null,
            "border": null,
            "bottom": null,
            "display": null,
            "flex": null,
            "flex_flow": null,
            "grid_area": null,
            "grid_auto_columns": null,
            "grid_auto_flow": null,
            "grid_auto_rows": null,
            "grid_column": null,
            "grid_gap": null,
            "grid_row": null,
            "grid_template_areas": null,
            "grid_template_columns": null,
            "grid_template_rows": null,
            "height": null,
            "justify_content": null,
            "justify_items": null,
            "left": null,
            "margin": null,
            "max_height": null,
            "max_width": null,
            "min_height": null,
            "min_width": null,
            "object_fit": null,
            "object_position": null,
            "order": null,
            "overflow": null,
            "overflow_x": null,
            "overflow_y": null,
            "padding": null,
            "right": null,
            "top": null,
            "visibility": null,
            "width": null
          }
        },
        "12111ce1d38a4cd79100377741d24f89": {
          "model_module": "@jupyter-widgets/controls",
          "model_name": "ProgressStyleModel",
          "model_module_version": "1.5.0",
          "state": {
            "_model_module": "@jupyter-widgets/controls",
            "_model_module_version": "1.5.0",
            "_model_name": "ProgressStyleModel",
            "_view_count": null,
            "_view_module": "@jupyter-widgets/base",
            "_view_module_version": "1.2.0",
            "_view_name": "StyleView",
            "bar_color": null,
            "description_width": ""
          }
        },
        "0d12e1e1629641da8ca2744b3bdd87af": {
          "model_module": "@jupyter-widgets/base",
          "model_name": "LayoutModel",
          "model_module_version": "1.2.0",
          "state": {
            "_model_module": "@jupyter-widgets/base",
            "_model_module_version": "1.2.0",
            "_model_name": "LayoutModel",
            "_view_count": null,
            "_view_module": "@jupyter-widgets/base",
            "_view_module_version": "1.2.0",
            "_view_name": "LayoutView",
            "align_content": null,
            "align_items": null,
            "align_self": null,
            "border": null,
            "bottom": null,
            "display": null,
            "flex": null,
            "flex_flow": null,
            "grid_area": null,
            "grid_auto_columns": null,
            "grid_auto_flow": null,
            "grid_auto_rows": null,
            "grid_column": null,
            "grid_gap": null,
            "grid_row": null,
            "grid_template_areas": null,
            "grid_template_columns": null,
            "grid_template_rows": null,
            "height": null,
            "justify_content": null,
            "justify_items": null,
            "left": null,
            "margin": null,
            "max_height": null,
            "max_width": null,
            "min_height": null,
            "min_width": null,
            "object_fit": null,
            "object_position": null,
            "order": null,
            "overflow": null,
            "overflow_x": null,
            "overflow_y": null,
            "padding": null,
            "right": null,
            "top": null,
            "visibility": null,
            "width": null
          }
        },
        "2ca4dbe0fe284bceb94e78549f485634": {
          "model_module": "@jupyter-widgets/controls",
          "model_name": "DescriptionStyleModel",
          "model_module_version": "1.5.0",
          "state": {
            "_model_module": "@jupyter-widgets/controls",
            "_model_module_version": "1.5.0",
            "_model_name": "DescriptionStyleModel",
            "_view_count": null,
            "_view_module": "@jupyter-widgets/base",
            "_view_module_version": "1.2.0",
            "_view_name": "StyleView",
            "description_width": ""
          }
        }
      }
    }
  },
  "cells": [
    {
      "cell_type": "code",
      "execution_count": null,
      "metadata": {
        "id": "M_nSF49GyXY7"
      },
      "outputs": [],
      "source": [
        "import numpy as np\n",
        "import pandas as pd\n",
        "import matplotlib.pyplot as plt\n",
        "import seaborn as sns\n",
        "import re\n",
        "import string\n",
        "import matplotlib.pyplot as plt"
      ]
    },
    {
      "cell_type": "code",
      "source": [
        "from google.colab import drive\n",
        "drive.mount('/content/drive')"
      ],
      "metadata": {
        "colab": {
          "base_uri": "https://localhost:8080/"
        },
        "id": "iOgGbKv2yc1I",
        "outputId": "d8a11f93-9264-4e0f-a01e-e77bd72571bd"
      },
      "execution_count": null,
      "outputs": [
        {
          "output_type": "stream",
          "name": "stdout",
          "text": [
            "Mounted at /content/drive\n"
          ]
        }
      ]
    },
    {
      "cell_type": "code",
      "source": [
        "%cd /content/drive/My Drive/research/Data/"
      ],
      "metadata": {
        "colab": {
          "base_uri": "https://localhost:8080/"
        },
        "id": "t9e-k1yfy2OH",
        "outputId": "9710032b-89c9-47b0-e789-0cf7d621cd1f"
      },
      "execution_count": null,
      "outputs": [
        {
          "output_type": "stream",
          "name": "stdout",
          "text": [
            "/content/drive/My Drive/research/Data\n"
          ]
        }
      ]
    },
    {
      "cell_type": "code",
      "source": [
        "df = pd.read_csv('sinhala_df_annotated.csv')"
      ],
      "metadata": {
        "id": "7fr0fpBREdyo"
      },
      "execution_count": null,
      "outputs": []
    },
    {
      "cell_type": "code",
      "source": [
        "df.info()"
      ],
      "metadata": {
        "colab": {
          "base_uri": "https://localhost:8080/"
        },
        "id": "A57GyjWxEc4x",
        "outputId": "74265d5d-304c-4678-fd18-d4038bb61008"
      },
      "execution_count": null,
      "outputs": [
        {
          "output_type": "stream",
          "name": "stdout",
          "text": [
            "<class 'pandas.core.frame.DataFrame'>\n",
            "RangeIndex: 12742 entries, 0 to 12741\n",
            "Data columns (total 11 columns):\n",
            " #   Column        Non-Null Count  Dtype \n",
            "---  ------        --------------  ----- \n",
            " 0   comment_id    12742 non-null  object\n",
            " 1   video_id      12482 non-null  object\n",
            " 2   video_title   12482 non-null  object\n",
            " 3   text          12742 non-null  object\n",
            " 4   timestamp     12725 non-null  object\n",
            " 5   author        12722 non-null  object\n",
            " 6   author_email  12725 non-null  object\n",
            " 7   reply_to      261 non-null    object\n",
            " 8   Label         998 non-null    object\n",
            " 9   Domain        367 non-null    object\n",
            " 10  About         275 non-null    object\n",
            "dtypes: object(11)\n",
            "memory usage: 1.1+ MB\n"
          ]
        }
      ]
    },
    {
      "cell_type": "code",
      "source": [
        "df = df.head(1000)\n",
        "df.shape"
      ],
      "metadata": {
        "colab": {
          "base_uri": "https://localhost:8080/"
        },
        "id": "jOwLI-57FAgH",
        "outputId": "abc1ffa7-ba1e-4f8b-fb5d-7580225529d4"
      },
      "execution_count": null,
      "outputs": [
        {
          "output_type": "execute_result",
          "data": {
            "text/plain": [
              "(1000, 11)"
            ]
          },
          "metadata": {},
          "execution_count": 9
        }
      ]
    },
    {
      "cell_type": "markdown",
      "source": [
        "# Remove Emoticons"
      ],
      "metadata": {
        "id": "QJDWgbuQFKRs"
      }
    },
    {
      "cell_type": "code",
      "source": [
        "def remove_emoji(string):\n",
        "    emoji_pattern = re.compile(\"[\"\n",
        "                           u\"\\U0001F600-\\U0001F64F\"  # emoticons\n",
        "                           u\"\\U0001F300-\\U0001F5FF\"  # symbols & pictographs\n",
        "                           u\"\\U0001F680-\\U0001F6FF\"  # transport & map symbols\n",
        "                           u\"\\U0001F1E0-\\U0001F1FF\"  # flags (iOS)\n",
        "                           u\"\\U00002702-\\U000027B0\"\n",
        "                           u\"\\U000024C2-\\U0001F251\"\n",
        "                           \"]+\", flags=re.UNICODE)\n",
        "    return emoji_pattern.sub(r'', string)"
      ],
      "metadata": {
        "id": "fAdAhdlwFJO0"
      },
      "execution_count": null,
      "outputs": []
    },
    {
      "cell_type": "code",
      "source": [
        "df['text'] = df['text'].apply(remove_emoji)"
      ],
      "metadata": {
        "id": "K-iWm-DEFSwr"
      },
      "execution_count": null,
      "outputs": []
    },
    {
      "cell_type": "markdown",
      "source": [
        "# Remove URLs"
      ],
      "metadata": {
        "id": "joC74wB9FYw7"
      }
    },
    {
      "cell_type": "code",
      "source": [
        "def remove_urls(text):\n",
        "  return re.sub(r'''(?i)\\b((?:https?://|www\\d{0,3}[.]|[a-z0-9.\\-]+[.][a-z]{2,4}/)(?:[^\\s()<>]+|\\(([^\\s()<>]+|(\\([^\\s()<>]+\\)))*\\))+(?:\\(([^\\s()<>]+|(\\([^\\s()<>]+\\)))*\\)|[^\\s`!()\\[\\]{};:'\".,<>?«»“”‘’]))''', \" \", text)\n",
        "\n",
        "# Apply the function to the text column\n",
        "df['text'] = df['text'].apply(remove_urls)"
      ],
      "metadata": {
        "id": "WZP1hG5rFYKZ"
      },
      "execution_count": null,
      "outputs": []
    },
    {
      "cell_type": "markdown",
      "source": [
        "# Data Cleaning"
      ],
      "metadata": {
        "id": "3b1nOB3JFrKz"
      }
    },
    {
      "cell_type": "code",
      "source": [
        "def clean_data(text):\n",
        "\n",
        "    text = re.sub(r'http[s]?://(?:[a-zA-Z]|[0-9]|[$-_@.&+]|[!*\\\\(\\\\),]|(?:%[0-9a-fA-F][0-9a-fA-F]))+', '', text) # Remove URLs\n",
        "\n",
        "    text = re.sub(r'<.*?>', '', text)     # Remove HTML tags\n",
        "\n",
        "    text = re.sub(r'@\\\\w+', '', text)  # Remove mentions\n",
        "\n",
        "    #text = re.sub(r'[^\\u0D80-\\u0DFF\\s]', ' ', text) # Remove non-Sinhala characters (punctuation, numbers, etc.)\n",
        "    return text\n",
        "\n",
        "df['text'] = df['text'].apply(clean_data)"
      ],
      "metadata": {
        "id": "ED9I4at-FqLD"
      },
      "execution_count": null,
      "outputs": []
    },
    {
      "cell_type": "code",
      "source": [
        "df.iloc[50:75]"
      ],
      "metadata": {
        "colab": {
          "base_uri": "https://localhost:8080/",
          "height": 1000
        },
        "id": "CMBX9YC10YMU",
        "outputId": "8800c394-0b1d-48e8-a06f-d5db07968624",
        "collapsed": true
      },
      "execution_count": null,
      "outputs": [
        {
          "output_type": "execute_result",
          "data": {
            "text/plain": [
              "                    comment_id     video_id  \\\n",
              "50  UgwQVa84cLwTjle1S6F4AaABAg  9qoF3N3ldHU   \n",
              "51  UgzHWGPhmWfjkzmWi5Z4AaABAg  9qoF3N3ldHU   \n",
              "52  UgytIfe_LUHdFn94jqJ4AaABAg  7y5PJukRnX4   \n",
              "53  Ugxagv83D-R0LS3ZSpl4AaABAg  ZI6XWTyVeKI   \n",
              "54  Ugwl5Pe4aUsrNJAF1NR4AaABAg  ZI6XWTyVeKI   \n",
              "55  UgzJgGMjF2CYWqTteq54AaABAg  ZI6XWTyVeKI   \n",
              "56  UgxPGd6oz55He0RvaSt4AaABAg  ZI6XWTyVeKI   \n",
              "57  Ugwivk8chQggiRRDL1d4AaABAg  ZI6XWTyVeKI   \n",
              "58  Ugxgl7F0UL5QSc86QHF4AaABAg  ZI6XWTyVeKI   \n",
              "59  Ugyga8LfFOQFeo8F3nV4AaABAg  ZI6XWTyVeKI   \n",
              "60  UgysjchTTxVDuqNkxb94AaABAg  ZI6XWTyVeKI   \n",
              "61  Ugyijbz30dbpciYQ9zd4AaABAg  ZI6XWTyVeKI   \n",
              "62  Ugw0saZ7w6bkgdxULaF4AaABAg  ZI6XWTyVeKI   \n",
              "63  UgwiNDtK7FuqHJGxL7F4AaABAg  ZI6XWTyVeKI   \n",
              "64  Ugy6PbF4b31ACIwE3e14AaABAg  ZI6XWTyVeKI   \n",
              "65  UgzIAi_H4-dncNhdER94AaABAg  QVtrG5c4xJA   \n",
              "66  UgyRbAImmEVauqX2hgt4AaABAg  QVtrG5c4xJA   \n",
              "67  UgxZ0_dAIQBty6c9V9J4AaABAg  QVtrG5c4xJA   \n",
              "68  UgwcBl6sz1gEXOW7u_Z4AaABAg  QVtrG5c4xJA   \n",
              "69  UgyGQ9kQzq6G7Kw5rQZ4AaABAg  ZO--W-jn9hM   \n",
              "70  Ugzdx2ePlLyEuzH-_gB4AaABAg  pKirEdEuG5k   \n",
              "71  Ugy_TTBaY--Kk-VUPA14AaABAg  pKirEdEuG5k   \n",
              "72  UgwMHn3B-UQy86s8Ilt4AaABAg  pKirEdEuG5k   \n",
              "73  UgxFeWlvg7HvWcovXvZ4AaABAg  pKirEdEuG5k   \n",
              "74  UgxIpzxV0V5i10_BDEx4AaABAg  pKirEdEuG5k   \n",
              "\n",
              "                                          video_title  \\\n",
              "50  සෞඛ්‍ය සටන දුරදිග යයි... \"හදිසි අවශ්‍යතා සඳහා ...   \n",
              "51  සෞඛ්‍ය සටන දුරදිග යයි... \"හදිසි අවශ්‍යතා සඳහා ...   \n",
              "52  රෝහල් අඩපණ කළ DAT විරෝධය ''සෞඛ්‍යය භේද භින්න ක...   \n",
              "53  දැවැන්ත සටනකට සැරසෙන සෞඛ්‍ය වෘත්තීය සමිති ජනපත...   \n",
              "54  දැවැන්ත සටනකට සැරසෙන සෞඛ්‍ය වෘත්තීය සමිති ජනපත...   \n",
              "55  දැවැන්ත සටනකට සැරසෙන සෞඛ්‍ය වෘත්තීය සමිති ජනපත...   \n",
              "56  දැවැන්ත සටනකට සැරසෙන සෞඛ්‍ය වෘත්තීය සමිති ජනපත...   \n",
              "57  දැවැන්ත සටනකට සැරසෙන සෞඛ්‍ය වෘත්තීය සමිති ජනපත...   \n",
              "58  දැවැන්ත සටනකට සැරසෙන සෞඛ්‍ය වෘත්තීය සමිති ජනපත...   \n",
              "59  දැවැන්ත සටනකට සැරසෙන සෞඛ්‍ය වෘත්තීය සමිති ජනපත...   \n",
              "60  දැවැන්ත සටනකට සැරසෙන සෞඛ්‍ය වෘත්තීය සමිති ජනපත...   \n",
              "61  දැවැන්ත සටනකට සැරසෙන සෞඛ්‍ය වෘත්තීය සමිති ජනපත...   \n",
              "62  දැවැන්ත සටනකට සැරසෙන සෞඛ්‍ය වෘත්තීය සමිති ජනපත...   \n",
              "63  දැවැන්ත සටනකට සැරසෙන සෞඛ්‍ය වෘත්තීය සමිති ජනපත...   \n",
              "64  දැවැන්ත සටනකට සැරසෙන සෞඛ්‍ය වෘත්තීය සමිති ජනපත...   \n",
              "65  වෛද්‍යවරුන්ට වැඩි කළ DAT ඉල්ලා සෞඛ්‍ය වෘත්තිය ...   \n",
              "66  වෛද්‍යවරුන්ට වැඩි කළ DAT ඉල්ලා සෞඛ්‍ය වෘත්තිය ...   \n",
              "67  වෛද්‍යවරුන්ට වැඩි කළ DAT ඉල්ලා සෞඛ්‍ය වෘත්තිය ...   \n",
              "68  වෛද්‍යවරුන්ට වැඩි කළ DAT ඉල්ලා සෞඛ්‍ය වෘත්තිය ...   \n",
              "69  සජබයේ ලොකු හිඩැසක් තනමින් චමින්ද විජේසිරි ඉල්ල...   \n",
              "70  ජනපතිට හිමිවන මැතිවරණ සහාය \"රනිල් මහත්තයාට දෙන...   \n",
              "71  ජනපතිට හිමිවන මැතිවරණ සහාය \"රනිල් මහත්තයාට දෙන...   \n",
              "72  ජනපතිට හිමිවන මැතිවරණ සහාය \"රනිල් මහත්තයාට දෙන...   \n",
              "73  ජනපතිට හිමිවන මැතිවරණ සහාය \"රනිල් මහත්තයාට දෙන...   \n",
              "74  ජනපතිට හිමිවන මැතිවරණ සහාය \"රනිල් මහත්තයාට දෙන...   \n",
              "\n",
              "                                                 text             timestamp  \\\n",
              "50  සමහර ත්‍රිවිධ හමුදා නිලධාරීන් සාමාන්‍ය සෙනලු ර...  2024-01-11T14:53:38Z   \n",
              "51  නියමයි... ස්ට්‍රයික් කරන කාලකන්නින්ට ඔහොම්ම වෙ...  2024-01-11T14:19:57Z   \n",
              "52  අනේ බන් ඔක්කොටම ගැනු ලමයි ඉන්නව බන් මේවිදිය ජී...  2024-01-11T08:04:47Z   \n",
              "53  යකෝ මුංගෙ monopoly  ට බයවෙලා...අනිත් මිනිස්සු ...  2024-01-11T02:17:05Z   \n",
              "54  මේ වර්ජනය කරන්නේ දුප්පතාගේ බදු මුදල් වලින් පින...  2024-01-11T01:45:57Z   \n",
              "55  රජය හිතාමතා ප්‍රශ්නයක් ඇති කරන්න කල දෙයක් . එක...  2024-01-11T01:38:36Z   \n",
              "56                                   තොපිට හෙනම ගහපන්  2024-01-10T23:06:33Z   \n",
              "57  මුන් මේ බල්ලො අවුරුද්දකට කී පාරක් වර්ජනේ කරනවද...  2024-01-10T23:05:23Z   \n",
              "58  හද්ද ගොඩේ ජෙප්පන්ගේ ලේවල තියන කුහක කම ඉරිසියාව...  2024-01-10T18:21:54Z   \n",
              "59  කරන්න දෙයක් නැ හැමොම අසරණයි. ඕන මගුලක් ඉවසලා ඉ...  2024-01-10T15:46:55Z   \n",
              "60  දිගටම ඔහොම කරගෙන යන්න.. මොනම හේතුවකටවත් ඕක නවත...  2024-01-10T15:32:02Z   \n",
              "61  දැවැන්ත සටන අහිංසක අසරණ මිනිසුන්ගේ ජීවිත සමග ක...  2024-01-10T15:08:04Z   \n",
              "62  මුංට පිං පඩි ගෙවන්න අපි කට්ට කන්න ඕන. මිනිස්සු...  2024-01-10T15:05:46Z   \n",
              "63  සෞඛය සේවයට ගන්න කොට හැමොටම වෛද්‍ය උපාදිය සුදුස...  2024-01-10T14:57:42Z   \n",
              "64  නයාගෙ වලිගෙ පාගගත්ත. ආකාරෙ තීරණ කිසා දුක් විදි...  2024-01-10T14:19:28Z   \n",
              "65  ලංකාවේ මෝඩ දොස්තරලා වෙන රටවල කක්කුස්සි හොඳන එක...  2024-01-11T01:21:07Z   \n",
              "66  ඇත්තනෙ.. මේ රටේ එක එක්කෙනාට වෙනම නීති. හොදම උද...  2024-01-10T23:41:47Z   \n",
              "67  DAT දීමනාව අදාල නැති සේවාවන්ට DAT වැඩි කරන්නේ ...  2024-01-10T09:54:56Z   \n",
              "68            කාට හරි කීයක් හරි දුන්නොත් මෙයා ....🤧🤧🤧  2024-01-10T09:17:12Z   \n",
              "69  අවුරුදු 75 ගොන් දේශපාලනය අවසන් කරමු.රට ගැන හිත...  2024-01-11T00:40:47Z   \n",
              "70     අපේ..හුස්ම ටික  පහව  යයි....තව ටික  දවසකින් ..  2024-01-09T12:33:42Z   \n",
              "71  රනිල් ව ජනාධිපති කරන්න ඒ කියපු පිස්ස වගේ උන් ත...  2024-01-09T10:51:53Z   \n",
              "72  රනිල්ව ස්වභවදහමෙන්ම රටේ පාලනයෙන් අයින් කරනවා.ම...  2024-01-09T10:18:24Z   \n",
              "73                                      දෙන්නම් තොපිට  2024-01-09T09:01:16Z   \n",
              "74    තොපි මැරෙන දවසට තමයි අපි අපේ රටේ නිදහස සමරන්නෙ   2024-01-09T08:46:30Z   \n",
              "\n",
              "                            author              author_email reply_to  \\\n",
              "50  @thibbottakamkanamgunapala6723  UCDPTURCddfcLSXDl6T7Y-vA      NaN   \n",
              "51                @Sandakathmini01  UCBkVVYzxd1IY9_c-imV37Pw      NaN   \n",
              "52                    @SL-FUN-time  UCxpUpY5y11kI6PC249akXGQ      NaN   \n",
              "53           @vipulakularathne3664  UCh69_CyrBxYOyHh5vZ9c8dw      NaN   \n",
              "54                 @balakathir3744  UCtWPkq442imcXGPhHV79-tQ      NaN   \n",
              "55        @sujeewanieratnayake4362  UCfEfNH8Grils8L4PEmUP7rg      NaN   \n",
              "56            @charithprasanga4385  UCLLCcDS2QLW-nbYB627gqBA      NaN   \n",
              "57            @charithprasanga4385  UCLLCcDS2QLW-nbYB627gqBA      NaN   \n",
              "58                @user-mw3he2ys7p  UC-hrUpk1QPBKGtxeKpImF6w      NaN   \n",
              "59                         @9N9910  UC9_m-tKd5nPDCQlxn6rA3uQ      NaN   \n",
              "60                @user-bd9np1vs7k  UCDWImJkb2UzdSBe1WWb_YGQ      NaN   \n",
              "61                @Sandakathmini01  UCBkVVYzxd1IY9_c-imV37Pw      NaN   \n",
              "62                   @Viduranga736  UC3FeQpU0GnfuJcl_jCEzcdA      NaN   \n",
              "63                     @wmapbw8444  UCye7rBToxfDlXNQLc-rphtg      NaN   \n",
              "64                 @kksirisena1420  UCMyyLh7NDM-iVmYvdr5pZGw      NaN   \n",
              "65               @udayasampath3530  UCSjyZ0n4Lw8IKqYG6H1avkg      NaN   \n",
              "66                     @cocoon2024  UCZfSnnDW5asWaQIi1qDo6VQ      NaN   \n",
              "67              @chandanabasnayake  UCcDmjr1mmASqOKuZxrl-t7A      NaN   \n",
              "68           @risinimarasinghe3016  UCdTMYkEaRVI35kMTiWjRv5g      NaN   \n",
              "69               @udayasampath3530  UCSjyZ0n4Lw8IKqYG6H1avkg      NaN   \n",
              "70             @manelchandrika2081  UCfpQKXZooT5cixZcirargLA      NaN   \n",
              "71                @user-vj2tz8cq9w  UCr0hsZNmnC7xo_vXVv15Rhw      NaN   \n",
              "72               @udayasampath3530  UCSjyZ0n4Lw8IKqYG6H1avkg      NaN   \n",
              "73               @AsithaDangallage  UCWpCkS7BJlxk9JQBOlRtI0g      NaN   \n",
              "74              @redfoxdjcrash9068  UCF9tkpOv99CYSphK_NYwX1w      NaN   \n",
              "\n",
              "       Label     Domain       About  \n",
              "50  Negative  Political  Government  \n",
              "51  Negative        Non         NaN  \n",
              "52  Negative        Non         NaN  \n",
              "53  Negative        Non         NaN  \n",
              "54  Negative        Non         NaN  \n",
              "55  Negative  Political  Government  \n",
              "56  Negative        Non         NaN  \n",
              "57  Negative        Non         NaN  \n",
              "58  Negative  Political         JVP  \n",
              "59  Negative  Political       Ranil  \n",
              "60   Neutral        Non         NaN  \n",
              "61  Negative        Non         NaN  \n",
              "62  Negative        Non         NaN  \n",
              "63   Neutral        Non         NaN  \n",
              "64  Negative  Political  Government  \n",
              "65  Negative        Non         NaN  \n",
              "66  Negative  Political  Government  \n",
              "67  Negative        Non         NaN  \n",
              "68   Neutral        Non         NaN  \n",
              "69  Negative  Political  Government  \n",
              "70  Negative  Political       Ranil  \n",
              "71  Negative  Political       Ranil  \n",
              "72  Negative  Political       Ranil  \n",
              "73  Negative  Political       Ranil  \n",
              "74  Negative  Political       Ranil  "
            ],
            "text/html": [
              "\n",
              "  <div id=\"df-e38c6720-5d9d-4e27-89ec-ff5875aa54fc\" class=\"colab-df-container\">\n",
              "    <div>\n",
              "<style scoped>\n",
              "    .dataframe tbody tr th:only-of-type {\n",
              "        vertical-align: middle;\n",
              "    }\n",
              "\n",
              "    .dataframe tbody tr th {\n",
              "        vertical-align: top;\n",
              "    }\n",
              "\n",
              "    .dataframe thead th {\n",
              "        text-align: right;\n",
              "    }\n",
              "</style>\n",
              "<table border=\"1\" class=\"dataframe\">\n",
              "  <thead>\n",
              "    <tr style=\"text-align: right;\">\n",
              "      <th></th>\n",
              "      <th>comment_id</th>\n",
              "      <th>video_id</th>\n",
              "      <th>video_title</th>\n",
              "      <th>text</th>\n",
              "      <th>timestamp</th>\n",
              "      <th>author</th>\n",
              "      <th>author_email</th>\n",
              "      <th>reply_to</th>\n",
              "      <th>Label</th>\n",
              "      <th>Domain</th>\n",
              "      <th>About</th>\n",
              "    </tr>\n",
              "  </thead>\n",
              "  <tbody>\n",
              "    <tr>\n",
              "      <th>50</th>\n",
              "      <td>UgwQVa84cLwTjle1S6F4AaABAg</td>\n",
              "      <td>9qoF3N3ldHU</td>\n",
              "      <td>සෞඛ්‍ය සටන දුරදිග යයි... \"හදිසි අවශ්‍යතා සඳහා ...</td>\n",
              "      <td>සමහර ත්‍රිවිධ හමුදා නිලධාරීන් සාමාන්‍ය සෙනලු ර...</td>\n",
              "      <td>2024-01-11T14:53:38Z</td>\n",
              "      <td>@thibbottakamkanamgunapala6723</td>\n",
              "      <td>UCDPTURCddfcLSXDl6T7Y-vA</td>\n",
              "      <td>NaN</td>\n",
              "      <td>Negative</td>\n",
              "      <td>Political</td>\n",
              "      <td>Government</td>\n",
              "    </tr>\n",
              "    <tr>\n",
              "      <th>51</th>\n",
              "      <td>UgzHWGPhmWfjkzmWi5Z4AaABAg</td>\n",
              "      <td>9qoF3N3ldHU</td>\n",
              "      <td>සෞඛ්‍ය සටන දුරදිග යයි... \"හදිසි අවශ්‍යතා සඳහා ...</td>\n",
              "      <td>නියමයි... ස්ට්‍රයික් කරන කාලකන්නින්ට ඔහොම්ම වෙ...</td>\n",
              "      <td>2024-01-11T14:19:57Z</td>\n",
              "      <td>@Sandakathmini01</td>\n",
              "      <td>UCBkVVYzxd1IY9_c-imV37Pw</td>\n",
              "      <td>NaN</td>\n",
              "      <td>Negative</td>\n",
              "      <td>Non</td>\n",
              "      <td>NaN</td>\n",
              "    </tr>\n",
              "    <tr>\n",
              "      <th>52</th>\n",
              "      <td>UgytIfe_LUHdFn94jqJ4AaABAg</td>\n",
              "      <td>7y5PJukRnX4</td>\n",
              "      <td>රෝහල් අඩපණ කළ DAT විරෝධය ''සෞඛ්‍යය භේද භින්න ක...</td>\n",
              "      <td>අනේ බන් ඔක්කොටම ගැනු ලමයි ඉන්නව බන් මේවිදිය ජී...</td>\n",
              "      <td>2024-01-11T08:04:47Z</td>\n",
              "      <td>@SL-FUN-time</td>\n",
              "      <td>UCxpUpY5y11kI6PC249akXGQ</td>\n",
              "      <td>NaN</td>\n",
              "      <td>Negative</td>\n",
              "      <td>Non</td>\n",
              "      <td>NaN</td>\n",
              "    </tr>\n",
              "    <tr>\n",
              "      <th>53</th>\n",
              "      <td>Ugxagv83D-R0LS3ZSpl4AaABAg</td>\n",
              "      <td>ZI6XWTyVeKI</td>\n",
              "      <td>දැවැන්ත සටනකට සැරසෙන සෞඛ්‍ය වෘත්තීය සමිති ජනපත...</td>\n",
              "      <td>යකෝ මුංගෙ monopoly  ට බයවෙලා...අනිත් මිනිස්සු ...</td>\n",
              "      <td>2024-01-11T02:17:05Z</td>\n",
              "      <td>@vipulakularathne3664</td>\n",
              "      <td>UCh69_CyrBxYOyHh5vZ9c8dw</td>\n",
              "      <td>NaN</td>\n",
              "      <td>Negative</td>\n",
              "      <td>Non</td>\n",
              "      <td>NaN</td>\n",
              "    </tr>\n",
              "    <tr>\n",
              "      <th>54</th>\n",
              "      <td>Ugwl5Pe4aUsrNJAF1NR4AaABAg</td>\n",
              "      <td>ZI6XWTyVeKI</td>\n",
              "      <td>දැවැන්ත සටනකට සැරසෙන සෞඛ්‍ය වෘත්තීය සමිති ජනපත...</td>\n",
              "      <td>මේ වර්ජනය කරන්නේ දුප්පතාගේ බදු මුදල් වලින් පින...</td>\n",
              "      <td>2024-01-11T01:45:57Z</td>\n",
              "      <td>@balakathir3744</td>\n",
              "      <td>UCtWPkq442imcXGPhHV79-tQ</td>\n",
              "      <td>NaN</td>\n",
              "      <td>Negative</td>\n",
              "      <td>Non</td>\n",
              "      <td>NaN</td>\n",
              "    </tr>\n",
              "    <tr>\n",
              "      <th>55</th>\n",
              "      <td>UgzJgGMjF2CYWqTteq54AaABAg</td>\n",
              "      <td>ZI6XWTyVeKI</td>\n",
              "      <td>දැවැන්ත සටනකට සැරසෙන සෞඛ්‍ය වෘත්තීය සමිති ජනපත...</td>\n",
              "      <td>රජය හිතාමතා ප්‍රශ්නයක් ඇති කරන්න කල දෙයක් . එක...</td>\n",
              "      <td>2024-01-11T01:38:36Z</td>\n",
              "      <td>@sujeewanieratnayake4362</td>\n",
              "      <td>UCfEfNH8Grils8L4PEmUP7rg</td>\n",
              "      <td>NaN</td>\n",
              "      <td>Negative</td>\n",
              "      <td>Political</td>\n",
              "      <td>Government</td>\n",
              "    </tr>\n",
              "    <tr>\n",
              "      <th>56</th>\n",
              "      <td>UgxPGd6oz55He0RvaSt4AaABAg</td>\n",
              "      <td>ZI6XWTyVeKI</td>\n",
              "      <td>දැවැන්ත සටනකට සැරසෙන සෞඛ්‍ය වෘත්තීය සමිති ජනපත...</td>\n",
              "      <td>තොපිට හෙනම ගහපන්</td>\n",
              "      <td>2024-01-10T23:06:33Z</td>\n",
              "      <td>@charithprasanga4385</td>\n",
              "      <td>UCLLCcDS2QLW-nbYB627gqBA</td>\n",
              "      <td>NaN</td>\n",
              "      <td>Negative</td>\n",
              "      <td>Non</td>\n",
              "      <td>NaN</td>\n",
              "    </tr>\n",
              "    <tr>\n",
              "      <th>57</th>\n",
              "      <td>Ugwivk8chQggiRRDL1d4AaABAg</td>\n",
              "      <td>ZI6XWTyVeKI</td>\n",
              "      <td>දැවැන්ත සටනකට සැරසෙන සෞඛ්‍ය වෘත්තීය සමිති ජනපත...</td>\n",
              "      <td>මුන් මේ බල්ලො අවුරුද්දකට කී පාරක් වර්ජනේ කරනවද...</td>\n",
              "      <td>2024-01-10T23:05:23Z</td>\n",
              "      <td>@charithprasanga4385</td>\n",
              "      <td>UCLLCcDS2QLW-nbYB627gqBA</td>\n",
              "      <td>NaN</td>\n",
              "      <td>Negative</td>\n",
              "      <td>Non</td>\n",
              "      <td>NaN</td>\n",
              "    </tr>\n",
              "    <tr>\n",
              "      <th>58</th>\n",
              "      <td>Ugxgl7F0UL5QSc86QHF4AaABAg</td>\n",
              "      <td>ZI6XWTyVeKI</td>\n",
              "      <td>දැවැන්ත සටනකට සැරසෙන සෞඛ්‍ය වෘත්තීය සමිති ජනපත...</td>\n",
              "      <td>හද්ද ගොඩේ ජෙප්පන්ගේ ලේවල තියන කුහක කම ඉරිසියාව...</td>\n",
              "      <td>2024-01-10T18:21:54Z</td>\n",
              "      <td>@user-mw3he2ys7p</td>\n",
              "      <td>UC-hrUpk1QPBKGtxeKpImF6w</td>\n",
              "      <td>NaN</td>\n",
              "      <td>Negative</td>\n",
              "      <td>Political</td>\n",
              "      <td>JVP</td>\n",
              "    </tr>\n",
              "    <tr>\n",
              "      <th>59</th>\n",
              "      <td>Ugyga8LfFOQFeo8F3nV4AaABAg</td>\n",
              "      <td>ZI6XWTyVeKI</td>\n",
              "      <td>දැවැන්ත සටනකට සැරසෙන සෞඛ්‍ය වෘත්තීය සමිති ජනපත...</td>\n",
              "      <td>කරන්න දෙයක් නැ හැමොම අසරණයි. ඕන මගුලක් ඉවසලා ඉ...</td>\n",
              "      <td>2024-01-10T15:46:55Z</td>\n",
              "      <td>@9N9910</td>\n",
              "      <td>UC9_m-tKd5nPDCQlxn6rA3uQ</td>\n",
              "      <td>NaN</td>\n",
              "      <td>Negative</td>\n",
              "      <td>Political</td>\n",
              "      <td>Ranil</td>\n",
              "    </tr>\n",
              "    <tr>\n",
              "      <th>60</th>\n",
              "      <td>UgysjchTTxVDuqNkxb94AaABAg</td>\n",
              "      <td>ZI6XWTyVeKI</td>\n",
              "      <td>දැවැන්ත සටනකට සැරසෙන සෞඛ්‍ය වෘත්තීය සමිති ජනපත...</td>\n",
              "      <td>දිගටම ඔහොම කරගෙන යන්න.. මොනම හේතුවකටවත් ඕක නවත...</td>\n",
              "      <td>2024-01-10T15:32:02Z</td>\n",
              "      <td>@user-bd9np1vs7k</td>\n",
              "      <td>UCDWImJkb2UzdSBe1WWb_YGQ</td>\n",
              "      <td>NaN</td>\n",
              "      <td>Neutral</td>\n",
              "      <td>Non</td>\n",
              "      <td>NaN</td>\n",
              "    </tr>\n",
              "    <tr>\n",
              "      <th>61</th>\n",
              "      <td>Ugyijbz30dbpciYQ9zd4AaABAg</td>\n",
              "      <td>ZI6XWTyVeKI</td>\n",
              "      <td>දැවැන්ත සටනකට සැරසෙන සෞඛ්‍ය වෘත්තීය සමිති ජනපත...</td>\n",
              "      <td>දැවැන්ත සටන අහිංසක අසරණ මිනිසුන්ගේ ජීවිත සමග ක...</td>\n",
              "      <td>2024-01-10T15:08:04Z</td>\n",
              "      <td>@Sandakathmini01</td>\n",
              "      <td>UCBkVVYzxd1IY9_c-imV37Pw</td>\n",
              "      <td>NaN</td>\n",
              "      <td>Negative</td>\n",
              "      <td>Non</td>\n",
              "      <td>NaN</td>\n",
              "    </tr>\n",
              "    <tr>\n",
              "      <th>62</th>\n",
              "      <td>Ugw0saZ7w6bkgdxULaF4AaABAg</td>\n",
              "      <td>ZI6XWTyVeKI</td>\n",
              "      <td>දැවැන්ත සටනකට සැරසෙන සෞඛ්‍ය වෘත්තීය සමිති ජනපත...</td>\n",
              "      <td>මුංට පිං පඩි ගෙවන්න අපි කට්ට කන්න ඕන. මිනිස්සු...</td>\n",
              "      <td>2024-01-10T15:05:46Z</td>\n",
              "      <td>@Viduranga736</td>\n",
              "      <td>UC3FeQpU0GnfuJcl_jCEzcdA</td>\n",
              "      <td>NaN</td>\n",
              "      <td>Negative</td>\n",
              "      <td>Non</td>\n",
              "      <td>NaN</td>\n",
              "    </tr>\n",
              "    <tr>\n",
              "      <th>63</th>\n",
              "      <td>UgwiNDtK7FuqHJGxL7F4AaABAg</td>\n",
              "      <td>ZI6XWTyVeKI</td>\n",
              "      <td>දැවැන්ත සටනකට සැරසෙන සෞඛ්‍ය වෘත්තීය සමිති ජනපත...</td>\n",
              "      <td>සෞඛය සේවයට ගන්න කොට හැමොටම වෛද්‍ය උපාදිය සුදුස...</td>\n",
              "      <td>2024-01-10T14:57:42Z</td>\n",
              "      <td>@wmapbw8444</td>\n",
              "      <td>UCye7rBToxfDlXNQLc-rphtg</td>\n",
              "      <td>NaN</td>\n",
              "      <td>Neutral</td>\n",
              "      <td>Non</td>\n",
              "      <td>NaN</td>\n",
              "    </tr>\n",
              "    <tr>\n",
              "      <th>64</th>\n",
              "      <td>Ugy6PbF4b31ACIwE3e14AaABAg</td>\n",
              "      <td>ZI6XWTyVeKI</td>\n",
              "      <td>දැවැන්ත සටනකට සැරසෙන සෞඛ්‍ය වෘත්තීය සමිති ජනපත...</td>\n",
              "      <td>නයාගෙ වලිගෙ පාගගත්ත. ආකාරෙ තීරණ කිසා දුක් විදි...</td>\n",
              "      <td>2024-01-10T14:19:28Z</td>\n",
              "      <td>@kksirisena1420</td>\n",
              "      <td>UCMyyLh7NDM-iVmYvdr5pZGw</td>\n",
              "      <td>NaN</td>\n",
              "      <td>Negative</td>\n",
              "      <td>Political</td>\n",
              "      <td>Government</td>\n",
              "    </tr>\n",
              "    <tr>\n",
              "      <th>65</th>\n",
              "      <td>UgzIAi_H4-dncNhdER94AaABAg</td>\n",
              "      <td>QVtrG5c4xJA</td>\n",
              "      <td>වෛද්‍යවරුන්ට වැඩි කළ DAT ඉල්ලා සෞඛ්‍ය වෘත්තිය ...</td>\n",
              "      <td>ලංකාවේ මෝඩ දොස්තරලා වෙන රටවල කක්කුස්සි හොඳන එක...</td>\n",
              "      <td>2024-01-11T01:21:07Z</td>\n",
              "      <td>@udayasampath3530</td>\n",
              "      <td>UCSjyZ0n4Lw8IKqYG6H1avkg</td>\n",
              "      <td>NaN</td>\n",
              "      <td>Negative</td>\n",
              "      <td>Non</td>\n",
              "      <td>NaN</td>\n",
              "    </tr>\n",
              "    <tr>\n",
              "      <th>66</th>\n",
              "      <td>UgyRbAImmEVauqX2hgt4AaABAg</td>\n",
              "      <td>QVtrG5c4xJA</td>\n",
              "      <td>වෛද්‍යවරුන්ට වැඩි කළ DAT ඉල්ලා සෞඛ්‍ය වෘත්තිය ...</td>\n",
              "      <td>ඇත්තනෙ.. මේ රටේ එක එක්කෙනාට වෙනම නීති. හොදම උද...</td>\n",
              "      <td>2024-01-10T23:41:47Z</td>\n",
              "      <td>@cocoon2024</td>\n",
              "      <td>UCZfSnnDW5asWaQIi1qDo6VQ</td>\n",
              "      <td>NaN</td>\n",
              "      <td>Negative</td>\n",
              "      <td>Political</td>\n",
              "      <td>Government</td>\n",
              "    </tr>\n",
              "    <tr>\n",
              "      <th>67</th>\n",
              "      <td>UgxZ0_dAIQBty6c9V9J4AaABAg</td>\n",
              "      <td>QVtrG5c4xJA</td>\n",
              "      <td>වෛද්‍යවරුන්ට වැඩි කළ DAT ඉල්ලා සෞඛ්‍ය වෘත්තිය ...</td>\n",
              "      <td>DAT දීමනාව අදාල නැති සේවාවන්ට DAT වැඩි කරන්නේ ...</td>\n",
              "      <td>2024-01-10T09:54:56Z</td>\n",
              "      <td>@chandanabasnayake</td>\n",
              "      <td>UCcDmjr1mmASqOKuZxrl-t7A</td>\n",
              "      <td>NaN</td>\n",
              "      <td>Negative</td>\n",
              "      <td>Non</td>\n",
              "      <td>NaN</td>\n",
              "    </tr>\n",
              "    <tr>\n",
              "      <th>68</th>\n",
              "      <td>UgwcBl6sz1gEXOW7u_Z4AaABAg</td>\n",
              "      <td>QVtrG5c4xJA</td>\n",
              "      <td>වෛද්‍යවරුන්ට වැඩි කළ DAT ඉල්ලා සෞඛ්‍ය වෘත්තිය ...</td>\n",
              "      <td>කාට හරි කීයක් හරි දුන්නොත් මෙයා ....🤧🤧🤧</td>\n",
              "      <td>2024-01-10T09:17:12Z</td>\n",
              "      <td>@risinimarasinghe3016</td>\n",
              "      <td>UCdTMYkEaRVI35kMTiWjRv5g</td>\n",
              "      <td>NaN</td>\n",
              "      <td>Neutral</td>\n",
              "      <td>Non</td>\n",
              "      <td>NaN</td>\n",
              "    </tr>\n",
              "    <tr>\n",
              "      <th>69</th>\n",
              "      <td>UgyGQ9kQzq6G7Kw5rQZ4AaABAg</td>\n",
              "      <td>ZO--W-jn9hM</td>\n",
              "      <td>සජබයේ ලොකු හිඩැසක් තනමින් චමින්ද විජේසිරි ඉල්ල...</td>\n",
              "      <td>අවුරුදු 75 ගොන් දේශපාලනය අවසන් කරමු.රට ගැන හිත...</td>\n",
              "      <td>2024-01-11T00:40:47Z</td>\n",
              "      <td>@udayasampath3530</td>\n",
              "      <td>UCSjyZ0n4Lw8IKqYG6H1avkg</td>\n",
              "      <td>NaN</td>\n",
              "      <td>Negative</td>\n",
              "      <td>Political</td>\n",
              "      <td>Government</td>\n",
              "    </tr>\n",
              "    <tr>\n",
              "      <th>70</th>\n",
              "      <td>Ugzdx2ePlLyEuzH-_gB4AaABAg</td>\n",
              "      <td>pKirEdEuG5k</td>\n",
              "      <td>ජනපතිට හිමිවන මැතිවරණ සහාය \"රනිල් මහත්තයාට දෙන...</td>\n",
              "      <td>අපේ..හුස්ම ටික  පහව  යයි....තව ටික  දවසකින් ..</td>\n",
              "      <td>2024-01-09T12:33:42Z</td>\n",
              "      <td>@manelchandrika2081</td>\n",
              "      <td>UCfpQKXZooT5cixZcirargLA</td>\n",
              "      <td>NaN</td>\n",
              "      <td>Negative</td>\n",
              "      <td>Political</td>\n",
              "      <td>Ranil</td>\n",
              "    </tr>\n",
              "    <tr>\n",
              "      <th>71</th>\n",
              "      <td>Ugy_TTBaY--Kk-VUPA14AaABAg</td>\n",
              "      <td>pKirEdEuG5k</td>\n",
              "      <td>ජනපතිට හිමිවන මැතිවරණ සහාය \"රනිල් මහත්තයාට දෙන...</td>\n",
              "      <td>රනිල් ව ජනාධිපති කරන්න ඒ කියපු පිස්ස වගේ උන් ත...</td>\n",
              "      <td>2024-01-09T10:51:53Z</td>\n",
              "      <td>@user-vj2tz8cq9w</td>\n",
              "      <td>UCr0hsZNmnC7xo_vXVv15Rhw</td>\n",
              "      <td>NaN</td>\n",
              "      <td>Negative</td>\n",
              "      <td>Political</td>\n",
              "      <td>Ranil</td>\n",
              "    </tr>\n",
              "    <tr>\n",
              "      <th>72</th>\n",
              "      <td>UgwMHn3B-UQy86s8Ilt4AaABAg</td>\n",
              "      <td>pKirEdEuG5k</td>\n",
              "      <td>ජනපතිට හිමිවන මැතිවරණ සහාය \"රනිල් මහත්තයාට දෙන...</td>\n",
              "      <td>රනිල්ව ස්වභවදහමෙන්ම රටේ පාලනයෙන් අයින් කරනවා.ම...</td>\n",
              "      <td>2024-01-09T10:18:24Z</td>\n",
              "      <td>@udayasampath3530</td>\n",
              "      <td>UCSjyZ0n4Lw8IKqYG6H1avkg</td>\n",
              "      <td>NaN</td>\n",
              "      <td>Negative</td>\n",
              "      <td>Political</td>\n",
              "      <td>Ranil</td>\n",
              "    </tr>\n",
              "    <tr>\n",
              "      <th>73</th>\n",
              "      <td>UgxFeWlvg7HvWcovXvZ4AaABAg</td>\n",
              "      <td>pKirEdEuG5k</td>\n",
              "      <td>ජනපතිට හිමිවන මැතිවරණ සහාය \"රනිල් මහත්තයාට දෙන...</td>\n",
              "      <td>දෙන්නම් තොපිට</td>\n",
              "      <td>2024-01-09T09:01:16Z</td>\n",
              "      <td>@AsithaDangallage</td>\n",
              "      <td>UCWpCkS7BJlxk9JQBOlRtI0g</td>\n",
              "      <td>NaN</td>\n",
              "      <td>Negative</td>\n",
              "      <td>Political</td>\n",
              "      <td>Ranil</td>\n",
              "    </tr>\n",
              "    <tr>\n",
              "      <th>74</th>\n",
              "      <td>UgxIpzxV0V5i10_BDEx4AaABAg</td>\n",
              "      <td>pKirEdEuG5k</td>\n",
              "      <td>ජනපතිට හිමිවන මැතිවරණ සහාය \"රනිල් මහත්තයාට දෙන...</td>\n",
              "      <td>තොපි මැරෙන දවසට තමයි අපි අපේ රටේ නිදහස සමරන්නෙ</td>\n",
              "      <td>2024-01-09T08:46:30Z</td>\n",
              "      <td>@redfoxdjcrash9068</td>\n",
              "      <td>UCF9tkpOv99CYSphK_NYwX1w</td>\n",
              "      <td>NaN</td>\n",
              "      <td>Negative</td>\n",
              "      <td>Political</td>\n",
              "      <td>Ranil</td>\n",
              "    </tr>\n",
              "  </tbody>\n",
              "</table>\n",
              "</div>\n",
              "    <div class=\"colab-df-buttons\">\n",
              "\n",
              "  <div class=\"colab-df-container\">\n",
              "    <button class=\"colab-df-convert\" onclick=\"convertToInteractive('df-e38c6720-5d9d-4e27-89ec-ff5875aa54fc')\"\n",
              "            title=\"Convert this dataframe to an interactive table.\"\n",
              "            style=\"display:none;\">\n",
              "\n",
              "  <svg xmlns=\"http://www.w3.org/2000/svg\" height=\"24px\" viewBox=\"0 -960 960 960\">\n",
              "    <path d=\"M120-120v-720h720v720H120Zm60-500h600v-160H180v160Zm220 220h160v-160H400v160Zm0 220h160v-160H400v160ZM180-400h160v-160H180v160Zm440 0h160v-160H620v160ZM180-180h160v-160H180v160Zm440 0h160v-160H620v160Z\"/>\n",
              "  </svg>\n",
              "    </button>\n",
              "\n",
              "  <style>\n",
              "    .colab-df-container {\n",
              "      display:flex;\n",
              "      gap: 12px;\n",
              "    }\n",
              "\n",
              "    .colab-df-convert {\n",
              "      background-color: #E8F0FE;\n",
              "      border: none;\n",
              "      border-radius: 50%;\n",
              "      cursor: pointer;\n",
              "      display: none;\n",
              "      fill: #1967D2;\n",
              "      height: 32px;\n",
              "      padding: 0 0 0 0;\n",
              "      width: 32px;\n",
              "    }\n",
              "\n",
              "    .colab-df-convert:hover {\n",
              "      background-color: #E2EBFA;\n",
              "      box-shadow: 0px 1px 2px rgba(60, 64, 67, 0.3), 0px 1px 3px 1px rgba(60, 64, 67, 0.15);\n",
              "      fill: #174EA6;\n",
              "    }\n",
              "\n",
              "    .colab-df-buttons div {\n",
              "      margin-bottom: 4px;\n",
              "    }\n",
              "\n",
              "    [theme=dark] .colab-df-convert {\n",
              "      background-color: #3B4455;\n",
              "      fill: #D2E3FC;\n",
              "    }\n",
              "\n",
              "    [theme=dark] .colab-df-convert:hover {\n",
              "      background-color: #434B5C;\n",
              "      box-shadow: 0px 1px 3px 1px rgba(0, 0, 0, 0.15);\n",
              "      filter: drop-shadow(0px 1px 2px rgba(0, 0, 0, 0.3));\n",
              "      fill: #FFFFFF;\n",
              "    }\n",
              "  </style>\n",
              "\n",
              "    <script>\n",
              "      const buttonEl =\n",
              "        document.querySelector('#df-e38c6720-5d9d-4e27-89ec-ff5875aa54fc button.colab-df-convert');\n",
              "      buttonEl.style.display =\n",
              "        google.colab.kernel.accessAllowed ? 'block' : 'none';\n",
              "\n",
              "      async function convertToInteractive(key) {\n",
              "        const element = document.querySelector('#df-e38c6720-5d9d-4e27-89ec-ff5875aa54fc');\n",
              "        const dataTable =\n",
              "          await google.colab.kernel.invokeFunction('convertToInteractive',\n",
              "                                                    [key], {});\n",
              "        if (!dataTable) return;\n",
              "\n",
              "        const docLinkHtml = 'Like what you see? Visit the ' +\n",
              "          '<a target=\"_blank\" href=https://colab.research.google.com/notebooks/data_table.ipynb>data table notebook</a>'\n",
              "          + ' to learn more about interactive tables.';\n",
              "        element.innerHTML = '';\n",
              "        dataTable['output_type'] = 'display_data';\n",
              "        await google.colab.output.renderOutput(dataTable, element);\n",
              "        const docLink = document.createElement('div');\n",
              "        docLink.innerHTML = docLinkHtml;\n",
              "        element.appendChild(docLink);\n",
              "      }\n",
              "    </script>\n",
              "  </div>\n",
              "\n",
              "\n",
              "<div id=\"df-145fcff5-4fa9-4f7c-b64a-513ade252aa2\">\n",
              "  <button class=\"colab-df-quickchart\" onclick=\"quickchart('df-145fcff5-4fa9-4f7c-b64a-513ade252aa2')\"\n",
              "            title=\"Suggest charts\"\n",
              "            style=\"display:none;\">\n",
              "\n",
              "<svg xmlns=\"http://www.w3.org/2000/svg\" height=\"24px\"viewBox=\"0 0 24 24\"\n",
              "     width=\"24px\">\n",
              "    <g>\n",
              "        <path d=\"M19 3H5c-1.1 0-2 .9-2 2v14c0 1.1.9 2 2 2h14c1.1 0 2-.9 2-2V5c0-1.1-.9-2-2-2zM9 17H7v-7h2v7zm4 0h-2V7h2v10zm4 0h-2v-4h2v4z\"/>\n",
              "    </g>\n",
              "</svg>\n",
              "  </button>\n",
              "\n",
              "<style>\n",
              "  .colab-df-quickchart {\n",
              "      --bg-color: #E8F0FE;\n",
              "      --fill-color: #1967D2;\n",
              "      --hover-bg-color: #E2EBFA;\n",
              "      --hover-fill-color: #174EA6;\n",
              "      --disabled-fill-color: #AAA;\n",
              "      --disabled-bg-color: #DDD;\n",
              "  }\n",
              "\n",
              "  [theme=dark] .colab-df-quickchart {\n",
              "      --bg-color: #3B4455;\n",
              "      --fill-color: #D2E3FC;\n",
              "      --hover-bg-color: #434B5C;\n",
              "      --hover-fill-color: #FFFFFF;\n",
              "      --disabled-bg-color: #3B4455;\n",
              "      --disabled-fill-color: #666;\n",
              "  }\n",
              "\n",
              "  .colab-df-quickchart {\n",
              "    background-color: var(--bg-color);\n",
              "    border: none;\n",
              "    border-radius: 50%;\n",
              "    cursor: pointer;\n",
              "    display: none;\n",
              "    fill: var(--fill-color);\n",
              "    height: 32px;\n",
              "    padding: 0;\n",
              "    width: 32px;\n",
              "  }\n",
              "\n",
              "  .colab-df-quickchart:hover {\n",
              "    background-color: var(--hover-bg-color);\n",
              "    box-shadow: 0 1px 2px rgba(60, 64, 67, 0.3), 0 1px 3px 1px rgba(60, 64, 67, 0.15);\n",
              "    fill: var(--button-hover-fill-color);\n",
              "  }\n",
              "\n",
              "  .colab-df-quickchart-complete:disabled,\n",
              "  .colab-df-quickchart-complete:disabled:hover {\n",
              "    background-color: var(--disabled-bg-color);\n",
              "    fill: var(--disabled-fill-color);\n",
              "    box-shadow: none;\n",
              "  }\n",
              "\n",
              "  .colab-df-spinner {\n",
              "    border: 2px solid var(--fill-color);\n",
              "    border-color: transparent;\n",
              "    border-bottom-color: var(--fill-color);\n",
              "    animation:\n",
              "      spin 1s steps(1) infinite;\n",
              "  }\n",
              "\n",
              "  @keyframes spin {\n",
              "    0% {\n",
              "      border-color: transparent;\n",
              "      border-bottom-color: var(--fill-color);\n",
              "      border-left-color: var(--fill-color);\n",
              "    }\n",
              "    20% {\n",
              "      border-color: transparent;\n",
              "      border-left-color: var(--fill-color);\n",
              "      border-top-color: var(--fill-color);\n",
              "    }\n",
              "    30% {\n",
              "      border-color: transparent;\n",
              "      border-left-color: var(--fill-color);\n",
              "      border-top-color: var(--fill-color);\n",
              "      border-right-color: var(--fill-color);\n",
              "    }\n",
              "    40% {\n",
              "      border-color: transparent;\n",
              "      border-right-color: var(--fill-color);\n",
              "      border-top-color: var(--fill-color);\n",
              "    }\n",
              "    60% {\n",
              "      border-color: transparent;\n",
              "      border-right-color: var(--fill-color);\n",
              "    }\n",
              "    80% {\n",
              "      border-color: transparent;\n",
              "      border-right-color: var(--fill-color);\n",
              "      border-bottom-color: var(--fill-color);\n",
              "    }\n",
              "    90% {\n",
              "      border-color: transparent;\n",
              "      border-bottom-color: var(--fill-color);\n",
              "    }\n",
              "  }\n",
              "</style>\n",
              "\n",
              "  <script>\n",
              "    async function quickchart(key) {\n",
              "      const quickchartButtonEl =\n",
              "        document.querySelector('#' + key + ' button');\n",
              "      quickchartButtonEl.disabled = true;  // To prevent multiple clicks.\n",
              "      quickchartButtonEl.classList.add('colab-df-spinner');\n",
              "      try {\n",
              "        const charts = await google.colab.kernel.invokeFunction(\n",
              "            'suggestCharts', [key], {});\n",
              "      } catch (error) {\n",
              "        console.error('Error during call to suggestCharts:', error);\n",
              "      }\n",
              "      quickchartButtonEl.classList.remove('colab-df-spinner');\n",
              "      quickchartButtonEl.classList.add('colab-df-quickchart-complete');\n",
              "    }\n",
              "    (() => {\n",
              "      let quickchartButtonEl =\n",
              "        document.querySelector('#df-145fcff5-4fa9-4f7c-b64a-513ade252aa2 button');\n",
              "      quickchartButtonEl.style.display =\n",
              "        google.colab.kernel.accessAllowed ? 'block' : 'none';\n",
              "    })();\n",
              "  </script>\n",
              "</div>\n",
              "\n",
              "    </div>\n",
              "  </div>\n"
            ],
            "application/vnd.google.colaboratory.intrinsic+json": {
              "type": "dataframe",
              "repr_error": "0"
            }
          },
          "metadata": {},
          "execution_count": 14
        }
      ]
    },
    {
      "cell_type": "code",
      "source": [
        "columns = ['text','Label','Domain','About']\n",
        "\n",
        "df = df[columns]"
      ],
      "metadata": {
        "id": "Mqu-54md0L8M"
      },
      "execution_count": null,
      "outputs": []
    },
    {
      "cell_type": "code",
      "source": [
        "df = df.head(1000)"
      ],
      "metadata": {
        "id": "NNosnjX90vWk"
      },
      "execution_count": null,
      "outputs": []
    },
    {
      "cell_type": "code",
      "source": [
        "df.iloc[12:20]"
      ],
      "metadata": {
        "colab": {
          "base_uri": "https://localhost:8080/",
          "height": 320
        },
        "id": "I4bfuuWD0110",
        "outputId": "d4a4a539-06d8-4fa0-92f5-52422767b6ff"
      },
      "execution_count": null,
      "outputs": [
        {
          "output_type": "execute_result",
          "data": {
            "text/plain": [
              "                                                 text     Label     Domain  \\\n",
              "12  මීවනපලාන   පතිරාඅරච්චි    අරියමග්ග.....සිසිර  ...  Negative        Non   \n",
              "13  අපි අපේ ආගම ගැන අවබෝදයකින් ඉන්නව නම්....කිසිම ...   Neutral        Non   \n",
              "14  ශ්‍රී ලන්කාවේ නිල වශයෙන් මහායාන වජිරයාන බුදු ද...   Neutral        Non   \n",
              "15  අස්සගිරි මහානයක පැය 24 ම සැතපිලා ඉද්දි බුදු දහ...  Negative        Non   \n",
              "16  ඔබ වහන්සේලා ඉක්මන් වැඩ් .දලදා හමුදුරුවොත් හෙ...  Negative        Non   \n",
              "17  බුදු රජාණන් වහන්සේ ලංකාවේ කියන එක අපෙ හාන්දුරුවනෙ   Neutral        Non   \n",
              "18  බුදු පියානන් වහන්සේ කියලා තියෙන්නේ ඕනම කෙනෙක්ට...   Neutral        Non   \n",
              "19  තවම සැබෑ බෞද්ධ පාලකයෝ මේ රටේ බලයට ඇවිත් නෑ. ඒ...   Neutral  Political   \n",
              "\n",
              "       About  \n",
              "12       NaN  \n",
              "13       NaN  \n",
              "14       NaN  \n",
              "15       NaN  \n",
              "16       NaN  \n",
              "17       NaN  \n",
              "18       NaN  \n",
              "19  everyone  "
            ],
            "text/html": [
              "\n",
              "  <div id=\"df-f538de44-3abf-4921-8eab-18700fcec96e\" class=\"colab-df-container\">\n",
              "    <div>\n",
              "<style scoped>\n",
              "    .dataframe tbody tr th:only-of-type {\n",
              "        vertical-align: middle;\n",
              "    }\n",
              "\n",
              "    .dataframe tbody tr th {\n",
              "        vertical-align: top;\n",
              "    }\n",
              "\n",
              "    .dataframe thead th {\n",
              "        text-align: right;\n",
              "    }\n",
              "</style>\n",
              "<table border=\"1\" class=\"dataframe\">\n",
              "  <thead>\n",
              "    <tr style=\"text-align: right;\">\n",
              "      <th></th>\n",
              "      <th>text</th>\n",
              "      <th>Label</th>\n",
              "      <th>Domain</th>\n",
              "      <th>About</th>\n",
              "    </tr>\n",
              "  </thead>\n",
              "  <tbody>\n",
              "    <tr>\n",
              "      <th>12</th>\n",
              "      <td>මීවනපලාන   පතිරාඅරච්චි    අරියමග්ග.....සිසිර  ...</td>\n",
              "      <td>Negative</td>\n",
              "      <td>Non</td>\n",
              "      <td>NaN</td>\n",
              "    </tr>\n",
              "    <tr>\n",
              "      <th>13</th>\n",
              "      <td>අපි අපේ ආගම ගැන අවබෝදයකින් ඉන්නව නම්....කිසිම ...</td>\n",
              "      <td>Neutral</td>\n",
              "      <td>Non</td>\n",
              "      <td>NaN</td>\n",
              "    </tr>\n",
              "    <tr>\n",
              "      <th>14</th>\n",
              "      <td>ශ්‍රී ලන්කාවේ නිල වශයෙන් මහායාන වජිරයාන බුදු ද...</td>\n",
              "      <td>Neutral</td>\n",
              "      <td>Non</td>\n",
              "      <td>NaN</td>\n",
              "    </tr>\n",
              "    <tr>\n",
              "      <th>15</th>\n",
              "      <td>අස්සගිරි මහානයක පැය 24 ම සැතපිලා ඉද්දි බුදු දහ...</td>\n",
              "      <td>Negative</td>\n",
              "      <td>Non</td>\n",
              "      <td>NaN</td>\n",
              "    </tr>\n",
              "    <tr>\n",
              "      <th>16</th>\n",
              "      <td>ඔබ වහන්සේලා ඉක්මන් වැඩ් .දලදා හමුදුරුවොත් හෙ...</td>\n",
              "      <td>Negative</td>\n",
              "      <td>Non</td>\n",
              "      <td>NaN</td>\n",
              "    </tr>\n",
              "    <tr>\n",
              "      <th>17</th>\n",
              "      <td>බුදු රජාණන් වහන්සේ ලංකාවේ කියන එක අපෙ හාන්දුරුවනෙ</td>\n",
              "      <td>Neutral</td>\n",
              "      <td>Non</td>\n",
              "      <td>NaN</td>\n",
              "    </tr>\n",
              "    <tr>\n",
              "      <th>18</th>\n",
              "      <td>බුදු පියානන් වහන්සේ කියලා තියෙන්නේ ඕනම කෙනෙක්ට...</td>\n",
              "      <td>Neutral</td>\n",
              "      <td>Non</td>\n",
              "      <td>NaN</td>\n",
              "    </tr>\n",
              "    <tr>\n",
              "      <th>19</th>\n",
              "      <td>තවම සැබෑ බෞද්ධ පාලකයෝ මේ රටේ බලයට ඇවිත් නෑ. ඒ...</td>\n",
              "      <td>Neutral</td>\n",
              "      <td>Political</td>\n",
              "      <td>everyone</td>\n",
              "    </tr>\n",
              "  </tbody>\n",
              "</table>\n",
              "</div>\n",
              "    <div class=\"colab-df-buttons\">\n",
              "\n",
              "  <div class=\"colab-df-container\">\n",
              "    <button class=\"colab-df-convert\" onclick=\"convertToInteractive('df-f538de44-3abf-4921-8eab-18700fcec96e')\"\n",
              "            title=\"Convert this dataframe to an interactive table.\"\n",
              "            style=\"display:none;\">\n",
              "\n",
              "  <svg xmlns=\"http://www.w3.org/2000/svg\" height=\"24px\" viewBox=\"0 -960 960 960\">\n",
              "    <path d=\"M120-120v-720h720v720H120Zm60-500h600v-160H180v160Zm220 220h160v-160H400v160Zm0 220h160v-160H400v160ZM180-400h160v-160H180v160Zm440 0h160v-160H620v160ZM180-180h160v-160H180v160Zm440 0h160v-160H620v160Z\"/>\n",
              "  </svg>\n",
              "    </button>\n",
              "\n",
              "  <style>\n",
              "    .colab-df-container {\n",
              "      display:flex;\n",
              "      gap: 12px;\n",
              "    }\n",
              "\n",
              "    .colab-df-convert {\n",
              "      background-color: #E8F0FE;\n",
              "      border: none;\n",
              "      border-radius: 50%;\n",
              "      cursor: pointer;\n",
              "      display: none;\n",
              "      fill: #1967D2;\n",
              "      height: 32px;\n",
              "      padding: 0 0 0 0;\n",
              "      width: 32px;\n",
              "    }\n",
              "\n",
              "    .colab-df-convert:hover {\n",
              "      background-color: #E2EBFA;\n",
              "      box-shadow: 0px 1px 2px rgba(60, 64, 67, 0.3), 0px 1px 3px 1px rgba(60, 64, 67, 0.15);\n",
              "      fill: #174EA6;\n",
              "    }\n",
              "\n",
              "    .colab-df-buttons div {\n",
              "      margin-bottom: 4px;\n",
              "    }\n",
              "\n",
              "    [theme=dark] .colab-df-convert {\n",
              "      background-color: #3B4455;\n",
              "      fill: #D2E3FC;\n",
              "    }\n",
              "\n",
              "    [theme=dark] .colab-df-convert:hover {\n",
              "      background-color: #434B5C;\n",
              "      box-shadow: 0px 1px 3px 1px rgba(0, 0, 0, 0.15);\n",
              "      filter: drop-shadow(0px 1px 2px rgba(0, 0, 0, 0.3));\n",
              "      fill: #FFFFFF;\n",
              "    }\n",
              "  </style>\n",
              "\n",
              "    <script>\n",
              "      const buttonEl =\n",
              "        document.querySelector('#df-f538de44-3abf-4921-8eab-18700fcec96e button.colab-df-convert');\n",
              "      buttonEl.style.display =\n",
              "        google.colab.kernel.accessAllowed ? 'block' : 'none';\n",
              "\n",
              "      async function convertToInteractive(key) {\n",
              "        const element = document.querySelector('#df-f538de44-3abf-4921-8eab-18700fcec96e');\n",
              "        const dataTable =\n",
              "          await google.colab.kernel.invokeFunction('convertToInteractive',\n",
              "                                                    [key], {});\n",
              "        if (!dataTable) return;\n",
              "\n",
              "        const docLinkHtml = 'Like what you see? Visit the ' +\n",
              "          '<a target=\"_blank\" href=https://colab.research.google.com/notebooks/data_table.ipynb>data table notebook</a>'\n",
              "          + ' to learn more about interactive tables.';\n",
              "        element.innerHTML = '';\n",
              "        dataTable['output_type'] = 'display_data';\n",
              "        await google.colab.output.renderOutput(dataTable, element);\n",
              "        const docLink = document.createElement('div');\n",
              "        docLink.innerHTML = docLinkHtml;\n",
              "        element.appendChild(docLink);\n",
              "      }\n",
              "    </script>\n",
              "  </div>\n",
              "\n",
              "\n",
              "<div id=\"df-f8ca5d7e-af99-49c7-ab77-51fc46031616\">\n",
              "  <button class=\"colab-df-quickchart\" onclick=\"quickchart('df-f8ca5d7e-af99-49c7-ab77-51fc46031616')\"\n",
              "            title=\"Suggest charts\"\n",
              "            style=\"display:none;\">\n",
              "\n",
              "<svg xmlns=\"http://www.w3.org/2000/svg\" height=\"24px\"viewBox=\"0 0 24 24\"\n",
              "     width=\"24px\">\n",
              "    <g>\n",
              "        <path d=\"M19 3H5c-1.1 0-2 .9-2 2v14c0 1.1.9 2 2 2h14c1.1 0 2-.9 2-2V5c0-1.1-.9-2-2-2zM9 17H7v-7h2v7zm4 0h-2V7h2v10zm4 0h-2v-4h2v4z\"/>\n",
              "    </g>\n",
              "</svg>\n",
              "  </button>\n",
              "\n",
              "<style>\n",
              "  .colab-df-quickchart {\n",
              "      --bg-color: #E8F0FE;\n",
              "      --fill-color: #1967D2;\n",
              "      --hover-bg-color: #E2EBFA;\n",
              "      --hover-fill-color: #174EA6;\n",
              "      --disabled-fill-color: #AAA;\n",
              "      --disabled-bg-color: #DDD;\n",
              "  }\n",
              "\n",
              "  [theme=dark] .colab-df-quickchart {\n",
              "      --bg-color: #3B4455;\n",
              "      --fill-color: #D2E3FC;\n",
              "      --hover-bg-color: #434B5C;\n",
              "      --hover-fill-color: #FFFFFF;\n",
              "      --disabled-bg-color: #3B4455;\n",
              "      --disabled-fill-color: #666;\n",
              "  }\n",
              "\n",
              "  .colab-df-quickchart {\n",
              "    background-color: var(--bg-color);\n",
              "    border: none;\n",
              "    border-radius: 50%;\n",
              "    cursor: pointer;\n",
              "    display: none;\n",
              "    fill: var(--fill-color);\n",
              "    height: 32px;\n",
              "    padding: 0;\n",
              "    width: 32px;\n",
              "  }\n",
              "\n",
              "  .colab-df-quickchart:hover {\n",
              "    background-color: var(--hover-bg-color);\n",
              "    box-shadow: 0 1px 2px rgba(60, 64, 67, 0.3), 0 1px 3px 1px rgba(60, 64, 67, 0.15);\n",
              "    fill: var(--button-hover-fill-color);\n",
              "  }\n",
              "\n",
              "  .colab-df-quickchart-complete:disabled,\n",
              "  .colab-df-quickchart-complete:disabled:hover {\n",
              "    background-color: var(--disabled-bg-color);\n",
              "    fill: var(--disabled-fill-color);\n",
              "    box-shadow: none;\n",
              "  }\n",
              "\n",
              "  .colab-df-spinner {\n",
              "    border: 2px solid var(--fill-color);\n",
              "    border-color: transparent;\n",
              "    border-bottom-color: var(--fill-color);\n",
              "    animation:\n",
              "      spin 1s steps(1) infinite;\n",
              "  }\n",
              "\n",
              "  @keyframes spin {\n",
              "    0% {\n",
              "      border-color: transparent;\n",
              "      border-bottom-color: var(--fill-color);\n",
              "      border-left-color: var(--fill-color);\n",
              "    }\n",
              "    20% {\n",
              "      border-color: transparent;\n",
              "      border-left-color: var(--fill-color);\n",
              "      border-top-color: var(--fill-color);\n",
              "    }\n",
              "    30% {\n",
              "      border-color: transparent;\n",
              "      border-left-color: var(--fill-color);\n",
              "      border-top-color: var(--fill-color);\n",
              "      border-right-color: var(--fill-color);\n",
              "    }\n",
              "    40% {\n",
              "      border-color: transparent;\n",
              "      border-right-color: var(--fill-color);\n",
              "      border-top-color: var(--fill-color);\n",
              "    }\n",
              "    60% {\n",
              "      border-color: transparent;\n",
              "      border-right-color: var(--fill-color);\n",
              "    }\n",
              "    80% {\n",
              "      border-color: transparent;\n",
              "      border-right-color: var(--fill-color);\n",
              "      border-bottom-color: var(--fill-color);\n",
              "    }\n",
              "    90% {\n",
              "      border-color: transparent;\n",
              "      border-bottom-color: var(--fill-color);\n",
              "    }\n",
              "  }\n",
              "</style>\n",
              "\n",
              "  <script>\n",
              "    async function quickchart(key) {\n",
              "      const quickchartButtonEl =\n",
              "        document.querySelector('#' + key + ' button');\n",
              "      quickchartButtonEl.disabled = true;  // To prevent multiple clicks.\n",
              "      quickchartButtonEl.classList.add('colab-df-spinner');\n",
              "      try {\n",
              "        const charts = await google.colab.kernel.invokeFunction(\n",
              "            'suggestCharts', [key], {});\n",
              "      } catch (error) {\n",
              "        console.error('Error during call to suggestCharts:', error);\n",
              "      }\n",
              "      quickchartButtonEl.classList.remove('colab-df-spinner');\n",
              "      quickchartButtonEl.classList.add('colab-df-quickchart-complete');\n",
              "    }\n",
              "    (() => {\n",
              "      let quickchartButtonEl =\n",
              "        document.querySelector('#df-f8ca5d7e-af99-49c7-ab77-51fc46031616 button');\n",
              "      quickchartButtonEl.style.display =\n",
              "        google.colab.kernel.accessAllowed ? 'block' : 'none';\n",
              "    })();\n",
              "  </script>\n",
              "</div>\n",
              "\n",
              "    </div>\n",
              "  </div>\n"
            ],
            "application/vnd.google.colaboratory.intrinsic+json": {
              "type": "dataframe",
              "summary": "{\n  \"name\": \"df\",\n  \"rows\": 8,\n  \"fields\": [\n    {\n      \"column\": \"text\",\n      \"properties\": {\n        \"dtype\": \"string\",\n        \"num_unique_values\": 8,\n        \"samples\": [\n          \"\\u0d85\\u0db4\\u0dd2 \\u0d85\\u0db4\\u0dda \\u0d86\\u0d9c\\u0db8 \\u0d9c\\u0dd0\\u0db1 \\u0d85\\u0dc0\\u0db6\\u0ddd\\u0daf\\u0dba\\u0d9a\\u0dd2\\u0db1\\u0dca \\u0d89\\u0db1\\u0dca\\u0db1\\u0dc0 \\u0db1\\u0db8\\u0dca....\\u0d9a\\u0dd2\\u0dc3\\u0dd2\\u0db8 \\u0dc0\\u0dd2\\u0da7\\u0d9a\\u0daf\\u0dd2 \\u0d94\\u0dba\\u0dd2 \\u0dc0\\u0d9c\\u0dda \\u0db8\\u0ddd\\u0da9 \\u0d85\\u0dba \\u0d9a\\u0dd2\\u0dba\\u0db1 \\u0d92\\u0dc0\\u0dcf \\u0db4\\u0dd2\\u0dbd\\u0dd2\\u0d9c\\u0db1\\u0dca\\u0db1\\u0dda \\u0db1\\u0dd0\\u0dc4\\u0dd0....\\u0db8\\u0dca\\u0db1\\u0dca \\u0dc0\\u0dd2\\u0dc1\\u0dca\\u0dc0\\u0dcf\\u0dc3 \\u0d9a\\u0dbb\\u0db1\\u0dca\\u0db1\\u0dda \\u0d92\\u0d9a...\\u0db8\\u0db1\\u0dca \\u0dc4\\u0dd2\\u0dad\\u0db1\\u0dca\\u0db1\\u0dda \\u0d92\\u0d9a \\u0dc4\\u0dbb\\u0dd2. \\u0d85\\u0dbb \\u0dc0\\u0d9c\\u0dda \\u0d85\\u0dba \\u0db8\\u0dd2\\u0dad\\u0dca\\u200d\\u0dba\\u0daf\\u0dd8\\u0dc1\\u0dca\\u0da7\\u0dd2\\u0d9a \\u0dad\\u0dad\\u0dca\\u0dad\\u0dca\\u0dc0\\u0dd9\\u0da7 \\u0dc0\\u0dd0\\u0da7\\u0dd2\\u0dbd\\u0dcf \\u0d85\\u0db4\\u0dcf\\u0d9c\\u0dcf\\u0db8\\u0dd2 \\u0dc0\\u0dda\\u0dc0\\u0dd2 \\u0db1\\u0dda...\\u0d85\\u0db4\\u0dd2 \\u0d85\\u0db4\\u0dda \\u0d86\\u0d9c\\u0db8 \\u0d9c\\u0dd0\\u0db1 \\u0dc0\\u0dd2\\u0dc1\\u0dca\\u0dc0\\u0dcf\\u0dc3 \\u0d9a\\u0dbb\\u0db8\\u0dd4\\u0db8....\\u0d85\\u0db4\\u0dd2  \\u0d85\\u0db4\\u0dda \\u0d86\\u0d9c\\u0db8  \\u0d86\\u0dbb\\u0d9a\\u0dca\\u0dc1\\u0dcf \\u0d9a\\u0dbb\\u0db8\\u0dd4 \\u0dad\\u0db8\\u0db1\\u0dca\\u0d9c\\u0dda \\u0db8\\u0ddc\\u0dbd\\u0dba\\u0dd9\\u0db1\\u0dca......\\u0db8\\u0dda\\u0d9a \\u0d85\\u0db4\\u0dda \\u0dc0\\u0dd2\\u0dad\\u0dbb\\u0d9a\\u0dca \\u0db1\\u0dd9\\u0db8\\u0dda \\u0dc0\\u0dd9\\u0db1 \\u0d86\\u0d9c\\u0db8\\u0dca\\u0dc0\\u0dbd\\u0da7\\u0dad\\u0dca \\u0d85\\u0daf\\u0dcf\\u0dbd\\u0dba\\u0dd2\",\n          \"\\u0db6\\u0dd4\\u0daf\\u0dd4 \\u0dbb\\u0da2\\u0dcf\\u0dab\\u0db1\\u0dca \\u0dc0\\u0dc4\\u0db1\\u0dca\\u0dc3\\u0dda \\u0dbd\\u0d82\\u0d9a\\u0dcf\\u0dc0\\u0dda \\u0d9a\\u0dd2\\u0dba\\u0db1 \\u0d91\\u0d9a \\u0d85\\u0db4\\u0dd9 \\u0dc4\\u0dcf\\u0db1\\u0dca\\u0daf\\u0dd4\\u0dbb\\u0dd4\\u0dc0\\u0db1\\u0dd9\",\n          \"\\u0db8\\u0dd3\\u0dc0\\u0db1\\u0db4\\u0dbd\\u0dcf\\u0db1   \\u0db4\\u0dad\\u0dd2\\u0dbb\\u0dcf\\u0d85\\u0dbb\\u0da0\\u0dca\\u0da0\\u0dd2    \\u0d85\\u0dbb\\u0dd2\\u0dba\\u0db8\\u0d9c\\u0dca\\u0d9c.....\\u0dc3\\u0dd2\\u0dc3\\u0dd2\\u0dbb  \\u0db4\\u0dd9\\u0dbb\\u0dd9\\u0dbb\\u0dcf....\\u0dc3\\u0dd4\\u0db8\\u0db1\\u0daf\\u0dd3\\u0dbb\\u0dbd\\u0dcf\\u0dad\\u0dca...\\u0db8\\u0dda \\u0d9a\\u0dd2\\u0dba\\u0db1..\\u0dc0\\u0dd0\\u0dbb\\u0daf\\u0dd2 \\u0dc3\\u0dd2\\u0dba\\u0dbd\\u0dca\\u0dbd  \\u0db6\\u0dd4\\u0daf\\u0dd4 \\u0daf\\u0dc4\\u0db8\\u0da7  \\u0d9a\\u0dbb\\u0db1\\u0dc0\\u0dcf   \\u0d94\\u0dc0\\u0dca\\u0db1\\u0dd4\\u0dad\\u0dca  \\u0daf\\u0dc4\\u0db8 \\u0dc3\\u0db8\\u0dca\\u0db4\\u0dd6\\u0dbb\\u0dca\\u0dab\\u0dba\\u0dd9\\u0db1\\u0dca..\\u0dc0\\u0dd2\\u0d9a\\u0dd4\\u0dbb\\u0dca\\u0dad\\u0dd2 \\u0d9a\\u0dbb\\u0db1\\u0dc0\\u0dcf.....\\u0daf\\u0dc4\\u0db8  \\u0db4\\u0db8\\u0dab\\u0d9a\\u0dca \\u0db1\\u0ddc\\u0dc0\\u0dd9\\u0dba\\u0dca \\u0d89\\u0dad\\u0dd2\\u0dc4\\u0dcf\\u0dc3\\u0dba\\u0dad\\u0dca    \\u0d94\\u0dc0\\u0dca\\u0db1\\u0dca \\u0dc0\\u0dd2\\u0d9a\\u0dd4\\u0dbb\\u0dca\\u0dad\\u0dd2 \\u0d9a\\u0dbb\\u0db1\\u0dc0\\u0dcf...\"\n        ],\n        \"semantic_type\": \"\",\n        \"description\": \"\"\n      }\n    },\n    {\n      \"column\": \"Label\",\n      \"properties\": {\n        \"dtype\": \"category\",\n        \"num_unique_values\": 2,\n        \"samples\": [\n          \"Neutral\",\n          \"Negative\"\n        ],\n        \"semantic_type\": \"\",\n        \"description\": \"\"\n      }\n    },\n    {\n      \"column\": \"Domain\",\n      \"properties\": {\n        \"dtype\": \"category\",\n        \"num_unique_values\": 2,\n        \"samples\": [\n          \"Political\",\n          \"Non\"\n        ],\n        \"semantic_type\": \"\",\n        \"description\": \"\"\n      }\n    },\n    {\n      \"column\": \"About\",\n      \"properties\": {\n        \"dtype\": \"category\",\n        \"num_unique_values\": 1,\n        \"samples\": [\n          \"everyone\"\n        ],\n        \"semantic_type\": \"\",\n        \"description\": \"\"\n      }\n    }\n  ]\n}"
            }
          },
          "metadata": {},
          "execution_count": 17
        }
      ]
    },
    {
      "cell_type": "code",
      "source": [
        "df = df.sample(frac=1.0, random_state=42)"
      ],
      "metadata": {
        "id": "zRNaGHT50lmm"
      },
      "execution_count": null,
      "outputs": []
    },
    {
      "cell_type": "code",
      "source": [
        "labels = df['Label'].unique().tolist()\n",
        "labels = [str(s).strip() for s in labels ]\n",
        "labels"
      ],
      "metadata": {
        "colab": {
          "base_uri": "https://localhost:8080/"
        },
        "id": "7EH6zXdg0_we",
        "outputId": "1c84df8e-4167-4cac-d9d7-a2d3ef4bc9e6"
      },
      "execution_count": null,
      "outputs": [
        {
          "output_type": "execute_result",
          "data": {
            "text/plain": [
              "['Neutral', 'Negative', 'Positive', 'nan', 'positive']"
            ]
          },
          "metadata": {},
          "execution_count": 19
        }
      ]
    },
    {
      "cell_type": "code",
      "source": [
        "df['Label'] = df['Label'].replace('positive','Positive')"
      ],
      "metadata": {
        "id": "rWLmHzNuH1xm"
      },
      "execution_count": null,
      "outputs": []
    },
    {
      "cell_type": "code",
      "source": [
        "# Remove rows where the 'Label' column has the string 'nan'\n",
        "df = df[df['Label'].apply(lambda x: str(x).strip().lower() != 'nan')]\n",
        "\n",
        "labels = df['Label'].unique().tolist()\n",
        "labels = [str(s).strip() for s in labels]\n",
        "labels"
      ],
      "metadata": {
        "colab": {
          "base_uri": "https://localhost:8080/"
        },
        "id": "gE8yh2Z21CEC",
        "outputId": "cc55776e-4edb-4d31-ee4e-3bac3e2cabb4"
      },
      "execution_count": null,
      "outputs": [
        {
          "output_type": "execute_result",
          "data": {
            "text/plain": [
              "['Neutral', 'Negative', 'Positive']"
            ]
          },
          "metadata": {},
          "execution_count": 21
        }
      ]
    },
    {
      "cell_type": "code",
      "source": [
        "df.Label.value_counts()"
      ],
      "metadata": {
        "colab": {
          "base_uri": "https://localhost:8080/"
        },
        "id": "AIGlUe4B1Ekj",
        "outputId": "6400451f-d3a5-4f47-b607-01ae74ab8b5b"
      },
      "execution_count": null,
      "outputs": [
        {
          "output_type": "execute_result",
          "data": {
            "text/plain": [
              "Label\n",
              "Negative    573\n",
              "Neutral     305\n",
              "Positive    120\n",
              "Name: count, dtype: int64"
            ]
          },
          "metadata": {},
          "execution_count": 22
        }
      ]
    },
    {
      "cell_type": "code",
      "source": [
        "NUM_LABELS= len(labels)\n",
        "\n",
        "# id2label={id:label for id,label in enumerate(labels)}\n",
        "\n",
        "# label2id={label:id for id,label in enumerate(labels)}"
      ],
      "metadata": {
        "id": "c3Ma-Vz41HtN"
      },
      "execution_count": null,
      "outputs": []
    },
    {
      "cell_type": "code",
      "source": [
        "one_hot_encoded_df = pd.get_dummies(labels)\n",
        "\n",
        "one_hot_encoded_df"
      ],
      "metadata": {
        "id": "4wUQSYhCJwmb"
      },
      "execution_count": null,
      "outputs": []
    },
    {
      "cell_type": "code",
      "source": [
        "label2id"
      ],
      "metadata": {
        "colab": {
          "base_uri": "https://localhost:8080/"
        },
        "id": "SLWAKPfk1WWm",
        "outputId": "49bef1d2-11d1-4c7b-a774-b1946d47e92f"
      },
      "execution_count": null,
      "outputs": [
        {
          "output_type": "execute_result",
          "data": {
            "text/plain": [
              "{'Neutral': 0, 'Negative': 1, 'Positive': 2}"
            ]
          },
          "metadata": {},
          "execution_count": 24
        }
      ]
    },
    {
      "cell_type": "code",
      "source": [
        "id2label"
      ],
      "metadata": {
        "colab": {
          "base_uri": "https://localhost:8080/"
        },
        "id": "TZb31VoQ1fNu",
        "outputId": "8465da9e-47d1-4be3-df43-1775527720a9"
      },
      "execution_count": null,
      "outputs": [
        {
          "output_type": "execute_result",
          "data": {
            "text/plain": [
              "{0: 'Neutral', 1: 'Negative', 2: 'Positive'}"
            ]
          },
          "metadata": {},
          "execution_count": 25
        }
      ]
    },
    {
      "cell_type": "code",
      "source": [
        "for key, value in enumerate(labels):\n",
        "    print(value)"
      ],
      "metadata": {
        "colab": {
          "base_uri": "https://localhost:8080/"
        },
        "id": "cGIGDdMt1htY",
        "outputId": "b1fb0517-5948-448e-a37b-643cff2e4e14"
      },
      "execution_count": null,
      "outputs": [
        {
          "output_type": "stream",
          "name": "stdout",
          "text": [
            "Neutral\n",
            "Negative\n",
            "Positive\n"
          ]
        }
      ]
    },
    {
      "cell_type": "code",
      "source": [
        "df[\"labels\"]=df.Label.map(lambda x: label2id[x.strip()])"
      ],
      "metadata": {
        "id": "OhgTG-Gp1k4-"
      },
      "execution_count": null,
      "outputs": []
    },
    {
      "cell_type": "code",
      "source": [
        "df.Label.value_counts().plot(kind='pie', figsize=(10,10))"
      ],
      "metadata": {
        "colab": {
          "base_uri": "https://localhost:8080/",
          "height": 844
        },
        "id": "XCx8fpBg1nnu",
        "outputId": "5b46daa3-d71c-4c45-9cd7-8d88780915de"
      },
      "execution_count": null,
      "outputs": [
        {
          "output_type": "execute_result",
          "data": {
            "text/plain": [
              "<Axes: ylabel='count'>"
            ]
          },
          "metadata": {},
          "execution_count": 28
        },
        {
          "output_type": "display_data",
          "data": {
            "text/plain": [
              "<Figure size 1000x1000 with 1 Axes>"
            ],
            "image/png": "[encoded data removed]"
          },
          "metadata": {}
        }
      ]
    },
    {
      "cell_type": "code",
      "source": [
        "\n",
        "data_texts = df['text'].to_list()\n",
        "\n",
        "data_labels = df['labels'].to_list()"
      ],
      "metadata": {
        "id": "iFj3i46u1qXZ"
      },
      "execution_count": null,
      "outputs": []
    },
    {
      "cell_type": "code",
      "source": [
        "label_set = set(data_labels)"
      ],
      "metadata": {
        "id": "PwNXGzDf1tt_"
      },
      "execution_count": null,
      "outputs": []
    },
    {
      "cell_type": "code",
      "source": [
        "label_set"
      ],
      "metadata": {
        "colab": {
          "base_uri": "https://localhost:8080/"
        },
        "id": "ug0GZ5GS1zbN",
        "outputId": "9e0e2179-7bd2-4398-fcf0-f5444897dacc"
      },
      "execution_count": null,
      "outputs": [
        {
          "output_type": "execute_result",
          "data": {
            "text/plain": [
              "{0, 1, 2}"
            ]
          },
          "metadata": {},
          "execution_count": 31
        }
      ]
    },
    {
      "cell_type": "code",
      "source": [
        "df.head()"
      ],
      "metadata": {
        "colab": {
          "base_uri": "https://localhost:8080/",
          "height": 226
        },
        "id": "fHqtBJjQ11Bb",
        "outputId": "3ec11fb3-201b-4d09-9ae8-576fa5f64f9c"
      },
      "execution_count": null,
      "outputs": [
        {
          "output_type": "execute_result",
          "data": {
            "text/plain": [
              "                                                  text     Label Domain About  \\\n",
              "521       ඕක අපේ පැරැන්නො කලින්ම දන්න දෙයක්.මොන අලුත්ද   Neutral    NaN   NaN   \n",
              "737  මේ කුරිරු පාලකයින් විසින් ම අපේ රටේ සිංහල දෙමල...  Negative    NaN   NaN   \n",
              "740  රට වෙනුවෙන්  de වී pe du  අපි  ඔබ‍ට  න යගති  r...   Neutral    NaN   NaN   \n",
              "660                         දැන්නම් නිකම් පාවෙනවා වගේ    Neutral    NaN   NaN   \n",
              "411  රට කන හොරු පාදඩයෝ කට මැත දොඩවන්නෝ ඔක්කොම රූමස්...  Negative      P   all   \n",
              "\n",
              "     labels  \n",
              "521       0  \n",
              "737       1  \n",
              "740       0  \n",
              "660       0  \n",
              "411       1  "
            ],
            "text/html": [
              "\n",
              "  <div id=\"df-702fdea3-aff4-461b-aacf-a9cfa4e6c736\" class=\"colab-df-container\">\n",
              "    <div>\n",
              "<style scoped>\n",
              "    .dataframe tbody tr th:only-of-type {\n",
              "        vertical-align: middle;\n",
              "    }\n",
              "\n",
              "    .dataframe tbody tr th {\n",
              "        vertical-align: top;\n",
              "    }\n",
              "\n",
              "    .dataframe thead th {\n",
              "        text-align: right;\n",
              "    }\n",
              "</style>\n",
              "<table border=\"1\" class=\"dataframe\">\n",
              "  <thead>\n",
              "    <tr style=\"text-align: right;\">\n",
              "      <th></th>\n",
              "      <th>text</th>\n",
              "      <th>Label</th>\n",
              "      <th>Domain</th>\n",
              "      <th>About</th>\n",
              "      <th>labels</th>\n",
              "    </tr>\n",
              "  </thead>\n",
              "  <tbody>\n",
              "    <tr>\n",
              "      <th>521</th>\n",
              "      <td>ඕක අපේ පැරැන්නො කලින්ම දන්න දෙයක්.මොන අලුත්ද</td>\n",
              "      <td>Neutral</td>\n",
              "      <td>NaN</td>\n",
              "      <td>NaN</td>\n",
              "      <td>0</td>\n",
              "    </tr>\n",
              "    <tr>\n",
              "      <th>737</th>\n",
              "      <td>මේ කුරිරු පාලකයින් විසින් ම අපේ රටේ සිංහල දෙමල...</td>\n",
              "      <td>Negative</td>\n",
              "      <td>NaN</td>\n",
              "      <td>NaN</td>\n",
              "      <td>1</td>\n",
              "    </tr>\n",
              "    <tr>\n",
              "      <th>740</th>\n",
              "      <td>රට වෙනුවෙන්  de වී pe du  අපි  ඔබ‍ට  න යගති  r...</td>\n",
              "      <td>Neutral</td>\n",
              "      <td>NaN</td>\n",
              "      <td>NaN</td>\n",
              "      <td>0</td>\n",
              "    </tr>\n",
              "    <tr>\n",
              "      <th>660</th>\n",
              "      <td>දැන්නම් නිකම් පාවෙනවා වගේ</td>\n",
              "      <td>Neutral</td>\n",
              "      <td>NaN</td>\n",
              "      <td>NaN</td>\n",
              "      <td>0</td>\n",
              "    </tr>\n",
              "    <tr>\n",
              "      <th>411</th>\n",
              "      <td>රට කන හොරු පාදඩයෝ කට මැත දොඩවන්නෝ ඔක්කොම රූමස්...</td>\n",
              "      <td>Negative</td>\n",
              "      <td>P</td>\n",
              "      <td>all</td>\n",
              "      <td>1</td>\n",
              "    </tr>\n",
              "  </tbody>\n",
              "</table>\n",
              "</div>\n",
              "    <div class=\"colab-df-buttons\">\n",
              "\n",
              "  <div class=\"colab-df-container\">\n",
              "    <button class=\"colab-df-convert\" onclick=\"convertToInteractive('df-702fdea3-aff4-461b-aacf-a9cfa4e6c736')\"\n",
              "            title=\"Convert this dataframe to an interactive table.\"\n",
              "            style=\"display:none;\">\n",
              "\n",
              "  <svg xmlns=\"http://www.w3.org/2000/svg\" height=\"24px\" viewBox=\"0 -960 960 960\">\n",
              "    <path d=\"M120-120v-720h720v720H120Zm60-500h600v-160H180v160Zm220 220h160v-160H400v160Zm0 220h160v-160H400v160ZM180-400h160v-160H180v160Zm440 0h160v-160H620v160ZM180-180h160v-160H180v160Zm440 0h160v-160H620v160Z\"/>\n",
              "  </svg>\n",
              "    </button>\n",
              "\n",
              "  <style>\n",
              "    .colab-df-container {\n",
              "      display:flex;\n",
              "      gap: 12px;\n",
              "    }\n",
              "\n",
              "    .colab-df-convert {\n",
              "      background-color: #E8F0FE;\n",
              "      border: none;\n",
              "      border-radius: 50%;\n",
              "      cursor: pointer;\n",
              "      display: none;\n",
              "      fill: #1967D2;\n",
              "      height: 32px;\n",
              "      padding: 0 0 0 0;\n",
              "      width: 32px;\n",
              "    }\n",
              "\n",
              "    .colab-df-convert:hover {\n",
              "      background-color: #E2EBFA;\n",
              "      box-shadow: 0px 1px 2px rgba(60, 64, 67, 0.3), 0px 1px 3px 1px rgba(60, 64, 67, 0.15);\n",
              "      fill: #174EA6;\n",
              "    }\n",
              "\n",
              "    .colab-df-buttons div {\n",
              "      margin-bottom: 4px;\n",
              "    }\n",
              "\n",
              "    [theme=dark] .colab-df-convert {\n",
              "      background-color: #3B4455;\n",
              "      fill: #D2E3FC;\n",
              "    }\n",
              "\n",
              "    [theme=dark] .colab-df-convert:hover {\n",
              "      background-color: #434B5C;\n",
              "      box-shadow: 0px 1px 3px 1px rgba(0, 0, 0, 0.15);\n",
              "      filter: drop-shadow(0px 1px 2px rgba(0, 0, 0, 0.3));\n",
              "      fill: #FFFFFF;\n",
              "    }\n",
              "  </style>\n",
              "\n",
              "    <script>\n",
              "      const buttonEl =\n",
              "        document.querySelector('#df-702fdea3-aff4-461b-aacf-a9cfa4e6c736 button.colab-df-convert');\n",
              "      buttonEl.style.display =\n",
              "        google.colab.kernel.accessAllowed ? 'block' : 'none';\n",
              "\n",
              "      async function convertToInteractive(key) {\n",
              "        const element = document.querySelector('#df-702fdea3-aff4-461b-aacf-a9cfa4e6c736');\n",
              "        const dataTable =\n",
              "          await google.colab.kernel.invokeFunction('convertToInteractive',\n",
              "                                                    [key], {});\n",
              "        if (!dataTable) return;\n",
              "\n",
              "        const docLinkHtml = 'Like what you see? Visit the ' +\n",
              "          '<a target=\"_blank\" href=https://colab.research.google.com/notebooks/data_table.ipynb>data table notebook</a>'\n",
              "          + ' to learn more about interactive tables.';\n",
              "        element.innerHTML = '';\n",
              "        dataTable['output_type'] = 'display_data';\n",
              "        await google.colab.output.renderOutput(dataTable, element);\n",
              "        const docLink = document.createElement('div');\n",
              "        docLink.innerHTML = docLinkHtml;\n",
              "        element.appendChild(docLink);\n",
              "      }\n",
              "    </script>\n",
              "  </div>\n",
              "\n",
              "\n",
              "<div id=\"df-7c2a825d-c445-4a63-a5a1-beba8bfa4cb4\">\n",
              "  <button class=\"colab-df-quickchart\" onclick=\"quickchart('df-7c2a825d-c445-4a63-a5a1-beba8bfa4cb4')\"\n",
              "            title=\"Suggest charts\"\n",
              "            style=\"display:none;\">\n",
              "\n",
              "<svg xmlns=\"http://www.w3.org/2000/svg\" height=\"24px\"viewBox=\"0 0 24 24\"\n",
              "     width=\"24px\">\n",
              "    <g>\n",
              "        <path d=\"M19 3H5c-1.1 0-2 .9-2 2v14c0 1.1.9 2 2 2h14c1.1 0 2-.9 2-2V5c0-1.1-.9-2-2-2zM9 17H7v-7h2v7zm4 0h-2V7h2v10zm4 0h-2v-4h2v4z\"/>\n",
              "    </g>\n",
              "</svg>\n",
              "  </button>\n",
              "\n",
              "<style>\n",
              "  .colab-df-quickchart {\n",
              "      --bg-color: #E8F0FE;\n",
              "      --fill-color: #1967D2;\n",
              "      --hover-bg-color: #E2EBFA;\n",
              "      --hover-fill-color: #174EA6;\n",
              "      --disabled-fill-color: #AAA;\n",
              "      --disabled-bg-color: #DDD;\n",
              "  }\n",
              "\n",
              "  [theme=dark] .colab-df-quickchart {\n",
              "      --bg-color: #3B4455;\n",
              "      --fill-color: #D2E3FC;\n",
              "      --hover-bg-color: #434B5C;\n",
              "      --hover-fill-color: #FFFFFF;\n",
              "      --disabled-bg-color: #3B4455;\n",
              "      --disabled-fill-color: #666;\n",
              "  }\n",
              "\n",
              "  .colab-df-quickchart {\n",
              "    background-color: var(--bg-color);\n",
              "    border: none;\n",
              "    border-radius: 50%;\n",
              "    cursor: pointer;\n",
              "    display: none;\n",
              "    fill: var(--fill-color);\n",
              "    height: 32px;\n",
              "    padding: 0;\n",
              "    width: 32px;\n",
              "  }\n",
              "\n",
              "  .colab-df-quickchart:hover {\n",
              "    background-color: var(--hover-bg-color);\n",
              "    box-shadow: 0 1px 2px rgba(60, 64, 67, 0.3), 0 1px 3px 1px rgba(60, 64, 67, 0.15);\n",
              "    fill: var(--button-hover-fill-color);\n",
              "  }\n",
              "\n",
              "  .colab-df-quickchart-complete:disabled,\n",
              "  .colab-df-quickchart-complete:disabled:hover {\n",
              "    background-color: var(--disabled-bg-color);\n",
              "    fill: var(--disabled-fill-color);\n",
              "    box-shadow: none;\n",
              "  }\n",
              "\n",
              "  .colab-df-spinner {\n",
              "    border: 2px solid var(--fill-color);\n",
              "    border-color: transparent;\n",
              "    border-bottom-color: var(--fill-color);\n",
              "    animation:\n",
              "      spin 1s steps(1) infinite;\n",
              "  }\n",
              "\n",
              "  @keyframes spin {\n",
              "    0% {\n",
              "      border-color: transparent;\n",
              "      border-bottom-color: var(--fill-color);\n",
              "      border-left-color: var(--fill-color);\n",
              "    }\n",
              "    20% {\n",
              "      border-color: transparent;\n",
              "      border-left-color: var(--fill-color);\n",
              "      border-top-color: var(--fill-color);\n",
              "    }\n",
              "    30% {\n",
              "      border-color: transparent;\n",
              "      border-left-color: var(--fill-color);\n",
              "      border-top-color: var(--fill-color);\n",
              "      border-right-color: var(--fill-color);\n",
              "    }\n",
              "    40% {\n",
              "      border-color: transparent;\n",
              "      border-right-color: var(--fill-color);\n",
              "      border-top-color: var(--fill-color);\n",
              "    }\n",
              "    60% {\n",
              "      border-color: transparent;\n",
              "      border-right-color: var(--fill-color);\n",
              "    }\n",
              "    80% {\n",
              "      border-color: transparent;\n",
              "      border-right-color: var(--fill-color);\n",
              "      border-bottom-color: var(--fill-color);\n",
              "    }\n",
              "    90% {\n",
              "      border-color: transparent;\n",
              "      border-bottom-color: var(--fill-color);\n",
              "    }\n",
              "  }\n",
              "</style>\n",
              "\n",
              "  <script>\n",
              "    async function quickchart(key) {\n",
              "      const quickchartButtonEl =\n",
              "        document.querySelector('#' + key + ' button');\n",
              "      quickchartButtonEl.disabled = true;  // To prevent multiple clicks.\n",
              "      quickchartButtonEl.classList.add('colab-df-spinner');\n",
              "      try {\n",
              "        const charts = await google.colab.kernel.invokeFunction(\n",
              "            'suggestCharts', [key], {});\n",
              "      } catch (error) {\n",
              "        console.error('Error during call to suggestCharts:', error);\n",
              "      }\n",
              "      quickchartButtonEl.classList.remove('colab-df-spinner');\n",
              "      quickchartButtonEl.classList.add('colab-df-quickchart-complete');\n",
              "    }\n",
              "    (() => {\n",
              "      let quickchartButtonEl =\n",
              "        document.querySelector('#df-7c2a825d-c445-4a63-a5a1-beba8bfa4cb4 button');\n",
              "      quickchartButtonEl.style.display =\n",
              "        google.colab.kernel.accessAllowed ? 'block' : 'none';\n",
              "    })();\n",
              "  </script>\n",
              "</div>\n",
              "\n",
              "    </div>\n",
              "  </div>\n"
            ],
            "application/vnd.google.colaboratory.intrinsic+json": {
              "type": "dataframe",
              "variable_name": "df",
              "summary": "{\n  \"name\": \"df\",\n  \"rows\": 998,\n  \"fields\": [\n    {\n      \"column\": \"text\",\n      \"properties\": {\n        \"dtype\": \"string\",\n        \"num_unique_values\": 993,\n        \"samples\": [\n          \"\\u0daf\\u0dd0\\u0db1\\u0dca \\u0d87\\u0db8\\u0dbb\\u0dd2\\u0d9a\\u0dcf\\u0dc0\\u0da7 \\u0dbb\\u0ddc\\u0d9a\\u0da7\\u0dca \\u0d85\\u0dbb\\u0dd2\\u0db1\\u0dca\\u0db1 \\u0dbd\\u0d82\\u0d9a\\u0dcf\\u0dc0 \\u0dc0\\u0dd2\\u0d9a\\u0dd4\\u0db4\\u0dbd\\u0dca\\u0dbd\\u0dcf...\",\n          \"\\u0dc4\\u0dcf\\u0dbd\\u0dca \\u0d9a\\u0dd2\\u0dbd\\u0ddd\\u0dc0 \\u0dbb\\u0dd4\\u0db4\\u0dd2\\u0dba\\u0dbd\\u0dca 200, \\u0d9a\\u0dd4\\u0da9\\u0dd4 \\u0d9a\\u0dd2\\u0dbd\\u0ddd\\u0dc0 \\u0d9a\\u0ddd\\u0da7\\u0dd2\\u0dba\\u0dba\\u0dd2... \\u0d91\\u0dad\\u0d9a\\u0ddc\\u0da7 \\u0d9a\\u0dd1\\u0db8\\u0da7\\u0dad\\u0dca \\u0dc0\\u0da9\\u0dcf \\u0d9a\\u0dd4\\u0da9\\u0dca\\u0da9 \\u0dc0\\u0dd0\\u0daf\\u0d9c\\u0dad\\u0dca..? \",\n          \"\\u0d85\\u0dbd\\u0dca\\u0dbd\\u0db1 \\u0db8\\u0dda\\u0dc0\\u0dcf\\u0da7  \\u0db8\\u0ddc\\u0d9a\\u0daf \\u0d9a\\u0dbb\\u0db1\\u0dca\\u0db1\\u0dd9  \\u0d86\\u0dba\\u0db8  \\u0d8b\\u0db1\\u0dca\\u0da7 \\u0daf\\u0dd9\\u0db1\\u0dc0\\u0daf  \\u0db4\\u0ddc\\u0dbd\\u0dd2\\u0dc3\\u0dd2\\u0dba\\u0dd9\\u0db1\\u0dca....\"\n        ],\n        \"semantic_type\": \"\",\n        \"description\": \"\"\n      }\n    },\n    {\n      \"column\": \"Label\",\n      \"properties\": {\n        \"dtype\": \"category\",\n        \"num_unique_values\": 3,\n        \"samples\": [\n          \"Neutral\",\n          \"Negative\",\n          \"Positive\"\n        ],\n        \"semantic_type\": \"\",\n        \"description\": \"\"\n      }\n    },\n    {\n      \"column\": \"Domain\",\n      \"properties\": {\n        \"dtype\": \"category\",\n        \"num_unique_values\": 6,\n        \"samples\": [\n          \"P\",\n          \"Non\",\n          \"Ranil\"\n        ],\n        \"semantic_type\": \"\",\n        \"description\": \"\"\n      }\n    },\n    {\n      \"column\": \"About\",\n      \"properties\": {\n        \"dtype\": \"category\",\n        \"num_unique_values\": 20,\n        \"samples\": [\n          \"all\",\n          \"Gota\",\n          \"Fonseka\"\n        ],\n        \"semantic_type\": \"\",\n        \"description\": \"\"\n      }\n    },\n    {\n      \"column\": \"labels\",\n      \"properties\": {\n        \"dtype\": \"number\",\n        \"std\": 0,\n        \"min\": 0,\n        \"max\": 2,\n        \"num_unique_values\": 3,\n        \"samples\": [\n          0,\n          1,\n          2\n        ],\n        \"semantic_type\": \"\",\n        \"description\": \"\"\n      }\n    }\n  ]\n}"
            }
          },
          "metadata": {},
          "execution_count": 32
        }
      ]
    },
    {
      "cell_type": "code",
      "source": [
        "import numpy as np\n",
        "contents = [content for content in df.text]\n",
        "\n",
        "max_content_len = 0\n",
        "\n",
        "content_len = []\n",
        "for content in contents:\n",
        "    content_len.append(len(content.split()))\n",
        "    max_content_len = max(len(content.split()), max_content_len)\n",
        "\n",
        "print('Number of contents:', len(contents))\n",
        "print('Max length of the contents:', max_content_len)\n",
        "print('Mean length of the contents:', np.mean(content_len))"
      ],
      "metadata": {
        "colab": {
          "base_uri": "https://localhost:8080/"
        },
        "id": "njmwvrV113I3",
        "outputId": "36c5e021-5bbc-462e-c6ac-fca5abecda5c"
      },
      "execution_count": null,
      "outputs": [
        {
          "output_type": "stream",
          "name": "stdout",
          "text": [
            "Number of contents: 998\n",
            "Max length of the contents: 208\n",
            "Mean length of the contents: 15.22745490981964\n"
          ]
        }
      ]
    },
    {
      "cell_type": "markdown",
      "source": [
        "# Model and Training"
      ],
      "metadata": {
        "id": "uun6WbJb2H9H"
      }
    },
    {
      "cell_type": "code",
      "source": [
        "from transformers import AutoModelForSequenceClassification\n",
        "model = AutoModelForSequenceClassification.from_pretrained('NLPC-UOM/SinBERT-small', num_labels=NUM_LABELS)  #  binary classi"
      ],
      "metadata": {
        "colab": {
          "base_uri": "https://localhost:8080/",
          "height": 240,
          "referenced_widgets": [
            "0de3519a2c6f40fd85e5c3503341cb0c",
            "5a0683d32c354f62b4b5a97d470eb899",
            "602ac68cb51c460ca666d5263f4a4bcf",
            "3a84be2faf9a4454b00e4ea646f4eef3",
            "793d7d0416f64a00854856fca8cef687",
            "0fc115cf72ae473ea0ff1cea548dfe75",
            "86674094cdd340aa9f21dff44397a215",
            "73d039f188e749ee976d315986a10b61",
            "f252abbe349f4f69a73e1088d63ca527",
            "2667bad87c6545929f58e9c315d4e3f9",
            "c7ce940e6ab74b2d9368a80dcf2984e3",
            "cf8ba55c8e524b9cb77d2a85ff5c26a9",
            "e016e5d8e76d45c2a39daccf5df3abd2",
            "52b53ad92bb947bf9960482c147b48fc",
            "81d119f2fe9a4e83a3f3fa980ebb1c57",
            "a9f5f491ee4945db9e11de1840e08eb0",
            "d396e46b027f45e4adc690290d98e082",
            "4c3126bb72494461b261c97fbea2b7e6",
            "d00ec816a9c141a4a3fd6a38eef0ce1e",
            "821037b11a0641aebda0c1155337c286",
            "d1457795bbb84323913f38a3f749a5ff",
            "d22b517aad244f1da85552689357ff11"
          ]
        },
        "id": "gl6O2tCe2jTF",
        "outputId": "9a23269a-a61d-4311-ff3a-9becb64a0056"
      },
      "execution_count": null,
      "outputs": [
        {
          "output_type": "stream",
          "name": "stderr",
          "text": [
            "/usr/local/lib/python3.10/dist-packages/huggingface_hub/utils/_token.py:89: UserWarning: \n",
            "The secret `HF_TOKEN` does not exist in your Colab secrets.\n",
            "To authenticate with the Hugging Face Hub, create a token in your settings tab (https://huggingface.co/settings/tokens), set it as secret in your Google Colab and restart your session.\n",
            "You will be able to reuse this secret in all of your notebooks.\n",
            "Please note that authentication is recommended but still optional to access public models or datasets.\n",
            "  warnings.warn(\n"
          ]
        },
        {
          "output_type": "display_data",
          "data": {
            "text/plain": [
              "config.json:   0%|          | 0.00/635 [00:00<?, ?B/s]"
            ],
            "application/vnd.jupyter.widget-view+json": {
              "version_major": 2,
              "version_minor": 0,
              "model_id": "0de3519a2c6f40fd85e5c3503341cb0c"
            }
          },
          "metadata": {}
        },
        {
          "output_type": "display_data",
          "data": {
            "text/plain": [
              "pytorch_model.bin:   0%|          | 0.00/266M [00:00<?, ?B/s]"
            ],
            "application/vnd.jupyter.widget-view+json": {
              "version_major": 2,
              "version_minor": 0,
              "model_id": "cf8ba55c8e524b9cb77d2a85ff5c26a9"
            }
          },
          "metadata": {}
        },
        {
          "output_type": "stream",
          "name": "stderr",
          "text": [
            "Some weights of RobertaForSequenceClassification were not initialized from the model checkpoint at NLPC-UOM/SinBERT-small and are newly initialized: ['classifier.dense.bias', 'classifier.dense.weight', 'classifier.out_proj.bias', 'classifier.out_proj.weight']\n",
            "You should probably TRAIN this model on a down-stream task to be able to use it for predictions and inference.\n"
          ]
        }
      ]
    },
    {
      "cell_type": "code",
      "source": [
        "model.config"
      ],
      "metadata": {
        "colab": {
          "base_uri": "https://localhost:8080/"
        },
        "id": "KLgY-Smp20dc",
        "outputId": "b3339c69-81f8-47f6-c62b-b9241075f1fb"
      },
      "execution_count": null,
      "outputs": [
        {
          "output_type": "execute_result",
          "data": {
            "text/plain": [
              "RobertaConfig {\n",
              "  \"_name_or_path\": \"NLPC-UOM/SinBERT-small\",\n",
              "  \"architectures\": [\n",
              "    \"RobertaForMaskedLM\"\n",
              "  ],\n",
              "  \"attention_probs_dropout_prob\": 0.1,\n",
              "  \"bos_token_id\": 0,\n",
              "  \"classifier_dropout\": null,\n",
              "  \"eos_token_id\": 2,\n",
              "  \"hidden_act\": \"gelu\",\n",
              "  \"hidden_dropout_prob\": 0.1,\n",
              "  \"hidden_size\": 768,\n",
              "  \"id2label\": {\n",
              "    \"0\": \"LABEL_0\",\n",
              "    \"1\": \"LABEL_1\",\n",
              "    \"2\": \"LABEL_2\"\n",
              "  },\n",
              "  \"initializer_range\": 0.02,\n",
              "  \"intermediate_size\": 3072,\n",
              "  \"label2id\": {\n",
              "    \"LABEL_0\": 0,\n",
              "    \"LABEL_1\": 1,\n",
              "    \"LABEL_2\": 2\n",
              "  },\n",
              "  \"layer_norm_eps\": 1e-12,\n",
              "  \"max_position_embeddings\": 514,\n",
              "  \"model_type\": \"roberta\",\n",
              "  \"num_attention_heads\": 6,\n",
              "  \"num_hidden_layers\": 6,\n",
              "  \"pad_token_id\": 1,\n",
              "  \"position_embedding_type\": \"absolute\",\n",
              "  \"torch_dtype\": \"float32\",\n",
              "  \"transformers_version\": \"4.42.4\",\n",
              "  \"type_vocab_size\": 1,\n",
              "  \"use_cache\": true,\n",
              "  \"vocab_size\": 30000\n",
              "}"
            ]
          },
          "metadata": {},
          "execution_count": 35
        }
      ]
    },
    {
      "cell_type": "markdown",
      "source": [
        "# Train, Test, Validation Split"
      ],
      "metadata": {
        "id": "6MkUCzIb3NnB"
      }
    },
    {
      "cell_type": "code",
      "source": [
        "from sklearn.model_selection import train_test_split\n",
        "train_df, temp_df = train_test_split(df, test_size=0.2, random_state=42)\n",
        "val_df, test_df = train_test_split(temp_df, test_size=0.5, random_state=42)"
      ],
      "metadata": {
        "id": "uUv4-_7y29yC"
      },
      "execution_count": null,
      "outputs": []
    },
    {
      "cell_type": "code",
      "source": [
        "from transformers import AutoTokenizer, AutoModelForMaskedLM\n",
        "tokenizer = AutoTokenizer.from_pretrained(\"NLPC-UOM/SinBERT-small\",force_download = True)\n",
        "\n",
        "# train_encodings = tokenizer(train_texts,max_length = 512, truncation = True, padding = \"max_length\"  )\n",
        "\n",
        "# val_encodings = tokenizer(val_texts, max_length = 512,truncation = True, padding = \"max_length\" )\n",
        "\n",
        "# test_encodings = tokenizer(test_texts, max_length = 512,truncation = True, padding = \"max_length\" )\n"
      ],
      "metadata": {
        "colab": {
          "base_uri": "https://localhost:8080/",
          "height": 133,
          "referenced_widgets": [
            "06eceaf84bef4120b23f16cecf2642bf",
            "70ac8f5ad98d496eae77762d2e999939",
            "e3a73fd3301145a29531080443e40591",
            "81993621922344088dcf12505f01fc9e",
            "f9f4a3e0255b4c038f7a9ccbe08bc377",
            "3cc4d07cabfc4c15b87549b8eb4710de",
            "1a05455a59b1469c9b1095e2e94021d9",
            "ca219448423047b9896db736e1a20663",
            "bc1f39ca43b848fc9ab80eed340acc73",
            "752f06668d4f4fac9e57f911a2d699c8",
            "9557ed9cf2614f4aa1597dfce46b1a6f",
            "c6f1c9d057434da28864ff5855f73b23",
            "1fe460f15bbd405d8513925fc759f848",
            "415120123cc54438acbf39700fdefa3d",
            "598ec892f0d54fe4ae34c1b51e8f10f8",
            "0e89a4d4dc0e48c285c3051eb1889468",
            "76626ccdbefa41ae8c9cb202ad6e2973",
            "2ed25dcfe15b4775931921851d1a32b0",
            "ad96db847a7749709eb23b783b424df5",
            "236ff49702474ca5af9544ef6fd955fc",
            "90054411d2da4353aaa0bb6803edeff9",
            "07e70a0218fc48c7b7b602a15c8a3871",
            "db78453ed16f4cd9a3c8c9b702d633c5",
            "6c0e90812899409b896688cb1ebbb02d",
            "bfa57cdb492f4f19a61bb8ea7c6b97ef",
            "a6ff29d61cd944d8b3d27b22267d5b17",
            "239ffb473b6545c59ce086709a1b4fa6",
            "280ecacb3bf9486daf3089c2a41509ab",
            "ea753bd1d13e4d8e9209204e04f0cde6",
            "52abb0bd38bc47e79c03d4ab43a5d029",
            "12111ce1d38a4cd79100377741d24f89",
            "0d12e1e1629641da8ca2744b3bdd87af",
            "2ca4dbe0fe284bceb94e78549f485634"
          ]
        },
        "id": "5LLG0ROv3TRX",
        "outputId": "f947662b-470b-4751-961d-be95629748be"
      },
      "execution_count": null,
      "outputs": [
        {
          "output_type": "display_data",
          "data": {
            "text/plain": [
              "config.json:   0%|          | 0.00/635 [00:00<?, ?B/s]"
            ],
            "application/vnd.jupyter.widget-view+json": {
              "version_major": 2,
              "version_minor": 0,
              "model_id": "06eceaf84bef4120b23f16cecf2642bf"
            }
          },
          "metadata": {}
        },
        {
          "output_type": "display_data",
          "data": {
            "text/plain": [
              "vocab.json:   0%|          | 0.00/839k [00:00<?, ?B/s]"
            ],
            "application/vnd.jupyter.widget-view+json": {
              "version_major": 2,
              "version_minor": 0,
              "model_id": "c6f1c9d057434da28864ff5855f73b23"
            }
          },
          "metadata": {}
        },
        {
          "output_type": "display_data",
          "data": {
            "text/plain": [
              "merges.txt:   0%|          | 0.00/639k [00:00<?, ?B/s]"
            ],
            "application/vnd.jupyter.widget-view+json": {
              "version_major": 2,
              "version_minor": 0,
              "model_id": "db78453ed16f4cd9a3c8c9b702d633c5"
            }
          },
          "metadata": {}
        }
      ]
    },
    {
      "cell_type": "code",
      "source": [
        "import torch\n",
        "from torch.utils.data import TensorDataset, DataLoader, RandomSampler, SequentialSampler\n",
        "from tqdm import tqdm\n",
        "from sklearn.metrics import accuracy_score\n",
        "from torch.utils.data import Dataset"
      ],
      "metadata": {
        "id": "Q3KL1gFT4h5E"
      },
      "execution_count": null,
      "outputs": []
    },
    {
      "cell_type": "code",
      "source": [
        "class FakeNewsDataset(Dataset):\n",
        "    def __init__(self, data, tokenizer, max_length=208):\n",
        "        self.data = data\n",
        "        self.tokenizer = tokenizer\n",
        "        self.max_length = max_length\n",
        "\n",
        "    def __len__(self):\n",
        "        return len(self.data)\n",
        "\n",
        "    def __getitem__(self, idx):\n",
        "        text = self.data.iloc[idx]['text']\n",
        "        label = torch.tensor(self.data.iloc[idx]['labels'], dtype=torch.long)\n",
        "\n",
        "        encoding = self.tokenizer.encode_plus(\n",
        "            text,\n",
        "            add_special_tokens=True,\n",
        "            truncation=True,\n",
        "            max_length=self.max_length,\n",
        "            padding='max_length',\n",
        "            return_tensors='pt'\n",
        "        )\n",
        "\n",
        "        input_ids = encoding['input_ids'].squeeze()\n",
        "        attention_mask = encoding['attention_mask'].squeeze()\n",
        "\n",
        "        return {'input_ids': input_ids, 'attention_mask': attention_mask, 'label': label}\n",
        "\n",
        "\n",
        "# model to GPU if available\n",
        "device = torch.device(\"cuda:0\" if torch.cuda.is_available() else \"cpu\")\n",
        "model = model.to(device)\n",
        "\n",
        "# Create datasets and data loaders\n",
        "train_dataset = FakeNewsDataset(train_df, tokenizer)\n",
        "val_dataset = FakeNewsDataset(val_df, tokenizer)\n",
        "test_dataset = FakeNewsDataset(test_df, tokenizer)\n",
        "\n",
        "train_loader = DataLoader(train_dataset, batch_size=32, shuffle=True)\n",
        "val_loader = DataLoader(val_dataset, batch_size=32, shuffle=False)\n",
        "test_loader = DataLoader(test_dataset, batch_size=32, shuffle=False)\n",
        "\n",
        "# Set up optimizer and loss function\n",
        "optimizer = torch.optim.Adam(model.parameters(), lr=5e-5)\n",
        "criterion = torch.nn.CrossEntropyLoss()\n",
        "\n",
        "# Training loop\n",
        "NUM_EPOCHS = 20\n",
        "train_losses = []\n",
        "val_losses = []\n",
        "val_accuracies = []\n",
        "train_accuracies = []\n",
        "test_accuracies = []\n",
        "\n",
        "for epoch in range(NUM_EPOCHS):\n",
        "    # Training\n",
        "    model.train()\n",
        "    train_loss = 0.0\n",
        "    all_preds = []\n",
        "    all_labels = []\n",
        "\n",
        "    loop = tqdm(train_loader)\n",
        "    for batch in loop:\n",
        "        input_ids = batch['input_ids'].to(device)\n",
        "        attention_mask = batch['attention_mask'].to(device)\n",
        "        labels = batch['label'].to(device)\n",
        "\n",
        "        optimizer.zero_grad()\n",
        "        outputs = model(input_ids, attention_mask=attention_mask, labels=labels)\n",
        "        loss = outputs.loss\n",
        "        loss.backward()\n",
        "        optimizer.step()\n",
        "\n",
        "        _, preds = torch.max(outputs.logits, 1)\n",
        "\n",
        "        all_preds.extend(preds.cpu().tolist())\n",
        "        all_labels.extend(labels.cpu().tolist())\n",
        "\n",
        "        train_loss += loss.item()\n",
        "\n",
        "        loop.set_description(f\"Epoch [{epoch+1}/{NUM_EPOCHS}]\")\n",
        "        loop.set_postfix(loss=train_loss / len(loop), acc=accuracy_score(all_preds, all_labels))\n",
        "\n",
        "    # Validation\n",
        "    model.eval()\n",
        "    val_loss = 0.0\n",
        "    val_preds = []\n",
        "    val_labels = []\n",
        "\n",
        "    with torch.no_grad():\n",
        "        for batch in tqdm(val_loader):\n",
        "            input_ids = batch['input_ids'].to(device)\n",
        "            attention_mask = batch['attention_mask'].to(device)\n",
        "            labels = batch['label'].to(device)\n",
        "\n",
        "            outputs = model(input_ids, attention_mask=attention_mask, labels=labels)\n",
        "            loss = outputs.loss\n",
        "            _, preds = torch.max(outputs.logits, 1)\n",
        "\n",
        "            val_preds.extend(preds.cpu().tolist())\n",
        "            val_labels.extend(labels.cpu().tolist())\n",
        "\n",
        "            val_loss += loss.item()\n",
        "\n",
        "# training\n",
        "    model.eval()\n",
        "    test_loss = 0.0\n",
        "    all_test_preds = []\n",
        "    all_test_labels = []\n",
        "\n",
        "    with torch.no_grad():\n",
        "        for batch in test_loader:\n",
        "            input_ids = batch['input_ids'].to(device)\n",
        "            attention_mask = batch['attention_mask'].to(device)\n",
        "            labels = batch['label'].to(device)\n",
        "\n",
        "            outputs = model(input_ids, attention_mask=attention_mask, labels=labels)\n",
        "            loss = outputs.loss\n",
        "\n",
        "            _, test_preds = torch.max(outputs.logits, 1)\n",
        "\n",
        "            all_test_preds.extend(test_preds.tolist())\n",
        "            all_test_labels.extend(labels.tolist())\n",
        "\n",
        "            test_loss += loss.item()\n",
        "\n",
        "    test_accuracy = accuracy_score(all_test_labels, all_test_preds)\n",
        "    test_accuracies.append(test_accuracy)\n",
        "\n",
        "    train_acc = accuracy_score(all_preds, all_labels)\n",
        "    val_acc = accuracy_score(val_preds, val_labels)\n",
        "\n",
        "    train_losses.append(train_loss / len(train_loader))\n",
        "    val_losses.append(val_loss / len(val_loader))\n",
        "    val_accuracies.append(val_acc)\n",
        "    train_accuracies.append(train_acc)\n",
        "\n",
        "    print(f\"Epoch [{epoch+1}/{NUM_EPOCHS}] - Training Accuracy: {train_acc:.4f}, Validation Accuracy: {val_acc:.4f}\")"
      ],
      "metadata": {
        "colab": {
          "base_uri": "https://localhost:8080/"
        },
        "id": "vkw5xaLe4OrQ",
        "outputId": "b1918b08-070f-421b-abae-f8c5ef90eb3e"
      },
      "execution_count": null,
      "outputs": [
        {
          "output_type": "stream",
          "name": "stderr",
          "text": [
            "Epoch [1/20]: 100%|██████████| 25/25 [15:26<00:00, 37.05s/it, acc=0.598, loss=0.893]\n",
            "100%|██████████| 4/4 [00:39<00:00,  9.92s/it]\n"
          ]
        },
        {
          "output_type": "stream",
          "name": "stdout",
          "text": [
            "Epoch [1/20] - Training Accuracy: 0.5977, Validation Accuracy: 0.5600\n"
          ]
        },
        {
          "output_type": "stream",
          "name": "stderr",
          "text": [
            "Epoch [2/20]: 100%|██████████| 25/25 [15:14<00:00, 36.60s/it, acc=0.711, loss=0.673]\n",
            "100%|██████████| 4/4 [00:38<00:00,  9.59s/it]\n"
          ]
        },
        {
          "output_type": "stream",
          "name": "stdout",
          "text": [
            "Epoch [2/20] - Training Accuracy: 0.7105, Validation Accuracy: 0.6200\n"
          ]
        },
        {
          "output_type": "stream",
          "name": "stderr",
          "text": [
            "Epoch [3/20]: 100%|██████████| 25/25 [15:16<00:00, 36.64s/it, acc=0.852, loss=0.434]\n",
            "100%|██████████| 4/4 [00:34<00:00,  8.63s/it]\n"
          ]
        },
        {
          "output_type": "stream",
          "name": "stdout",
          "text": [
            "Epoch [3/20] - Training Accuracy: 0.8521, Validation Accuracy: 0.6200\n"
          ]
        },
        {
          "output_type": "stream",
          "name": "stderr",
          "text": [
            "Epoch [4/20]: 100%|██████████| 25/25 [15:13<00:00, 36.55s/it, acc=0.931, loss=0.227]\n",
            "100%|██████████| 4/4 [00:35<00:00,  8.96s/it]\n"
          ]
        },
        {
          "output_type": "stream",
          "name": "stdout",
          "text": [
            "Epoch [4/20] - Training Accuracy: 0.9311, Validation Accuracy: 0.6700\n"
          ]
        },
        {
          "output_type": "stream",
          "name": "stderr",
          "text": [
            "Epoch [5/20]: 100%|██████████| 25/25 [15:16<00:00, 36.65s/it, acc=0.971, loss=0.104]\n",
            "100%|██████████| 4/4 [00:36<00:00,  9.13s/it]\n"
          ]
        },
        {
          "output_type": "stream",
          "name": "stdout",
          "text": [
            "Epoch [5/20] - Training Accuracy: 0.9712, Validation Accuracy: 0.6000\n"
          ]
        },
        {
          "output_type": "stream",
          "name": "stderr",
          "text": [
            "Epoch [6/20]: 100%|██████████| 25/25 [15:10<00:00, 36.41s/it, acc=0.991, loss=0.0431]\n",
            "100%|██████████| 4/4 [00:34<00:00,  8.61s/it]\n"
          ]
        },
        {
          "output_type": "stream",
          "name": "stdout",
          "text": [
            "Epoch [6/20] - Training Accuracy: 0.9912, Validation Accuracy: 0.6000\n"
          ]
        },
        {
          "output_type": "stream",
          "name": "stderr",
          "text": [
            "Epoch [7/20]: 100%|██████████| 25/25 [15:10<00:00, 36.42s/it, acc=0.986, loss=0.043]\n",
            "100%|██████████| 4/4 [00:39<00:00,  9.95s/it]\n"
          ]
        },
        {
          "output_type": "stream",
          "name": "stdout",
          "text": [
            "Epoch [7/20] - Training Accuracy: 0.9862, Validation Accuracy: 0.5900\n"
          ]
        },
        {
          "output_type": "stream",
          "name": "stderr",
          "text": [
            "Epoch [8/20]: 100%|██████████| 25/25 [15:07<00:00, 36.32s/it, acc=0.985, loss=0.0515]\n",
            "100%|██████████| 4/4 [00:34<00:00,  8.70s/it]\n"
          ]
        },
        {
          "output_type": "stream",
          "name": "stdout",
          "text": [
            "Epoch [8/20] - Training Accuracy: 0.9850, Validation Accuracy: 0.5700\n"
          ]
        },
        {
          "output_type": "stream",
          "name": "stderr",
          "text": [
            "Epoch [9/20]: 100%|██████████| 25/25 [15:54<00:00, 38.20s/it, acc=0.995, loss=0.0202]\n",
            "100%|██████████| 4/4 [00:36<00:00,  9.12s/it]\n"
          ]
        },
        {
          "output_type": "stream",
          "name": "stdout",
          "text": [
            "Epoch [9/20] - Training Accuracy: 0.9950, Validation Accuracy: 0.5800\n"
          ]
        },
        {
          "output_type": "stream",
          "name": "stderr",
          "text": [
            "Epoch [10/20]: 100%|██████████| 25/25 [15:04<00:00, 36.17s/it, acc=0.996, loss=0.0183]\n",
            "100%|██████████| 4/4 [00:36<00:00,  9.07s/it]\n"
          ]
        },
        {
          "output_type": "stream",
          "name": "stdout",
          "text": [
            "Epoch [10/20] - Training Accuracy: 0.9962, Validation Accuracy: 0.5800\n"
          ]
        },
        {
          "output_type": "stream",
          "name": "stderr",
          "text": [
            "Epoch [11/20]: 100%|██████████| 25/25 [15:08<00:00, 36.35s/it, acc=0.997, loss=0.0143]\n",
            "100%|██████████| 4/4 [00:34<00:00,  8.63s/it]\n"
          ]
        },
        {
          "output_type": "stream",
          "name": "stdout",
          "text": [
            "Epoch [11/20] - Training Accuracy: 0.9975, Validation Accuracy: 0.5700\n"
          ]
        },
        {
          "output_type": "stream",
          "name": "stderr",
          "text": [
            "Epoch [12/20]: 100%|██████████| 25/25 [15:04<00:00, 36.17s/it, acc=0.996, loss=0.00988]\n",
            "100%|██████████| 4/4 [00:34<00:00,  8.61s/it]\n"
          ]
        },
        {
          "output_type": "stream",
          "name": "stdout",
          "text": [
            "Epoch [12/20] - Training Accuracy: 0.9962, Validation Accuracy: 0.5800\n"
          ]
        },
        {
          "output_type": "stream",
          "name": "stderr",
          "text": [
            "Epoch [13/20]: 100%|██████████| 25/25 [14:57<00:00, 35.88s/it, acc=0.996, loss=0.0105]\n",
            "100%|██████████| 4/4 [00:35<00:00,  8.91s/it]\n"
          ]
        },
        {
          "output_type": "stream",
          "name": "stdout",
          "text": [
            "Epoch [13/20] - Training Accuracy: 0.9962, Validation Accuracy: 0.5800\n"
          ]
        },
        {
          "output_type": "stream",
          "name": "stderr",
          "text": [
            "Epoch [14/20]: 100%|██████████| 25/25 [14:56<00:00, 35.85s/it, acc=0.997, loss=0.00991]\n",
            "100%|██████████| 4/4 [00:35<00:00,  8.86s/it]\n"
          ]
        },
        {
          "output_type": "stream",
          "name": "stdout",
          "text": [
            "Epoch [14/20] - Training Accuracy: 0.9975, Validation Accuracy: 0.5800\n"
          ]
        },
        {
          "output_type": "stream",
          "name": "stderr",
          "text": [
            "Epoch [15/20]: 100%|██████████| 25/25 [14:54<00:00, 35.79s/it, acc=0.997, loss=0.00885]\n",
            "100%|██████████| 4/4 [00:36<00:00,  9.10s/it]\n"
          ]
        },
        {
          "output_type": "stream",
          "name": "stdout",
          "text": [
            "Epoch [15/20] - Training Accuracy: 0.9975, Validation Accuracy: 0.6100\n"
          ]
        },
        {
          "output_type": "stream",
          "name": "stderr",
          "text": [
            "Epoch [16/20]: 100%|██████████| 25/25 [15:03<00:00, 36.15s/it, acc=0.996, loss=0.00905]\n",
            "100%|██████████| 4/4 [00:34<00:00,  8.65s/it]\n"
          ]
        },
        {
          "output_type": "stream",
          "name": "stdout",
          "text": [
            "Epoch [16/20] - Training Accuracy: 0.9962, Validation Accuracy: 0.5800\n"
          ]
        },
        {
          "output_type": "stream",
          "name": "stderr",
          "text": [
            "Epoch [17/20]: 100%|██████████| 25/25 [14:58<00:00, 35.94s/it, acc=0.996, loss=0.0088]\n",
            "100%|██████████| 4/4 [00:35<00:00,  8.84s/it]\n"
          ]
        },
        {
          "output_type": "stream",
          "name": "stdout",
          "text": [
            "Epoch [17/20] - Training Accuracy: 0.9962, Validation Accuracy: 0.5800\n"
          ]
        },
        {
          "output_type": "stream",
          "name": "stderr",
          "text": [
            "Epoch [18/20]: 100%|██████████| 25/25 [15:02<00:00, 36.12s/it, acc=0.996, loss=0.00607]\n",
            "100%|██████████| 4/4 [00:34<00:00,  8.65s/it]\n"
          ]
        },
        {
          "output_type": "stream",
          "name": "stdout",
          "text": [
            "Epoch [18/20] - Training Accuracy: 0.9962, Validation Accuracy: 0.5800\n"
          ]
        },
        {
          "output_type": "stream",
          "name": "stderr",
          "text": [
            "Epoch [19/20]: 100%|██████████| 25/25 [15:06<00:00, 36.28s/it, acc=0.996, loss=0.00934]\n",
            "100%|██████████| 4/4 [00:37<00:00,  9.44s/it]\n"
          ]
        },
        {
          "output_type": "stream",
          "name": "stdout",
          "text": [
            "Epoch [19/20] - Training Accuracy: 0.9962, Validation Accuracy: 0.6100\n"
          ]
        },
        {
          "output_type": "stream",
          "name": "stderr",
          "text": [
            "Epoch [20/20]: 100%|██████████| 25/25 [14:59<00:00, 35.97s/it, acc=0.997, loss=0.0067]\n",
            "100%|██████████| 4/4 [00:36<00:00,  9.11s/it]\n"
          ]
        },
        {
          "output_type": "stream",
          "name": "stdout",
          "text": [
            "Epoch [20/20] - Training Accuracy: 0.9975, Validation Accuracy: 0.5900\n"
          ]
        }
      ]
    },
    {
      "cell_type": "code",
      "source": [
        "torch.save(model,'model_1.pth')"
      ],
      "metadata": {
        "id": "x80F5O9Q7ob8"
      },
      "execution_count": null,
      "outputs": []
    },
    {
      "cell_type": "markdown",
      "source": [
        "# Training Accuracy and Validation Accuracy"
      ],
      "metadata": {
        "id": "QN39ZyLl78X6"
      }
    },
    {
      "cell_type": "code",
      "source": [
        "plt.figure(figsize=(10, 5))\n",
        "plt.plot(range(1, NUM_EPOCHS + 1), train_accuracies, label='Training Accuracy')\n",
        "plt.plot(range(1, NUM_EPOCHS + 1), val_accuracies, label='Validation Accuracy')\n",
        "plt.xlabel('Epoch')\n",
        "plt.ylabel('Accuracy')\n",
        "plt.ylim(0, 1)\n",
        "plt.title('Training and Validation Accuracy')\n",
        "plt.legend()\n",
        "plt.show()"
      ],
      "metadata": {
        "colab": {
          "base_uri": "https://localhost:8080/",
          "height": 507
        },
        "id": "HXwuhiCV41FR",
        "outputId": "89abeab0-2471-4d21-b59b-5a0f5e1cbd80"
      },
      "execution_count": null,
      "outputs": [
        {
          "output_type": "display_data",
          "data": {
            "text/plain": [
              "<Figure size 1000x500 with 1 Axes>"
            ],
            "image/png": "[encoded data removed]"
          },
          "metadata": {}
        }
      ]
    },
    {
      "cell_type": "markdown",
      "source": [
        "# Training and Validation Loss"
      ],
      "metadata": {
        "id": "abiFdiqx8Hfg"
      }
    },
    {
      "cell_type": "code",
      "source": [
        "plt.figure(figsize=(10, 5))\n",
        "plt.plot(train_losses, label='Training Loss')\n",
        "plt.plot(val_losses, label='Validation Loss')\n",
        "plt.xlabel('Epoch')\n",
        "plt.ylabel('Loss')\n",
        "plt.title('Training and Validation Loss')\n",
        "plt.ylim(0,1)\n",
        "plt.legend()\n",
        "plt.show()"
      ],
      "metadata": {
        "colab": {
          "base_uri": "https://localhost:8080/",
          "height": 507
        },
        "id": "5ZCFfj4Y8GSG",
        "outputId": "a6a781b5-ae30-4308-82c7-22d5246c6bb4"
      },
      "execution_count": null,
      "outputs": [
        {
          "output_type": "display_data",
          "data": {
            "text/plain": [
              "<Figure size 1000x500 with 1 Axes>"
            ],
            "image/png": "[encoded data removed]"
          },
          "metadata": {}
        }
      ]
    },
    {
      "cell_type": "code",
      "source": [
        "from sklearn.metrics import classification_report\n",
        "\n",
        "class_report = classification_report(all_test_labels, all_test_preds,target_names = ['Neutral','Negative','Positive'])\n",
        "print(class_report)"
      ],
      "metadata": {
        "colab": {
          "base_uri": "https://localhost:8080/"
        },
        "id": "tqTugq6y8QCQ",
        "outputId": "bc70c98a-77dd-474e-acef-74c349a24080"
      },
      "execution_count": null,
      "outputs": [
        {
          "output_type": "stream",
          "name": "stdout",
          "text": [
            "              precision    recall  f1-score   support\n",
            "\n",
            "     Neutral       0.48      0.39      0.43        28\n",
            "    Negative       0.71      0.77      0.74        64\n",
            "    Positive       0.38      0.38      0.38         8\n",
            "\n",
            "    accuracy                           0.63       100\n",
            "   macro avg       0.52      0.51      0.51       100\n",
            "weighted avg       0.62      0.63      0.62       100\n",
            "\n"
          ]
        }
      ]
    },
    {
      "cell_type": "code",
      "source": [
        "from sklearn.metrics import confusion_matrix\n",
        "import seaborn as sns\n",
        "\n",
        "conf_matrix = confusion_matrix(all_test_labels, all_test_preds)\n",
        "\n",
        "plt.figure(figsize=(8, 6))\n",
        "sns.heatmap(conf_matrix, annot=True, fmt='d', cmap='Blues', xticklabels=['Neutral', 'Negative', 'Positive'], yticklabels=['Neutral', 'Negative','Positive'])\n",
        "plt.title('Confusion Matrix')\n",
        "plt.xlabel('Predicted')\n",
        "plt.ylabel('Actual')\n",
        "plt.show()"
      ],
      "metadata": {
        "colab": {
          "base_uri": "https://localhost:8080/",
          "height": 584
        },
        "id": "MRYSF8jI8Rua",
        "outputId": "d6eb17c7-a205-4eeb-8b37-afaff00d9d3e"
      },
      "execution_count": null,
      "outputs": [
        {
          "output_type": "display_data",
          "data": {
            "text/plain": [
              "<Figure size 800x600 with 2 Axes>"
            ],
            "image/png": "[encoded data removed]"
          },
          "metadata": {}
        }
      ]
    },
    {
      "cell_type": "markdown",
      "source": [
        "# Test Accuracy"
      ],
      "metadata": {
        "id": "T1CXLBbg8Xdm"
      }
    },
    {
      "cell_type": "code",
      "source": [
        "model_checkpoint = \"model_1.pth\"\n",
        "model = torch.load(model_checkpoint)\n",
        "model = model.to(device)\n",
        "\n",
        "device = torch.device(\"cuda:0\" if torch.cuda.is_available() else \"cpu\")\n",
        "\n",
        "test_train_accuracies = []\n",
        "\n",
        "def calculate_accuracy(data_loader, test_model):\n",
        "    test_model.eval()\n",
        "    all_preds = []\n",
        "    all_labels = []\n",
        "\n",
        "    with torch.no_grad():\n",
        "        for batch in data_loader:\n",
        "            input_ids = batch['input_ids'].to(device)\n",
        "            attention_mask = batch['attention_mask'].to(device)\n",
        "            labels = batch['label'].to(device)\n",
        "\n",
        "            outputs = test_model(input_ids, attention_mask=attention_mask)\n",
        "            _, preds = torch.max(outputs.logits, 1)\n",
        "            all_preds.extend(preds.tolist())\n",
        "            all_labels.extend(labels.tolist())\n",
        "\n",
        "    accuracy = accuracy_score(all_labels, all_preds)\n",
        "    return accuracy\n",
        "\n",
        "test_accuracy = calculate_accuracy(test_loader, model)\n",
        "print(f\"Test Accuracy: {test_accuracy:.4f}\")\n"
      ],
      "metadata": {
        "colab": {
          "base_uri": "https://localhost:8080/"
        },
        "id": "vksm8Iwj8aTn",
        "outputId": "ac77535e-ddda-45ed-bed1-722f7f7498b5"
      },
      "execution_count": null,
      "outputs": [
        {
          "output_type": "stream",
          "name": "stdout",
          "text": [
            "Test Accuracy: 0.6970\n"
          ]
        }
      ]
    },
    {
      "cell_type": "code",
      "source": [
        "epochs = range(1, NUM_EPOCHS + 1)\n",
        "plt.plot(epochs, train_accuracies, label='Training Accuracy')\n",
        "plt.plot(epochs, test_accuracies, label='Testing Accuracy')\n",
        "plt.xlabel('Epochs')\n",
        "plt.ylabel('Accuracy')\n",
        "plt.title('Training and Testing Accuracy')\n",
        "plt.legend()\n",
        "plt.show()"
      ],
      "metadata": {
        "colab": {
          "base_uri": "https://localhost:8080/",
          "height": 492
        },
        "id": "xFKQ6k_V8ggL",
        "outputId": "c732e2ef-675d-4382-bb92-a13ee95c58fe"
      },
      "execution_count": null,
      "outputs": [
        {
          "output_type": "display_data",
          "data": {
            "text/plain": [
              "<Figure size 640x480 with 1 Axes>"
            ],
            "image/png": "[encoded data removed]"
          },
          "metadata": {}
        }
      ]
    },
    {
      "cell_type": "code",
      "source": [],
      "metadata": {
        "id": "f04u7cv4xven"
      },
      "execution_count": null,
      "outputs": []
    }
  ]
}