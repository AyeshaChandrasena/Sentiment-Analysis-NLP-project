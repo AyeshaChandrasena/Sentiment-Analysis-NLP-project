{
  "nbformat": 4,
  "nbformat_minor": 0,
  "metadata": {
    "colab": {
      "provenance": []
    },
    "kernelspec": {
      "name": "python3",
      "display_name": "Python 3"
    },
    "language_info": {
      "name": "python"
    },
    "widgets": {
      "application/vnd.jupyter.widget-state+json": {
        "e2e45816c170463aaa6c08e52ccf7d9b": {
          "model_module": "@jupyter-widgets/controls",
          "model_name": "HBoxModel",
          "model_module_version": "1.5.0",
          "state": {
            "_dom_classes": [],
            "_model_module": "@jupyter-widgets/controls",
            "_model_module_version": "1.5.0",
            "_model_name": "HBoxModel",
            "_view_count": null,
            "_view_module": "@jupyter-widgets/controls",
            "_view_module_version": "1.5.0",
            "_view_name": "HBoxView",
            "box_style": "",
            "children": [
              "IPY_MODEL_66959b056d28447d991e7a92cdf69b3c",
              "IPY_MODEL_145be2b17a024236bdbd3f7b16f61539",
              "IPY_MODEL_54b80f7dc4e04df48afcfded362d59a0"
            ],
            "layout": "IPY_MODEL_02bdcf4c06b9467c8dbf7790bab5e94e"
          }
        },
        "66959b056d28447d991e7a92cdf69b3c": {
          "model_module": "@jupyter-widgets/controls",
          "model_name": "HTMLModel",
          "model_module_version": "1.5.0",
          "state": {
            "_dom_classes": [],
            "_model_module": "@jupyter-widgets/controls",
            "_model_module_version": "1.5.0",
            "_model_name": "HTMLModel",
            "_view_count": null,
            "_view_module": "@jupyter-widgets/controls",
            "_view_module_version": "1.5.0",
            "_view_name": "HTMLView",
            "description": "",
            "description_tooltip": null,
            "layout": "IPY_MODEL_026c60fca7784e7f9eb6864dbd2d733f",
            "placeholder": "​",
            "style": "IPY_MODEL_4e0bbecf79fd4441abbedfb08c091489",
            "value": "config.json: 100%"
          }
        },
        "145be2b17a024236bdbd3f7b16f61539": {
          "model_module": "@jupyter-widgets/controls",
          "model_name": "FloatProgressModel",
          "model_module_version": "1.5.0",
          "state": {
            "_dom_classes": [],
            "_model_module": "@jupyter-widgets/controls",
            "_model_module_version": "1.5.0",
            "_model_name": "FloatProgressModel",
            "_view_count": null,
            "_view_module": "@jupyter-widgets/controls",
            "_view_module_version": "1.5.0",
            "_view_name": "ProgressView",
            "bar_style": "success",
            "description": "",
            "description_tooltip": null,
            "layout": "IPY_MODEL_8ea1b08f51874581aa64d16d61902ef9",
            "max": 635,
            "min": 0,
            "orientation": "horizontal",
            "style": "IPY_MODEL_36767f0f4a6241a3b27d69d9d2b20b54",
            "value": 635
          }
        },
        "54b80f7dc4e04df48afcfded362d59a0": {
          "model_module": "@jupyter-widgets/controls",
          "model_name": "HTMLModel",
          "model_module_version": "1.5.0",
          "state": {
            "_dom_classes": [],
            "_model_module": "@jupyter-widgets/controls",
            "_model_module_version": "1.5.0",
            "_model_name": "HTMLModel",
            "_view_count": null,
            "_view_module": "@jupyter-widgets/controls",
            "_view_module_version": "1.5.0",
            "_view_name": "HTMLView",
            "description": "",
            "description_tooltip": null,
            "layout": "IPY_MODEL_2c12b5e97e194e8a97e8ef38d21638a4",
            "placeholder": "​",
            "style": "IPY_MODEL_eeffccc679c047e680a56dbebbe74e0e",
            "value": " 635/635 [00:00&lt;00:00, 26.0kB/s]"
          }
        },
        "02bdcf4c06b9467c8dbf7790bab5e94e": {
          "model_module": "@jupyter-widgets/base",
          "model_name": "LayoutModel",
          "model_module_version": "1.2.0",
          "state": {
            "_model_module": "@jupyter-widgets/base",
            "_model_module_version": "1.2.0",
            "_model_name": "LayoutModel",
            "_view_count": null,
            "_view_module": "@jupyter-widgets/base",
            "_view_module_version": "1.2.0",
            "_view_name": "LayoutView",
            "align_content": null,
            "align_items": null,
            "align_self": null,
            "border": null,
            "bottom": null,
            "display": null,
            "flex": null,
            "flex_flow": null,
            "grid_area": null,
            "grid_auto_columns": null,
            "grid_auto_flow": null,
            "grid_auto_rows": null,
            "grid_column": null,
            "grid_gap": null,
            "grid_row": null,
            "grid_template_areas": null,
            "grid_template_columns": null,
            "grid_template_rows": null,
            "height": null,
            "justify_content": null,
            "justify_items": null,
            "left": null,
            "margin": null,
            "max_height": null,
            "max_width": null,
            "min_height": null,
            "min_width": null,
            "object_fit": null,
            "object_position": null,
            "order": null,
            "overflow": null,
            "overflow_x": null,
            "overflow_y": null,
            "padding": null,
            "right": null,
            "top": null,
            "visibility": null,
            "width": null
          }
        },
        "026c60fca7784e7f9eb6864dbd2d733f": {
          "model_module": "@jupyter-widgets/base",
          "model_name": "LayoutModel",
          "model_module_version": "1.2.0",
          "state": {
            "_model_module": "@jupyter-widgets/base",
            "_model_module_version": "1.2.0",
            "_model_name": "LayoutModel",
            "_view_count": null,
            "_view_module": "@jupyter-widgets/base",
            "_view_module_version": "1.2.0",
            "_view_name": "LayoutView",
            "align_content": null,
            "align_items": null,
            "align_self": null,
            "border": null,
            "bottom": null,
            "display": null,
            "flex": null,
            "flex_flow": null,
            "grid_area": null,
            "grid_auto_columns": null,
            "grid_auto_flow": null,
            "grid_auto_rows": null,
            "grid_column": null,
            "grid_gap": null,
            "grid_row": null,
            "grid_template_areas": null,
            "grid_template_columns": null,
            "grid_template_rows": null,
            "height": null,
            "justify_content": null,
            "justify_items": null,
            "left": null,
            "margin": null,
            "max_height": null,
            "max_width": null,
            "min_height": null,
            "min_width": null,
            "object_fit": null,
            "object_position": null,
            "order": null,
            "overflow": null,
            "overflow_x": null,
            "overflow_y": null,
            "padding": null,
            "right": null,
            "top": null,
            "visibility": null,
            "width": null
          }
        },
        "4e0bbecf79fd4441abbedfb08c091489": {
          "model_module": "@jupyter-widgets/controls",
          "model_name": "DescriptionStyleModel",
          "model_module_version": "1.5.0",
          "state": {
            "_model_module": "@jupyter-widgets/controls",
            "_model_module_version": "1.5.0",
            "_model_name": "DescriptionStyleModel",
            "_view_count": null,
            "_view_module": "@jupyter-widgets/base",
            "_view_module_version": "1.2.0",
            "_view_name": "StyleView",
            "description_width": ""
          }
        },
        "8ea1b08f51874581aa64d16d61902ef9": {
          "model_module": "@jupyter-widgets/base",
          "model_name": "LayoutModel",
          "model_module_version": "1.2.0",
          "state": {
            "_model_module": "@jupyter-widgets/base",
            "_model_module_version": "1.2.0",
            "_model_name": "LayoutModel",
            "_view_count": null,
            "_view_module": "@jupyter-widgets/base",
            "_view_module_version": "1.2.0",
            "_view_name": "LayoutView",
            "align_content": null,
            "align_items": null,
            "align_self": null,
            "border": null,
            "bottom": null,
            "display": null,
            "flex": null,
            "flex_flow": null,
            "grid_area": null,
            "grid_auto_columns": null,
            "grid_auto_flow": null,
            "grid_auto_rows": null,
            "grid_column": null,
            "grid_gap": null,
            "grid_row": null,
            "grid_template_areas": null,
            "grid_template_columns": null,
            "grid_template_rows": null,
            "height": null,
            "justify_content": null,
            "justify_items": null,
            "left": null,
            "margin": null,
            "max_height": null,
            "max_width": null,
            "min_height": null,
            "min_width": null,
            "object_fit": null,
            "object_position": null,
            "order": null,
            "overflow": null,
            "overflow_x": null,
            "overflow_y": null,
            "padding": null,
            "right": null,
            "top": null,
            "visibility": null,
            "width": null
          }
        },
        "36767f0f4a6241a3b27d69d9d2b20b54": {
          "model_module": "@jupyter-widgets/controls",
          "model_name": "ProgressStyleModel",
          "model_module_version": "1.5.0",
          "state": {
            "_model_module": "@jupyter-widgets/controls",
            "_model_module_version": "1.5.0",
            "_model_name": "ProgressStyleModel",
            "_view_count": null,
            "_view_module": "@jupyter-widgets/base",
            "_view_module_version": "1.2.0",
            "_view_name": "StyleView",
            "bar_color": null,
            "description_width": ""
          }
        },
        "2c12b5e97e194e8a97e8ef38d21638a4": {
          "model_module": "@jupyter-widgets/base",
          "model_name": "LayoutModel",
          "model_module_version": "1.2.0",
          "state": {
            "_model_module": "@jupyter-widgets/base",
            "_model_module_version": "1.2.0",
            "_model_name": "LayoutModel",
            "_view_count": null,
            "_view_module": "@jupyter-widgets/base",
            "_view_module_version": "1.2.0",
            "_view_name": "LayoutView",
            "align_content": null,
            "align_items": null,
            "align_self": null,
            "border": null,
            "bottom": null,
            "display": null,
            "flex": null,
            "flex_flow": null,
            "grid_area": null,
            "grid_auto_columns": null,
            "grid_auto_flow": null,
            "grid_auto_rows": null,
            "grid_column": null,
            "grid_gap": null,
            "grid_row": null,
            "grid_template_areas": null,
            "grid_template_columns": null,
            "grid_template_rows": null,
            "height": null,
            "justify_content": null,
            "justify_items": null,
            "left": null,
            "margin": null,
            "max_height": null,
            "max_width": null,
            "min_height": null,
            "min_width": null,
            "object_fit": null,
            "object_position": null,
            "order": null,
            "overflow": null,
            "overflow_x": null,
            "overflow_y": null,
            "padding": null,
            "right": null,
            "top": null,
            "visibility": null,
            "width": null
          }
        },
        "eeffccc679c047e680a56dbebbe74e0e": {
          "model_module": "@jupyter-widgets/controls",
          "model_name": "DescriptionStyleModel",
          "model_module_version": "1.5.0",
          "state": {
            "_model_module": "@jupyter-widgets/controls",
            "_model_module_version": "1.5.0",
            "_model_name": "DescriptionStyleModel",
            "_view_count": null,
            "_view_module": "@jupyter-widgets/base",
            "_view_module_version": "1.2.0",
            "_view_name": "StyleView",
            "description_width": ""
          }
        },
        "abae86800a974dbab4ff9742c9c38c24": {
          "model_module": "@jupyter-widgets/controls",
          "model_name": "HBoxModel",
          "model_module_version": "1.5.0",
          "state": {
            "_dom_classes": [],
            "_model_module": "@jupyter-widgets/controls",
            "_model_module_version": "1.5.0",
            "_model_name": "HBoxModel",
            "_view_count": null,
            "_view_module": "@jupyter-widgets/controls",
            "_view_module_version": "1.5.0",
            "_view_name": "HBoxView",
            "box_style": "",
            "children": [
              "IPY_MODEL_d7a934508a334d7a83d9778425f065f2",
              "IPY_MODEL_0395309cc1794dcfbc0822aa02561881",
              "IPY_MODEL_3faab676129c45258825d6a50ee5b051"
            ],
            "layout": "IPY_MODEL_d8cf8604f9e84a3dbf91fea3679d8303"
          }
        },
        "d7a934508a334d7a83d9778425f065f2": {
          "model_module": "@jupyter-widgets/controls",
          "model_name": "HTMLModel",
          "model_module_version": "1.5.0",
          "state": {
            "_dom_classes": [],
            "_model_module": "@jupyter-widgets/controls",
            "_model_module_version": "1.5.0",
            "_model_name": "HTMLModel",
            "_view_count": null,
            "_view_module": "@jupyter-widgets/controls",
            "_view_module_version": "1.5.0",
            "_view_name": "HTMLView",
            "description": "",
            "description_tooltip": null,
            "layout": "IPY_MODEL_1048e54cfd12410ea370a05ece29d282",
            "placeholder": "​",
            "style": "IPY_MODEL_3f5f1a9be54944f297b2502d724baa04",
            "value": "pytorch_model.bin: 100%"
          }
        },
        "0395309cc1794dcfbc0822aa02561881": {
          "model_module": "@jupyter-widgets/controls",
          "model_name": "FloatProgressModel",
          "model_module_version": "1.5.0",
          "state": {
            "_dom_classes": [],
            "_model_module": "@jupyter-widgets/controls",
            "_model_module_version": "1.5.0",
            "_model_name": "FloatProgressModel",
            "_view_count": null,
            "_view_module": "@jupyter-widgets/controls",
            "_view_module_version": "1.5.0",
            "_view_name": "ProgressView",
            "bar_style": "success",
            "description": "",
            "description_tooltip": null,
            "layout": "IPY_MODEL_7ab1592b44354d55bd2f97467734b9e6",
            "max": 266384939,
            "min": 0,
            "orientation": "horizontal",
            "style": "IPY_MODEL_997cce618d4a4f659f8dafa555f9d111",
            "value": 266384939
          }
        },
        "3faab676129c45258825d6a50ee5b051": {
          "model_module": "@jupyter-widgets/controls",
          "model_name": "HTMLModel",
          "model_module_version": "1.5.0",
          "state": {
            "_dom_classes": [],
            "_model_module": "@jupyter-widgets/controls",
            "_model_module_version": "1.5.0",
            "_model_name": "HTMLModel",
            "_view_count": null,
            "_view_module": "@jupyter-widgets/controls",
            "_view_module_version": "1.5.0",
            "_view_name": "HTMLView",
            "description": "",
            "description_tooltip": null,
            "layout": "IPY_MODEL_0f9df10d45dd45788dea0e67e5b7d406",
            "placeholder": "​",
            "style": "IPY_MODEL_ec2bfe54206d4446a568433a1eb5846c",
            "value": " 266M/266M [00:02&lt;00:00, 108MB/s]"
          }
        },
        "d8cf8604f9e84a3dbf91fea3679d8303": {
          "model_module": "@jupyter-widgets/base",
          "model_name": "LayoutModel",
          "model_module_version": "1.2.0",
          "state": {
            "_model_module": "@jupyter-widgets/base",
            "_model_module_version": "1.2.0",
            "_model_name": "LayoutModel",
            "_view_count": null,
            "_view_module": "@jupyter-widgets/base",
            "_view_module_version": "1.2.0",
            "_view_name": "LayoutView",
            "align_content": null,
            "align_items": null,
            "align_self": null,
            "border": null,
            "bottom": null,
            "display": null,
            "flex": null,
            "flex_flow": null,
            "grid_area": null,
            "grid_auto_columns": null,
            "grid_auto_flow": null,
            "grid_auto_rows": null,
            "grid_column": null,
            "grid_gap": null,
            "grid_row": null,
            "grid_template_areas": null,
            "grid_template_columns": null,
            "grid_template_rows": null,
            "height": null,
            "justify_content": null,
            "justify_items": null,
            "left": null,
            "margin": null,
            "max_height": null,
            "max_width": null,
            "min_height": null,
            "min_width": null,
            "object_fit": null,
            "object_position": null,
            "order": null,
            "overflow": null,
            "overflow_x": null,
            "overflow_y": null,
            "padding": null,
            "right": null,
            "top": null,
            "visibility": null,
            "width": null
          }
        },
        "1048e54cfd12410ea370a05ece29d282": {
          "model_module": "@jupyter-widgets/base",
          "model_name": "LayoutModel",
          "model_module_version": "1.2.0",
          "state": {
            "_model_module": "@jupyter-widgets/base",
            "_model_module_version": "1.2.0",
            "_model_name": "LayoutModel",
            "_view_count": null,
            "_view_module": "@jupyter-widgets/base",
            "_view_module_version": "1.2.0",
            "_view_name": "LayoutView",
            "align_content": null,
            "align_items": null,
            "align_self": null,
            "border": null,
            "bottom": null,
            "display": null,
            "flex": null,
            "flex_flow": null,
            "grid_area": null,
            "grid_auto_columns": null,
            "grid_auto_flow": null,
            "grid_auto_rows": null,
            "grid_column": null,
            "grid_gap": null,
            "grid_row": null,
            "grid_template_areas": null,
            "grid_template_columns": null,
            "grid_template_rows": null,
            "height": null,
            "justify_content": null,
            "justify_items": null,
            "left": null,
            "margin": null,
            "max_height": null,
            "max_width": null,
            "min_height": null,
            "min_width": null,
            "object_fit": null,
            "object_position": null,
            "order": null,
            "overflow": null,
            "overflow_x": null,
            "overflow_y": null,
            "padding": null,
            "right": null,
            "top": null,
            "visibility": null,
            "width": null
          }
        },
        "3f5f1a9be54944f297b2502d724baa04": {
          "model_module": "@jupyter-widgets/controls",
          "model_name": "DescriptionStyleModel",
          "model_module_version": "1.5.0",
          "state": {
            "_model_module": "@jupyter-widgets/controls",
            "_model_module_version": "1.5.0",
            "_model_name": "DescriptionStyleModel",
            "_view_count": null,
            "_view_module": "@jupyter-widgets/base",
            "_view_module_version": "1.2.0",
            "_view_name": "StyleView",
            "description_width": ""
          }
        },
        "7ab1592b44354d55bd2f97467734b9e6": {
          "model_module": "@jupyter-widgets/base",
          "model_name": "LayoutModel",
          "model_module_version": "1.2.0",
          "state": {
            "_model_module": "@jupyter-widgets/base",
            "_model_module_version": "1.2.0",
            "_model_name": "LayoutModel",
            "_view_count": null,
            "_view_module": "@jupyter-widgets/base",
            "_view_module_version": "1.2.0",
            "_view_name": "LayoutView",
            "align_content": null,
            "align_items": null,
            "align_self": null,
            "border": null,
            "bottom": null,
            "display": null,
            "flex": null,
            "flex_flow": null,
            "grid_area": null,
            "grid_auto_columns": null,
            "grid_auto_flow": null,
            "grid_auto_rows": null,
            "grid_column": null,
            "grid_gap": null,
            "grid_row": null,
            "grid_template_areas": null,
            "grid_template_columns": null,
            "grid_template_rows": null,
            "height": null,
            "justify_content": null,
            "justify_items": null,
            "left": null,
            "margin": null,
            "max_height": null,
            "max_width": null,
            "min_height": null,
            "min_width": null,
            "object_fit": null,
            "object_position": null,
            "order": null,
            "overflow": null,
            "overflow_x": null,
            "overflow_y": null,
            "padding": null,
            "right": null,
            "top": null,
            "visibility": null,
            "width": null
          }
        },
        "997cce618d4a4f659f8dafa555f9d111": {
          "model_module": "@jupyter-widgets/controls",
          "model_name": "ProgressStyleModel",
          "model_module_version": "1.5.0",
          "state": {
            "_model_module": "@jupyter-widgets/controls",
            "_model_module_version": "1.5.0",
            "_model_name": "ProgressStyleModel",
            "_view_count": null,
            "_view_module": "@jupyter-widgets/base",
            "_view_module_version": "1.2.0",
            "_view_name": "StyleView",
            "bar_color": null,
            "description_width": ""
          }
        },
        "0f9df10d45dd45788dea0e67e5b7d406": {
          "model_module": "@jupyter-widgets/base",
          "model_name": "LayoutModel",
          "model_module_version": "1.2.0",
          "state": {
            "_model_module": "@jupyter-widgets/base",
            "_model_module_version": "1.2.0",
            "_model_name": "LayoutModel",
            "_view_count": null,
            "_view_module": "@jupyter-widgets/base",
            "_view_module_version": "1.2.0",
            "_view_name": "LayoutView",
            "align_content": null,
            "align_items": null,
            "align_self": null,
            "border": null,
            "bottom": null,
            "display": null,
            "flex": null,
            "flex_flow": null,
            "grid_area": null,
            "grid_auto_columns": null,
            "grid_auto_flow": null,
            "grid_auto_rows": null,
            "grid_column": null,
            "grid_gap": null,
            "grid_row": null,
            "grid_template_areas": null,
            "grid_template_columns": null,
            "grid_template_rows": null,
            "height": null,
            "justify_content": null,
            "justify_items": null,
            "left": null,
            "margin": null,
            "max_height": null,
            "max_width": null,
            "min_height": null,
            "min_width": null,
            "object_fit": null,
            "object_position": null,
            "order": null,
            "overflow": null,
            "overflow_x": null,
            "overflow_y": null,
            "padding": null,
            "right": null,
            "top": null,
            "visibility": null,
            "width": null
          }
        },
        "ec2bfe54206d4446a568433a1eb5846c": {
          "model_module": "@jupyter-widgets/controls",
          "model_name": "DescriptionStyleModel",
          "model_module_version": "1.5.0",
          "state": {
            "_model_module": "@jupyter-widgets/controls",
            "_model_module_version": "1.5.0",
            "_model_name": "DescriptionStyleModel",
            "_view_count": null,
            "_view_module": "@jupyter-widgets/base",
            "_view_module_version": "1.2.0",
            "_view_name": "StyleView",
            "description_width": ""
          }
        },
        "71a4c19e6c3d490b84ae4754a0b76d53": {
          "model_module": "@jupyter-widgets/controls",
          "model_name": "HBoxModel",
          "model_module_version": "1.5.0",
          "state": {
            "_dom_classes": [],
            "_model_module": "@jupyter-widgets/controls",
            "_model_module_version": "1.5.0",
            "_model_name": "HBoxModel",
            "_view_count": null,
            "_view_module": "@jupyter-widgets/controls",
            "_view_module_version": "1.5.0",
            "_view_name": "HBoxView",
            "box_style": "",
            "children": [
              "IPY_MODEL_fdb7cedb1bda4d12b58c02bf9565f59a",
              "IPY_MODEL_84b3595f740c438095dc54b28c80b346",
              "IPY_MODEL_b28b3fde7ccc4231a98a433af1606140"
            ],
            "layout": "IPY_MODEL_933d14eb0a2b4b50b3d70241a5f7e103"
          }
        },
        "fdb7cedb1bda4d12b58c02bf9565f59a": {
          "model_module": "@jupyter-widgets/controls",
          "model_name": "HTMLModel",
          "model_module_version": "1.5.0",
          "state": {
            "_dom_classes": [],
            "_model_module": "@jupyter-widgets/controls",
            "_model_module_version": "1.5.0",
            "_model_name": "HTMLModel",
            "_view_count": null,
            "_view_module": "@jupyter-widgets/controls",
            "_view_module_version": "1.5.0",
            "_view_name": "HTMLView",
            "description": "",
            "description_tooltip": null,
            "layout": "IPY_MODEL_dd1cf86d1bea451e95b9d8c91f867985",
            "placeholder": "​",
            "style": "IPY_MODEL_1ff051b4d2cb42efb33c966646d5c339",
            "value": "config.json: 100%"
          }
        },
        "84b3595f740c438095dc54b28c80b346": {
          "model_module": "@jupyter-widgets/controls",
          "model_name": "FloatProgressModel",
          "model_module_version": "1.5.0",
          "state": {
            "_dom_classes": [],
            "_model_module": "@jupyter-widgets/controls",
            "_model_module_version": "1.5.0",
            "_model_name": "FloatProgressModel",
            "_view_count": null,
            "_view_module": "@jupyter-widgets/controls",
            "_view_module_version": "1.5.0",
            "_view_name": "ProgressView",
            "bar_style": "success",
            "description": "",
            "description_tooltip": null,
            "layout": "IPY_MODEL_02a3ebeb548c4ff39a9b72db0535bb42",
            "max": 635,
            "min": 0,
            "orientation": "horizontal",
            "style": "IPY_MODEL_4acbf04612cb48fb8e0afc7c5403b152",
            "value": 635
          }
        },
        "b28b3fde7ccc4231a98a433af1606140": {
          "model_module": "@jupyter-widgets/controls",
          "model_name": "HTMLModel",
          "model_module_version": "1.5.0",
          "state": {
            "_dom_classes": [],
            "_model_module": "@jupyter-widgets/controls",
            "_model_module_version": "1.5.0",
            "_model_name": "HTMLModel",
            "_view_count": null,
            "_view_module": "@jupyter-widgets/controls",
            "_view_module_version": "1.5.0",
            "_view_name": "HTMLView",
            "description": "",
            "description_tooltip": null,
            "layout": "IPY_MODEL_6981107fb352478db9b5d6b1aef5ca41",
            "placeholder": "​",
            "style": "IPY_MODEL_f661b6d90eba469baa4d8cbe46e9d01d",
            "value": " 635/635 [00:00&lt;00:00, 36.1kB/s]"
          }
        },
        "933d14eb0a2b4b50b3d70241a5f7e103": {
          "model_module": "@jupyter-widgets/base",
          "model_name": "LayoutModel",
          "model_module_version": "1.2.0",
          "state": {
            "_model_module": "@jupyter-widgets/base",
            "_model_module_version": "1.2.0",
            "_model_name": "LayoutModel",
            "_view_count": null,
            "_view_module": "@jupyter-widgets/base",
            "_view_module_version": "1.2.0",
            "_view_name": "LayoutView",
            "align_content": null,
            "align_items": null,
            "align_self": null,
            "border": null,
            "bottom": null,
            "display": null,
            "flex": null,
            "flex_flow": null,
            "grid_area": null,
            "grid_auto_columns": null,
            "grid_auto_flow": null,
            "grid_auto_rows": null,
            "grid_column": null,
            "grid_gap": null,
            "grid_row": null,
            "grid_template_areas": null,
            "grid_template_columns": null,
            "grid_template_rows": null,
            "height": null,
            "justify_content": null,
            "justify_items": null,
            "left": null,
            "margin": null,
            "max_height": null,
            "max_width": null,
            "min_height": null,
            "min_width": null,
            "object_fit": null,
            "object_position": null,
            "order": null,
            "overflow": null,
            "overflow_x": null,
            "overflow_y": null,
            "padding": null,
            "right": null,
            "top": null,
            "visibility": null,
            "width": null
          }
        },
        "dd1cf86d1bea451e95b9d8c91f867985": {
          "model_module": "@jupyter-widgets/base",
          "model_name": "LayoutModel",
          "model_module_version": "1.2.0",
          "state": {
            "_model_module": "@jupyter-widgets/base",
            "_model_module_version": "1.2.0",
            "_model_name": "LayoutModel",
            "_view_count": null,
            "_view_module": "@jupyter-widgets/base",
            "_view_module_version": "1.2.0",
            "_view_name": "LayoutView",
            "align_content": null,
            "align_items": null,
            "align_self": null,
            "border": null,
            "bottom": null,
            "display": null,
            "flex": null,
            "flex_flow": null,
            "grid_area": null,
            "grid_auto_columns": null,
            "grid_auto_flow": null,
            "grid_auto_rows": null,
            "grid_column": null,
            "grid_gap": null,
            "grid_row": null,
            "grid_template_areas": null,
            "grid_template_columns": null,
            "grid_template_rows": null,
            "height": null,
            "justify_content": null,
            "justify_items": null,
            "left": null,
            "margin": null,
            "max_height": null,
            "max_width": null,
            "min_height": null,
            "min_width": null,
            "object_fit": null,
            "object_position": null,
            "order": null,
            "overflow": null,
            "overflow_x": null,
            "overflow_y": null,
            "padding": null,
            "right": null,
            "top": null,
            "visibility": null,
            "width": null
          }
        },
        "1ff051b4d2cb42efb33c966646d5c339": {
          "model_module": "@jupyter-widgets/controls",
          "model_name": "DescriptionStyleModel",
          "model_module_version": "1.5.0",
          "state": {
            "_model_module": "@jupyter-widgets/controls",
            "_model_module_version": "1.5.0",
            "_model_name": "DescriptionStyleModel",
            "_view_count": null,
            "_view_module": "@jupyter-widgets/base",
            "_view_module_version": "1.2.0",
            "_view_name": "StyleView",
            "description_width": ""
          }
        },
        "02a3ebeb548c4ff39a9b72db0535bb42": {
          "model_module": "@jupyter-widgets/base",
          "model_name": "LayoutModel",
          "model_module_version": "1.2.0",
          "state": {
            "_model_module": "@jupyter-widgets/base",
            "_model_module_version": "1.2.0",
            "_model_name": "LayoutModel",
            "_view_count": null,
            "_view_module": "@jupyter-widgets/base",
            "_view_module_version": "1.2.0",
            "_view_name": "LayoutView",
            "align_content": null,
            "align_items": null,
            "align_self": null,
            "border": null,
            "bottom": null,
            "display": null,
            "flex": null,
            "flex_flow": null,
            "grid_area": null,
            "grid_auto_columns": null,
            "grid_auto_flow": null,
            "grid_auto_rows": null,
            "grid_column": null,
            "grid_gap": null,
            "grid_row": null,
            "grid_template_areas": null,
            "grid_template_columns": null,
            "grid_template_rows": null,
            "height": null,
            "justify_content": null,
            "justify_items": null,
            "left": null,
            "margin": null,
            "max_height": null,
            "max_width": null,
            "min_height": null,
            "min_width": null,
            "object_fit": null,
            "object_position": null,
            "order": null,
            "overflow": null,
            "overflow_x": null,
            "overflow_y": null,
            "padding": null,
            "right": null,
            "top": null,
            "visibility": null,
            "width": null
          }
        },
        "4acbf04612cb48fb8e0afc7c5403b152": {
          "model_module": "@jupyter-widgets/controls",
          "model_name": "ProgressStyleModel",
          "model_module_version": "1.5.0",
          "state": {
            "_model_module": "@jupyter-widgets/controls",
            "_model_module_version": "1.5.0",
            "_model_name": "ProgressStyleModel",
            "_view_count": null,
            "_view_module": "@jupyter-widgets/base",
            "_view_module_version": "1.2.0",
            "_view_name": "StyleView",
            "bar_color": null,
            "description_width": ""
          }
        },
        "6981107fb352478db9b5d6b1aef5ca41": {
          "model_module": "@jupyter-widgets/base",
          "model_name": "LayoutModel",
          "model_module_version": "1.2.0",
          "state": {
            "_model_module": "@jupyter-widgets/base",
            "_model_module_version": "1.2.0",
            "_model_name": "LayoutModel",
            "_view_count": null,
            "_view_module": "@jupyter-widgets/base",
            "_view_module_version": "1.2.0",
            "_view_name": "LayoutView",
            "align_content": null,
            "align_items": null,
            "align_self": null,
            "border": null,
            "bottom": null,
            "display": null,
            "flex": null,
            "flex_flow": null,
            "grid_area": null,
            "grid_auto_columns": null,
            "grid_auto_flow": null,
            "grid_auto_rows": null,
            "grid_column": null,
            "grid_gap": null,
            "grid_row": null,
            "grid_template_areas": null,
            "grid_template_columns": null,
            "grid_template_rows": null,
            "height": null,
            "justify_content": null,
            "justify_items": null,
            "left": null,
            "margin": null,
            "max_height": null,
            "max_width": null,
            "min_height": null,
            "min_width": null,
            "object_fit": null,
            "object_position": null,
            "order": null,
            "overflow": null,
            "overflow_x": null,
            "overflow_y": null,
            "padding": null,
            "right": null,
            "top": null,
            "visibility": null,
            "width": null
          }
        },
        "f661b6d90eba469baa4d8cbe46e9d01d": {
          "model_module": "@jupyter-widgets/controls",
          "model_name": "DescriptionStyleModel",
          "model_module_version": "1.5.0",
          "state": {
            "_model_module": "@jupyter-widgets/controls",
            "_model_module_version": "1.5.0",
            "_model_name": "DescriptionStyleModel",
            "_view_count": null,
            "_view_module": "@jupyter-widgets/base",
            "_view_module_version": "1.2.0",
            "_view_name": "StyleView",
            "description_width": ""
          }
        },
        "eca6b5acf1bf4a03a0952b9c9fa4189f": {
          "model_module": "@jupyter-widgets/controls",
          "model_name": "HBoxModel",
          "model_module_version": "1.5.0",
          "state": {
            "_dom_classes": [],
            "_model_module": "@jupyter-widgets/controls",
            "_model_module_version": "1.5.0",
            "_model_name": "HBoxModel",
            "_view_count": null,
            "_view_module": "@jupyter-widgets/controls",
            "_view_module_version": "1.5.0",
            "_view_name": "HBoxView",
            "box_style": "",
            "children": [
              "IPY_MODEL_6ee193f4301f4877ba256fa17c6f192d",
              "IPY_MODEL_c23b1be201784aba8cf6ed72e90c3a6e",
              "IPY_MODEL_3e11395b66714050b80f31b77570d14f"
            ],
            "layout": "IPY_MODEL_43ff4f99ccd840babf1ec15de5c7ac6a"
          }
        },
        "6ee193f4301f4877ba256fa17c6f192d": {
          "model_module": "@jupyter-widgets/controls",
          "model_name": "HTMLModel",
          "model_module_version": "1.5.0",
          "state": {
            "_dom_classes": [],
            "_model_module": "@jupyter-widgets/controls",
            "_model_module_version": "1.5.0",
            "_model_name": "HTMLModel",
            "_view_count": null,
            "_view_module": "@jupyter-widgets/controls",
            "_view_module_version": "1.5.0",
            "_view_name": "HTMLView",
            "description": "",
            "description_tooltip": null,
            "layout": "IPY_MODEL_8adcb819b6bc4634abdbb44f7afa0fc3",
            "placeholder": "​",
            "style": "IPY_MODEL_6c1c6c960a74459a94c3d77f5800d7dc",
            "value": "vocab.json: 100%"
          }
        },
        "c23b1be201784aba8cf6ed72e90c3a6e": {
          "model_module": "@jupyter-widgets/controls",
          "model_name": "FloatProgressModel",
          "model_module_version": "1.5.0",
          "state": {
            "_dom_classes": [],
            "_model_module": "@jupyter-widgets/controls",
            "_model_module_version": "1.5.0",
            "_model_name": "FloatProgressModel",
            "_view_count": null,
            "_view_module": "@jupyter-widgets/controls",
            "_view_module_version": "1.5.0",
            "_view_name": "ProgressView",
            "bar_style": "success",
            "description": "",
            "description_tooltip": null,
            "layout": "IPY_MODEL_304e487250614aa795adae1286065877",
            "max": 838898,
            "min": 0,
            "orientation": "horizontal",
            "style": "IPY_MODEL_cde6066582e749409d81fefe555ef289",
            "value": 838898
          }
        },
        "3e11395b66714050b80f31b77570d14f": {
          "model_module": "@jupyter-widgets/controls",
          "model_name": "HTMLModel",
          "model_module_version": "1.5.0",
          "state": {
            "_dom_classes": [],
            "_model_module": "@jupyter-widgets/controls",
            "_model_module_version": "1.5.0",
            "_model_name": "HTMLModel",
            "_view_count": null,
            "_view_module": "@jupyter-widgets/controls",
            "_view_module_version": "1.5.0",
            "_view_name": "HTMLView",
            "description": "",
            "description_tooltip": null,
            "layout": "IPY_MODEL_f3579f0109ab4da485eeff462a07342e",
            "placeholder": "​",
            "style": "IPY_MODEL_01f627231ee7432d84ec27df89937191",
            "value": " 839k/839k [00:00&lt;00:00, 21.5MB/s]"
          }
        },
        "43ff4f99ccd840babf1ec15de5c7ac6a": {
          "model_module": "@jupyter-widgets/base",
          "model_name": "LayoutModel",
          "model_module_version": "1.2.0",
          "state": {
            "_model_module": "@jupyter-widgets/base",
            "_model_module_version": "1.2.0",
            "_model_name": "LayoutModel",
            "_view_count": null,
            "_view_module": "@jupyter-widgets/base",
            "_view_module_version": "1.2.0",
            "_view_name": "LayoutView",
            "align_content": null,
            "align_items": null,
            "align_self": null,
            "border": null,
            "bottom": null,
            "display": null,
            "flex": null,
            "flex_flow": null,
            "grid_area": null,
            "grid_auto_columns": null,
            "grid_auto_flow": null,
            "grid_auto_rows": null,
            "grid_column": null,
            "grid_gap": null,
            "grid_row": null,
            "grid_template_areas": null,
            "grid_template_columns": null,
            "grid_template_rows": null,
            "height": null,
            "justify_content": null,
            "justify_items": null,
            "left": null,
            "margin": null,
            "max_height": null,
            "max_width": null,
            "min_height": null,
            "min_width": null,
            "object_fit": null,
            "object_position": null,
            "order": null,
            "overflow": null,
            "overflow_x": null,
            "overflow_y": null,
            "padding": null,
            "right": null,
            "top": null,
            "visibility": null,
            "width": null
          }
        },
        "8adcb819b6bc4634abdbb44f7afa0fc3": {
          "model_module": "@jupyter-widgets/base",
          "model_name": "LayoutModel",
          "model_module_version": "1.2.0",
          "state": {
            "_model_module": "@jupyter-widgets/base",
            "_model_module_version": "1.2.0",
            "_model_name": "LayoutModel",
            "_view_count": null,
            "_view_module": "@jupyter-widgets/base",
            "_view_module_version": "1.2.0",
            "_view_name": "LayoutView",
            "align_content": null,
            "align_items": null,
            "align_self": null,
            "border": null,
            "bottom": null,
            "display": null,
            "flex": null,
            "flex_flow": null,
            "grid_area": null,
            "grid_auto_columns": null,
            "grid_auto_flow": null,
            "grid_auto_rows": null,
            "grid_column": null,
            "grid_gap": null,
            "grid_row": null,
            "grid_template_areas": null,
            "grid_template_columns": null,
            "grid_template_rows": null,
            "height": null,
            "justify_content": null,
            "justify_items": null,
            "left": null,
            "margin": null,
            "max_height": null,
            "max_width": null,
            "min_height": null,
            "min_width": null,
            "object_fit": null,
            "object_position": null,
            "order": null,
            "overflow": null,
            "overflow_x": null,
            "overflow_y": null,
            "padding": null,
            "right": null,
            "top": null,
            "visibility": null,
            "width": null
          }
        },
        "6c1c6c960a74459a94c3d77f5800d7dc": {
          "model_module": "@jupyter-widgets/controls",
          "model_name": "DescriptionStyleModel",
          "model_module_version": "1.5.0",
          "state": {
            "_model_module": "@jupyter-widgets/controls",
            "_model_module_version": "1.5.0",
            "_model_name": "DescriptionStyleModel",
            "_view_count": null,
            "_view_module": "@jupyter-widgets/base",
            "_view_module_version": "1.2.0",
            "_view_name": "StyleView",
            "description_width": ""
          }
        },
        "304e487250614aa795adae1286065877": {
          "model_module": "@jupyter-widgets/base",
          "model_name": "LayoutModel",
          "model_module_version": "1.2.0",
          "state": {
            "_model_module": "@jupyter-widgets/base",
            "_model_module_version": "1.2.0",
            "_model_name": "LayoutModel",
            "_view_count": null,
            "_view_module": "@jupyter-widgets/base",
            "_view_module_version": "1.2.0",
            "_view_name": "LayoutView",
            "align_content": null,
            "align_items": null,
            "align_self": null,
            "border": null,
            "bottom": null,
            "display": null,
            "flex": null,
            "flex_flow": null,
            "grid_area": null,
            "grid_auto_columns": null,
            "grid_auto_flow": null,
            "grid_auto_rows": null,
            "grid_column": null,
            "grid_gap": null,
            "grid_row": null,
            "grid_template_areas": null,
            "grid_template_columns": null,
            "grid_template_rows": null,
            "height": null,
            "justify_content": null,
            "justify_items": null,
            "left": null,
            "margin": null,
            "max_height": null,
            "max_width": null,
            "min_height": null,
            "min_width": null,
            "object_fit": null,
            "object_position": null,
            "order": null,
            "overflow": null,
            "overflow_x": null,
            "overflow_y": null,
            "padding": null,
            "right": null,
            "top": null,
            "visibility": null,
            "width": null
          }
        },
        "cde6066582e749409d81fefe555ef289": {
          "model_module": "@jupyter-widgets/controls",
          "model_name": "ProgressStyleModel",
          "model_module_version": "1.5.0",
          "state": {
            "_model_module": "@jupyter-widgets/controls",
            "_model_module_version": "1.5.0",
            "_model_name": "ProgressStyleModel",
            "_view_count": null,
            "_view_module": "@jupyter-widgets/base",
            "_view_module_version": "1.2.0",
            "_view_name": "StyleView",
            "bar_color": null,
            "description_width": ""
          }
        },
        "f3579f0109ab4da485eeff462a07342e": {
          "model_module": "@jupyter-widgets/base",
          "model_name": "LayoutModel",
          "model_module_version": "1.2.0",
          "state": {
            "_model_module": "@jupyter-widgets/base",
            "_model_module_version": "1.2.0",
            "_model_name": "LayoutModel",
            "_view_count": null,
            "_view_module": "@jupyter-widgets/base",
            "_view_module_version": "1.2.0",
            "_view_name": "LayoutView",
            "align_content": null,
            "align_items": null,
            "align_self": null,
            "border": null,
            "bottom": null,
            "display": null,
            "flex": null,
            "flex_flow": null,
            "grid_area": null,
            "grid_auto_columns": null,
            "grid_auto_flow": null,
            "grid_auto_rows": null,
            "grid_column": null,
            "grid_gap": null,
            "grid_row": null,
            "grid_template_areas": null,
            "grid_template_columns": null,
            "grid_template_rows": null,
            "height": null,
            "justify_content": null,
            "justify_items": null,
            "left": null,
            "margin": null,
            "max_height": null,
            "max_width": null,
            "min_height": null,
            "min_width": null,
            "object_fit": null,
            "object_position": null,
            "order": null,
            "overflow": null,
            "overflow_x": null,
            "overflow_y": null,
            "padding": null,
            "right": null,
            "top": null,
            "visibility": null,
            "width": null
          }
        },
        "01f627231ee7432d84ec27df89937191": {
          "model_module": "@jupyter-widgets/controls",
          "model_name": "DescriptionStyleModel",
          "model_module_version": "1.5.0",
          "state": {
            "_model_module": "@jupyter-widgets/controls",
            "_model_module_version": "1.5.0",
            "_model_name": "DescriptionStyleModel",
            "_view_count": null,
            "_view_module": "@jupyter-widgets/base",
            "_view_module_version": "1.2.0",
            "_view_name": "StyleView",
            "description_width": ""
          }
        },
        "c20f7efde9504692a714e98b5daa3609": {
          "model_module": "@jupyter-widgets/controls",
          "model_name": "HBoxModel",
          "model_module_version": "1.5.0",
          "state": {
            "_dom_classes": [],
            "_model_module": "@jupyter-widgets/controls",
            "_model_module_version": "1.5.0",
            "_model_name": "HBoxModel",
            "_view_count": null,
            "_view_module": "@jupyter-widgets/controls",
            "_view_module_version": "1.5.0",
            "_view_name": "HBoxView",
            "box_style": "",
            "children": [
              "IPY_MODEL_598aec6cccff4b79a97d5fad53dd81b4",
              "IPY_MODEL_17e4c250f765486380a266344c50ae01",
              "IPY_MODEL_1bc7bbdc9909467cb5d056f6cbd2c1d7"
            ],
            "layout": "IPY_MODEL_9943dacb56624ecab507ac15ae2b8353"
          }
        },
        "598aec6cccff4b79a97d5fad53dd81b4": {
          "model_module": "@jupyter-widgets/controls",
          "model_name": "HTMLModel",
          "model_module_version": "1.5.0",
          "state": {
            "_dom_classes": [],
            "_model_module": "@jupyter-widgets/controls",
            "_model_module_version": "1.5.0",
            "_model_name": "HTMLModel",
            "_view_count": null,
            "_view_module": "@jupyter-widgets/controls",
            "_view_module_version": "1.5.0",
            "_view_name": "HTMLView",
            "description": "",
            "description_tooltip": null,
            "layout": "IPY_MODEL_251750591e6d46ff9c60b81a0ec6fca9",
            "placeholder": "​",
            "style": "IPY_MODEL_29d1470d7a2341429f427c00c2ff9ed4",
            "value": "merges.txt: 100%"
          }
        },
        "17e4c250f765486380a266344c50ae01": {
          "model_module": "@jupyter-widgets/controls",
          "model_name": "FloatProgressModel",
          "model_module_version": "1.5.0",
          "state": {
            "_dom_classes": [],
            "_model_module": "@jupyter-widgets/controls",
            "_model_module_version": "1.5.0",
            "_model_name": "FloatProgressModel",
            "_view_count": null,
            "_view_module": "@jupyter-widgets/controls",
            "_view_module_version": "1.5.0",
            "_view_name": "ProgressView",
            "bar_style": "success",
            "description": "",
            "description_tooltip": null,
            "layout": "IPY_MODEL_3f8c31609bca41d6943750b7b0fa24de",
            "max": 639094,
            "min": 0,
            "orientation": "horizontal",
            "style": "IPY_MODEL_7df3bf955f59459cbec14d049162c153",
            "value": 639094
          }
        },
        "1bc7bbdc9909467cb5d056f6cbd2c1d7": {
          "model_module": "@jupyter-widgets/controls",
          "model_name": "HTMLModel",
          "model_module_version": "1.5.0",
          "state": {
            "_dom_classes": [],
            "_model_module": "@jupyter-widgets/controls",
            "_model_module_version": "1.5.0",
            "_model_name": "HTMLModel",
            "_view_count": null,
            "_view_module": "@jupyter-widgets/controls",
            "_view_module_version": "1.5.0",
            "_view_name": "HTMLView",
            "description": "",
            "description_tooltip": null,
            "layout": "IPY_MODEL_47d76c49e66448488a5db67c5504e120",
            "placeholder": "​",
            "style": "IPY_MODEL_fa14bc483b424829b4fdfd9ca749c9aa",
            "value": " 639k/639k [00:00&lt;00:00, 30.7MB/s]"
          }
        },
        "9943dacb56624ecab507ac15ae2b8353": {
          "model_module": "@jupyter-widgets/base",
          "model_name": "LayoutModel",
          "model_module_version": "1.2.0",
          "state": {
            "_model_module": "@jupyter-widgets/base",
            "_model_module_version": "1.2.0",
            "_model_name": "LayoutModel",
            "_view_count": null,
            "_view_module": "@jupyter-widgets/base",
            "_view_module_version": "1.2.0",
            "_view_name": "LayoutView",
            "align_content": null,
            "align_items": null,
            "align_self": null,
            "border": null,
            "bottom": null,
            "display": null,
            "flex": null,
            "flex_flow": null,
            "grid_area": null,
            "grid_auto_columns": null,
            "grid_auto_flow": null,
            "grid_auto_rows": null,
            "grid_column": null,
            "grid_gap": null,
            "grid_row": null,
            "grid_template_areas": null,
            "grid_template_columns": null,
            "grid_template_rows": null,
            "height": null,
            "justify_content": null,
            "justify_items": null,
            "left": null,
            "margin": null,
            "max_height": null,
            "max_width": null,
            "min_height": null,
            "min_width": null,
            "object_fit": null,
            "object_position": null,
            "order": null,
            "overflow": null,
            "overflow_x": null,
            "overflow_y": null,
            "padding": null,
            "right": null,
            "top": null,
            "visibility": null,
            "width": null
          }
        },
        "251750591e6d46ff9c60b81a0ec6fca9": {
          "model_module": "@jupyter-widgets/base",
          "model_name": "LayoutModel",
          "model_module_version": "1.2.0",
          "state": {
            "_model_module": "@jupyter-widgets/base",
            "_model_module_version": "1.2.0",
            "_model_name": "LayoutModel",
            "_view_count": null,
            "_view_module": "@jupyter-widgets/base",
            "_view_module_version": "1.2.0",
            "_view_name": "LayoutView",
            "align_content": null,
            "align_items": null,
            "align_self": null,
            "border": null,
            "bottom": null,
            "display": null,
            "flex": null,
            "flex_flow": null,
            "grid_area": null,
            "grid_auto_columns": null,
            "grid_auto_flow": null,
            "grid_auto_rows": null,
            "grid_column": null,
            "grid_gap": null,
            "grid_row": null,
            "grid_template_areas": null,
            "grid_template_columns": null,
            "grid_template_rows": null,
            "height": null,
            "justify_content": null,
            "justify_items": null,
            "left": null,
            "margin": null,
            "max_height": null,
            "max_width": null,
            "min_height": null,
            "min_width": null,
            "object_fit": null,
            "object_position": null,
            "order": null,
            "overflow": null,
            "overflow_x": null,
            "overflow_y": null,
            "padding": null,
            "right": null,
            "top": null,
            "visibility": null,
            "width": null
          }
        },
        "29d1470d7a2341429f427c00c2ff9ed4": {
          "model_module": "@jupyter-widgets/controls",
          "model_name": "DescriptionStyleModel",
          "model_module_version": "1.5.0",
          "state": {
            "_model_module": "@jupyter-widgets/controls",
            "_model_module_version": "1.5.0",
            "_model_name": "DescriptionStyleModel",
            "_view_count": null,
            "_view_module": "@jupyter-widgets/base",
            "_view_module_version": "1.2.0",
            "_view_name": "StyleView",
            "description_width": ""
          }
        },
        "3f8c31609bca41d6943750b7b0fa24de": {
          "model_module": "@jupyter-widgets/base",
          "model_name": "LayoutModel",
          "model_module_version": "1.2.0",
          "state": {
            "_model_module": "@jupyter-widgets/base",
            "_model_module_version": "1.2.0",
            "_model_name": "LayoutModel",
            "_view_count": null,
            "_view_module": "@jupyter-widgets/base",
            "_view_module_version": "1.2.0",
            "_view_name": "LayoutView",
            "align_content": null,
            "align_items": null,
            "align_self": null,
            "border": null,
            "bottom": null,
            "display": null,
            "flex": null,
            "flex_flow": null,
            "grid_area": null,
            "grid_auto_columns": null,
            "grid_auto_flow": null,
            "grid_auto_rows": null,
            "grid_column": null,
            "grid_gap": null,
            "grid_row": null,
            "grid_template_areas": null,
            "grid_template_columns": null,
            "grid_template_rows": null,
            "height": null,
            "justify_content": null,
            "justify_items": null,
            "left": null,
            "margin": null,
            "max_height": null,
            "max_width": null,
            "min_height": null,
            "min_width": null,
            "object_fit": null,
            "object_position": null,
            "order": null,
            "overflow": null,
            "overflow_x": null,
            "overflow_y": null,
            "padding": null,
            "right": null,
            "top": null,
            "visibility": null,
            "width": null
          }
        },
        "7df3bf955f59459cbec14d049162c153": {
          "model_module": "@jupyter-widgets/controls",
          "model_name": "ProgressStyleModel",
          "model_module_version": "1.5.0",
          "state": {
            "_model_module": "@jupyter-widgets/controls",
            "_model_module_version": "1.5.0",
            "_model_name": "ProgressStyleModel",
            "_view_count": null,
            "_view_module": "@jupyter-widgets/base",
            "_view_module_version": "1.2.0",
            "_view_name": "StyleView",
            "bar_color": null,
            "description_width": ""
          }
        },
        "47d76c49e66448488a5db67c5504e120": {
          "model_module": "@jupyter-widgets/base",
          "model_name": "LayoutModel",
          "model_module_version": "1.2.0",
          "state": {
            "_model_module": "@jupyter-widgets/base",
            "_model_module_version": "1.2.0",
            "_model_name": "LayoutModel",
            "_view_count": null,
            "_view_module": "@jupyter-widgets/base",
            "_view_module_version": "1.2.0",
            "_view_name": "LayoutView",
            "align_content": null,
            "align_items": null,
            "align_self": null,
            "border": null,
            "bottom": null,
            "display": null,
            "flex": null,
            "flex_flow": null,
            "grid_area": null,
            "grid_auto_columns": null,
            "grid_auto_flow": null,
            "grid_auto_rows": null,
            "grid_column": null,
            "grid_gap": null,
            "grid_row": null,
            "grid_template_areas": null,
            "grid_template_columns": null,
            "grid_template_rows": null,
            "height": null,
            "justify_content": null,
            "justify_items": null,
            "left": null,
            "margin": null,
            "max_height": null,
            "max_width": null,
            "min_height": null,
            "min_width": null,
            "object_fit": null,
            "object_position": null,
            "order": null,
            "overflow": null,
            "overflow_x": null,
            "overflow_y": null,
            "padding": null,
            "right": null,
            "top": null,
            "visibility": null,
            "width": null
          }
        },
        "fa14bc483b424829b4fdfd9ca749c9aa": {
          "model_module": "@jupyter-widgets/controls",
          "model_name": "DescriptionStyleModel",
          "model_module_version": "1.5.0",
          "state": {
            "_model_module": "@jupyter-widgets/controls",
            "_model_module_version": "1.5.0",
            "_model_name": "DescriptionStyleModel",
            "_view_count": null,
            "_view_module": "@jupyter-widgets/base",
            "_view_module_version": "1.2.0",
            "_view_name": "StyleView",
            "description_width": ""
          }
        }
      }
    }
  },
  "cells": [
    {
      "cell_type": "code",
      "execution_count": null,
      "metadata": {
        "id": "M_nSF49GyXY7"
      },
      "outputs": [],
      "source": [
        "import numpy as np\n",
        "import pandas as pd\n",
        "import matplotlib.pyplot as plt\n",
        "import seaborn as sns\n",
        "import re\n",
        "import string\n",
        "import matplotlib.pyplot as plt"
      ]
    },
    {
      "cell_type": "code",
      "source": [
        "from google.colab import drive\n",
        "drive.mount('/content/drive')"
      ],
      "metadata": {
        "colab": {
          "base_uri": "https://localhost:8080/"
        },
        "id": "iOgGbKv2yc1I",
        "outputId": "4c8fa01a-fdb4-4353-bab9-66dac6eb293b"
      },
      "execution_count": null,
      "outputs": [
        {
          "output_type": "stream",
          "name": "stdout",
          "text": [
            "Drive already mounted at /content/drive; to attempt to forcibly remount, call drive.mount(\"/content/drive\", force_remount=True).\n"
          ]
        }
      ]
    },
    {
      "cell_type": "code",
      "source": [
        "%cd /content/drive/My Drive/research/Data/"
      ],
      "metadata": {
        "colab": {
          "base_uri": "https://localhost:8080/"
        },
        "id": "t9e-k1yfy2OH",
        "outputId": "b69643a5-4708-41f4-c383-3d1624698845"
      },
      "execution_count": null,
      "outputs": [
        {
          "output_type": "stream",
          "name": "stdout",
          "text": [
            "/content/drive/My Drive/research/Data\n"
          ]
        }
      ]
    },
    {
      "cell_type": "code",
      "source": [
        "df = pd.read_csv('sinhala_df_annotated.csv')"
      ],
      "metadata": {
        "id": "7fr0fpBREdyo"
      },
      "execution_count": null,
      "outputs": []
    },
    {
      "cell_type": "code",
      "source": [
        "df.info()"
      ],
      "metadata": {
        "colab": {
          "base_uri": "https://localhost:8080/"
        },
        "id": "A57GyjWxEc4x",
        "outputId": "a1a24984-4a3e-465a-b245-05cb8c27ff34"
      },
      "execution_count": null,
      "outputs": [
        {
          "output_type": "stream",
          "name": "stdout",
          "text": [
            "<class 'pandas.core.frame.DataFrame'>\n",
            "RangeIndex: 12742 entries, 0 to 12741\n",
            "Data columns (total 11 columns):\n",
            " #   Column        Non-Null Count  Dtype \n",
            "---  ------        --------------  ----- \n",
            " 0   comment_id    12742 non-null  object\n",
            " 1   video_id      12482 non-null  object\n",
            " 2   video_title   12482 non-null  object\n",
            " 3   text          12742 non-null  object\n",
            " 4   timestamp     12725 non-null  object\n",
            " 5   author        12722 non-null  object\n",
            " 6   author_email  12725 non-null  object\n",
            " 7   reply_to      261 non-null    object\n",
            " 8   Label         998 non-null    object\n",
            " 9   Domain        367 non-null    object\n",
            " 10  About         275 non-null    object\n",
            "dtypes: object(11)\n",
            "memory usage: 1.1+ MB\n"
          ]
        }
      ]
    },
    {
      "cell_type": "code",
      "source": [
        "df.Domain.value_counts()"
      ],
      "metadata": {
        "colab": {
          "base_uri": "https://localhost:8080/"
        },
        "id": "IOniFgGED0BV",
        "outputId": "625f4b20-f2e5-4ae8-9819-7a4bf24da086"
      },
      "execution_count": null,
      "outputs": [
        {
          "output_type": "execute_result",
          "data": {
            "text/plain": [
              "Domain\n",
              "P             203\n",
              "Non            88\n",
              "Political      72\n",
              "Government      2\n",
              "Ranil           1\n",
              "political       1\n",
              "Name: count, dtype: int64"
            ]
          },
          "metadata": {},
          "execution_count": 8
        }
      ]
    },
    {
      "cell_type": "code",
      "source": [
        "df.loc[df['Domain'] == 'Ranil', 'About'] = 'Ranil'\n",
        "df.loc[df['Domain'] == 'Government', 'About'] = 'Government'"
      ],
      "metadata": {
        "id": "yrURRg_rE3F-"
      },
      "execution_count": null,
      "outputs": []
    },
    {
      "cell_type": "code",
      "source": [
        "df.About.value_counts()"
      ],
      "metadata": {
        "colab": {
          "base_uri": "https://localhost:8080/"
        },
        "id": "4fHs_8XvFyrt",
        "outputId": "988f127e-a8d2-4dd4-fab5-ff8aed40b617"
      },
      "execution_count": null,
      "outputs": [
        {
          "output_type": "execute_result",
          "data": {
            "text/plain": [
              "About\n",
              "Ranil                  118\n",
              "all                     43\n",
              "Mahinda                 20\n",
              "Everyone                17\n",
              "225                     17\n",
              "Rajapaksha              17\n",
              "Government              12\n",
              "JVP                      6\n",
              "government               6\n",
              "Sajith                   5\n",
              "mahinda                  3\n",
              "Fonseka                  3\n",
              "sanath nishantha         2\n",
              "Gota                     2\n",
              "FSP                      2\n",
              "keheliya rabukwalla      1\n",
              "everyone                 1\n",
              "Everone                  1\n",
              "vimal weeravansha        1\n",
              "Anura                    1\n",
              "Name: count, dtype: int64"
            ]
          },
          "metadata": {},
          "execution_count": 10
        }
      ]
    },
    {
      "cell_type": "code",
      "source": [
        "df['Domain'] = df['Domain'].replace('P','Political')\n",
        "df['Domain'] = df['Domain'].replace('Government','Political')\n",
        "df['Domain'] = df['Domain'].replace('political','Political')\n",
        "df['Domain'] = df['Domain'].replace('Ranil','Political')\n",
        "df['Domain'] = df['Domain'].fillna('Non political')\n",
        "df['Domain'] = df['Domain'].replace('Non','Non political')"
      ],
      "metadata": {
        "id": "iYpEBuatEB9J"
      },
      "execution_count": null,
      "outputs": []
    },
    {
      "cell_type": "code",
      "source": [
        "df['About'] = df['About'].replace(['Mahinda', 'mahinda'], 'Rajapaksha')\n",
        "df['About'] = df['About'].replace(['Government', 'government'], '225')\n",
        "df['About'] = df['About'].replace(['Anura','JVP'], 'NPP')\n",
        "df['About'] = df['About'].replace(['everyone', 'Everone','Everyone','all'], '225')"
      ],
      "metadata": {
        "id": "Qt9sScVTHGQV"
      },
      "execution_count": null,
      "outputs": []
    },
    {
      "cell_type": "code",
      "source": [
        "df = df.head(1000)\n",
        "df.shape"
      ],
      "metadata": {
        "colab": {
          "base_uri": "https://localhost:8080/"
        },
        "id": "jOwLI-57FAgH",
        "outputId": "8a11bb45-57b5-456a-f3a1-0ca58f4e4fc2"
      },
      "execution_count": null,
      "outputs": [
        {
          "output_type": "execute_result",
          "data": {
            "text/plain": [
              "(1000, 11)"
            ]
          },
          "metadata": {},
          "execution_count": 13
        }
      ]
    },
    {
      "cell_type": "code",
      "source": [
        "political_df = df[df['Domain'] == 'Political']\n",
        "non_political_df = df[df['Domain'] == 'Non political']\n",
        "\n",
        "# Sample 300 entries from each category\n",
        "sampled_political = political_df.sample(n=279, random_state=42)\n",
        "sampled_non_political = non_political_df.sample(n=279, random_state=42)\n",
        "\n",
        "# Combine the sampled entries into a single DataFrame\n",
        "df = pd.concat([sampled_political, sampled_non_political])\n"
      ],
      "metadata": {
        "id": "2U47NLgcPE9v"
      },
      "execution_count": null,
      "outputs": []
    },
    {
      "cell_type": "code",
      "source": [
        "# political_df = df[df['Domain'] == 'Political']\n",
        "# non_political_df = df[df['Domain'] == 'Non political']\n",
        "\n",
        "# df = pd.concat([political_df,non_political_df])"
      ],
      "metadata": {
        "id": "N1VilEhNPWu0"
      },
      "execution_count": null,
      "outputs": []
    },
    {
      "cell_type": "markdown",
      "source": [
        "# Remove Emoticons"
      ],
      "metadata": {
        "id": "QJDWgbuQFKRs"
      }
    },
    {
      "cell_type": "code",
      "source": [
        "def remove_emoji(string):\n",
        "    emoji_pattern = re.compile(\"[\"\n",
        "                           u\"\\U0001F600-\\U0001F64F\"  # emoticons\n",
        "                           u\"\\U0001F300-\\U0001F5FF\"  # symbols & pictographs\n",
        "                           u\"\\U0001F680-\\U0001F6FF\"  # transport & map symbols\n",
        "                           u\"\\U0001F1E0-\\U0001F1FF\"  # flags (iOS)\n",
        "                           u\"\\U00002702-\\U000027B0\"\n",
        "                           u\"\\U000024C2-\\U0001F251\"\n",
        "                           \"]+\", flags=re.UNICODE)\n",
        "    return emoji_pattern.sub(r'', string)"
      ],
      "metadata": {
        "id": "fAdAhdlwFJO0"
      },
      "execution_count": null,
      "outputs": []
    },
    {
      "cell_type": "code",
      "source": [
        "df['text'] = df['text'].apply(remove_emoji)"
      ],
      "metadata": {
        "id": "K-iWm-DEFSwr"
      },
      "execution_count": null,
      "outputs": []
    },
    {
      "cell_type": "markdown",
      "source": [
        "# Remove URLs"
      ],
      "metadata": {
        "id": "joC74wB9FYw7"
      }
    },
    {
      "cell_type": "code",
      "source": [
        "def remove_urls(text):\n",
        "  return re.sub(r'''(?i)\\b((?:https?://|www\\d{0,3}[.]|[a-z0-9.\\-]+[.][a-z]{2,4}/)(?:[^\\s()<>]+|\\(([^\\s()<>]+|(\\([^\\s()<>]+\\)))*\\))+(?:\\(([^\\s()<>]+|(\\([^\\s()<>]+\\)))*\\)|[^\\s`!()\\[\\]{};:'\".,<>?«»“”‘’]))''', \" \", text)\n",
        "\n",
        "# Apply the function to the text column\n",
        "df['text'] = df['text'].apply(remove_urls)"
      ],
      "metadata": {
        "id": "WZP1hG5rFYKZ"
      },
      "execution_count": null,
      "outputs": []
    },
    {
      "cell_type": "markdown",
      "source": [
        "# Data Cleaning"
      ],
      "metadata": {
        "id": "3b1nOB3JFrKz"
      }
    },
    {
      "cell_type": "code",
      "source": [
        "def clean_data(text):\n",
        "\n",
        "    text = re.sub(r'http[s]?://(?:[a-zA-Z]|[0-9]|[$-_@.&+]|[!*\\\\(\\\\),]|(?:%[0-9a-fA-F][0-9a-fA-F]))+', '', text) # Remove URLs\n",
        "\n",
        "    text = re.sub(r'<.*?>', '', text)     # Remove HTML tags\n",
        "\n",
        "    text = re.sub(r'@\\\\w+', '', text)  # Remove mentions\n",
        "\n",
        "    text = re.sub(r'[^\\u0D80-\\u0DFF\\s]', ' ', text) # Remove non-Sinhala characters (punctuation, numbers, etc.)\n",
        "    return text\n",
        "\n",
        "df['text'] = df['text'].apply(clean_data)"
      ],
      "metadata": {
        "id": "ED9I4at-FqLD"
      },
      "execution_count": null,
      "outputs": []
    },
    {
      "cell_type": "code",
      "source": [
        "df.iloc[50:75]"
      ],
      "metadata": {
        "colab": {
          "base_uri": "https://localhost:8080/",
          "height": 1000
        },
        "id": "CMBX9YC10YMU",
        "outputId": "2f0614b2-c1be-4606-a63c-c5091122b49e",
        "collapsed": true
      },
      "execution_count": null,
      "outputs": [
        {
          "output_type": "execute_result",
          "data": {
            "text/plain": [
              "                     comment_id     video_id  \\\n",
              "391  Ugxmy0RzpsxfrOHrQ3d4AaABAg  0EhyG7sOUJ4   \n",
              "676  UgyMaSMmAN0cP8WPW_94AaABAg  4EKC4Qr7fac   \n",
              "971  UgyTbykhoimwpFC-_fF4AaABAg  PCTYPWpdhu0   \n",
              "50   UgwQVa84cLwTjle1S6F4AaABAg  9qoF3N3ldHU   \n",
              "693  UgzN9q0G3kyuXEVGhWZ4AaABAg  4EKC4Qr7fac   \n",
              "37   Ugw9HUP5DGpupmNrdXt4AaABAg  RwkdsLym57s   \n",
              "967  Ugw4QOf9OazEa2wtELJ4AaABAg  PCTYPWpdhu0   \n",
              "500  Ugyih9Hhb311E0G4r4V4AaABAg  qXeR-M9RD74   \n",
              "81   Ugy-MvpinzSSr3H-KKh4AaABAg  pKirEdEuG5k   \n",
              "360  Ugx4KkgcT6JlNsE-uFt4AaABAg  KWPHYsjep_U   \n",
              "975  UgymdgS_xRXnZZk0t994AaABAg  PCTYPWpdhu0   \n",
              "836  UgxgoL2vnaSRJ4UDjQZ4AaABAg  JM5NUws2SXM   \n",
              "85   Ugwj-8MuOanL1wLZGPV4AaABAg  KGdK9UjB9Hw   \n",
              "636  Ugz2bQu7Mad8UIw1DxF4AaABAg  5kaGQsUkbGU   \n",
              "55   UgzJgGMjF2CYWqTteq54AaABAg  ZI6XWTyVeKI   \n",
              "773  UgwCeQ-3NXgXea4J7yV4AaABAg  4EKC4Qr7fac   \n",
              "944  Ugycd-0rWUil5o5jInV4AaABAg  PCTYPWpdhu0   \n",
              "315  Ugxsq1UzWK-DRQBDKP94AaABAg  qNWzeUtMCpg   \n",
              "565  UgwScLa0YZY5OecLopJ4AaABAg  5kaGQsUkbGU   \n",
              "682  Ugw5gTglkkAKtSKIXdd4AaABAg  4EKC4Qr7fac   \n",
              "476  UgxiTFxxT0DoHiveafR4AaABAg  qXeR-M9RD74   \n",
              "620  UgyIkeAZGXIEl3WJVHB4AaABAg  5kaGQsUkbGU   \n",
              "973  Ugw3YEoDt_m-iWUad394AaABAg  PCTYPWpdhu0   \n",
              "333  UgzJt_vMyGUbKcWlrbV4AaABAg  76ejOJ84su8   \n",
              "59   Ugyga8LfFOQFeo8F3nV4AaABAg  ZI6XWTyVeKI   \n",
              "\n",
              "                                           video_title  \\\n",
              "391  පසු නොබසින කාලගුණයේ චණ්ඩ බව... මාර්ග කිහිපයක්ම...   \n",
              "676  අභිමානවත් සැමරුම මැද.. කාගේත් හදවත් සංවේදී කළ ...   \n",
              "971                     අගමැතිගෙන් විශේෂ ප්‍රකාශයක්...   \n",
              "50   සෞඛ්‍ය සටන දුරදිග යයි... \"හදිසි අවශ්‍යතා සඳහා ...   \n",
              "693  අභිමානවත් සැමරුම මැද.. කාගේත් හදවත් සංවේදී කළ ...   \n",
              "37   ජනපති ස්විට්සර්ලන්තයට... වට මේස සාකච්ඡාවක් ගැන...   \n",
              "967                     අගමැතිගෙන් විශේෂ ප්‍රකාශයක්...   \n",
              "500  ශ්‍රී ලංකාවේ දකුණු කෙළවරේ වෙනස... \"අපිට මේකෙන්...   \n",
              "81   ජනපතිට හිමිවන මැතිවරණ සහාය \"රනිල් මහත්තයාට දෙන...   \n",
              "360  ඔක්සිජන් වෙනුවට කාබන්ඩයොක්සයිඩ් ? රෝගී කාන්තාව...   \n",
              "975                     අගමැතිගෙන් විශේෂ ප්‍රකාශයක්...   \n",
              "836  සුළි කුණාටුව කොරහත් බිඳගෙන ගිය හැටි.. \"තව පොඩ්...   \n",
              "85   රාජ්‍ය සේවකයින්ව සතුටු කළ ජනපති... වෛද්‍ය සහ ආ...   \n",
              "636  ශ්‍රී ලංකාව ගැන නාසා ආයතනයෙන්.. ආන්දෝලනාත්මක හ...   \n",
              "55   දැවැන්ත සටනකට සැරසෙන සෞඛ්‍ය වෘත්තීය සමිති ජනපත...   \n",
              "773  අභිමානවත් සැමරුම මැද.. කාගේත් හදවත් සංවේදී කළ ...   \n",
              "944                     අගමැතිගෙන් විශේෂ ප්‍රකාශයක්...   \n",
              "315  විශාල අනතුරක පෙරනිමිති... \"මීට කලිනුත් මෙහෙම ව...   \n",
              "565  ශ්‍රී ලංකාව ගැන නාසා ආයතනයෙන්.. ආන්දෝලනාත්මක හ...   \n",
              "682  අභිමානවත් සැමරුම මැද.. කාගේත් හදවත් සංවේදී කළ ...   \n",
              "476  ශ්‍රී ලංකාවේ දකුණු කෙළවරේ වෙනස... \"අපිට මේකෙන්...   \n",
              "620  ශ්‍රී ලංකාව ගැන නාසා ආයතනයෙන්.. ආන්දෝලනාත්මක හ...   \n",
              "973                     අගමැතිගෙන් විශේෂ ප්‍රකාශයක්...   \n",
              "333  වැට් බද්දේ බර ජනතාවට දැනෙන හැටි මෙන්න \"හොඳම දේ...   \n",
              "59   දැවැන්ත සටනකට සැරසෙන සෞඛ්‍ය වෘත්තීය සමිති ජනපත...   \n",
              "\n",
              "                                                  text             timestamp  \\\n",
              "391  පාලකයෝ අධර්මිෂ්ඨ උනාම ස්වභාදහම වියරු වැටෙනව මේ...  2023-12-30T16:09:51Z   \n",
              "676  රණවිරුවන්ට නින්දා කල තොප්පිගල කියන්නෙ මහ කැලයක...  2023-05-21T07:26:13Z   \n",
              "971  අපේ වල අපිම කපාගන්නා අසමත් ජාතියක් අපි  යකෝ ම...  2022-07-11T16:16:30Z   \n",
              "50   සමහර ත් රිවිධ හමුදා නිලධාරීන් සාමාන් ය සෙනලු ර...  2024-01-11T14:53:38Z   \n",
              "693  අට පාස් ආමි කාරයන්ට අපි ගරු කරන්න ඕන මොකොටද කි...  2023-05-20T06:44:54Z   \n",
              "37   ඔය වගේ  සාකච්ඡා වලට කය්ය නායකයිනට  මහින්දලට කත...  2024-01-13T08:10:37Z   \n",
              "967        තවත් මිනිස්සු රවැට්ටුවා ඇති අයින්වෙිලා යන්න  2022-07-11T16:35:56Z   \n",
              "500  මෙච්චර වටිනා රටක් විනාශ කරපු දූෂිත දේශපාලනඥයන්...  2023-05-20T14:45:41Z   \n",
              "81      කොට්ට පැදුරු ටික සූදානම් කර ගෙන ඉන්න එක හොඳයි   2024-01-09T07:47:06Z   \n",
              "360  සේවකයින් ට නෙමෙයි අැගිල්ල දිගු කල යුත්තේ    ...  2023-12-30T20:12:18Z   \n",
              "975  ගරු අගමැතිතුමනි ඔබට කළා වූ ඒ ක් රියාව මම පෞද්ග...  2022-07-11T16:11:06Z   \n",
              "836    කාලකන්නි දේශපාලුවෝ ඉන්නකං කවදාවත් හරියන්නේ නැහැ  2022-12-10T21:43:33Z   \n",
              "85   පුද්ගලික අංශයේ සේවකයින්ට ටැක්ස් ගහලා   රාජ් ය ...  2024-01-09T11:18:20Z   \n",
              "636  රාජපක්ෂලා උඩින් ගිය එකට හේතුව දැන් පැහැදිලියි ...  2023-05-20T08:24:55Z   \n",
              "55   රජය හිතාමතා ප් රශ්නයක් ඇති කරන්න කල දෙයක්   එක...  2024-01-11T01:38:36Z   \n",
              "773  සජියා කැරකෙනවනම් හොදකට නෙමෙයි පුතෝ ලගදිම ලොකු ...  2023-05-19T16:08:46Z   \n",
              "944  ඒකද සිරසට ගැහුවෙ   කියපු එක අහපු නැති නිසා    ...  2022-07-11T23:24:45Z   \n",
              "315                               පාලකයන්      පාලන...  2024-01-03T09:06:20Z   \n",
              "565  පරන ආතල්  කවුරුහරි මෙවැනි නිවුස් කල්යල් බලා කැ...  2023-05-20T13:46:03Z   \n",
              "682  යුද්දේට අකුල් හෙලපු එකා අද ලොක්කා වේලා දිවි පි...  2023-05-20T12:41:17Z   \n",
              "476  කවුරුහරි මෙවැනි නිවුස් කල්යල් බලා කැට දානවා  හ...  2023-05-20T16:34:32Z   \n",
              "620                රාජපක්ෂලාගෙන් එකෙක් ගෙනවනම් හරි නෙද  2023-05-20T08:59:30Z   \n",
              "973  දිට්ට ධම්ම වේදනීය කම්ම යාපනේ පොදු පුස්තකාලේ පු...  2022-07-11T16:14:43Z   \n",
              "333  රසායනික පොහොරවලට බදු ගහන්න ඕනි බලන්නකෝ පිලිකා ...  2024-01-02T15:15:50Z   \n",
              "59   කරන්න දෙයක් නැ හැමොම අසරණයි  ඕන මගුලක් ඉවසලා ඉ...  2024-01-10T15:46:55Z   \n",
              "\n",
              "                             author              author_email reply_to  \\\n",
              "391                  @parkjisoo9555  UCXY1r-TFmET5hiE4P9bhMSQ      NaN   \n",
              "676                @anuraherath3704  UCFPQpbnSq3bkCr2CNGqJ17Q      NaN   \n",
              "971           @sunilariyarathna6482  UCSW0F3iNwvBF0GTFl4YePzQ      NaN   \n",
              "50   @thibbottakamkanamgunapala6723  UCDPTURCddfcLSXDl6T7Y-vA      NaN   \n",
              "693            @mortzkizshikesh9375  UC35s8SphxXCKxw_a6-wSVsA      NaN   \n",
              "37                       @sameeramm  UC8Q4SuumAsL3wyiFC8fdgUA      NaN   \n",
              "967              @wasantharatna2537  UC8X0qL1RxBM9aqyDwEoNmuQ      NaN   \n",
              "500               @hudsonanuhas3968  UC16kYABUbNXOVNheDqTSE2A      NaN   \n",
              "81                 @Sandakathmini01  UCBkVVYzxd1IY9_c-imV37Pw      NaN   \n",
              "360                   @rekajaya2778  UCoAhuo91jkW6Kg5u3S7YdXA      NaN   \n",
              "975               @chamilkumara2700  UC2l-JqQsx-9b5R955EvZuRQ      NaN   \n",
              "836          @pradeepwijesinghe1808  UCewpVc5xRS4EdoXAnjda6pA      NaN   \n",
              "85                       @Honokaa65  UCXC6bVbgAFTiYupxentFKPg      NaN   \n",
              "636                   @megatech6676  UCFgYJrmqddlUDehsot1YStQ      NaN   \n",
              "55         @sujeewanieratnayake4362  UCfEfNH8Grils8L4PEmUP7rg      NaN   \n",
              "773                        @e.m9476  UCodizqHDXs-V0sS6rh735nw      NaN   \n",
              "944          @ravindumaduperera4058  UCQklsKYbZF2MpWE07MyXX1w      NaN   \n",
              "315               @hashiniamaya1330  UC6FBdbJkq10KJb5WdvnA61Q      NaN   \n",
              "565               @Handy-Chanda1970  UCe2NX-WkaeA854DYOeuaSow      NaN   \n",
              "682        @anandathilakarathne9127  UC_uHvwKPzt-SJjaAELhal1g      NaN   \n",
              "476               @Handy-Chanda1970  UCe2NX-WkaeA854DYOeuaSow      NaN   \n",
              "620         @dharshananimeshana2178  UCVbDmS6kQrrMA2f4zwVQNGw      NaN   \n",
              "973                 @chamalkanchana  UC-O-ewVr21Wy5c5g68hXhPg      NaN   \n",
              "333                @erangaasela6197  UCsOc0whWZtwtPT_W-TiCVIg      NaN   \n",
              "59                          @9N9910  UC9_m-tKd5nPDCQlxn6rA3uQ      NaN   \n",
              "\n",
              "        Label     Domain       About  \n",
              "391  Negative  Political         225  \n",
              "676  Negative  Political       Ranil  \n",
              "971  positive  Political       Ranil  \n",
              "50   Negative  Political         225  \n",
              "693  Negative  Political         NPP  \n",
              "37   Positive  Political       Ranil  \n",
              "967  Negative  Political       Ranil  \n",
              "500  Negative  Political         225  \n",
              "81   Negative  Political       Ranil  \n",
              "360  Negative  Political         225  \n",
              "975  Positive  Political       Ranil  \n",
              "836  Negative  Political         225  \n",
              "85   Negative  Political       Ranil  \n",
              "636  Negative  Political  Rajapaksha  \n",
              "55   Negative  Political         225  \n",
              "773  Negative  Political      Sajith  \n",
              "944  Negative  Political       Ranil  \n",
              "315  Negative  Political         225  \n",
              "565  Negative  Political       Ranil  \n",
              "682  Negative  Political       Ranil  \n",
              "476  Negative  Political         225  \n",
              "620  Negative  Political  Rajapaksha  \n",
              "973  Negative  Political       Ranil  \n",
              "333  Negative  Political         FSP  \n",
              "59   Negative  Political       Ranil  "
            ],
            "text/html": [
              "\n",
              "  <div id=\"df-1336fe9a-dc05-4666-a9d8-7b21ce674857\" class=\"colab-df-container\">\n",
              "    <div>\n",
              "<style scoped>\n",
              "    .dataframe tbody tr th:only-of-type {\n",
              "        vertical-align: middle;\n",
              "    }\n",
              "\n",
              "    .dataframe tbody tr th {\n",
              "        vertical-align: top;\n",
              "    }\n",
              "\n",
              "    .dataframe thead th {\n",
              "        text-align: right;\n",
              "    }\n",
              "</style>\n",
              "<table border=\"1\" class=\"dataframe\">\n",
              "  <thead>\n",
              "    <tr style=\"text-align: right;\">\n",
              "      <th></th>\n",
              "      <th>comment_id</th>\n",
              "      <th>video_id</th>\n",
              "      <th>video_title</th>\n",
              "      <th>text</th>\n",
              "      <th>timestamp</th>\n",
              "      <th>author</th>\n",
              "      <th>author_email</th>\n",
              "      <th>reply_to</th>\n",
              "      <th>Label</th>\n",
              "      <th>Domain</th>\n",
              "      <th>About</th>\n",
              "    </tr>\n",
              "  </thead>\n",
              "  <tbody>\n",
              "    <tr>\n",
              "      <th>391</th>\n",
              "      <td>Ugxmy0RzpsxfrOHrQ3d4AaABAg</td>\n",
              "      <td>0EhyG7sOUJ4</td>\n",
              "      <td>පසු නොබසින කාලගුණයේ චණ්ඩ බව... මාර්ග කිහිපයක්ම...</td>\n",
              "      <td>පාලකයෝ අධර්මිෂ්ඨ උනාම ස්වභාදහම වියරු වැටෙනව මේ...</td>\n",
              "      <td>2023-12-30T16:09:51Z</td>\n",
              "      <td>@parkjisoo9555</td>\n",
              "      <td>UCXY1r-TFmET5hiE4P9bhMSQ</td>\n",
              "      <td>NaN</td>\n",
              "      <td>Negative</td>\n",
              "      <td>Political</td>\n",
              "      <td>225</td>\n",
              "    </tr>\n",
              "    <tr>\n",
              "      <th>676</th>\n",
              "      <td>UgyMaSMmAN0cP8WPW_94AaABAg</td>\n",
              "      <td>4EKC4Qr7fac</td>\n",
              "      <td>අභිමානවත් සැමරුම මැද.. කාගේත් හදවත් සංවේදී කළ ...</td>\n",
              "      <td>රණවිරුවන්ට නින්දා කල තොප්පිගල කියන්නෙ මහ කැලයක...</td>\n",
              "      <td>2023-05-21T07:26:13Z</td>\n",
              "      <td>@anuraherath3704</td>\n",
              "      <td>UCFPQpbnSq3bkCr2CNGqJ17Q</td>\n",
              "      <td>NaN</td>\n",
              "      <td>Negative</td>\n",
              "      <td>Political</td>\n",
              "      <td>Ranil</td>\n",
              "    </tr>\n",
              "    <tr>\n",
              "      <th>971</th>\n",
              "      <td>UgyTbykhoimwpFC-_fF4AaABAg</td>\n",
              "      <td>PCTYPWpdhu0</td>\n",
              "      <td>අගමැතිගෙන් විශේෂ ප්‍රකාශයක්...</td>\n",
              "      <td>අපේ වල අපිම කපාගන්නා අසමත් ජාතියක් අපි  යකෝ ම...</td>\n",
              "      <td>2022-07-11T16:16:30Z</td>\n",
              "      <td>@sunilariyarathna6482</td>\n",
              "      <td>UCSW0F3iNwvBF0GTFl4YePzQ</td>\n",
              "      <td>NaN</td>\n",
              "      <td>positive</td>\n",
              "      <td>Political</td>\n",
              "      <td>Ranil</td>\n",
              "    </tr>\n",
              "    <tr>\n",
              "      <th>50</th>\n",
              "      <td>UgwQVa84cLwTjle1S6F4AaABAg</td>\n",
              "      <td>9qoF3N3ldHU</td>\n",
              "      <td>සෞඛ්‍ය සටන දුරදිග යයි... \"හදිසි අවශ්‍යතා සඳහා ...</td>\n",
              "      <td>සමහර ත් රිවිධ හමුදා නිලධාරීන් සාමාන් ය සෙනලු ර...</td>\n",
              "      <td>2024-01-11T14:53:38Z</td>\n",
              "      <td>@thibbottakamkanamgunapala6723</td>\n",
              "      <td>UCDPTURCddfcLSXDl6T7Y-vA</td>\n",
              "      <td>NaN</td>\n",
              "      <td>Negative</td>\n",
              "      <td>Political</td>\n",
              "      <td>225</td>\n",
              "    </tr>\n",
              "    <tr>\n",
              "      <th>693</th>\n",
              "      <td>UgzN9q0G3kyuXEVGhWZ4AaABAg</td>\n",
              "      <td>4EKC4Qr7fac</td>\n",
              "      <td>අභිමානවත් සැමරුම මැද.. කාගේත් හදවත් සංවේදී කළ ...</td>\n",
              "      <td>අට පාස් ආමි කාරයන්ට අපි ගරු කරන්න ඕන මොකොටද කි...</td>\n",
              "      <td>2023-05-20T06:44:54Z</td>\n",
              "      <td>@mortzkizshikesh9375</td>\n",
              "      <td>UC35s8SphxXCKxw_a6-wSVsA</td>\n",
              "      <td>NaN</td>\n",
              "      <td>Negative</td>\n",
              "      <td>Political</td>\n",
              "      <td>NPP</td>\n",
              "    </tr>\n",
              "    <tr>\n",
              "      <th>37</th>\n",
              "      <td>Ugw9HUP5DGpupmNrdXt4AaABAg</td>\n",
              "      <td>RwkdsLym57s</td>\n",
              "      <td>ජනපති ස්විට්සර්ලන්තයට... වට මේස සාකච්ඡාවක් ගැන...</td>\n",
              "      <td>ඔය වගේ  සාකච්ඡා වලට කය්ය නායකයිනට  මහින්දලට කත...</td>\n",
              "      <td>2024-01-13T08:10:37Z</td>\n",
              "      <td>@sameeramm</td>\n",
              "      <td>UC8Q4SuumAsL3wyiFC8fdgUA</td>\n",
              "      <td>NaN</td>\n",
              "      <td>Positive</td>\n",
              "      <td>Political</td>\n",
              "      <td>Ranil</td>\n",
              "    </tr>\n",
              "    <tr>\n",
              "      <th>967</th>\n",
              "      <td>Ugw4QOf9OazEa2wtELJ4AaABAg</td>\n",
              "      <td>PCTYPWpdhu0</td>\n",
              "      <td>අගමැතිගෙන් විශේෂ ප්‍රකාශයක්...</td>\n",
              "      <td>තවත් මිනිස්සු රවැට්ටුවා ඇති අයින්වෙිලා යන්න</td>\n",
              "      <td>2022-07-11T16:35:56Z</td>\n",
              "      <td>@wasantharatna2537</td>\n",
              "      <td>UC8X0qL1RxBM9aqyDwEoNmuQ</td>\n",
              "      <td>NaN</td>\n",
              "      <td>Negative</td>\n",
              "      <td>Political</td>\n",
              "      <td>Ranil</td>\n",
              "    </tr>\n",
              "    <tr>\n",
              "      <th>500</th>\n",
              "      <td>Ugyih9Hhb311E0G4r4V4AaABAg</td>\n",
              "      <td>qXeR-M9RD74</td>\n",
              "      <td>ශ්‍රී ලංකාවේ දකුණු කෙළවරේ වෙනස... \"අපිට මේකෙන්...</td>\n",
              "      <td>මෙච්චර වටිනා රටක් විනාශ කරපු දූෂිත දේශපාලනඥයන්...</td>\n",
              "      <td>2023-05-20T14:45:41Z</td>\n",
              "      <td>@hudsonanuhas3968</td>\n",
              "      <td>UC16kYABUbNXOVNheDqTSE2A</td>\n",
              "      <td>NaN</td>\n",
              "      <td>Negative</td>\n",
              "      <td>Political</td>\n",
              "      <td>225</td>\n",
              "    </tr>\n",
              "    <tr>\n",
              "      <th>81</th>\n",
              "      <td>Ugy-MvpinzSSr3H-KKh4AaABAg</td>\n",
              "      <td>pKirEdEuG5k</td>\n",
              "      <td>ජනපතිට හිමිවන මැතිවරණ සහාය \"රනිල් මහත්තයාට දෙන...</td>\n",
              "      <td>කොට්ට පැදුරු ටික සූදානම් කර ගෙන ඉන්න එක හොඳයි</td>\n",
              "      <td>2024-01-09T07:47:06Z</td>\n",
              "      <td>@Sandakathmini01</td>\n",
              "      <td>UCBkVVYzxd1IY9_c-imV37Pw</td>\n",
              "      <td>NaN</td>\n",
              "      <td>Negative</td>\n",
              "      <td>Political</td>\n",
              "      <td>Ranil</td>\n",
              "    </tr>\n",
              "    <tr>\n",
              "      <th>360</th>\n",
              "      <td>Ugx4KkgcT6JlNsE-uFt4AaABAg</td>\n",
              "      <td>KWPHYsjep_U</td>\n",
              "      <td>ඔක්සිජන් වෙනුවට කාබන්ඩයොක්සයිඩ් ? රෝගී කාන්තාව...</td>\n",
              "      <td>සේවකයින් ට නෙමෙයි අැගිල්ල දිගු කල යුත්තේ    ...</td>\n",
              "      <td>2023-12-30T20:12:18Z</td>\n",
              "      <td>@rekajaya2778</td>\n",
              "      <td>UCoAhuo91jkW6Kg5u3S7YdXA</td>\n",
              "      <td>NaN</td>\n",
              "      <td>Negative</td>\n",
              "      <td>Political</td>\n",
              "      <td>225</td>\n",
              "    </tr>\n",
              "    <tr>\n",
              "      <th>975</th>\n",
              "      <td>UgymdgS_xRXnZZk0t994AaABAg</td>\n",
              "      <td>PCTYPWpdhu0</td>\n",
              "      <td>අගමැතිගෙන් විශේෂ ප්‍රකාශයක්...</td>\n",
              "      <td>ගරු අගමැතිතුමනි ඔබට කළා වූ ඒ ක් රියාව මම පෞද්ග...</td>\n",
              "      <td>2022-07-11T16:11:06Z</td>\n",
              "      <td>@chamilkumara2700</td>\n",
              "      <td>UC2l-JqQsx-9b5R955EvZuRQ</td>\n",
              "      <td>NaN</td>\n",
              "      <td>Positive</td>\n",
              "      <td>Political</td>\n",
              "      <td>Ranil</td>\n",
              "    </tr>\n",
              "    <tr>\n",
              "      <th>836</th>\n",
              "      <td>UgxgoL2vnaSRJ4UDjQZ4AaABAg</td>\n",
              "      <td>JM5NUws2SXM</td>\n",
              "      <td>සුළි කුණාටුව කොරහත් බිඳගෙන ගිය හැටි.. \"තව පොඩ්...</td>\n",
              "      <td>කාලකන්නි දේශපාලුවෝ ඉන්නකං කවදාවත් හරියන්නේ නැහැ</td>\n",
              "      <td>2022-12-10T21:43:33Z</td>\n",
              "      <td>@pradeepwijesinghe1808</td>\n",
              "      <td>UCewpVc5xRS4EdoXAnjda6pA</td>\n",
              "      <td>NaN</td>\n",
              "      <td>Negative</td>\n",
              "      <td>Political</td>\n",
              "      <td>225</td>\n",
              "    </tr>\n",
              "    <tr>\n",
              "      <th>85</th>\n",
              "      <td>Ugwj-8MuOanL1wLZGPV4AaABAg</td>\n",
              "      <td>KGdK9UjB9Hw</td>\n",
              "      <td>රාජ්‍ය සේවකයින්ව සතුටු කළ ජනපති... වෛද්‍ය සහ ආ...</td>\n",
              "      <td>පුද්ගලික අංශයේ සේවකයින්ට ටැක්ස් ගහලා   රාජ් ය ...</td>\n",
              "      <td>2024-01-09T11:18:20Z</td>\n",
              "      <td>@Honokaa65</td>\n",
              "      <td>UCXC6bVbgAFTiYupxentFKPg</td>\n",
              "      <td>NaN</td>\n",
              "      <td>Negative</td>\n",
              "      <td>Political</td>\n",
              "      <td>Ranil</td>\n",
              "    </tr>\n",
              "    <tr>\n",
              "      <th>636</th>\n",
              "      <td>Ugz2bQu7Mad8UIw1DxF4AaABAg</td>\n",
              "      <td>5kaGQsUkbGU</td>\n",
              "      <td>ශ්‍රී ලංකාව ගැන නාසා ආයතනයෙන්.. ආන්දෝලනාත්මක හ...</td>\n",
              "      <td>රාජපක්ෂලා උඩින් ගිය එකට හේතුව දැන් පැහැදිලියි ...</td>\n",
              "      <td>2023-05-20T08:24:55Z</td>\n",
              "      <td>@megatech6676</td>\n",
              "      <td>UCFgYJrmqddlUDehsot1YStQ</td>\n",
              "      <td>NaN</td>\n",
              "      <td>Negative</td>\n",
              "      <td>Political</td>\n",
              "      <td>Rajapaksha</td>\n",
              "    </tr>\n",
              "    <tr>\n",
              "      <th>55</th>\n",
              "      <td>UgzJgGMjF2CYWqTteq54AaABAg</td>\n",
              "      <td>ZI6XWTyVeKI</td>\n",
              "      <td>දැවැන්ත සටනකට සැරසෙන සෞඛ්‍ය වෘත්තීය සමිති ජනපත...</td>\n",
              "      <td>රජය හිතාමතා ප් රශ්නයක් ඇති කරන්න කල දෙයක්   එක...</td>\n",
              "      <td>2024-01-11T01:38:36Z</td>\n",
              "      <td>@sujeewanieratnayake4362</td>\n",
              "      <td>UCfEfNH8Grils8L4PEmUP7rg</td>\n",
              "      <td>NaN</td>\n",
              "      <td>Negative</td>\n",
              "      <td>Political</td>\n",
              "      <td>225</td>\n",
              "    </tr>\n",
              "    <tr>\n",
              "      <th>773</th>\n",
              "      <td>UgwCeQ-3NXgXea4J7yV4AaABAg</td>\n",
              "      <td>4EKC4Qr7fac</td>\n",
              "      <td>අභිමානවත් සැමරුම මැද.. කාගේත් හදවත් සංවේදී කළ ...</td>\n",
              "      <td>සජියා කැරකෙනවනම් හොදකට නෙමෙයි පුතෝ ලගදිම ලොකු ...</td>\n",
              "      <td>2023-05-19T16:08:46Z</td>\n",
              "      <td>@e.m9476</td>\n",
              "      <td>UCodizqHDXs-V0sS6rh735nw</td>\n",
              "      <td>NaN</td>\n",
              "      <td>Negative</td>\n",
              "      <td>Political</td>\n",
              "      <td>Sajith</td>\n",
              "    </tr>\n",
              "    <tr>\n",
              "      <th>944</th>\n",
              "      <td>Ugycd-0rWUil5o5jInV4AaABAg</td>\n",
              "      <td>PCTYPWpdhu0</td>\n",
              "      <td>අගමැතිගෙන් විශේෂ ප්‍රකාශයක්...</td>\n",
              "      <td>ඒකද සිරසට ගැහුවෙ   කියපු එක අහපු නැති නිසා    ...</td>\n",
              "      <td>2022-07-11T23:24:45Z</td>\n",
              "      <td>@ravindumaduperera4058</td>\n",
              "      <td>UCQklsKYbZF2MpWE07MyXX1w</td>\n",
              "      <td>NaN</td>\n",
              "      <td>Negative</td>\n",
              "      <td>Political</td>\n",
              "      <td>Ranil</td>\n",
              "    </tr>\n",
              "    <tr>\n",
              "      <th>315</th>\n",
              "      <td>Ugxsq1UzWK-DRQBDKP94AaABAg</td>\n",
              "      <td>qNWzeUtMCpg</td>\n",
              "      <td>විශාල අනතුරක පෙරනිමිති... \"මීට කලිනුත් මෙහෙම ව...</td>\n",
              "      <td>පාලකයන්      පාලන...</td>\n",
              "      <td>2024-01-03T09:06:20Z</td>\n",
              "      <td>@hashiniamaya1330</td>\n",
              "      <td>UC6FBdbJkq10KJb5WdvnA61Q</td>\n",
              "      <td>NaN</td>\n",
              "      <td>Negative</td>\n",
              "      <td>Political</td>\n",
              "      <td>225</td>\n",
              "    </tr>\n",
              "    <tr>\n",
              "      <th>565</th>\n",
              "      <td>UgwScLa0YZY5OecLopJ4AaABAg</td>\n",
              "      <td>5kaGQsUkbGU</td>\n",
              "      <td>ශ්‍රී ලංකාව ගැන නාසා ආයතනයෙන්.. ආන්දෝලනාත්මක හ...</td>\n",
              "      <td>පරන ආතල්  කවුරුහරි මෙවැනි නිවුස් කල්යල් බලා කැ...</td>\n",
              "      <td>2023-05-20T13:46:03Z</td>\n",
              "      <td>@Handy-Chanda1970</td>\n",
              "      <td>UCe2NX-WkaeA854DYOeuaSow</td>\n",
              "      <td>NaN</td>\n",
              "      <td>Negative</td>\n",
              "      <td>Political</td>\n",
              "      <td>Ranil</td>\n",
              "    </tr>\n",
              "    <tr>\n",
              "      <th>682</th>\n",
              "      <td>Ugw5gTglkkAKtSKIXdd4AaABAg</td>\n",
              "      <td>4EKC4Qr7fac</td>\n",
              "      <td>අභිමානවත් සැමරුම මැද.. කාගේත් හදවත් සංවේදී කළ ...</td>\n",
              "      <td>යුද්දේට අකුල් හෙලපු එකා අද ලොක්කා වේලා දිවි පි...</td>\n",
              "      <td>2023-05-20T12:41:17Z</td>\n",
              "      <td>@anandathilakarathne9127</td>\n",
              "      <td>UC_uHvwKPzt-SJjaAELhal1g</td>\n",
              "      <td>NaN</td>\n",
              "      <td>Negative</td>\n",
              "      <td>Political</td>\n",
              "      <td>Ranil</td>\n",
              "    </tr>\n",
              "    <tr>\n",
              "      <th>476</th>\n",
              "      <td>UgxiTFxxT0DoHiveafR4AaABAg</td>\n",
              "      <td>qXeR-M9RD74</td>\n",
              "      <td>ශ්‍රී ලංකාවේ දකුණු කෙළවරේ වෙනස... \"අපිට මේකෙන්...</td>\n",
              "      <td>කවුරුහරි මෙවැනි නිවුස් කල්යල් බලා කැට දානවා  හ...</td>\n",
              "      <td>2023-05-20T16:34:32Z</td>\n",
              "      <td>@Handy-Chanda1970</td>\n",
              "      <td>UCe2NX-WkaeA854DYOeuaSow</td>\n",
              "      <td>NaN</td>\n",
              "      <td>Negative</td>\n",
              "      <td>Political</td>\n",
              "      <td>225</td>\n",
              "    </tr>\n",
              "    <tr>\n",
              "      <th>620</th>\n",
              "      <td>UgyIkeAZGXIEl3WJVHB4AaABAg</td>\n",
              "      <td>5kaGQsUkbGU</td>\n",
              "      <td>ශ්‍රී ලංකාව ගැන නාසා ආයතනයෙන්.. ආන්දෝලනාත්මක හ...</td>\n",
              "      <td>රාජපක්ෂලාගෙන් එකෙක් ගෙනවනම් හරි නෙද</td>\n",
              "      <td>2023-05-20T08:59:30Z</td>\n",
              "      <td>@dharshananimeshana2178</td>\n",
              "      <td>UCVbDmS6kQrrMA2f4zwVQNGw</td>\n",
              "      <td>NaN</td>\n",
              "      <td>Negative</td>\n",
              "      <td>Political</td>\n",
              "      <td>Rajapaksha</td>\n",
              "    </tr>\n",
              "    <tr>\n",
              "      <th>973</th>\n",
              "      <td>Ugw3YEoDt_m-iWUad394AaABAg</td>\n",
              "      <td>PCTYPWpdhu0</td>\n",
              "      <td>අගමැතිගෙන් විශේෂ ප්‍රකාශයක්...</td>\n",
              "      <td>දිට්ට ධම්ම වේදනීය කම්ම යාපනේ පොදු පුස්තකාලේ පු...</td>\n",
              "      <td>2022-07-11T16:14:43Z</td>\n",
              "      <td>@chamalkanchana</td>\n",
              "      <td>UC-O-ewVr21Wy5c5g68hXhPg</td>\n",
              "      <td>NaN</td>\n",
              "      <td>Negative</td>\n",
              "      <td>Political</td>\n",
              "      <td>Ranil</td>\n",
              "    </tr>\n",
              "    <tr>\n",
              "      <th>333</th>\n",
              "      <td>UgzJt_vMyGUbKcWlrbV4AaABAg</td>\n",
              "      <td>76ejOJ84su8</td>\n",
              "      <td>වැට් බද්දේ බර ජනතාවට දැනෙන හැටි මෙන්න \"හොඳම දේ...</td>\n",
              "      <td>රසායනික පොහොරවලට බදු ගහන්න ඕනි බලන්නකෝ පිලිකා ...</td>\n",
              "      <td>2024-01-02T15:15:50Z</td>\n",
              "      <td>@erangaasela6197</td>\n",
              "      <td>UCsOc0whWZtwtPT_W-TiCVIg</td>\n",
              "      <td>NaN</td>\n",
              "      <td>Negative</td>\n",
              "      <td>Political</td>\n",
              "      <td>FSP</td>\n",
              "    </tr>\n",
              "    <tr>\n",
              "      <th>59</th>\n",
              "      <td>Ugyga8LfFOQFeo8F3nV4AaABAg</td>\n",
              "      <td>ZI6XWTyVeKI</td>\n",
              "      <td>දැවැන්ත සටනකට සැරසෙන සෞඛ්‍ය වෘත්තීය සමිති ජනපත...</td>\n",
              "      <td>කරන්න දෙයක් නැ හැමොම අසරණයි  ඕන මගුලක් ඉවසලා ඉ...</td>\n",
              "      <td>2024-01-10T15:46:55Z</td>\n",
              "      <td>@9N9910</td>\n",
              "      <td>UC9_m-tKd5nPDCQlxn6rA3uQ</td>\n",
              "      <td>NaN</td>\n",
              "      <td>Negative</td>\n",
              "      <td>Political</td>\n",
              "      <td>Ranil</td>\n",
              "    </tr>\n",
              "  </tbody>\n",
              "</table>\n",
              "</div>\n",
              "    <div class=\"colab-df-buttons\">\n",
              "\n",
              "  <div class=\"colab-df-container\">\n",
              "    <button class=\"colab-df-convert\" onclick=\"convertToInteractive('df-1336fe9a-dc05-4666-a9d8-7b21ce674857')\"\n",
              "            title=\"Convert this dataframe to an interactive table.\"\n",
              "            style=\"display:none;\">\n",
              "\n",
              "  <svg xmlns=\"http://www.w3.org/2000/svg\" height=\"24px\" viewBox=\"0 -960 960 960\">\n",
              "    <path d=\"M120-120v-720h720v720H120Zm60-500h600v-160H180v160Zm220 220h160v-160H400v160Zm0 220h160v-160H400v160ZM180-400h160v-160H180v160Zm440 0h160v-160H620v160ZM180-180h160v-160H180v160Zm440 0h160v-160H620v160Z\"/>\n",
              "  </svg>\n",
              "    </button>\n",
              "\n",
              "  <style>\n",
              "    .colab-df-container {\n",
              "      display:flex;\n",
              "      gap: 12px;\n",
              "    }\n",
              "\n",
              "    .colab-df-convert {\n",
              "      background-color: #E8F0FE;\n",
              "      border: none;\n",
              "      border-radius: 50%;\n",
              "      cursor: pointer;\n",
              "      display: none;\n",
              "      fill: #1967D2;\n",
              "      height: 32px;\n",
              "      padding: 0 0 0 0;\n",
              "      width: 32px;\n",
              "    }\n",
              "\n",
              "    .colab-df-convert:hover {\n",
              "      background-color: #E2EBFA;\n",
              "      box-shadow: 0px 1px 2px rgba(60, 64, 67, 0.3), 0px 1px 3px 1px rgba(60, 64, 67, 0.15);\n",
              "      fill: #174EA6;\n",
              "    }\n",
              "\n",
              "    .colab-df-buttons div {\n",
              "      margin-bottom: 4px;\n",
              "    }\n",
              "\n",
              "    [theme=dark] .colab-df-convert {\n",
              "      background-color: #3B4455;\n",
              "      fill: #D2E3FC;\n",
              "    }\n",
              "\n",
              "    [theme=dark] .colab-df-convert:hover {\n",
              "      background-color: #434B5C;\n",
              "      box-shadow: 0px 1px 3px 1px rgba(0, 0, 0, 0.15);\n",
              "      filter: drop-shadow(0px 1px 2px rgba(0, 0, 0, 0.3));\n",
              "      fill: #FFFFFF;\n",
              "    }\n",
              "  </style>\n",
              "\n",
              "    <script>\n",
              "      const buttonEl =\n",
              "        document.querySelector('#df-1336fe9a-dc05-4666-a9d8-7b21ce674857 button.colab-df-convert');\n",
              "      buttonEl.style.display =\n",
              "        google.colab.kernel.accessAllowed ? 'block' : 'none';\n",
              "\n",
              "      async function convertToInteractive(key) {\n",
              "        const element = document.querySelector('#df-1336fe9a-dc05-4666-a9d8-7b21ce674857');\n",
              "        const dataTable =\n",
              "          await google.colab.kernel.invokeFunction('convertToInteractive',\n",
              "                                                    [key], {});\n",
              "        if (!dataTable) return;\n",
              "\n",
              "        const docLinkHtml = 'Like what you see? Visit the ' +\n",
              "          '<a target=\"_blank\" href=https://colab.research.google.com/notebooks/data_table.ipynb>data table notebook</a>'\n",
              "          + ' to learn more about interactive tables.';\n",
              "        element.innerHTML = '';\n",
              "        dataTable['output_type'] = 'display_data';\n",
              "        await google.colab.output.renderOutput(dataTable, element);\n",
              "        const docLink = document.createElement('div');\n",
              "        docLink.innerHTML = docLinkHtml;\n",
              "        element.appendChild(docLink);\n",
              "      }\n",
              "    </script>\n",
              "  </div>\n",
              "\n",
              "\n",
              "<div id=\"df-83392664-50a3-41d8-844e-2b9e9085febd\">\n",
              "  <button class=\"colab-df-quickchart\" onclick=\"quickchart('df-83392664-50a3-41d8-844e-2b9e9085febd')\"\n",
              "            title=\"Suggest charts\"\n",
              "            style=\"display:none;\">\n",
              "\n",
              "<svg xmlns=\"http://www.w3.org/2000/svg\" height=\"24px\"viewBox=\"0 0 24 24\"\n",
              "     width=\"24px\">\n",
              "    <g>\n",
              "        <path d=\"M19 3H5c-1.1 0-2 .9-2 2v14c0 1.1.9 2 2 2h14c1.1 0 2-.9 2-2V5c0-1.1-.9-2-2-2zM9 17H7v-7h2v7zm4 0h-2V7h2v10zm4 0h-2v-4h2v4z\"/>\n",
              "    </g>\n",
              "</svg>\n",
              "  </button>\n",
              "\n",
              "<style>\n",
              "  .colab-df-quickchart {\n",
              "      --bg-color: #E8F0FE;\n",
              "      --fill-color: #1967D2;\n",
              "      --hover-bg-color: #E2EBFA;\n",
              "      --hover-fill-color: #174EA6;\n",
              "      --disabled-fill-color: #AAA;\n",
              "      --disabled-bg-color: #DDD;\n",
              "  }\n",
              "\n",
              "  [theme=dark] .colab-df-quickchart {\n",
              "      --bg-color: #3B4455;\n",
              "      --fill-color: #D2E3FC;\n",
              "      --hover-bg-color: #434B5C;\n",
              "      --hover-fill-color: #FFFFFF;\n",
              "      --disabled-bg-color: #3B4455;\n",
              "      --disabled-fill-color: #666;\n",
              "  }\n",
              "\n",
              "  .colab-df-quickchart {\n",
              "    background-color: var(--bg-color);\n",
              "    border: none;\n",
              "    border-radius: 50%;\n",
              "    cursor: pointer;\n",
              "    display: none;\n",
              "    fill: var(--fill-color);\n",
              "    height: 32px;\n",
              "    padding: 0;\n",
              "    width: 32px;\n",
              "  }\n",
              "\n",
              "  .colab-df-quickchart:hover {\n",
              "    background-color: var(--hover-bg-color);\n",
              "    box-shadow: 0 1px 2px rgba(60, 64, 67, 0.3), 0 1px 3px 1px rgba(60, 64, 67, 0.15);\n",
              "    fill: var(--button-hover-fill-color);\n",
              "  }\n",
              "\n",
              "  .colab-df-quickchart-complete:disabled,\n",
              "  .colab-df-quickchart-complete:disabled:hover {\n",
              "    background-color: var(--disabled-bg-color);\n",
              "    fill: var(--disabled-fill-color);\n",
              "    box-shadow: none;\n",
              "  }\n",
              "\n",
              "  .colab-df-spinner {\n",
              "    border: 2px solid var(--fill-color);\n",
              "    border-color: transparent;\n",
              "    border-bottom-color: var(--fill-color);\n",
              "    animation:\n",
              "      spin 1s steps(1) infinite;\n",
              "  }\n",
              "\n",
              "  @keyframes spin {\n",
              "    0% {\n",
              "      border-color: transparent;\n",
              "      border-bottom-color: var(--fill-color);\n",
              "      border-left-color: var(--fill-color);\n",
              "    }\n",
              "    20% {\n",
              "      border-color: transparent;\n",
              "      border-left-color: var(--fill-color);\n",
              "      border-top-color: var(--fill-color);\n",
              "    }\n",
              "    30% {\n",
              "      border-color: transparent;\n",
              "      border-left-color: var(--fill-color);\n",
              "      border-top-color: var(--fill-color);\n",
              "      border-right-color: var(--fill-color);\n",
              "    }\n",
              "    40% {\n",
              "      border-color: transparent;\n",
              "      border-right-color: var(--fill-color);\n",
              "      border-top-color: var(--fill-color);\n",
              "    }\n",
              "    60% {\n",
              "      border-color: transparent;\n",
              "      border-right-color: var(--fill-color);\n",
              "    }\n",
              "    80% {\n",
              "      border-color: transparent;\n",
              "      border-right-color: var(--fill-color);\n",
              "      border-bottom-color: var(--fill-color);\n",
              "    }\n",
              "    90% {\n",
              "      border-color: transparent;\n",
              "      border-bottom-color: var(--fill-color);\n",
              "    }\n",
              "  }\n",
              "</style>\n",
              "\n",
              "  <script>\n",
              "    async function quickchart(key) {\n",
              "      const quickchartButtonEl =\n",
              "        document.querySelector('#' + key + ' button');\n",
              "      quickchartButtonEl.disabled = true;  // To prevent multiple clicks.\n",
              "      quickchartButtonEl.classList.add('colab-df-spinner');\n",
              "      try {\n",
              "        const charts = await google.colab.kernel.invokeFunction(\n",
              "            'suggestCharts', [key], {});\n",
              "      } catch (error) {\n",
              "        console.error('Error during call to suggestCharts:', error);\n",
              "      }\n",
              "      quickchartButtonEl.classList.remove('colab-df-spinner');\n",
              "      quickchartButtonEl.classList.add('colab-df-quickchart-complete');\n",
              "    }\n",
              "    (() => {\n",
              "      let quickchartButtonEl =\n",
              "        document.querySelector('#df-83392664-50a3-41d8-844e-2b9e9085febd button');\n",
              "      quickchartButtonEl.style.display =\n",
              "        google.colab.kernel.accessAllowed ? 'block' : 'none';\n",
              "    })();\n",
              "  </script>\n",
              "</div>\n",
              "\n",
              "    </div>\n",
              "  </div>\n"
            ],
            "application/vnd.google.colaboratory.intrinsic+json": {
              "type": "dataframe",
              "repr_error": "0"
            }
          },
          "metadata": {},
          "execution_count": 20
        }
      ]
    },
    {
      "cell_type": "code",
      "source": [
        "columns = ['text','Label','Domain','About']\n",
        "\n",
        "df = df[columns]"
      ],
      "metadata": {
        "id": "Mqu-54md0L8M"
      },
      "execution_count": null,
      "outputs": []
    },
    {
      "cell_type": "code",
      "source": [
        "df = df.head(1000)"
      ],
      "metadata": {
        "id": "NNosnjX90vWk"
      },
      "execution_count": null,
      "outputs": []
    },
    {
      "cell_type": "code",
      "source": [
        "df.iloc[12:20]"
      ],
      "metadata": {
        "colab": {
          "base_uri": "https://localhost:8080/",
          "height": 320
        },
        "id": "I4bfuuWD0110",
        "outputId": "267dde77-7d74-430a-d34f-1d2d1556a48b"
      },
      "execution_count": null,
      "outputs": [
        {
          "output_type": "execute_result",
          "data": {
            "text/plain": [
              "                                                  text     Label     Domain  \\\n",
              "884  මේ  සිද්ධිය පෙන්නලා ලෝක බැංවෙන් නය ආදාර ඉල්ලා ...  Negative  Political   \n",
              "420                 එහෙනම් ඕකත් විකුණපන් කොහෙට හරි      Negative  Political   \n",
              "776   ලංකාවට විශාලම හානිය කරේ ප් රභාකරන් සහ රාජපක්ෂවරු  Negative  Political   \n",
              "472  මේක මුවාවෙන් දකුණ විකුණන්න දන්නෙ නෑ යන්නෙ  එහෙ...  Negative  Political   \n",
              "774    අභිමානවත් නායකයා      රනිල් ජනපති කොහොමද         Positive  Political   \n",
              "259             දේශාපාලුවෝ අතට ගියොත් ආයේ ඕවා රට ඇතුලේ  Negative  Political   \n",
              "790  ආබාධිත රණවිරුවන්ව බලාකියා ගන්ඩ තිබුනු සුනාමි ආ...  Negative  Political   \n",
              "939  අස් උනානම් ඉවරයිනේ බන්   අනික මේක ගිනි තිබ්බා ...  Negative  Political   \n",
              "\n",
              "          About  \n",
              "884         225  \n",
              "420         225  \n",
              "776  Rajapaksha  \n",
              "472         225  \n",
              "774       Ranil  \n",
              "259         225  \n",
              "790         225  \n",
              "939       Ranil  "
            ],
            "text/html": [
              "\n",
              "  <div id=\"df-ef6c3d15-4cd5-4ede-8f86-3ed279534b82\" class=\"colab-df-container\">\n",
              "    <div>\n",
              "<style scoped>\n",
              "    .dataframe tbody tr th:only-of-type {\n",
              "        vertical-align: middle;\n",
              "    }\n",
              "\n",
              "    .dataframe tbody tr th {\n",
              "        vertical-align: top;\n",
              "    }\n",
              "\n",
              "    .dataframe thead th {\n",
              "        text-align: right;\n",
              "    }\n",
              "</style>\n",
              "<table border=\"1\" class=\"dataframe\">\n",
              "  <thead>\n",
              "    <tr style=\"text-align: right;\">\n",
              "      <th></th>\n",
              "      <th>text</th>\n",
              "      <th>Label</th>\n",
              "      <th>Domain</th>\n",
              "      <th>About</th>\n",
              "    </tr>\n",
              "  </thead>\n",
              "  <tbody>\n",
              "    <tr>\n",
              "      <th>884</th>\n",
              "      <td>මේ  සිද්ධිය පෙන්නලා ලෝක බැංවෙන් නය ආදාර ඉල්ලා ...</td>\n",
              "      <td>Negative</td>\n",
              "      <td>Political</td>\n",
              "      <td>225</td>\n",
              "    </tr>\n",
              "    <tr>\n",
              "      <th>420</th>\n",
              "      <td>එහෙනම් ඕකත් විකුණපන් කොහෙට හරි</td>\n",
              "      <td>Negative</td>\n",
              "      <td>Political</td>\n",
              "      <td>225</td>\n",
              "    </tr>\n",
              "    <tr>\n",
              "      <th>776</th>\n",
              "      <td>ලංකාවට විශාලම හානිය කරේ ප් රභාකරන් සහ රාජපක්ෂවරු</td>\n",
              "      <td>Negative</td>\n",
              "      <td>Political</td>\n",
              "      <td>Rajapaksha</td>\n",
              "    </tr>\n",
              "    <tr>\n",
              "      <th>472</th>\n",
              "      <td>මේක මුවාවෙන් දකුණ විකුණන්න දන්නෙ නෑ යන්නෙ  එහෙ...</td>\n",
              "      <td>Negative</td>\n",
              "      <td>Political</td>\n",
              "      <td>225</td>\n",
              "    </tr>\n",
              "    <tr>\n",
              "      <th>774</th>\n",
              "      <td>අභිමානවත් නායකයා      රනිල් ජනපති කොහොමද</td>\n",
              "      <td>Positive</td>\n",
              "      <td>Political</td>\n",
              "      <td>Ranil</td>\n",
              "    </tr>\n",
              "    <tr>\n",
              "      <th>259</th>\n",
              "      <td>දේශාපාලුවෝ අතට ගියොත් ආයේ ඕවා රට ඇතුලේ</td>\n",
              "      <td>Negative</td>\n",
              "      <td>Political</td>\n",
              "      <td>225</td>\n",
              "    </tr>\n",
              "    <tr>\n",
              "      <th>790</th>\n",
              "      <td>ආබාධිත රණවිරුවන්ව බලාකියා ගන්ඩ තිබුනු සුනාමි ආ...</td>\n",
              "      <td>Negative</td>\n",
              "      <td>Political</td>\n",
              "      <td>225</td>\n",
              "    </tr>\n",
              "    <tr>\n",
              "      <th>939</th>\n",
              "      <td>අස් උනානම් ඉවරයිනේ බන්   අනික මේක ගිනි තිබ්බා ...</td>\n",
              "      <td>Negative</td>\n",
              "      <td>Political</td>\n",
              "      <td>Ranil</td>\n",
              "    </tr>\n",
              "  </tbody>\n",
              "</table>\n",
              "</div>\n",
              "    <div class=\"colab-df-buttons\">\n",
              "\n",
              "  <div class=\"colab-df-container\">\n",
              "    <button class=\"colab-df-convert\" onclick=\"convertToInteractive('df-ef6c3d15-4cd5-4ede-8f86-3ed279534b82')\"\n",
              "            title=\"Convert this dataframe to an interactive table.\"\n",
              "            style=\"display:none;\">\n",
              "\n",
              "  <svg xmlns=\"http://www.w3.org/2000/svg\" height=\"24px\" viewBox=\"0 -960 960 960\">\n",
              "    <path d=\"M120-120v-720h720v720H120Zm60-500h600v-160H180v160Zm220 220h160v-160H400v160Zm0 220h160v-160H400v160ZM180-400h160v-160H180v160Zm440 0h160v-160H620v160ZM180-180h160v-160H180v160Zm440 0h160v-160H620v160Z\"/>\n",
              "  </svg>\n",
              "    </button>\n",
              "\n",
              "  <style>\n",
              "    .colab-df-container {\n",
              "      display:flex;\n",
              "      gap: 12px;\n",
              "    }\n",
              "\n",
              "    .colab-df-convert {\n",
              "      background-color: #E8F0FE;\n",
              "      border: none;\n",
              "      border-radius: 50%;\n",
              "      cursor: pointer;\n",
              "      display: none;\n",
              "      fill: #1967D2;\n",
              "      height: 32px;\n",
              "      padding: 0 0 0 0;\n",
              "      width: 32px;\n",
              "    }\n",
              "\n",
              "    .colab-df-convert:hover {\n",
              "      background-color: #E2EBFA;\n",
              "      box-shadow: 0px 1px 2px rgba(60, 64, 67, 0.3), 0px 1px 3px 1px rgba(60, 64, 67, 0.15);\n",
              "      fill: #174EA6;\n",
              "    }\n",
              "\n",
              "    .colab-df-buttons div {\n",
              "      margin-bottom: 4px;\n",
              "    }\n",
              "\n",
              "    [theme=dark] .colab-df-convert {\n",
              "      background-color: #3B4455;\n",
              "      fill: #D2E3FC;\n",
              "    }\n",
              "\n",
              "    [theme=dark] .colab-df-convert:hover {\n",
              "      background-color: #434B5C;\n",
              "      box-shadow: 0px 1px 3px 1px rgba(0, 0, 0, 0.15);\n",
              "      filter: drop-shadow(0px 1px 2px rgba(0, 0, 0, 0.3));\n",
              "      fill: #FFFFFF;\n",
              "    }\n",
              "  </style>\n",
              "\n",
              "    <script>\n",
              "      const buttonEl =\n",
              "        document.querySelector('#df-ef6c3d15-4cd5-4ede-8f86-3ed279534b82 button.colab-df-convert');\n",
              "      buttonEl.style.display =\n",
              "        google.colab.kernel.accessAllowed ? 'block' : 'none';\n",
              "\n",
              "      async function convertToInteractive(key) {\n",
              "        const element = document.querySelector('#df-ef6c3d15-4cd5-4ede-8f86-3ed279534b82');\n",
              "        const dataTable =\n",
              "          await google.colab.kernel.invokeFunction('convertToInteractive',\n",
              "                                                    [key], {});\n",
              "        if (!dataTable) return;\n",
              "\n",
              "        const docLinkHtml = 'Like what you see? Visit the ' +\n",
              "          '<a target=\"_blank\" href=https://colab.research.google.com/notebooks/data_table.ipynb>data table notebook</a>'\n",
              "          + ' to learn more about interactive tables.';\n",
              "        element.innerHTML = '';\n",
              "        dataTable['output_type'] = 'display_data';\n",
              "        await google.colab.output.renderOutput(dataTable, element);\n",
              "        const docLink = document.createElement('div');\n",
              "        docLink.innerHTML = docLinkHtml;\n",
              "        element.appendChild(docLink);\n",
              "      }\n",
              "    </script>\n",
              "  </div>\n",
              "\n",
              "\n",
              "<div id=\"df-d57cb106-80d5-4b33-8184-e3ba46218f3a\">\n",
              "  <button class=\"colab-df-quickchart\" onclick=\"quickchart('df-d57cb106-80d5-4b33-8184-e3ba46218f3a')\"\n",
              "            title=\"Suggest charts\"\n",
              "            style=\"display:none;\">\n",
              "\n",
              "<svg xmlns=\"http://www.w3.org/2000/svg\" height=\"24px\"viewBox=\"0 0 24 24\"\n",
              "     width=\"24px\">\n",
              "    <g>\n",
              "        <path d=\"M19 3H5c-1.1 0-2 .9-2 2v14c0 1.1.9 2 2 2h14c1.1 0 2-.9 2-2V5c0-1.1-.9-2-2-2zM9 17H7v-7h2v7zm4 0h-2V7h2v10zm4 0h-2v-4h2v4z\"/>\n",
              "    </g>\n",
              "</svg>\n",
              "  </button>\n",
              "\n",
              "<style>\n",
              "  .colab-df-quickchart {\n",
              "      --bg-color: #E8F0FE;\n",
              "      --fill-color: #1967D2;\n",
              "      --hover-bg-color: #E2EBFA;\n",
              "      --hover-fill-color: #174EA6;\n",
              "      --disabled-fill-color: #AAA;\n",
              "      --disabled-bg-color: #DDD;\n",
              "  }\n",
              "\n",
              "  [theme=dark] .colab-df-quickchart {\n",
              "      --bg-color: #3B4455;\n",
              "      --fill-color: #D2E3FC;\n",
              "      --hover-bg-color: #434B5C;\n",
              "      --hover-fill-color: #FFFFFF;\n",
              "      --disabled-bg-color: #3B4455;\n",
              "      --disabled-fill-color: #666;\n",
              "  }\n",
              "\n",
              "  .colab-df-quickchart {\n",
              "    background-color: var(--bg-color);\n",
              "    border: none;\n",
              "    border-radius: 50%;\n",
              "    cursor: pointer;\n",
              "    display: none;\n",
              "    fill: var(--fill-color);\n",
              "    height: 32px;\n",
              "    padding: 0;\n",
              "    width: 32px;\n",
              "  }\n",
              "\n",
              "  .colab-df-quickchart:hover {\n",
              "    background-color: var(--hover-bg-color);\n",
              "    box-shadow: 0 1px 2px rgba(60, 64, 67, 0.3), 0 1px 3px 1px rgba(60, 64, 67, 0.15);\n",
              "    fill: var(--button-hover-fill-color);\n",
              "  }\n",
              "\n",
              "  .colab-df-quickchart-complete:disabled,\n",
              "  .colab-df-quickchart-complete:disabled:hover {\n",
              "    background-color: var(--disabled-bg-color);\n",
              "    fill: var(--disabled-fill-color);\n",
              "    box-shadow: none;\n",
              "  }\n",
              "\n",
              "  .colab-df-spinner {\n",
              "    border: 2px solid var(--fill-color);\n",
              "    border-color: transparent;\n",
              "    border-bottom-color: var(--fill-color);\n",
              "    animation:\n",
              "      spin 1s steps(1) infinite;\n",
              "  }\n",
              "\n",
              "  @keyframes spin {\n",
              "    0% {\n",
              "      border-color: transparent;\n",
              "      border-bottom-color: var(--fill-color);\n",
              "      border-left-color: var(--fill-color);\n",
              "    }\n",
              "    20% {\n",
              "      border-color: transparent;\n",
              "      border-left-color: var(--fill-color);\n",
              "      border-top-color: var(--fill-color);\n",
              "    }\n",
              "    30% {\n",
              "      border-color: transparent;\n",
              "      border-left-color: var(--fill-color);\n",
              "      border-top-color: var(--fill-color);\n",
              "      border-right-color: var(--fill-color);\n",
              "    }\n",
              "    40% {\n",
              "      border-color: transparent;\n",
              "      border-right-color: var(--fill-color);\n",
              "      border-top-color: var(--fill-color);\n",
              "    }\n",
              "    60% {\n",
              "      border-color: transparent;\n",
              "      border-right-color: var(--fill-color);\n",
              "    }\n",
              "    80% {\n",
              "      border-color: transparent;\n",
              "      border-right-color: var(--fill-color);\n",
              "      border-bottom-color: var(--fill-color);\n",
              "    }\n",
              "    90% {\n",
              "      border-color: transparent;\n",
              "      border-bottom-color: var(--fill-color);\n",
              "    }\n",
              "  }\n",
              "</style>\n",
              "\n",
              "  <script>\n",
              "    async function quickchart(key) {\n",
              "      const quickchartButtonEl =\n",
              "        document.querySelector('#' + key + ' button');\n",
              "      quickchartButtonEl.disabled = true;  // To prevent multiple clicks.\n",
              "      quickchartButtonEl.classList.add('colab-df-spinner');\n",
              "      try {\n",
              "        const charts = await google.colab.kernel.invokeFunction(\n",
              "            'suggestCharts', [key], {});\n",
              "      } catch (error) {\n",
              "        console.error('Error during call to suggestCharts:', error);\n",
              "      }\n",
              "      quickchartButtonEl.classList.remove('colab-df-spinner');\n",
              "      quickchartButtonEl.classList.add('colab-df-quickchart-complete');\n",
              "    }\n",
              "    (() => {\n",
              "      let quickchartButtonEl =\n",
              "        document.querySelector('#df-d57cb106-80d5-4b33-8184-e3ba46218f3a button');\n",
              "      quickchartButtonEl.style.display =\n",
              "        google.colab.kernel.accessAllowed ? 'block' : 'none';\n",
              "    })();\n",
              "  </script>\n",
              "</div>\n",
              "\n",
              "    </div>\n",
              "  </div>\n"
            ],
            "application/vnd.google.colaboratory.intrinsic+json": {
              "type": "dataframe",
              "summary": "{\n  \"name\": \"df\",\n  \"rows\": 8,\n  \"fields\": [\n    {\n      \"column\": \"text\",\n      \"properties\": {\n        \"dtype\": \"string\",\n        \"num_unique_values\": 8,\n        \"samples\": [\n          \"\\u0d91\\u0dc4\\u0dd9\\u0db1\\u0db8\\u0dca \\u0d95\\u0d9a\\u0dad\\u0dca \\u0dc0\\u0dd2\\u0d9a\\u0dd4\\u0dab\\u0db4\\u0db1\\u0dca \\u0d9a\\u0ddc\\u0dc4\\u0dd9\\u0da7 \\u0dc4\\u0dbb\\u0dd2    \",\n          \"\\u0daf\\u0dda\\u0dc1\\u0dcf\\u0db4\\u0dcf\\u0dbd\\u0dd4\\u0dc0\\u0ddd \\u0d85\\u0dad\\u0da7 \\u0d9c\\u0dd2\\u0dba\\u0ddc\\u0dad\\u0dca \\u0d86\\u0dba\\u0dda \\u0d95\\u0dc0\\u0dcf \\u0dbb\\u0da7 \\u0d87\\u0dad\\u0dd4\\u0dbd\\u0dda\",\n          \"\\u0db8\\u0dda  \\u0dc3\\u0dd2\\u0daf\\u0dca\\u0db0\\u0dd2\\u0dba \\u0db4\\u0dd9\\u0db1\\u0dca\\u0db1\\u0dbd\\u0dcf \\u0dbd\\u0ddd\\u0d9a \\u0db6\\u0dd0\\u0d82\\u0dc0\\u0dd9\\u0db1\\u0dca \\u0db1\\u0dba \\u0d86\\u0daf\\u0dcf\\u0dbb \\u0d89\\u0dbd\\u0dca\\u0dbd\\u0dcf    \\u0db8\\u0d82\\u0d9a\\u0ddc\\u0dbd\\u0dca\\u0dbd \\u0db1\\u0ddc\\u0d9a\\u0dcf \\u0dc4\\u0dd2\\u0da7\\u0dd2\\u0dba\\u0ddc\\u0dad\\u0dca \\u0dad\\u0db8\\u0dcf\"\n        ],\n        \"semantic_type\": \"\",\n        \"description\": \"\"\n      }\n    },\n    {\n      \"column\": \"Label\",\n      \"properties\": {\n        \"dtype\": \"category\",\n        \"num_unique_values\": 2,\n        \"samples\": [\n          \"Positive\",\n          \"Negative\"\n        ],\n        \"semantic_type\": \"\",\n        \"description\": \"\"\n      }\n    },\n    {\n      \"column\": \"Domain\",\n      \"properties\": {\n        \"dtype\": \"category\",\n        \"num_unique_values\": 1,\n        \"samples\": [\n          \"Political\"\n        ],\n        \"semantic_type\": \"\",\n        \"description\": \"\"\n      }\n    },\n    {\n      \"column\": \"About\",\n      \"properties\": {\n        \"dtype\": \"category\",\n        \"num_unique_values\": 3,\n        \"samples\": [\n          \"225\"\n        ],\n        \"semantic_type\": \"\",\n        \"description\": \"\"\n      }\n    }\n  ]\n}"
            }
          },
          "metadata": {},
          "execution_count": 23
        }
      ]
    },
    {
      "cell_type": "code",
      "source": [
        "df.Domain.value_counts()"
      ],
      "metadata": {
        "colab": {
          "base_uri": "https://localhost:8080/"
        },
        "id": "PP0HBt67P8GT",
        "outputId": "263d53b8-1864-4471-e30c-4bd6a77e2856"
      },
      "execution_count": null,
      "outputs": [
        {
          "output_type": "execute_result",
          "data": {
            "text/plain": [
              "Domain\n",
              "Political        279\n",
              "Non political    279\n",
              "Name: count, dtype: int64"
            ]
          },
          "metadata": {},
          "execution_count": 24
        }
      ]
    },
    {
      "cell_type": "code",
      "source": [
        "df = df.sample(frac=1.0, random_state=42)"
      ],
      "metadata": {
        "id": "zRNaGHT50lmm"
      },
      "execution_count": null,
      "outputs": []
    },
    {
      "cell_type": "code",
      "source": [
        "labels = df['Domain'].unique().tolist()\n",
        "labels = [str(s).strip() for s in labels ]\n",
        "labels\n",
        "labels[0], labels[1] = labels[1], labels[0]\n",
        "labels"
      ],
      "metadata": {
        "colab": {
          "base_uri": "https://localhost:8080/"
        },
        "id": "7EH6zXdg0_we",
        "outputId": "99878171-96d2-4dd3-f5f5-da21c9160416"
      },
      "execution_count": null,
      "outputs": [
        {
          "output_type": "execute_result",
          "data": {
            "text/plain": [
              "['Non political', 'Political']"
            ]
          },
          "metadata": {},
          "execution_count": 26
        }
      ]
    },
    {
      "cell_type": "code",
      "source": [
        "\n",
        "NUM_LABELS= len(labels)\n",
        "\n",
        "id2label={id:label for id,label in enumerate(labels)}\n",
        "\n",
        "label2id={label:id for id,label in enumerate(labels)}"
      ],
      "metadata": {
        "id": "c3Ma-Vz41HtN"
      },
      "execution_count": null,
      "outputs": []
    },
    {
      "cell_type": "code",
      "source": [
        "df.head()"
      ],
      "metadata": {
        "colab": {
          "base_uri": "https://localhost:8080/",
          "height": 226
        },
        "id": "fuJd2Q-MH8kb",
        "outputId": "20bbbe0d-aa72-400e-a6ca-fcb0c929ae04"
      },
      "execution_count": null,
      "outputs": [
        {
          "output_type": "execute_result",
          "data": {
            "text/plain": [
              "                                                  text     Label  \\\n",
              "673  මොනව කලත් ඒ වෙලාවෙි කොන්ද කෙලින් තියාගන තීරණගත...  Positive   \n",
              "840           රටේ ඉන්න පව් කාරයෝ ටික නැති වෙලා යන්න ඕන  Negative   \n",
              "37   ඔය වගේ  සාකච්ඡා වලට කය්ය නායකයිනට  මහින්දලට කත...  Positive   \n",
              "949    ඔයා තන්හාවට අගමැති නොවි හිටියනම් ඔය මුකුත් නැනේ  Negative   \n",
              "476  කවුරුහරි මෙවැනි නිවුස් කල්යල් බලා කැට දානවා  හ...  Negative   \n",
              "\n",
              "            Domain       About  \n",
              "673      Political  Rajapaksha  \n",
              "840  Non political         NaN  \n",
              "37       Political       Ranil  \n",
              "949      Political       Ranil  \n",
              "476      Political         225  "
            ],
            "text/html": [
              "\n",
              "  <div id=\"df-6aa29a60-2e39-4d8e-8f43-7282f895d132\" class=\"colab-df-container\">\n",
              "    <div>\n",
              "<style scoped>\n",
              "    .dataframe tbody tr th:only-of-type {\n",
              "        vertical-align: middle;\n",
              "    }\n",
              "\n",
              "    .dataframe tbody tr th {\n",
              "        vertical-align: top;\n",
              "    }\n",
              "\n",
              "    .dataframe thead th {\n",
              "        text-align: right;\n",
              "    }\n",
              "</style>\n",
              "<table border=\"1\" class=\"dataframe\">\n",
              "  <thead>\n",
              "    <tr style=\"text-align: right;\">\n",
              "      <th></th>\n",
              "      <th>text</th>\n",
              "      <th>Label</th>\n",
              "      <th>Domain</th>\n",
              "      <th>About</th>\n",
              "    </tr>\n",
              "  </thead>\n",
              "  <tbody>\n",
              "    <tr>\n",
              "      <th>673</th>\n",
              "      <td>මොනව කලත් ඒ වෙලාවෙි කොන්ද කෙලින් තියාගන තීරණගත...</td>\n",
              "      <td>Positive</td>\n",
              "      <td>Political</td>\n",
              "      <td>Rajapaksha</td>\n",
              "    </tr>\n",
              "    <tr>\n",
              "      <th>840</th>\n",
              "      <td>රටේ ඉන්න පව් කාරයෝ ටික නැති වෙලා යන්න ඕන</td>\n",
              "      <td>Negative</td>\n",
              "      <td>Non political</td>\n",
              "      <td>NaN</td>\n",
              "    </tr>\n",
              "    <tr>\n",
              "      <th>37</th>\n",
              "      <td>ඔය වගේ  සාකච්ඡා වලට කය්ය නායකයිනට  මහින්දලට කත...</td>\n",
              "      <td>Positive</td>\n",
              "      <td>Political</td>\n",
              "      <td>Ranil</td>\n",
              "    </tr>\n",
              "    <tr>\n",
              "      <th>949</th>\n",
              "      <td>ඔයා තන්හාවට අගමැති නොවි හිටියනම් ඔය මුකුත් නැනේ</td>\n",
              "      <td>Negative</td>\n",
              "      <td>Political</td>\n",
              "      <td>Ranil</td>\n",
              "    </tr>\n",
              "    <tr>\n",
              "      <th>476</th>\n",
              "      <td>කවුරුහරි මෙවැනි නිවුස් කල්යල් බලා කැට දානවා  හ...</td>\n",
              "      <td>Negative</td>\n",
              "      <td>Political</td>\n",
              "      <td>225</td>\n",
              "    </tr>\n",
              "  </tbody>\n",
              "</table>\n",
              "</div>\n",
              "    <div class=\"colab-df-buttons\">\n",
              "\n",
              "  <div class=\"colab-df-container\">\n",
              "    <button class=\"colab-df-convert\" onclick=\"convertToInteractive('df-6aa29a60-2e39-4d8e-8f43-7282f895d132')\"\n",
              "            title=\"Convert this dataframe to an interactive table.\"\n",
              "            style=\"display:none;\">\n",
              "\n",
              "  <svg xmlns=\"http://www.w3.org/2000/svg\" height=\"24px\" viewBox=\"0 -960 960 960\">\n",
              "    <path d=\"M120-120v-720h720v720H120Zm60-500h600v-160H180v160Zm220 220h160v-160H400v160Zm0 220h160v-160H400v160ZM180-400h160v-160H180v160Zm440 0h160v-160H620v160ZM180-180h160v-160H180v160Zm440 0h160v-160H620v160Z\"/>\n",
              "  </svg>\n",
              "    </button>\n",
              "\n",
              "  <style>\n",
              "    .colab-df-container {\n",
              "      display:flex;\n",
              "      gap: 12px;\n",
              "    }\n",
              "\n",
              "    .colab-df-convert {\n",
              "      background-color: #E8F0FE;\n",
              "      border: none;\n",
              "      border-radius: 50%;\n",
              "      cursor: pointer;\n",
              "      display: none;\n",
              "      fill: #1967D2;\n",
              "      height: 32px;\n",
              "      padding: 0 0 0 0;\n",
              "      width: 32px;\n",
              "    }\n",
              "\n",
              "    .colab-df-convert:hover {\n",
              "      background-color: #E2EBFA;\n",
              "      box-shadow: 0px 1px 2px rgba(60, 64, 67, 0.3), 0px 1px 3px 1px rgba(60, 64, 67, 0.15);\n",
              "      fill: #174EA6;\n",
              "    }\n",
              "\n",
              "    .colab-df-buttons div {\n",
              "      margin-bottom: 4px;\n",
              "    }\n",
              "\n",
              "    [theme=dark] .colab-df-convert {\n",
              "      background-color: #3B4455;\n",
              "      fill: #D2E3FC;\n",
              "    }\n",
              "\n",
              "    [theme=dark] .colab-df-convert:hover {\n",
              "      background-color: #434B5C;\n",
              "      box-shadow: 0px 1px 3px 1px rgba(0, 0, 0, 0.15);\n",
              "      filter: drop-shadow(0px 1px 2px rgba(0, 0, 0, 0.3));\n",
              "      fill: #FFFFFF;\n",
              "    }\n",
              "  </style>\n",
              "\n",
              "    <script>\n",
              "      const buttonEl =\n",
              "        document.querySelector('#df-6aa29a60-2e39-4d8e-8f43-7282f895d132 button.colab-df-convert');\n",
              "      buttonEl.style.display =\n",
              "        google.colab.kernel.accessAllowed ? 'block' : 'none';\n",
              "\n",
              "      async function convertToInteractive(key) {\n",
              "        const element = document.querySelector('#df-6aa29a60-2e39-4d8e-8f43-7282f895d132');\n",
              "        const dataTable =\n",
              "          await google.colab.kernel.invokeFunction('convertToInteractive',\n",
              "                                                    [key], {});\n",
              "        if (!dataTable) return;\n",
              "\n",
              "        const docLinkHtml = 'Like what you see? Visit the ' +\n",
              "          '<a target=\"_blank\" href=https://colab.research.google.com/notebooks/data_table.ipynb>data table notebook</a>'\n",
              "          + ' to learn more about interactive tables.';\n",
              "        element.innerHTML = '';\n",
              "        dataTable['output_type'] = 'display_data';\n",
              "        await google.colab.output.renderOutput(dataTable, element);\n",
              "        const docLink = document.createElement('div');\n",
              "        docLink.innerHTML = docLinkHtml;\n",
              "        element.appendChild(docLink);\n",
              "      }\n",
              "    </script>\n",
              "  </div>\n",
              "\n",
              "\n",
              "<div id=\"df-8f75cb89-1aa1-4513-8491-2635c2a208a0\">\n",
              "  <button class=\"colab-df-quickchart\" onclick=\"quickchart('df-8f75cb89-1aa1-4513-8491-2635c2a208a0')\"\n",
              "            title=\"Suggest charts\"\n",
              "            style=\"display:none;\">\n",
              "\n",
              "<svg xmlns=\"http://www.w3.org/2000/svg\" height=\"24px\"viewBox=\"0 0 24 24\"\n",
              "     width=\"24px\">\n",
              "    <g>\n",
              "        <path d=\"M19 3H5c-1.1 0-2 .9-2 2v14c0 1.1.9 2 2 2h14c1.1 0 2-.9 2-2V5c0-1.1-.9-2-2-2zM9 17H7v-7h2v7zm4 0h-2V7h2v10zm4 0h-2v-4h2v4z\"/>\n",
              "    </g>\n",
              "</svg>\n",
              "  </button>\n",
              "\n",
              "<style>\n",
              "  .colab-df-quickchart {\n",
              "      --bg-color: #E8F0FE;\n",
              "      --fill-color: #1967D2;\n",
              "      --hover-bg-color: #E2EBFA;\n",
              "      --hover-fill-color: #174EA6;\n",
              "      --disabled-fill-color: #AAA;\n",
              "      --disabled-bg-color: #DDD;\n",
              "  }\n",
              "\n",
              "  [theme=dark] .colab-df-quickchart {\n",
              "      --bg-color: #3B4455;\n",
              "      --fill-color: #D2E3FC;\n",
              "      --hover-bg-color: #434B5C;\n",
              "      --hover-fill-color: #FFFFFF;\n",
              "      --disabled-bg-color: #3B4455;\n",
              "      --disabled-fill-color: #666;\n",
              "  }\n",
              "\n",
              "  .colab-df-quickchart {\n",
              "    background-color: var(--bg-color);\n",
              "    border: none;\n",
              "    border-radius: 50%;\n",
              "    cursor: pointer;\n",
              "    display: none;\n",
              "    fill: var(--fill-color);\n",
              "    height: 32px;\n",
              "    padding: 0;\n",
              "    width: 32px;\n",
              "  }\n",
              "\n",
              "  .colab-df-quickchart:hover {\n",
              "    background-color: var(--hover-bg-color);\n",
              "    box-shadow: 0 1px 2px rgba(60, 64, 67, 0.3), 0 1px 3px 1px rgba(60, 64, 67, 0.15);\n",
              "    fill: var(--button-hover-fill-color);\n",
              "  }\n",
              "\n",
              "  .colab-df-quickchart-complete:disabled,\n",
              "  .colab-df-quickchart-complete:disabled:hover {\n",
              "    background-color: var(--disabled-bg-color);\n",
              "    fill: var(--disabled-fill-color);\n",
              "    box-shadow: none;\n",
              "  }\n",
              "\n",
              "  .colab-df-spinner {\n",
              "    border: 2px solid var(--fill-color);\n",
              "    border-color: transparent;\n",
              "    border-bottom-color: var(--fill-color);\n",
              "    animation:\n",
              "      spin 1s steps(1) infinite;\n",
              "  }\n",
              "\n",
              "  @keyframes spin {\n",
              "    0% {\n",
              "      border-color: transparent;\n",
              "      border-bottom-color: var(--fill-color);\n",
              "      border-left-color: var(--fill-color);\n",
              "    }\n",
              "    20% {\n",
              "      border-color: transparent;\n",
              "      border-left-color: var(--fill-color);\n",
              "      border-top-color: var(--fill-color);\n",
              "    }\n",
              "    30% {\n",
              "      border-color: transparent;\n",
              "      border-left-color: var(--fill-color);\n",
              "      border-top-color: var(--fill-color);\n",
              "      border-right-color: var(--fill-color);\n",
              "    }\n",
              "    40% {\n",
              "      border-color: transparent;\n",
              "      border-right-color: var(--fill-color);\n",
              "      border-top-color: var(--fill-color);\n",
              "    }\n",
              "    60% {\n",
              "      border-color: transparent;\n",
              "      border-right-color: var(--fill-color);\n",
              "    }\n",
              "    80% {\n",
              "      border-color: transparent;\n",
              "      border-right-color: var(--fill-color);\n",
              "      border-bottom-color: var(--fill-color);\n",
              "    }\n",
              "    90% {\n",
              "      border-color: transparent;\n",
              "      border-bottom-color: var(--fill-color);\n",
              "    }\n",
              "  }\n",
              "</style>\n",
              "\n",
              "  <script>\n",
              "    async function quickchart(key) {\n",
              "      const quickchartButtonEl =\n",
              "        document.querySelector('#' + key + ' button');\n",
              "      quickchartButtonEl.disabled = true;  // To prevent multiple clicks.\n",
              "      quickchartButtonEl.classList.add('colab-df-spinner');\n",
              "      try {\n",
              "        const charts = await google.colab.kernel.invokeFunction(\n",
              "            'suggestCharts', [key], {});\n",
              "      } catch (error) {\n",
              "        console.error('Error during call to suggestCharts:', error);\n",
              "      }\n",
              "      quickchartButtonEl.classList.remove('colab-df-spinner');\n",
              "      quickchartButtonEl.classList.add('colab-df-quickchart-complete');\n",
              "    }\n",
              "    (() => {\n",
              "      let quickchartButtonEl =\n",
              "        document.querySelector('#df-8f75cb89-1aa1-4513-8491-2635c2a208a0 button');\n",
              "      quickchartButtonEl.style.display =\n",
              "        google.colab.kernel.accessAllowed ? 'block' : 'none';\n",
              "    })();\n",
              "  </script>\n",
              "</div>\n",
              "\n",
              "    </div>\n",
              "  </div>\n"
            ],
            "application/vnd.google.colaboratory.intrinsic+json": {
              "type": "dataframe",
              "variable_name": "df",
              "summary": "{\n  \"name\": \"df\",\n  \"rows\": 558,\n  \"fields\": [\n    {\n      \"column\": \"text\",\n      \"properties\": {\n        \"dtype\": \"string\",\n        \"num_unique_values\": 558,\n        \"samples\": [\n          \"\\u0d91\\u0dc4\\u0dd9\\u0db1\\u0db8\\u0dca \\u0d85\\u0daf \\u0d89\\u0db3\\u0dbd \\u0dbb\\u0da7\\u0dba\\u0db1\\u0dca\\u0db1 \\u0db4\\u0dcf\\u0dc3\\u0dca\\u0db4\\u0ddd\\u0da7\\u0dca \\u0dc4\\u0daf\\u0db1\\u0dca\\u0db1 \\u0d95\\u0db1\\u0dca\\u0db1\\u0dd1\\u0daf\\u0d9a\\u0dd4\\u0dab\\u0dd4\\u0d9a\\u0dd9\\u0dc5\\u0dc0\\u0dbb\\u0da7 \\u0d9c\\u0dd2\\u0dba\\u0dcf\\u0db1\\u0db8\\u0dca \\u0d95\\u0db1 \\u0dbb\\u0da7\\u0d9a\\u0da7 \\u0d8b\\u0da9\\u0dd2\\u0db1\\u0dca \\u0dba\\u0db1\\u0dca\\u0db1 \\u0db4\\u0dd4\\u0dbd\\u0dd4\\u0dc0\\u0db1\\u0dca\",\n          \"\\u0da2\\u0db1\\u0dcf\\u0db0\\u0dd2\\u0db4\\u0dad\\u0dd2 \\u0dbb\\u0db1\\u0dd2\\u0dbd\\u0dca \\u0dc0\\u0dd2\\u0d9a\\u0dca \\u0dbb\\u0db8\\u0dc3\\u0dd2\\u0d82\\u0dc4 \\u0db8\\u0dd0\\u0dad\\u0dd2\\u0dad\\u0dd4\\u0db8\\u0dcf \\u0dc0\\u0dd9\\u0db1\\u0dd4\\u0dc0\\u0dd9\\u0db1\\u0dca \\u0d85\\u0db4\\u0dd2 \\u0dc3\\u0dd2\\u0dba\\u0dbd\\u0dd4 \\u0dc3\\u0dc4\\u0dba\\u0ddd\\u0d9c\\u0dba \\u0dbd\\u0db6\\u0dcf\\u0daf\\u0dd2\\u0dba \\u0dba\\u0dd4\\u0dad\\u0dd4\\u0db8\\u0dba\\u0dd2      \\u0dad\\u0dca \\u0dbb\\u0dc3\\u0dad\\u0dc0\\u0dcf\\u0daf\\u0dd3\\u0db1\\u0dca \\u0da7 \\u0db1\\u0dd0\\u0dc0\\u0dad \\u0d85\\u0dc0\\u0dc3\\u0dae\\u0dcf\\u0dc0 \\u0db1\\u0ddc\\u0daf\\u0dd2\\u0dba \\u0dba\\u0dd4\\u0dad\\u0dd4\\u0dba\\u0dd2 \",\n          \"\\u0d85\\u0db1\\u0dd4\\u0dbb\\u0d9a\\u0dd4\\u0db8\\u0dcf\\u0dbb \\u0d9a\\u0dd2\\u0dc0\\u0dca\\u0dc0\\u0dd9 \\u0d95\\u0d9a \\u0dbb\\u0dcf\\u0da2\\u0db4\\u0d9a\\u0dca\\u0dc2 \\u0d9c\\u0dd9 \\u0dc4\\u0ddc\\u0dbb \\u0dc0\\u0dd0\\u0da9\\u0d9a\\u0dca \\u0d9a\\u0dd2\\u0dba\\u0dbd\"\n        ],\n        \"semantic_type\": \"\",\n        \"description\": \"\"\n      }\n    },\n    {\n      \"column\": \"Label\",\n      \"properties\": {\n        \"dtype\": \"category\",\n        \"num_unique_values\": 4,\n        \"samples\": [\n          \"Negative\",\n          \"positive\",\n          \"Positive\"\n        ],\n        \"semantic_type\": \"\",\n        \"description\": \"\"\n      }\n    },\n    {\n      \"column\": \"Domain\",\n      \"properties\": {\n        \"dtype\": \"category\",\n        \"num_unique_values\": 2,\n        \"samples\": [\n          \"Non political\",\n          \"Political\"\n        ],\n        \"semantic_type\": \"\",\n        \"description\": \"\"\n      }\n    },\n    {\n      \"column\": \"About\",\n      \"properties\": {\n        \"dtype\": \"category\",\n        \"num_unique_values\": 11,\n        \"samples\": [\n          \"NPP\",\n          \"Rajapaksha\"\n        ],\n        \"semantic_type\": \"\",\n        \"description\": \"\"\n      }\n    }\n  ]\n}"
            }
          },
          "metadata": {},
          "execution_count": 28
        }
      ]
    },
    {
      "cell_type": "code",
      "source": [
        "label2id"
      ],
      "metadata": {
        "colab": {
          "base_uri": "https://localhost:8080/"
        },
        "id": "SLWAKPfk1WWm",
        "outputId": "a9240a86-237f-4aad-e178-50deca0494fc"
      },
      "execution_count": null,
      "outputs": [
        {
          "output_type": "execute_result",
          "data": {
            "text/plain": [
              "{'Non political': 0, 'Political': 1}"
            ]
          },
          "metadata": {},
          "execution_count": 29
        }
      ]
    },
    {
      "cell_type": "code",
      "source": [
        "df.Domain.value_counts()"
      ],
      "metadata": {
        "colab": {
          "base_uri": "https://localhost:8080/"
        },
        "id": "7snSo1HYGhF3",
        "outputId": "d30b7ed3-0010-425d-c2b9-75c89b72931c"
      },
      "execution_count": null,
      "outputs": [
        {
          "output_type": "execute_result",
          "data": {
            "text/plain": [
              "Domain\n",
              "Political        279\n",
              "Non political    279\n",
              "Name: count, dtype: int64"
            ]
          },
          "metadata": {},
          "execution_count": 30
        }
      ]
    },
    {
      "cell_type": "code",
      "source": [
        "id2label"
      ],
      "metadata": {
        "colab": {
          "base_uri": "https://localhost:8080/"
        },
        "id": "TZb31VoQ1fNu",
        "outputId": "e0be6bb4-634a-487b-a198-29c45ef30e73"
      },
      "execution_count": null,
      "outputs": [
        {
          "output_type": "execute_result",
          "data": {
            "text/plain": [
              "{0: 'Non political', 1: 'Political'}"
            ]
          },
          "metadata": {},
          "execution_count": 31
        }
      ]
    },
    {
      "cell_type": "code",
      "source": [
        "for key, value in enumerate(labels):\n",
        "    print(value)"
      ],
      "metadata": {
        "colab": {
          "base_uri": "https://localhost:8080/"
        },
        "id": "cGIGDdMt1htY",
        "outputId": "2015d6f3-8217-411c-eeaf-00f51f198ad6"
      },
      "execution_count": null,
      "outputs": [
        {
          "output_type": "stream",
          "name": "stdout",
          "text": [
            "Non political\n",
            "Political\n"
          ]
        }
      ]
    },
    {
      "cell_type": "code",
      "source": [
        "df[\"Domain\"]=df.Domain.map(lambda x: label2id[x.strip()])"
      ],
      "metadata": {
        "id": "OhgTG-Gp1k4-"
      },
      "execution_count": null,
      "outputs": []
    },
    {
      "cell_type": "code",
      "source": [
        "df.Domain.value_counts().plot(kind='pie', figsize=(10,10))"
      ],
      "metadata": {
        "colab": {
          "base_uri": "https://localhost:8080/",
          "height": 844
        },
        "id": "XCx8fpBg1nnu",
        "outputId": "6d6ba8dc-1945-499b-b08a-5b4f95467ca9"
      },
      "execution_count": null,
      "outputs": [
        {
          "output_type": "execute_result",
          "data": {
            "text/plain": [
              "<Axes: ylabel='count'>"
            ]
          },
          "metadata": {},
          "execution_count": 34
        },
        {
          "output_type": "display_data",
          "data": {
            "text/plain": [
              "<Figure size 1000x1000 with 1 Axes>"
            ],
            "image/png": "[encoded data removed]"
          },
          "metadata": {}
        }
      ]
    },
    {
      "cell_type": "code",
      "source": [
        "df.head()"
      ],
      "metadata": {
        "colab": {
          "base_uri": "https://localhost:8080/",
          "height": 226
        },
        "id": "cfVrloW03niZ",
        "outputId": "bee6bdd2-8cf9-43cc-ffbf-e6f9e112948b"
      },
      "execution_count": null,
      "outputs": [
        {
          "output_type": "execute_result",
          "data": {
            "text/plain": [
              "                                                  text     Label  Domain  \\\n",
              "673  මොනව කලත් ඒ වෙලාවෙි කොන්ද කෙලින් තියාගන තීරණගත...  Positive       1   \n",
              "840           රටේ ඉන්න පව් කාරයෝ ටික නැති වෙලා යන්න ඕන  Negative       0   \n",
              "37   ඔය වගේ  සාකච්ඡා වලට කය්ය නායකයිනට  මහින්දලට කත...  Positive       1   \n",
              "949    ඔයා තන්හාවට අගමැති නොවි හිටියනම් ඔය මුකුත් නැනේ  Negative       1   \n",
              "476  කවුරුහරි මෙවැනි නිවුස් කල්යල් බලා කැට දානවා  හ...  Negative       1   \n",
              "\n",
              "          About  \n",
              "673  Rajapaksha  \n",
              "840         NaN  \n",
              "37        Ranil  \n",
              "949       Ranil  \n",
              "476         225  "
            ],
            "text/html": [
              "\n",
              "  <div id=\"df-47eae0c5-d283-4a33-8020-dd36bce0e55b\" class=\"colab-df-container\">\n",
              "    <div>\n",
              "<style scoped>\n",
              "    .dataframe tbody tr th:only-of-type {\n",
              "        vertical-align: middle;\n",
              "    }\n",
              "\n",
              "    .dataframe tbody tr th {\n",
              "        vertical-align: top;\n",
              "    }\n",
              "\n",
              "    .dataframe thead th {\n",
              "        text-align: right;\n",
              "    }\n",
              "</style>\n",
              "<table border=\"1\" class=\"dataframe\">\n",
              "  <thead>\n",
              "    <tr style=\"text-align: right;\">\n",
              "      <th></th>\n",
              "      <th>text</th>\n",
              "      <th>Label</th>\n",
              "      <th>Domain</th>\n",
              "      <th>About</th>\n",
              "    </tr>\n",
              "  </thead>\n",
              "  <tbody>\n",
              "    <tr>\n",
              "      <th>673</th>\n",
              "      <td>මොනව කලත් ඒ වෙලාවෙි කොන්ද කෙලින් තියාගන තීරණගත...</td>\n",
              "      <td>Positive</td>\n",
              "      <td>1</td>\n",
              "      <td>Rajapaksha</td>\n",
              "    </tr>\n",
              "    <tr>\n",
              "      <th>840</th>\n",
              "      <td>රටේ ඉන්න පව් කාරයෝ ටික නැති වෙලා යන්න ඕන</td>\n",
              "      <td>Negative</td>\n",
              "      <td>0</td>\n",
              "      <td>NaN</td>\n",
              "    </tr>\n",
              "    <tr>\n",
              "      <th>37</th>\n",
              "      <td>ඔය වගේ  සාකච්ඡා වලට කය්ය නායකයිනට  මහින්දලට කත...</td>\n",
              "      <td>Positive</td>\n",
              "      <td>1</td>\n",
              "      <td>Ranil</td>\n",
              "    </tr>\n",
              "    <tr>\n",
              "      <th>949</th>\n",
              "      <td>ඔයා තන්හාවට අගමැති නොවි හිටියනම් ඔය මුකුත් නැනේ</td>\n",
              "      <td>Negative</td>\n",
              "      <td>1</td>\n",
              "      <td>Ranil</td>\n",
              "    </tr>\n",
              "    <tr>\n",
              "      <th>476</th>\n",
              "      <td>කවුරුහරි මෙවැනි නිවුස් කල්යල් බලා කැට දානවා  හ...</td>\n",
              "      <td>Negative</td>\n",
              "      <td>1</td>\n",
              "      <td>225</td>\n",
              "    </tr>\n",
              "  </tbody>\n",
              "</table>\n",
              "</div>\n",
              "    <div class=\"colab-df-buttons\">\n",
              "\n",
              "  <div class=\"colab-df-container\">\n",
              "    <button class=\"colab-df-convert\" onclick=\"convertToInteractive('df-47eae0c5-d283-4a33-8020-dd36bce0e55b')\"\n",
              "            title=\"Convert this dataframe to an interactive table.\"\n",
              "            style=\"display:none;\">\n",
              "\n",
              "  <svg xmlns=\"http://www.w3.org/2000/svg\" height=\"24px\" viewBox=\"0 -960 960 960\">\n",
              "    <path d=\"M120-120v-720h720v720H120Zm60-500h600v-160H180v160Zm220 220h160v-160H400v160Zm0 220h160v-160H400v160ZM180-400h160v-160H180v160Zm440 0h160v-160H620v160ZM180-180h160v-160H180v160Zm440 0h160v-160H620v160Z\"/>\n",
              "  </svg>\n",
              "    </button>\n",
              "\n",
              "  <style>\n",
              "    .colab-df-container {\n",
              "      display:flex;\n",
              "      gap: 12px;\n",
              "    }\n",
              "\n",
              "    .colab-df-convert {\n",
              "      background-color: #E8F0FE;\n",
              "      border: none;\n",
              "      border-radius: 50%;\n",
              "      cursor: pointer;\n",
              "      display: none;\n",
              "      fill: #1967D2;\n",
              "      height: 32px;\n",
              "      padding: 0 0 0 0;\n",
              "      width: 32px;\n",
              "    }\n",
              "\n",
              "    .colab-df-convert:hover {\n",
              "      background-color: #E2EBFA;\n",
              "      box-shadow: 0px 1px 2px rgba(60, 64, 67, 0.3), 0px 1px 3px 1px rgba(60, 64, 67, 0.15);\n",
              "      fill: #174EA6;\n",
              "    }\n",
              "\n",
              "    .colab-df-buttons div {\n",
              "      margin-bottom: 4px;\n",
              "    }\n",
              "\n",
              "    [theme=dark] .colab-df-convert {\n",
              "      background-color: #3B4455;\n",
              "      fill: #D2E3FC;\n",
              "    }\n",
              "\n",
              "    [theme=dark] .colab-df-convert:hover {\n",
              "      background-color: #434B5C;\n",
              "      box-shadow: 0px 1px 3px 1px rgba(0, 0, 0, 0.15);\n",
              "      filter: drop-shadow(0px 1px 2px rgba(0, 0, 0, 0.3));\n",
              "      fill: #FFFFFF;\n",
              "    }\n",
              "  </style>\n",
              "\n",
              "    <script>\n",
              "      const buttonEl =\n",
              "        document.querySelector('#df-47eae0c5-d283-4a33-8020-dd36bce0e55b button.colab-df-convert');\n",
              "      buttonEl.style.display =\n",
              "        google.colab.kernel.accessAllowed ? 'block' : 'none';\n",
              "\n",
              "      async function convertToInteractive(key) {\n",
              "        const element = document.querySelector('#df-47eae0c5-d283-4a33-8020-dd36bce0e55b');\n",
              "        const dataTable =\n",
              "          await google.colab.kernel.invokeFunction('convertToInteractive',\n",
              "                                                    [key], {});\n",
              "        if (!dataTable) return;\n",
              "\n",
              "        const docLinkHtml = 'Like what you see? Visit the ' +\n",
              "          '<a target=\"_blank\" href=https://colab.research.google.com/notebooks/data_table.ipynb>data table notebook</a>'\n",
              "          + ' to learn more about interactive tables.';\n",
              "        element.innerHTML = '';\n",
              "        dataTable['output_type'] = 'display_data';\n",
              "        await google.colab.output.renderOutput(dataTable, element);\n",
              "        const docLink = document.createElement('div');\n",
              "        docLink.innerHTML = docLinkHtml;\n",
              "        element.appendChild(docLink);\n",
              "      }\n",
              "    </script>\n",
              "  </div>\n",
              "\n",
              "\n",
              "<div id=\"df-ac8092c1-046a-4bc3-846b-6073c5236634\">\n",
              "  <button class=\"colab-df-quickchart\" onclick=\"quickchart('df-ac8092c1-046a-4bc3-846b-6073c5236634')\"\n",
              "            title=\"Suggest charts\"\n",
              "            style=\"display:none;\">\n",
              "\n",
              "<svg xmlns=\"http://www.w3.org/2000/svg\" height=\"24px\"viewBox=\"0 0 24 24\"\n",
              "     width=\"24px\">\n",
              "    <g>\n",
              "        <path d=\"M19 3H5c-1.1 0-2 .9-2 2v14c0 1.1.9 2 2 2h14c1.1 0 2-.9 2-2V5c0-1.1-.9-2-2-2zM9 17H7v-7h2v7zm4 0h-2V7h2v10zm4 0h-2v-4h2v4z\"/>\n",
              "    </g>\n",
              "</svg>\n",
              "  </button>\n",
              "\n",
              "<style>\n",
              "  .colab-df-quickchart {\n",
              "      --bg-color: #E8F0FE;\n",
              "      --fill-color: #1967D2;\n",
              "      --hover-bg-color: #E2EBFA;\n",
              "      --hover-fill-color: #174EA6;\n",
              "      --disabled-fill-color: #AAA;\n",
              "      --disabled-bg-color: #DDD;\n",
              "  }\n",
              "\n",
              "  [theme=dark] .colab-df-quickchart {\n",
              "      --bg-color: #3B4455;\n",
              "      --fill-color: #D2E3FC;\n",
              "      --hover-bg-color: #434B5C;\n",
              "      --hover-fill-color: #FFFFFF;\n",
              "      --disabled-bg-color: #3B4455;\n",
              "      --disabled-fill-color: #666;\n",
              "  }\n",
              "\n",
              "  .colab-df-quickchart {\n",
              "    background-color: var(--bg-color);\n",
              "    border: none;\n",
              "    border-radius: 50%;\n",
              "    cursor: pointer;\n",
              "    display: none;\n",
              "    fill: var(--fill-color);\n",
              "    height: 32px;\n",
              "    padding: 0;\n",
              "    width: 32px;\n",
              "  }\n",
              "\n",
              "  .colab-df-quickchart:hover {\n",
              "    background-color: var(--hover-bg-color);\n",
              "    box-shadow: 0 1px 2px rgba(60, 64, 67, 0.3), 0 1px 3px 1px rgba(60, 64, 67, 0.15);\n",
              "    fill: var(--button-hover-fill-color);\n",
              "  }\n",
              "\n",
              "  .colab-df-quickchart-complete:disabled,\n",
              "  .colab-df-quickchart-complete:disabled:hover {\n",
              "    background-color: var(--disabled-bg-color);\n",
              "    fill: var(--disabled-fill-color);\n",
              "    box-shadow: none;\n",
              "  }\n",
              "\n",
              "  .colab-df-spinner {\n",
              "    border: 2px solid var(--fill-color);\n",
              "    border-color: transparent;\n",
              "    border-bottom-color: var(--fill-color);\n",
              "    animation:\n",
              "      spin 1s steps(1) infinite;\n",
              "  }\n",
              "\n",
              "  @keyframes spin {\n",
              "    0% {\n",
              "      border-color: transparent;\n",
              "      border-bottom-color: var(--fill-color);\n",
              "      border-left-color: var(--fill-color);\n",
              "    }\n",
              "    20% {\n",
              "      border-color: transparent;\n",
              "      border-left-color: var(--fill-color);\n",
              "      border-top-color: var(--fill-color);\n",
              "    }\n",
              "    30% {\n",
              "      border-color: transparent;\n",
              "      border-left-color: var(--fill-color);\n",
              "      border-top-color: var(--fill-color);\n",
              "      border-right-color: var(--fill-color);\n",
              "    }\n",
              "    40% {\n",
              "      border-color: transparent;\n",
              "      border-right-color: var(--fill-color);\n",
              "      border-top-color: var(--fill-color);\n",
              "    }\n",
              "    60% {\n",
              "      border-color: transparent;\n",
              "      border-right-color: var(--fill-color);\n",
              "    }\n",
              "    80% {\n",
              "      border-color: transparent;\n",
              "      border-right-color: var(--fill-color);\n",
              "      border-bottom-color: var(--fill-color);\n",
              "    }\n",
              "    90% {\n",
              "      border-color: transparent;\n",
              "      border-bottom-color: var(--fill-color);\n",
              "    }\n",
              "  }\n",
              "</style>\n",
              "\n",
              "  <script>\n",
              "    async function quickchart(key) {\n",
              "      const quickchartButtonEl =\n",
              "        document.querySelector('#' + key + ' button');\n",
              "      quickchartButtonEl.disabled = true;  // To prevent multiple clicks.\n",
              "      quickchartButtonEl.classList.add('colab-df-spinner');\n",
              "      try {\n",
              "        const charts = await google.colab.kernel.invokeFunction(\n",
              "            'suggestCharts', [key], {});\n",
              "      } catch (error) {\n",
              "        console.error('Error during call to suggestCharts:', error);\n",
              "      }\n",
              "      quickchartButtonEl.classList.remove('colab-df-spinner');\n",
              "      quickchartButtonEl.classList.add('colab-df-quickchart-complete');\n",
              "    }\n",
              "    (() => {\n",
              "      let quickchartButtonEl =\n",
              "        document.querySelector('#df-ac8092c1-046a-4bc3-846b-6073c5236634 button');\n",
              "      quickchartButtonEl.style.display =\n",
              "        google.colab.kernel.accessAllowed ? 'block' : 'none';\n",
              "    })();\n",
              "  </script>\n",
              "</div>\n",
              "\n",
              "    </div>\n",
              "  </div>\n"
            ],
            "application/vnd.google.colaboratory.intrinsic+json": {
              "type": "dataframe",
              "variable_name": "df",
              "summary": "{\n  \"name\": \"df\",\n  \"rows\": 558,\n  \"fields\": [\n    {\n      \"column\": \"text\",\n      \"properties\": {\n        \"dtype\": \"string\",\n        \"num_unique_values\": 558,\n        \"samples\": [\n          \"\\u0d91\\u0dc4\\u0dd9\\u0db1\\u0db8\\u0dca \\u0d85\\u0daf \\u0d89\\u0db3\\u0dbd \\u0dbb\\u0da7\\u0dba\\u0db1\\u0dca\\u0db1 \\u0db4\\u0dcf\\u0dc3\\u0dca\\u0db4\\u0ddd\\u0da7\\u0dca \\u0dc4\\u0daf\\u0db1\\u0dca\\u0db1 \\u0d95\\u0db1\\u0dca\\u0db1\\u0dd1\\u0daf\\u0d9a\\u0dd4\\u0dab\\u0dd4\\u0d9a\\u0dd9\\u0dc5\\u0dc0\\u0dbb\\u0da7 \\u0d9c\\u0dd2\\u0dba\\u0dcf\\u0db1\\u0db8\\u0dca \\u0d95\\u0db1 \\u0dbb\\u0da7\\u0d9a\\u0da7 \\u0d8b\\u0da9\\u0dd2\\u0db1\\u0dca \\u0dba\\u0db1\\u0dca\\u0db1 \\u0db4\\u0dd4\\u0dbd\\u0dd4\\u0dc0\\u0db1\\u0dca\",\n          \"\\u0da2\\u0db1\\u0dcf\\u0db0\\u0dd2\\u0db4\\u0dad\\u0dd2 \\u0dbb\\u0db1\\u0dd2\\u0dbd\\u0dca \\u0dc0\\u0dd2\\u0d9a\\u0dca \\u0dbb\\u0db8\\u0dc3\\u0dd2\\u0d82\\u0dc4 \\u0db8\\u0dd0\\u0dad\\u0dd2\\u0dad\\u0dd4\\u0db8\\u0dcf \\u0dc0\\u0dd9\\u0db1\\u0dd4\\u0dc0\\u0dd9\\u0db1\\u0dca \\u0d85\\u0db4\\u0dd2 \\u0dc3\\u0dd2\\u0dba\\u0dbd\\u0dd4 \\u0dc3\\u0dc4\\u0dba\\u0ddd\\u0d9c\\u0dba \\u0dbd\\u0db6\\u0dcf\\u0daf\\u0dd2\\u0dba \\u0dba\\u0dd4\\u0dad\\u0dd4\\u0db8\\u0dba\\u0dd2      \\u0dad\\u0dca \\u0dbb\\u0dc3\\u0dad\\u0dc0\\u0dcf\\u0daf\\u0dd3\\u0db1\\u0dca \\u0da7 \\u0db1\\u0dd0\\u0dc0\\u0dad \\u0d85\\u0dc0\\u0dc3\\u0dae\\u0dcf\\u0dc0 \\u0db1\\u0ddc\\u0daf\\u0dd2\\u0dba \\u0dba\\u0dd4\\u0dad\\u0dd4\\u0dba\\u0dd2 \",\n          \"\\u0d85\\u0db1\\u0dd4\\u0dbb\\u0d9a\\u0dd4\\u0db8\\u0dcf\\u0dbb \\u0d9a\\u0dd2\\u0dc0\\u0dca\\u0dc0\\u0dd9 \\u0d95\\u0d9a \\u0dbb\\u0dcf\\u0da2\\u0db4\\u0d9a\\u0dca\\u0dc2 \\u0d9c\\u0dd9 \\u0dc4\\u0ddc\\u0dbb \\u0dc0\\u0dd0\\u0da9\\u0d9a\\u0dca \\u0d9a\\u0dd2\\u0dba\\u0dbd\"\n        ],\n        \"semantic_type\": \"\",\n        \"description\": \"\"\n      }\n    },\n    {\n      \"column\": \"Label\",\n      \"properties\": {\n        \"dtype\": \"category\",\n        \"num_unique_values\": 4,\n        \"samples\": [\n          \"Negative\",\n          \"positive\",\n          \"Positive\"\n        ],\n        \"semantic_type\": \"\",\n        \"description\": \"\"\n      }\n    },\n    {\n      \"column\": \"Domain\",\n      \"properties\": {\n        \"dtype\": \"number\",\n        \"std\": 0,\n        \"min\": 0,\n        \"max\": 1,\n        \"num_unique_values\": 2,\n        \"samples\": [\n          0,\n          1\n        ],\n        \"semantic_type\": \"\",\n        \"description\": \"\"\n      }\n    },\n    {\n      \"column\": \"About\",\n      \"properties\": {\n        \"dtype\": \"category\",\n        \"num_unique_values\": 11,\n        \"samples\": [\n          \"NPP\",\n          \"Rajapaksha\"\n        ],\n        \"semantic_type\": \"\",\n        \"description\": \"\"\n      }\n    }\n  ]\n}"
            }
          },
          "metadata": {},
          "execution_count": 35
        }
      ]
    },
    {
      "cell_type": "code",
      "source": [
        "\n",
        "data_texts = df['text'].to_list()\n",
        "\n",
        "data_labels = df['Domain'].to_list()"
      ],
      "metadata": {
        "id": "iFj3i46u1qXZ"
      },
      "execution_count": null,
      "outputs": []
    },
    {
      "cell_type": "code",
      "source": [
        "label_set = set(data_labels)"
      ],
      "metadata": {
        "id": "PwNXGzDf1tt_"
      },
      "execution_count": null,
      "outputs": []
    },
    {
      "cell_type": "code",
      "source": [
        "label_set"
      ],
      "metadata": {
        "colab": {
          "base_uri": "https://localhost:8080/"
        },
        "id": "ug0GZ5GS1zbN",
        "outputId": "03f46803-3b7e-4a2a-819a-f3c75c7d8712"
      },
      "execution_count": null,
      "outputs": [
        {
          "output_type": "execute_result",
          "data": {
            "text/plain": [
              "{0, 1}"
            ]
          },
          "metadata": {},
          "execution_count": 38
        }
      ]
    },
    {
      "cell_type": "code",
      "source": [
        "df.head()"
      ],
      "metadata": {
        "colab": {
          "base_uri": "https://localhost:8080/",
          "height": 226
        },
        "id": "fHqtBJjQ11Bb",
        "outputId": "d5eb032d-fff1-47f6-b200-81d5c9f22146"
      },
      "execution_count": null,
      "outputs": [
        {
          "output_type": "execute_result",
          "data": {
            "text/plain": [
              "                                                  text     Label  Domain  \\\n",
              "673  මොනව කලත් ඒ වෙලාවෙි කොන්ද කෙලින් තියාගන තීරණගත...  Positive       1   \n",
              "840           රටේ ඉන්න පව් කාරයෝ ටික නැති වෙලා යන්න ඕන  Negative       0   \n",
              "37   ඔය වගේ  සාකච්ඡා වලට කය්ය නායකයිනට  මහින්දලට කත...  Positive       1   \n",
              "949    ඔයා තන්හාවට අගමැති නොවි හිටියනම් ඔය මුකුත් නැනේ  Negative       1   \n",
              "476  කවුරුහරි මෙවැනි නිවුස් කල්යල් බලා කැට දානවා  හ...  Negative       1   \n",
              "\n",
              "          About  \n",
              "673  Rajapaksha  \n",
              "840         NaN  \n",
              "37        Ranil  \n",
              "949       Ranil  \n",
              "476         225  "
            ],
            "text/html": [
              "\n",
              "  <div id=\"df-5871cc62-78c9-46a7-9ca1-7902b80ba398\" class=\"colab-df-container\">\n",
              "    <div>\n",
              "<style scoped>\n",
              "    .dataframe tbody tr th:only-of-type {\n",
              "        vertical-align: middle;\n",
              "    }\n",
              "\n",
              "    .dataframe tbody tr th {\n",
              "        vertical-align: top;\n",
              "    }\n",
              "\n",
              "    .dataframe thead th {\n",
              "        text-align: right;\n",
              "    }\n",
              "</style>\n",
              "<table border=\"1\" class=\"dataframe\">\n",
              "  <thead>\n",
              "    <tr style=\"text-align: right;\">\n",
              "      <th></th>\n",
              "      <th>text</th>\n",
              "      <th>Label</th>\n",
              "      <th>Domain</th>\n",
              "      <th>About</th>\n",
              "    </tr>\n",
              "  </thead>\n",
              "  <tbody>\n",
              "    <tr>\n",
              "      <th>673</th>\n",
              "      <td>මොනව කලත් ඒ වෙලාවෙි කොන්ද කෙලින් තියාගන තීරණගත...</td>\n",
              "      <td>Positive</td>\n",
              "      <td>1</td>\n",
              "      <td>Rajapaksha</td>\n",
              "    </tr>\n",
              "    <tr>\n",
              "      <th>840</th>\n",
              "      <td>රටේ ඉන්න පව් කාරයෝ ටික නැති වෙලා යන්න ඕන</td>\n",
              "      <td>Negative</td>\n",
              "      <td>0</td>\n",
              "      <td>NaN</td>\n",
              "    </tr>\n",
              "    <tr>\n",
              "      <th>37</th>\n",
              "      <td>ඔය වගේ  සාකච්ඡා වලට කය්ය නායකයිනට  මහින්දලට කත...</td>\n",
              "      <td>Positive</td>\n",
              "      <td>1</td>\n",
              "      <td>Ranil</td>\n",
              "    </tr>\n",
              "    <tr>\n",
              "      <th>949</th>\n",
              "      <td>ඔයා තන්හාවට අගමැති නොවි හිටියනම් ඔය මුකුත් නැනේ</td>\n",
              "      <td>Negative</td>\n",
              "      <td>1</td>\n",
              "      <td>Ranil</td>\n",
              "    </tr>\n",
              "    <tr>\n",
              "      <th>476</th>\n",
              "      <td>කවුරුහරි මෙවැනි නිවුස් කල්යල් බලා කැට දානවා  හ...</td>\n",
              "      <td>Negative</td>\n",
              "      <td>1</td>\n",
              "      <td>225</td>\n",
              "    </tr>\n",
              "  </tbody>\n",
              "</table>\n",
              "</div>\n",
              "    <div class=\"colab-df-buttons\">\n",
              "\n",
              "  <div class=\"colab-df-container\">\n",
              "    <button class=\"colab-df-convert\" onclick=\"convertToInteractive('df-5871cc62-78c9-46a7-9ca1-7902b80ba398')\"\n",
              "            title=\"Convert this dataframe to an interactive table.\"\n",
              "            style=\"display:none;\">\n",
              "\n",
              "  <svg xmlns=\"http://www.w3.org/2000/svg\" height=\"24px\" viewBox=\"0 -960 960 960\">\n",
              "    <path d=\"M120-120v-720h720v720H120Zm60-500h600v-160H180v160Zm220 220h160v-160H400v160Zm0 220h160v-160H400v160ZM180-400h160v-160H180v160Zm440 0h160v-160H620v160ZM180-180h160v-160H180v160Zm440 0h160v-160H620v160Z\"/>\n",
              "  </svg>\n",
              "    </button>\n",
              "\n",
              "  <style>\n",
              "    .colab-df-container {\n",
              "      display:flex;\n",
              "      gap: 12px;\n",
              "    }\n",
              "\n",
              "    .colab-df-convert {\n",
              "      background-color: #E8F0FE;\n",
              "      border: none;\n",
              "      border-radius: 50%;\n",
              "      cursor: pointer;\n",
              "      display: none;\n",
              "      fill: #1967D2;\n",
              "      height: 32px;\n",
              "      padding: 0 0 0 0;\n",
              "      width: 32px;\n",
              "    }\n",
              "\n",
              "    .colab-df-convert:hover {\n",
              "      background-color: #E2EBFA;\n",
              "      box-shadow: 0px 1px 2px rgba(60, 64, 67, 0.3), 0px 1px 3px 1px rgba(60, 64, 67, 0.15);\n",
              "      fill: #174EA6;\n",
              "    }\n",
              "\n",
              "    .colab-df-buttons div {\n",
              "      margin-bottom: 4px;\n",
              "    }\n",
              "\n",
              "    [theme=dark] .colab-df-convert {\n",
              "      background-color: #3B4455;\n",
              "      fill: #D2E3FC;\n",
              "    }\n",
              "\n",
              "    [theme=dark] .colab-df-convert:hover {\n",
              "      background-color: #434B5C;\n",
              "      box-shadow: 0px 1px 3px 1px rgba(0, 0, 0, 0.15);\n",
              "      filter: drop-shadow(0px 1px 2px rgba(0, 0, 0, 0.3));\n",
              "      fill: #FFFFFF;\n",
              "    }\n",
              "  </style>\n",
              "\n",
              "    <script>\n",
              "      const buttonEl =\n",
              "        document.querySelector('#df-5871cc62-78c9-46a7-9ca1-7902b80ba398 button.colab-df-convert');\n",
              "      buttonEl.style.display =\n",
              "        google.colab.kernel.accessAllowed ? 'block' : 'none';\n",
              "\n",
              "      async function convertToInteractive(key) {\n",
              "        const element = document.querySelector('#df-5871cc62-78c9-46a7-9ca1-7902b80ba398');\n",
              "        const dataTable =\n",
              "          await google.colab.kernel.invokeFunction('convertToInteractive',\n",
              "                                                    [key], {});\n",
              "        if (!dataTable) return;\n",
              "\n",
              "        const docLinkHtml = 'Like what you see? Visit the ' +\n",
              "          '<a target=\"_blank\" href=https://colab.research.google.com/notebooks/data_table.ipynb>data table notebook</a>'\n",
              "          + ' to learn more about interactive tables.';\n",
              "        element.innerHTML = '';\n",
              "        dataTable['output_type'] = 'display_data';\n",
              "        await google.colab.output.renderOutput(dataTable, element);\n",
              "        const docLink = document.createElement('div');\n",
              "        docLink.innerHTML = docLinkHtml;\n",
              "        element.appendChild(docLink);\n",
              "      }\n",
              "    </script>\n",
              "  </div>\n",
              "\n",
              "\n",
              "<div id=\"df-46c62e38-71c0-4d66-a430-52cfe9ac0523\">\n",
              "  <button class=\"colab-df-quickchart\" onclick=\"quickchart('df-46c62e38-71c0-4d66-a430-52cfe9ac0523')\"\n",
              "            title=\"Suggest charts\"\n",
              "            style=\"display:none;\">\n",
              "\n",
              "<svg xmlns=\"http://www.w3.org/2000/svg\" height=\"24px\"viewBox=\"0 0 24 24\"\n",
              "     width=\"24px\">\n",
              "    <g>\n",
              "        <path d=\"M19 3H5c-1.1 0-2 .9-2 2v14c0 1.1.9 2 2 2h14c1.1 0 2-.9 2-2V5c0-1.1-.9-2-2-2zM9 17H7v-7h2v7zm4 0h-2V7h2v10zm4 0h-2v-4h2v4z\"/>\n",
              "    </g>\n",
              "</svg>\n",
              "  </button>\n",
              "\n",
              "<style>\n",
              "  .colab-df-quickchart {\n",
              "      --bg-color: #E8F0FE;\n",
              "      --fill-color: #1967D2;\n",
              "      --hover-bg-color: #E2EBFA;\n",
              "      --hover-fill-color: #174EA6;\n",
              "      --disabled-fill-color: #AAA;\n",
              "      --disabled-bg-color: #DDD;\n",
              "  }\n",
              "\n",
              "  [theme=dark] .colab-df-quickchart {\n",
              "      --bg-color: #3B4455;\n",
              "      --fill-color: #D2E3FC;\n",
              "      --hover-bg-color: #434B5C;\n",
              "      --hover-fill-color: #FFFFFF;\n",
              "      --disabled-bg-color: #3B4455;\n",
              "      --disabled-fill-color: #666;\n",
              "  }\n",
              "\n",
              "  .colab-df-quickchart {\n",
              "    background-color: var(--bg-color);\n",
              "    border: none;\n",
              "    border-radius: 50%;\n",
              "    cursor: pointer;\n",
              "    display: none;\n",
              "    fill: var(--fill-color);\n",
              "    height: 32px;\n",
              "    padding: 0;\n",
              "    width: 32px;\n",
              "  }\n",
              "\n",
              "  .colab-df-quickchart:hover {\n",
              "    background-color: var(--hover-bg-color);\n",
              "    box-shadow: 0 1px 2px rgba(60, 64, 67, 0.3), 0 1px 3px 1px rgba(60, 64, 67, 0.15);\n",
              "    fill: var(--button-hover-fill-color);\n",
              "  }\n",
              "\n",
              "  .colab-df-quickchart-complete:disabled,\n",
              "  .colab-df-quickchart-complete:disabled:hover {\n",
              "    background-color: var(--disabled-bg-color);\n",
              "    fill: var(--disabled-fill-color);\n",
              "    box-shadow: none;\n",
              "  }\n",
              "\n",
              "  .colab-df-spinner {\n",
              "    border: 2px solid var(--fill-color);\n",
              "    border-color: transparent;\n",
              "    border-bottom-color: var(--fill-color);\n",
              "    animation:\n",
              "      spin 1s steps(1) infinite;\n",
              "  }\n",
              "\n",
              "  @keyframes spin {\n",
              "    0% {\n",
              "      border-color: transparent;\n",
              "      border-bottom-color: var(--fill-color);\n",
              "      border-left-color: var(--fill-color);\n",
              "    }\n",
              "    20% {\n",
              "      border-color: transparent;\n",
              "      border-left-color: var(--fill-color);\n",
              "      border-top-color: var(--fill-color);\n",
              "    }\n",
              "    30% {\n",
              "      border-color: transparent;\n",
              "      border-left-color: var(--fill-color);\n",
              "      border-top-color: var(--fill-color);\n",
              "      border-right-color: var(--fill-color);\n",
              "    }\n",
              "    40% {\n",
              "      border-color: transparent;\n",
              "      border-right-color: var(--fill-color);\n",
              "      border-top-color: var(--fill-color);\n",
              "    }\n",
              "    60% {\n",
              "      border-color: transparent;\n",
              "      border-right-color: var(--fill-color);\n",
              "    }\n",
              "    80% {\n",
              "      border-color: transparent;\n",
              "      border-right-color: var(--fill-color);\n",
              "      border-bottom-color: var(--fill-color);\n",
              "    }\n",
              "    90% {\n",
              "      border-color: transparent;\n",
              "      border-bottom-color: var(--fill-color);\n",
              "    }\n",
              "  }\n",
              "</style>\n",
              "\n",
              "  <script>\n",
              "    async function quickchart(key) {\n",
              "      const quickchartButtonEl =\n",
              "        document.querySelector('#' + key + ' button');\n",
              "      quickchartButtonEl.disabled = true;  // To prevent multiple clicks.\n",
              "      quickchartButtonEl.classList.add('colab-df-spinner');\n",
              "      try {\n",
              "        const charts = await google.colab.kernel.invokeFunction(\n",
              "            'suggestCharts', [key], {});\n",
              "      } catch (error) {\n",
              "        console.error('Error during call to suggestCharts:', error);\n",
              "      }\n",
              "      quickchartButtonEl.classList.remove('colab-df-spinner');\n",
              "      quickchartButtonEl.classList.add('colab-df-quickchart-complete');\n",
              "    }\n",
              "    (() => {\n",
              "      let quickchartButtonEl =\n",
              "        document.querySelector('#df-46c62e38-71c0-4d66-a430-52cfe9ac0523 button');\n",
              "      quickchartButtonEl.style.display =\n",
              "        google.colab.kernel.accessAllowed ? 'block' : 'none';\n",
              "    })();\n",
              "  </script>\n",
              "</div>\n",
              "\n",
              "    </div>\n",
              "  </div>\n"
            ],
            "application/vnd.google.colaboratory.intrinsic+json": {
              "type": "dataframe",
              "variable_name": "df",
              "summary": "{\n  \"name\": \"df\",\n  \"rows\": 558,\n  \"fields\": [\n    {\n      \"column\": \"text\",\n      \"properties\": {\n        \"dtype\": \"string\",\n        \"num_unique_values\": 558,\n        \"samples\": [\n          \"\\u0d91\\u0dc4\\u0dd9\\u0db1\\u0db8\\u0dca \\u0d85\\u0daf \\u0d89\\u0db3\\u0dbd \\u0dbb\\u0da7\\u0dba\\u0db1\\u0dca\\u0db1 \\u0db4\\u0dcf\\u0dc3\\u0dca\\u0db4\\u0ddd\\u0da7\\u0dca \\u0dc4\\u0daf\\u0db1\\u0dca\\u0db1 \\u0d95\\u0db1\\u0dca\\u0db1\\u0dd1\\u0daf\\u0d9a\\u0dd4\\u0dab\\u0dd4\\u0d9a\\u0dd9\\u0dc5\\u0dc0\\u0dbb\\u0da7 \\u0d9c\\u0dd2\\u0dba\\u0dcf\\u0db1\\u0db8\\u0dca \\u0d95\\u0db1 \\u0dbb\\u0da7\\u0d9a\\u0da7 \\u0d8b\\u0da9\\u0dd2\\u0db1\\u0dca \\u0dba\\u0db1\\u0dca\\u0db1 \\u0db4\\u0dd4\\u0dbd\\u0dd4\\u0dc0\\u0db1\\u0dca\",\n          \"\\u0da2\\u0db1\\u0dcf\\u0db0\\u0dd2\\u0db4\\u0dad\\u0dd2 \\u0dbb\\u0db1\\u0dd2\\u0dbd\\u0dca \\u0dc0\\u0dd2\\u0d9a\\u0dca \\u0dbb\\u0db8\\u0dc3\\u0dd2\\u0d82\\u0dc4 \\u0db8\\u0dd0\\u0dad\\u0dd2\\u0dad\\u0dd4\\u0db8\\u0dcf \\u0dc0\\u0dd9\\u0db1\\u0dd4\\u0dc0\\u0dd9\\u0db1\\u0dca \\u0d85\\u0db4\\u0dd2 \\u0dc3\\u0dd2\\u0dba\\u0dbd\\u0dd4 \\u0dc3\\u0dc4\\u0dba\\u0ddd\\u0d9c\\u0dba \\u0dbd\\u0db6\\u0dcf\\u0daf\\u0dd2\\u0dba \\u0dba\\u0dd4\\u0dad\\u0dd4\\u0db8\\u0dba\\u0dd2      \\u0dad\\u0dca \\u0dbb\\u0dc3\\u0dad\\u0dc0\\u0dcf\\u0daf\\u0dd3\\u0db1\\u0dca \\u0da7 \\u0db1\\u0dd0\\u0dc0\\u0dad \\u0d85\\u0dc0\\u0dc3\\u0dae\\u0dcf\\u0dc0 \\u0db1\\u0ddc\\u0daf\\u0dd2\\u0dba \\u0dba\\u0dd4\\u0dad\\u0dd4\\u0dba\\u0dd2 \",\n          \"\\u0d85\\u0db1\\u0dd4\\u0dbb\\u0d9a\\u0dd4\\u0db8\\u0dcf\\u0dbb \\u0d9a\\u0dd2\\u0dc0\\u0dca\\u0dc0\\u0dd9 \\u0d95\\u0d9a \\u0dbb\\u0dcf\\u0da2\\u0db4\\u0d9a\\u0dca\\u0dc2 \\u0d9c\\u0dd9 \\u0dc4\\u0ddc\\u0dbb \\u0dc0\\u0dd0\\u0da9\\u0d9a\\u0dca \\u0d9a\\u0dd2\\u0dba\\u0dbd\"\n        ],\n        \"semantic_type\": \"\",\n        \"description\": \"\"\n      }\n    },\n    {\n      \"column\": \"Label\",\n      \"properties\": {\n        \"dtype\": \"category\",\n        \"num_unique_values\": 4,\n        \"samples\": [\n          \"Negative\",\n          \"positive\",\n          \"Positive\"\n        ],\n        \"semantic_type\": \"\",\n        \"description\": \"\"\n      }\n    },\n    {\n      \"column\": \"Domain\",\n      \"properties\": {\n        \"dtype\": \"number\",\n        \"std\": 0,\n        \"min\": 0,\n        \"max\": 1,\n        \"num_unique_values\": 2,\n        \"samples\": [\n          0,\n          1\n        ],\n        \"semantic_type\": \"\",\n        \"description\": \"\"\n      }\n    },\n    {\n      \"column\": \"About\",\n      \"properties\": {\n        \"dtype\": \"category\",\n        \"num_unique_values\": 11,\n        \"samples\": [\n          \"NPP\",\n          \"Rajapaksha\"\n        ],\n        \"semantic_type\": \"\",\n        \"description\": \"\"\n      }\n    }\n  ]\n}"
            }
          },
          "metadata": {},
          "execution_count": 39
        }
      ]
    },
    {
      "cell_type": "code",
      "source": [
        "import numpy as np\n",
        "contents = [content for content in df.text]\n",
        "\n",
        "max_content_len = 0\n",
        "\n",
        "content_len = []\n",
        "for content in contents:\n",
        "    content_len.append(len(content.split()))\n",
        "    max_content_len = max(len(content.split()), max_content_len)\n",
        "\n",
        "print('Number of contents:', len(contents))\n",
        "print('Max length of the contents:', max_content_len)\n",
        "print('Mean length of the contents:', np.mean(content_len))"
      ],
      "metadata": {
        "colab": {
          "base_uri": "https://localhost:8080/"
        },
        "id": "njmwvrV113I3",
        "outputId": "73d0eeda-ed96-4b82-8720-af2d72fbdd07"
      },
      "execution_count": null,
      "outputs": [
        {
          "output_type": "stream",
          "name": "stdout",
          "text": [
            "Number of contents: 558\n",
            "Max length of the contents: 246\n",
            "Mean length of the contents: 16.017921146953405\n"
          ]
        }
      ]
    },
    {
      "cell_type": "markdown",
      "source": [
        "# Model and Training"
      ],
      "metadata": {
        "id": "uun6WbJb2H9H"
      }
    },
    {
      "cell_type": "code",
      "source": [
        "from transformers import AutoModelForSequenceClassification\n",
        "model = AutoModelForSequenceClassification.from_pretrained('NLPC-UOM/SinBERT-small', num_labels=NUM_LABELS)  #  binary classi"
      ],
      "metadata": {
        "colab": {
          "base_uri": "https://localhost:8080/",
          "height": 240,
          "referenced_widgets": [
            "e2e45816c170463aaa6c08e52ccf7d9b",
            "66959b056d28447d991e7a92cdf69b3c",
            "145be2b17a024236bdbd3f7b16f61539",
            "54b80f7dc4e04df48afcfded362d59a0",
            "02bdcf4c06b9467c8dbf7790bab5e94e",
            "026c60fca7784e7f9eb6864dbd2d733f",
            "4e0bbecf79fd4441abbedfb08c091489",
            "8ea1b08f51874581aa64d16d61902ef9",
            "36767f0f4a6241a3b27d69d9d2b20b54",
            "2c12b5e97e194e8a97e8ef38d21638a4",
            "eeffccc679c047e680a56dbebbe74e0e",
            "abae86800a974dbab4ff9742c9c38c24",
            "d7a934508a334d7a83d9778425f065f2",
            "0395309cc1794dcfbc0822aa02561881",
            "3faab676129c45258825d6a50ee5b051",
            "d8cf8604f9e84a3dbf91fea3679d8303",
            "1048e54cfd12410ea370a05ece29d282",
            "3f5f1a9be54944f297b2502d724baa04",
            "7ab1592b44354d55bd2f97467734b9e6",
            "997cce618d4a4f659f8dafa555f9d111",
            "0f9df10d45dd45788dea0e67e5b7d406",
            "ec2bfe54206d4446a568433a1eb5846c"
          ]
        },
        "id": "gl6O2tCe2jTF",
        "outputId": "600e893c-1ea7-4683-e8c3-1f4081573623"
      },
      "execution_count": null,
      "outputs": [
        {
          "output_type": "stream",
          "name": "stderr",
          "text": [
            "/usr/local/lib/python3.10/dist-packages/huggingface_hub/utils/_token.py:89: UserWarning: \n",
            "The secret `HF_TOKEN` does not exist in your Colab secrets.\n",
            "To authenticate with the Hugging Face Hub, create a token in your settings tab (https://huggingface.co/settings/tokens), set it as secret in your Google Colab and restart your session.\n",
            "You will be able to reuse this secret in all of your notebooks.\n",
            "Please note that authentication is recommended but still optional to access public models or datasets.\n",
            "  warnings.warn(\n"
          ]
        },
        {
          "output_type": "display_data",
          "data": {
            "text/plain": [
              "config.json:   0%|          | 0.00/635 [00:00<?, ?B/s]"
            ],
            "application/vnd.jupyter.widget-view+json": {
              "version_major": 2,
              "version_minor": 0,
              "model_id": "e2e45816c170463aaa6c08e52ccf7d9b"
            }
          },
          "metadata": {}
        },
        {
          "output_type": "display_data",
          "data": {
            "text/plain": [
              "pytorch_model.bin:   0%|          | 0.00/266M [00:00<?, ?B/s]"
            ],
            "application/vnd.jupyter.widget-view+json": {
              "version_major": 2,
              "version_minor": 0,
              "model_id": "abae86800a974dbab4ff9742c9c38c24"
            }
          },
          "metadata": {}
        },
        {
          "output_type": "stream",
          "name": "stderr",
          "text": [
            "Some weights of RobertaForSequenceClassification were not initialized from the model checkpoint at NLPC-UOM/SinBERT-small and are newly initialized: ['classifier.dense.bias', 'classifier.dense.weight', 'classifier.out_proj.bias', 'classifier.out_proj.weight']\n",
            "You should probably TRAIN this model on a down-stream task to be able to use it for predictions and inference.\n"
          ]
        }
      ]
    },
    {
      "cell_type": "code",
      "source": [
        "model.config"
      ],
      "metadata": {
        "colab": {
          "base_uri": "https://localhost:8080/"
        },
        "id": "KLgY-Smp20dc",
        "outputId": "864c42a2-a642-428b-bdfb-9a86fccbbb1d"
      },
      "execution_count": null,
      "outputs": [
        {
          "output_type": "execute_result",
          "data": {
            "text/plain": [
              "RobertaConfig {\n",
              "  \"_name_or_path\": \"NLPC-UOM/SinBERT-small\",\n",
              "  \"architectures\": [\n",
              "    \"RobertaForMaskedLM\"\n",
              "  ],\n",
              "  \"attention_probs_dropout_prob\": 0.1,\n",
              "  \"bos_token_id\": 0,\n",
              "  \"classifier_dropout\": null,\n",
              "  \"eos_token_id\": 2,\n",
              "  \"hidden_act\": \"gelu\",\n",
              "  \"hidden_dropout_prob\": 0.1,\n",
              "  \"hidden_size\": 768,\n",
              "  \"initializer_range\": 0.02,\n",
              "  \"intermediate_size\": 3072,\n",
              "  \"layer_norm_eps\": 1e-12,\n",
              "  \"max_position_embeddings\": 514,\n",
              "  \"model_type\": \"roberta\",\n",
              "  \"num_attention_heads\": 6,\n",
              "  \"num_hidden_layers\": 6,\n",
              "  \"pad_token_id\": 1,\n",
              "  \"position_embedding_type\": \"absolute\",\n",
              "  \"torch_dtype\": \"float32\",\n",
              "  \"transformers_version\": \"4.42.4\",\n",
              "  \"type_vocab_size\": 1,\n",
              "  \"use_cache\": true,\n",
              "  \"vocab_size\": 30000\n",
              "}"
            ]
          },
          "metadata": {},
          "execution_count": 42
        }
      ]
    },
    {
      "cell_type": "markdown",
      "source": [
        "# Train, Test, Validation Split"
      ],
      "metadata": {
        "id": "6MkUCzIb3NnB"
      }
    },
    {
      "cell_type": "code",
      "source": [
        "from sklearn.model_selection import train_test_split\n",
        "train_df, temp_df = train_test_split(df, test_size=0.2, random_state=42)\n",
        "val_df, test_df = train_test_split(temp_df, test_size=0.5, random_state=42)"
      ],
      "metadata": {
        "id": "uUv4-_7y29yC"
      },
      "execution_count": null,
      "outputs": []
    },
    {
      "cell_type": "code",
      "source": [
        "from transformers import AutoTokenizer, AutoModelForMaskedLM\n",
        "tokenizer = AutoTokenizer.from_pretrained(\"NLPC-UOM/SinBERT-small\",force_download = True)\n",
        "\n",
        "# train_encodings = tokenizer(train_texts,max_length = 512, truncation = True, padding = \"max_length\"  )\n",
        "\n",
        "# val_encodings = tokenizer(val_texts, max_length = 512,truncation = True, padding = \"max_length\" )\n",
        "\n",
        "# test_encodings = tokenizer(test_texts, max_length = 512,truncation = True, padding = \"max_length\" )\n"
      ],
      "metadata": {
        "colab": {
          "base_uri": "https://localhost:8080/",
          "height": 133,
          "referenced_widgets": [
            "71a4c19e6c3d490b84ae4754a0b76d53",
            "fdb7cedb1bda4d12b58c02bf9565f59a",
            "84b3595f740c438095dc54b28c80b346",
            "b28b3fde7ccc4231a98a433af1606140",
            "933d14eb0a2b4b50b3d70241a5f7e103",
            "dd1cf86d1bea451e95b9d8c91f867985",
            "1ff051b4d2cb42efb33c966646d5c339",
            "02a3ebeb548c4ff39a9b72db0535bb42",
            "4acbf04612cb48fb8e0afc7c5403b152",
            "6981107fb352478db9b5d6b1aef5ca41",
            "f661b6d90eba469baa4d8cbe46e9d01d",
            "eca6b5acf1bf4a03a0952b9c9fa4189f",
            "6ee193f4301f4877ba256fa17c6f192d",
            "c23b1be201784aba8cf6ed72e90c3a6e",
            "3e11395b66714050b80f31b77570d14f",
            "43ff4f99ccd840babf1ec15de5c7ac6a",
            "8adcb819b6bc4634abdbb44f7afa0fc3",
            "6c1c6c960a74459a94c3d77f5800d7dc",
            "304e487250614aa795adae1286065877",
            "cde6066582e749409d81fefe555ef289",
            "f3579f0109ab4da485eeff462a07342e",
            "01f627231ee7432d84ec27df89937191",
            "c20f7efde9504692a714e98b5daa3609",
            "598aec6cccff4b79a97d5fad53dd81b4",
            "17e4c250f765486380a266344c50ae01",
            "1bc7bbdc9909467cb5d056f6cbd2c1d7",
            "9943dacb56624ecab507ac15ae2b8353",
            "251750591e6d46ff9c60b81a0ec6fca9",
            "29d1470d7a2341429f427c00c2ff9ed4",
            "3f8c31609bca41d6943750b7b0fa24de",
            "7df3bf955f59459cbec14d049162c153",
            "47d76c49e66448488a5db67c5504e120",
            "fa14bc483b424829b4fdfd9ca749c9aa"
          ]
        },
        "id": "5LLG0ROv3TRX",
        "outputId": "4e49f685-38ba-4842-ad48-0c8a97b17b0a"
      },
      "execution_count": null,
      "outputs": [
        {
          "output_type": "display_data",
          "data": {
            "text/plain": [
              "config.json:   0%|          | 0.00/635 [00:00<?, ?B/s]"
            ],
            "application/vnd.jupyter.widget-view+json": {
              "version_major": 2,
              "version_minor": 0,
              "model_id": "71a4c19e6c3d490b84ae4754a0b76d53"
            }
          },
          "metadata": {}
        },
        {
          "output_type": "display_data",
          "data": {
            "text/plain": [
              "vocab.json:   0%|          | 0.00/839k [00:00<?, ?B/s]"
            ],
            "application/vnd.jupyter.widget-view+json": {
              "version_major": 2,
              "version_minor": 0,
              "model_id": "eca6b5acf1bf4a03a0952b9c9fa4189f"
            }
          },
          "metadata": {}
        },
        {
          "output_type": "display_data",
          "data": {
            "text/plain": [
              "merges.txt:   0%|          | 0.00/639k [00:00<?, ?B/s]"
            ],
            "application/vnd.jupyter.widget-view+json": {
              "version_major": 2,
              "version_minor": 0,
              "model_id": "c20f7efde9504692a714e98b5daa3609"
            }
          },
          "metadata": {}
        }
      ]
    },
    {
      "cell_type": "code",
      "source": [
        "import torch\n",
        "from torch.utils.data import TensorDataset, DataLoader, RandomSampler, SequentialSampler\n",
        "from tqdm import tqdm\n",
        "from sklearn.metrics import accuracy_score\n",
        "from torch.utils.data import Dataset"
      ],
      "metadata": {
        "id": "Q3KL1gFT4h5E"
      },
      "execution_count": null,
      "outputs": []
    },
    {
      "cell_type": "code",
      "source": [
        "class FakeNewsDataset(Dataset):\n",
        "    def __init__(self, data, tokenizer, max_length=208):\n",
        "        self.data = data\n",
        "        self.tokenizer = tokenizer\n",
        "        self.max_length = max_length\n",
        "\n",
        "    def __len__(self):\n",
        "        return len(self.data)\n",
        "\n",
        "    def __getitem__(self, idx):\n",
        "        text = self.data.iloc[idx]['text']\n",
        "        label = torch.tensor(self.data.iloc[idx]['Domain'], dtype=torch.long)\n",
        "\n",
        "        encoding = self.tokenizer.encode_plus(\n",
        "            text,\n",
        "            add_special_tokens=True,\n",
        "            truncation=True,\n",
        "            max_length=self.max_length,\n",
        "            padding='max_length',\n",
        "            return_tensors='pt'\n",
        "        )\n",
        "\n",
        "        input_ids = encoding['input_ids'].squeeze()\n",
        "        attention_mask = encoding['attention_mask'].squeeze()\n",
        "\n",
        "        return {'input_ids': input_ids, 'attention_mask': attention_mask, 'label': label}\n",
        "\n",
        "\n",
        "# model to GPU if available\n",
        "device = torch.device(\"cuda:0\" if torch.cuda.is_available() else \"cpu\")\n",
        "model = model.to(device)\n",
        "\n",
        "# Create datasets and data loaders\n",
        "train_dataset = FakeNewsDataset(train_df, tokenizer)\n",
        "val_dataset = FakeNewsDataset(val_df, tokenizer)\n",
        "test_dataset = FakeNewsDataset(test_df, tokenizer)\n",
        "\n",
        "train_loader = DataLoader(train_dataset, batch_size=32, shuffle=True)\n",
        "val_loader = DataLoader(val_dataset, batch_size=32, shuffle=False)\n",
        "test_loader = DataLoader(test_dataset, batch_size=32, shuffle=False)\n",
        "\n",
        "# Set up optimizer and loss function\n",
        "optimizer = torch.optim.Adam(model.parameters(), lr=5e-6)\n",
        "criterion = torch.nn.CrossEntropyLoss()\n",
        "\n",
        "# Training loop\n",
        "NUM_EPOCHS = 50\n",
        "train_losses = []\n",
        "val_losses = []\n",
        "val_accuracies = []\n",
        "train_accuracies = []\n",
        "test_accuracies = []\n",
        "\n",
        "for epoch in range(NUM_EPOCHS):\n",
        "    # Training\n",
        "    model.train()\n",
        "    train_loss = 0.0\n",
        "    all_preds = []\n",
        "    all_labels = []\n",
        "\n",
        "    loop = tqdm(train_loader)\n",
        "    for batch in loop:\n",
        "        input_ids = batch['input_ids'].to(device)\n",
        "        attention_mask = batch['attention_mask'].to(device)\n",
        "        labels = batch['label'].to(device)\n",
        "\n",
        "        optimizer.zero_grad()\n",
        "        outputs = model(input_ids, attention_mask=attention_mask, labels=labels)\n",
        "        loss = outputs.loss\n",
        "        loss.backward()\n",
        "        optimizer.step()\n",
        "\n",
        "        _, preds = torch.max(outputs.logits, 1)\n",
        "\n",
        "        all_preds.extend(preds.cpu().tolist())\n",
        "        all_labels.extend(labels.cpu().tolist())\n",
        "\n",
        "        train_loss += loss.item()\n",
        "\n",
        "        loop.set_description(f\"Epoch [{epoch+1}/{NUM_EPOCHS}]\")\n",
        "        loop.set_postfix(loss=train_loss / len(loop), acc=accuracy_score(all_preds, all_labels))\n",
        "\n",
        "    # Validation\n",
        "    model.eval()\n",
        "    val_loss = 0.0\n",
        "    val_preds = []\n",
        "    val_labels = []\n",
        "\n",
        "    with torch.no_grad():\n",
        "        for batch in tqdm(val_loader):\n",
        "            input_ids = batch['input_ids'].to(device)\n",
        "            attention_mask = batch['attention_mask'].to(device)\n",
        "            labels = batch['label'].to(device)\n",
        "\n",
        "            outputs = model(input_ids, attention_mask=attention_mask, labels=labels)\n",
        "            loss = outputs.loss\n",
        "            _, preds = torch.max(outputs.logits, 1)\n",
        "\n",
        "            val_preds.extend(preds.cpu().tolist())\n",
        "            val_labels.extend(labels.cpu().tolist())\n",
        "\n",
        "            val_loss += loss.item()\n",
        "\n",
        "# training\n",
        "    model.eval()\n",
        "    test_loss = 0.0\n",
        "    all_test_preds = []\n",
        "    all_test_labels = []\n",
        "\n",
        "    with torch.no_grad():\n",
        "        for batch in test_loader:\n",
        "            input_ids = batch['input_ids'].to(device)\n",
        "            attention_mask = batch['attention_mask'].to(device)\n",
        "            labels = batch['label'].to(device)\n",
        "\n",
        "            outputs = model(input_ids, attention_mask=attention_mask, labels=labels)\n",
        "            loss = outputs.loss\n",
        "\n",
        "            _, test_preds = torch.max(outputs.logits, 1)\n",
        "\n",
        "            all_test_preds.extend(test_preds.tolist())\n",
        "            all_test_labels.extend(labels.tolist())\n",
        "\n",
        "            test_loss += loss.item()\n",
        "\n",
        "    test_accuracy = accuracy_score(all_test_labels, all_test_preds)\n",
        "    test_accuracies.append(test_accuracy)\n",
        "\n",
        "    train_acc = accuracy_score(all_preds, all_labels)\n",
        "    val_acc = accuracy_score(val_preds, val_labels)\n",
        "\n",
        "    train_losses.append(train_loss / len(train_loader))\n",
        "    val_losses.append(val_loss / len(val_loader))\n",
        "    val_accuracies.append(val_acc)\n",
        "    train_accuracies.append(train_acc)\n",
        "\n",
        "    print(f\"Epoch [{epoch+1}/{NUM_EPOCHS}] - Training Accuracy: {train_acc:.4f}, Validation Accuracy: {val_acc:.4f}\")"
      ],
      "metadata": {
        "colab": {
          "base_uri": "https://localhost:8080/"
        },
        "id": "vkw5xaLe4OrQ",
        "outputId": "a77a3bec-3f26-44c8-d419-e169a0f82a40"
      },
      "execution_count": null,
      "outputs": [
        {
          "metadata": {
            "tags": null
          },
          "name": "stderr",
          "output_type": "stream",
          "text": [
            "Epoch [1/50]: 100%|██████████| 14/14 [07:20<00:00, 31.45s/it, acc=0.527, loss=0.697]\n",
            "100%|██████████| 2/2 [00:17<00:00,  8.73s/it]\n"
          ]
        },
        {
          "metadata": {
            "tags": null
          },
          "name": "stdout",
          "output_type": "stream",
          "text": [
            "Epoch [1/50] - Training Accuracy: 0.5269, Validation Accuracy: 0.5536\n"
          ]
        },
        {
          "metadata": {
            "tags": null
          },
          "name": "stderr",
          "output_type": "stream",
          "text": [
            "Epoch [2/50]: 100%|██████████| 14/14 [07:04<00:00, 30.31s/it, acc=0.567, loss=0.677]\n",
            "100%|██████████| 2/2 [00:16<00:00,  8.45s/it]\n"
          ]
        },
        {
          "metadata": {
            "tags": null
          },
          "name": "stdout",
          "output_type": "stream",
          "text": [
            "Epoch [2/50] - Training Accuracy: 0.5673, Validation Accuracy: 0.5714\n"
          ]
        },
        {
          "metadata": {
            "tags": null
          },
          "name": "stderr",
          "output_type": "stream",
          "text": [
            "Epoch [3/50]: 100%|██████████| 14/14 [07:07<00:00, 30.56s/it, acc=0.668, loss=0.643]\n",
            "100%|██████████| 2/2 [00:16<00:00,  8.43s/it]\n"
          ]
        },
        {
          "metadata": {
            "tags": null
          },
          "name": "stdout",
          "output_type": "stream",
          "text": [
            "Epoch [3/50] - Training Accuracy: 0.6682, Validation Accuracy: 0.6250\n"
          ]
        },
        {
          "metadata": {
            "tags": null
          },
          "name": "stderr",
          "output_type": "stream",
          "text": [
            "Epoch [4/50]: 100%|██████████| 14/14 [07:05<00:00, 30.37s/it, acc=0.686, loss=0.634]\n",
            "100%|██████████| 2/2 [00:16<00:00,  8.45s/it]\n"
          ]
        },
        {
          "metadata": {
            "tags": null
          },
          "name": "stdout",
          "output_type": "stream",
          "text": [
            "Epoch [4/50] - Training Accuracy: 0.6861, Validation Accuracy: 0.5714\n"
          ]
        },
        {
          "metadata": {
            "tags": null
          },
          "name": "stderr",
          "output_type": "stream",
          "text": [
            "Epoch [5/50]: 100%|██████████| 14/14 [07:06<00:00, 30.46s/it, acc=0.711, loss=0.611]\n",
            "100%|██████████| 2/2 [00:16<00:00,  8.46s/it]\n"
          ]
        },
        {
          "metadata": {
            "tags": null
          },
          "name": "stdout",
          "output_type": "stream",
          "text": [
            "Epoch [5/50] - Training Accuracy: 0.7108, Validation Accuracy: 0.6071\n"
          ]
        },
        {
          "metadata": {
            "tags": null
          },
          "name": "stderr",
          "output_type": "stream",
          "text": [
            "Epoch [6/50]: 100%|██████████| 14/14 [07:06<00:00, 30.44s/it, acc=0.753, loss=0.578]\n",
            "100%|██████████| 2/2 [00:16<00:00,  8.48s/it]\n"
          ]
        },
        {
          "metadata": {
            "tags": null
          },
          "name": "stdout",
          "output_type": "stream",
          "text": [
            "Epoch [6/50] - Training Accuracy: 0.7534, Validation Accuracy: 0.6429\n"
          ]
        },
        {
          "metadata": {
            "tags": null
          },
          "name": "stderr",
          "output_type": "stream",
          "text": [
            "Epoch [7/50]: 100%|██████████| 14/14 [07:04<00:00, 30.31s/it, acc=0.76, loss=0.551]\n",
            "100%|██████████| 2/2 [00:16<00:00,  8.37s/it]\n"
          ]
        },
        {
          "metadata": {
            "tags": null
          },
          "name": "stdout",
          "output_type": "stream",
          "text": [
            "Epoch [7/50] - Training Accuracy: 0.7601, Validation Accuracy: 0.6429\n"
          ]
        },
        {
          "metadata": {
            "tags": null
          },
          "name": "stderr",
          "output_type": "stream",
          "text": [
            "Epoch [8/50]: 100%|██████████| 14/14 [07:01<00:00, 30.09s/it, acc=0.794, loss=0.525]\n",
            "100%|██████████| 2/2 [00:16<00:00,  8.35s/it]\n"
          ]
        },
        {
          "metadata": {
            "tags": null
          },
          "name": "stdout",
          "output_type": "stream",
          "text": [
            "Epoch [8/50] - Training Accuracy: 0.7937, Validation Accuracy: 0.6250\n"
          ]
        },
        {
          "metadata": {
            "tags": null
          },
          "name": "stderr",
          "output_type": "stream",
          "text": [
            "Epoch [9/50]: 100%|██████████| 14/14 [07:01<00:00, 30.08s/it, acc=0.787, loss=0.493]\n",
            "100%|██████████| 2/2 [00:16<00:00,  8.33s/it]\n"
          ]
        },
        {
          "metadata": {
            "tags": null
          },
          "name": "stdout",
          "output_type": "stream",
          "text": [
            "Epoch [9/50] - Training Accuracy: 0.7870, Validation Accuracy: 0.6607\n"
          ]
        },
        {
          "metadata": {
            "tags": null
          },
          "name": "stderr",
          "output_type": "stream",
          "text": [
            "Epoch [10/50]: 100%|██████████| 14/14 [07:02<00:00, 30.14s/it, acc=0.807, loss=0.469]\n",
            "100%|██████████| 2/2 [00:16<00:00,  8.32s/it]\n"
          ]
        },
        {
          "metadata": {
            "tags": null
          },
          "name": "stdout",
          "output_type": "stream",
          "text": [
            "Epoch [10/50] - Training Accuracy: 0.8072, Validation Accuracy: 0.6607\n"
          ]
        },
        {
          "metadata": {
            "tags": null
          },
          "name": "stderr",
          "output_type": "stream",
          "text": [
            "Epoch [11/50]: 100%|██████████| 14/14 [06:57<00:00, 29.83s/it, acc=0.832, loss=0.429]\n",
            "100%|██████████| 2/2 [00:16<00:00,  8.30s/it]\n"
          ]
        },
        {
          "metadata": {
            "tags": null
          },
          "name": "stdout",
          "output_type": "stream",
          "text": [
            "Epoch [11/50] - Training Accuracy: 0.8318, Validation Accuracy: 0.6429\n"
          ]
        },
        {
          "metadata": {
            "tags": null
          },
          "name": "stderr",
          "output_type": "stream",
          "text": [
            "Epoch [12/50]: 100%|██████████| 14/14 [06:57<00:00, 29.84s/it, acc=0.818, loss=0.403]\n",
            "100%|██████████| 2/2 [00:16<00:00,  8.31s/it]\n"
          ]
        },
        {
          "metadata": {
            "tags": null
          },
          "name": "stdout",
          "output_type": "stream",
          "text": [
            "Epoch [12/50] - Training Accuracy: 0.8184, Validation Accuracy: 0.6429\n"
          ]
        },
        {
          "metadata": {
            "tags": null
          },
          "name": "stderr",
          "output_type": "stream",
          "text": [
            "Epoch [13/50]: 100%|██████████| 14/14 [06:58<00:00, 29.92s/it, acc=0.868, loss=0.369]\n",
            "100%|██████████| 2/2 [00:17<00:00,  8.87s/it]\n"
          ]
        },
        {
          "metadata": {
            "tags": null
          },
          "name": "stdout",
          "output_type": "stream",
          "text": [
            "Epoch [13/50] - Training Accuracy: 0.8677, Validation Accuracy: 0.6786\n"
          ]
        },
        {
          "metadata": {
            "tags": null
          },
          "name": "stderr",
          "output_type": "stream",
          "text": [
            "Epoch [14/50]: 100%|██████████| 14/14 [06:57<00:00, 29.82s/it, acc=0.879, loss=0.325]\n",
            "100%|██████████| 2/2 [00:18<00:00,  9.05s/it]\n"
          ]
        },
        {
          "metadata": {
            "tags": null
          },
          "name": "stdout",
          "output_type": "stream",
          "text": [
            "Epoch [14/50] - Training Accuracy: 0.8789, Validation Accuracy: 0.6786\n"
          ]
        },
        {
          "metadata": {
            "tags": null
          },
          "name": "stderr",
          "output_type": "stream",
          "text": [
            "Epoch [15/50]: 100%|██████████| 14/14 [06:58<00:00, 29.91s/it, acc=0.872, loss=0.313]\n",
            "100%|██████████| 2/2 [00:17<00:00,  8.83s/it]\n"
          ]
        },
        {
          "metadata": {
            "tags": null
          },
          "name": "stdout",
          "output_type": "stream",
          "text": [
            "Epoch [15/50] - Training Accuracy: 0.8722, Validation Accuracy: 0.6786\n"
          ]
        },
        {
          "metadata": {
            "tags": null
          },
          "name": "stderr",
          "output_type": "stream",
          "text": [
            "Epoch [16/50]: 100%|██████████| 14/14 [06:57<00:00, 29.79s/it, acc=0.922, loss=0.273]\n",
            "100%|██████████| 2/2 [00:17<00:00,  8.81s/it]\n"
          ]
        },
        {
          "metadata": {
            "tags": null
          },
          "name": "stdout",
          "output_type": "stream",
          "text": [
            "Epoch [16/50] - Training Accuracy: 0.9215, Validation Accuracy: 0.6786\n"
          ]
        },
        {
          "metadata": {
            "tags": null
          },
          "name": "stderr",
          "output_type": "stream",
          "text": [
            "Epoch [17/50]: 100%|██████████| 14/14 [06:58<00:00, 29.90s/it, acc=0.917, loss=0.251]\n",
            "100%|██████████| 2/2 [00:16<00:00,  8.40s/it]\n"
          ]
        },
        {
          "metadata": {
            "tags": null
          },
          "name": "stdout",
          "output_type": "stream",
          "text": [
            "Epoch [17/50] - Training Accuracy: 0.9170, Validation Accuracy: 0.6786\n"
          ]
        },
        {
          "metadata": {
            "tags": null
          },
          "name": "stderr",
          "output_type": "stream",
          "text": [
            "Epoch [18/50]: 100%|██████████| 14/14 [06:59<00:00, 29.98s/it, acc=0.935, loss=0.216]\n",
            "100%|██████████| 2/2 [00:16<00:00,  8.31s/it]\n"
          ]
        },
        {
          "metadata": {
            "tags": null
          },
          "name": "stdout",
          "output_type": "stream",
          "text": [
            "Epoch [18/50] - Training Accuracy: 0.9350, Validation Accuracy: 0.6964\n"
          ]
        },
        {
          "metadata": {
            "tags": null
          },
          "name": "stderr",
          "output_type": "stream",
          "text": [
            "Epoch [19/50]: 100%|██████████| 14/14 [07:00<00:00, 30.05s/it, acc=0.946, loss=0.193]\n",
            "100%|██████████| 2/2 [00:16<00:00,  8.30s/it]\n"
          ]
        },
        {
          "metadata": {
            "tags": null
          },
          "name": "stdout",
          "output_type": "stream",
          "text": [
            "Epoch [19/50] - Training Accuracy: 0.9462, Validation Accuracy: 0.6786\n"
          ]
        },
        {
          "metadata": {
            "tags": null
          },
          "name": "stderr",
          "output_type": "stream",
          "text": [
            "Epoch [20/50]: 100%|██████████| 14/14 [07:01<00:00, 30.11s/it, acc=0.971, loss=0.158]\n",
            "100%|██████████| 2/2 [00:16<00:00,  8.34s/it]\n"
          ]
        },
        {
          "metadata": {
            "tags": null
          },
          "name": "stdout",
          "output_type": "stream",
          "text": [
            "Epoch [20/50] - Training Accuracy: 0.9709, Validation Accuracy: 0.6786\n"
          ]
        },
        {
          "metadata": {
            "tags": null
          },
          "name": "stderr",
          "output_type": "stream",
          "text": [
            "Epoch [21/50]: 100%|██████████| 14/14 [06:59<00:00, 29.99s/it, acc=0.966, loss=0.145]\n",
            "100%|██████████| 2/2 [00:16<00:00,  8.33s/it]\n"
          ]
        },
        {
          "metadata": {
            "tags": null
          },
          "name": "stdout",
          "output_type": "stream",
          "text": [
            "Epoch [21/50] - Training Accuracy: 0.9664, Validation Accuracy: 0.6607\n"
          ]
        },
        {
          "metadata": {
            "tags": null
          },
          "name": "stderr",
          "output_type": "stream",
          "text": [
            "Epoch [22/50]: 100%|██████████| 14/14 [07:02<00:00, 30.18s/it, acc=0.982, loss=0.114]\n",
            "100%|██████████| 2/2 [00:16<00:00,  8.34s/it]\n"
          ]
        },
        {
          "metadata": {
            "tags": null
          },
          "name": "stdout",
          "output_type": "stream",
          "text": [
            "Epoch [22/50] - Training Accuracy: 0.9821, Validation Accuracy: 0.7143\n"
          ]
        },
        {
          "metadata": {
            "tags": null
          },
          "name": "stderr",
          "output_type": "stream",
          "text": [
            "Epoch [23/50]: 100%|██████████| 14/14 [07:00<00:00, 30.06s/it, acc=0.982, loss=0.11]\n",
            "100%|██████████| 2/2 [00:17<00:00,  8.57s/it]\n"
          ]
        },
        {
          "metadata": {
            "tags": null
          },
          "name": "stdout",
          "output_type": "stream",
          "text": [
            "Epoch [23/50] - Training Accuracy: 0.9821, Validation Accuracy: 0.6607\n"
          ]
        },
        {
          "metadata": {
            "tags": null
          },
          "name": "stderr",
          "output_type": "stream",
          "text": [
            "Epoch [24/50]: 100%|██████████| 14/14 [07:01<00:00, 30.10s/it, acc=0.98, loss=0.0899]\n",
            "100%|██████████| 2/2 [00:17<00:00,  8.90s/it]\n"
          ]
        },
        {
          "metadata": {
            "tags": null
          },
          "name": "stdout",
          "output_type": "stream",
          "text": [
            "Epoch [24/50] - Training Accuracy: 0.9798, Validation Accuracy: 0.6607\n"
          ]
        },
        {
          "metadata": {
            "tags": null
          },
          "name": "stderr",
          "output_type": "stream",
          "text": [
            "Epoch [25/50]: 100%|██████████| 14/14 [07:02<00:00, 30.17s/it, acc=0.982, loss=0.0808]\n",
            "100%|██████████| 2/2 [00:16<00:00,  8.44s/it]\n"
          ]
        },
        {
          "metadata": {
            "tags": null
          },
          "name": "stdout",
          "output_type": "stream",
          "text": [
            "Epoch [25/50] - Training Accuracy: 0.9821, Validation Accuracy: 0.6964\n"
          ]
        },
        {
          "metadata": {
            "tags": null
          },
          "name": "stderr",
          "output_type": "stream",
          "text": [
            "Epoch [26/50]: 100%|██████████| 14/14 [07:02<00:00, 30.17s/it, acc=0.984, loss=0.0685]\n",
            "100%|██████████| 2/2 [00:16<00:00,  8.32s/it]\n"
          ]
        },
        {
          "metadata": {
            "tags": null
          },
          "name": "stdout",
          "output_type": "stream",
          "text": [
            "Epoch [26/50] - Training Accuracy: 0.9843, Validation Accuracy: 0.6786\n"
          ]
        },
        {
          "metadata": {
            "tags": null
          },
          "name": "stderr",
          "output_type": "stream",
          "text": [
            "Epoch [27/50]: 100%|██████████| 14/14 [07:01<00:00, 30.10s/it, acc=0.982, loss=0.0704]\n",
            "100%|██████████| 2/2 [00:16<00:00,  8.34s/it]\n"
          ]
        },
        {
          "metadata": {
            "tags": null
          },
          "name": "stdout",
          "output_type": "stream",
          "text": [
            "Epoch [27/50] - Training Accuracy: 0.9821, Validation Accuracy: 0.6786\n"
          ]
        },
        {
          "output_type": "stream",
          "name": "stderr",
          "text": [
            "Epoch [28/50]: 100%|██████████| 14/14 [07:01<00:00, 30.07s/it, acc=0.993, loss=0.0479]\n",
            "100%|██████████| 2/2 [00:16<00:00,  8.36s/it]\n"
          ]
        },
        {
          "output_type": "stream",
          "name": "stdout",
          "text": [
            "Epoch [28/50] - Training Accuracy: 0.9933, Validation Accuracy: 0.6786\n"
          ]
        },
        {
          "output_type": "stream",
          "name": "stderr",
          "text": [
            "Epoch [29/50]: 100%|██████████| 14/14 [06:59<00:00, 29.97s/it, acc=0.993, loss=0.0464]\n",
            "100%|██████████| 2/2 [00:18<00:00,  9.01s/it]\n"
          ]
        },
        {
          "output_type": "stream",
          "name": "stdout",
          "text": [
            "Epoch [29/50] - Training Accuracy: 0.9933, Validation Accuracy: 0.6607\n"
          ]
        },
        {
          "output_type": "stream",
          "name": "stderr",
          "text": [
            "Epoch [30/50]: 100%|██████████| 14/14 [06:58<00:00, 29.88s/it, acc=0.989, loss=0.0379]\n",
            "100%|██████████| 2/2 [00:17<00:00,  8.93s/it]\n"
          ]
        },
        {
          "output_type": "stream",
          "name": "stdout",
          "text": [
            "Epoch [30/50] - Training Accuracy: 0.9888, Validation Accuracy: 0.6786\n"
          ]
        },
        {
          "output_type": "stream",
          "name": "stderr",
          "text": [
            "Epoch [31/50]: 100%|██████████| 14/14 [07:01<00:00, 30.10s/it, acc=0.993, loss=0.0325]\n",
            "100%|██████████| 2/2 [00:16<00:00,  8.31s/it]\n"
          ]
        },
        {
          "output_type": "stream",
          "name": "stdout",
          "text": [
            "Epoch [31/50] - Training Accuracy: 0.9933, Validation Accuracy: 0.6607\n"
          ]
        },
        {
          "output_type": "stream",
          "name": "stderr",
          "text": [
            "Epoch [32/50]: 100%|██████████| 14/14 [06:59<00:00, 29.97s/it, acc=0.993, loss=0.0307]\n",
            "100%|██████████| 2/2 [00:16<00:00,  8.32s/it]\n"
          ]
        },
        {
          "output_type": "stream",
          "name": "stdout",
          "text": [
            "Epoch [32/50] - Training Accuracy: 0.9933, Validation Accuracy: 0.6607\n"
          ]
        },
        {
          "output_type": "stream",
          "name": "stderr",
          "text": [
            "Epoch [33/50]: 100%|██████████| 14/14 [06:59<00:00, 29.98s/it, acc=0.996, loss=0.0273]\n",
            "100%|██████████| 2/2 [00:16<00:00,  8.31s/it]\n"
          ]
        },
        {
          "output_type": "stream",
          "name": "stdout",
          "text": [
            "Epoch [33/50] - Training Accuracy: 0.9955, Validation Accuracy: 0.6607\n"
          ]
        },
        {
          "output_type": "stream",
          "name": "stderr",
          "text": [
            "Epoch [34/50]: 100%|██████████| 14/14 [07:02<00:00, 30.17s/it, acc=0.993, loss=0.0243]\n",
            "100%|██████████| 2/2 [00:16<00:00,  8.31s/it]\n"
          ]
        },
        {
          "output_type": "stream",
          "name": "stdout",
          "text": [
            "Epoch [34/50] - Training Accuracy: 0.9933, Validation Accuracy: 0.6607\n"
          ]
        },
        {
          "output_type": "stream",
          "name": "stderr",
          "text": [
            "Epoch [35/50]: 100%|██████████| 14/14 [07:01<00:00, 30.08s/it, acc=0.996, loss=0.0227]\n",
            "100%|██████████| 2/2 [00:16<00:00,  8.34s/it]\n"
          ]
        },
        {
          "output_type": "stream",
          "name": "stdout",
          "text": [
            "Epoch [35/50] - Training Accuracy: 0.9955, Validation Accuracy: 0.6607\n"
          ]
        },
        {
          "output_type": "stream",
          "name": "stderr",
          "text": [
            "Epoch [36/50]: 100%|██████████| 14/14 [07:00<00:00, 30.01s/it, acc=1, loss=0.0142]\n",
            "100%|██████████| 2/2 [00:16<00:00,  8.32s/it]\n"
          ]
        },
        {
          "output_type": "stream",
          "name": "stdout",
          "text": [
            "Epoch [36/50] - Training Accuracy: 1.0000, Validation Accuracy: 0.6429\n"
          ]
        },
        {
          "output_type": "stream",
          "name": "stderr",
          "text": [
            "Epoch [37/50]: 100%|██████████| 14/14 [06:59<00:00, 30.00s/it, acc=1, loss=0.0133]\n",
            "100%|██████████| 2/2 [00:17<00:00,  8.56s/it]\n"
          ]
        },
        {
          "output_type": "stream",
          "name": "stdout",
          "text": [
            "Epoch [37/50] - Training Accuracy: 1.0000, Validation Accuracy: 0.6607\n"
          ]
        },
        {
          "output_type": "stream",
          "name": "stderr",
          "text": [
            "Epoch [38/50]: 100%|██████████| 14/14 [07:00<00:00, 30.06s/it, acc=0.998, loss=0.0144]\n",
            "100%|██████████| 2/2 [00:17<00:00,  8.73s/it]\n"
          ]
        },
        {
          "output_type": "stream",
          "name": "stdout",
          "text": [
            "Epoch [38/50] - Training Accuracy: 0.9978, Validation Accuracy: 0.6429\n"
          ]
        },
        {
          "output_type": "stream",
          "name": "stderr",
          "text": [
            "Epoch [39/50]: 100%|██████████| 14/14 [07:02<00:00, 30.15s/it, acc=1, loss=0.0151]\n",
            "100%|██████████| 2/2 [00:16<00:00,  8.33s/it]\n"
          ]
        },
        {
          "output_type": "stream",
          "name": "stdout",
          "text": [
            "Epoch [39/50] - Training Accuracy: 1.0000, Validation Accuracy: 0.6607\n"
          ]
        },
        {
          "output_type": "stream",
          "name": "stderr",
          "text": [
            "Epoch [40/50]: 100%|██████████| 14/14 [07:01<00:00, 30.07s/it, acc=0.998, loss=0.0134]\n",
            "100%|██████████| 2/2 [00:16<00:00,  8.34s/it]\n"
          ]
        },
        {
          "output_type": "stream",
          "name": "stdout",
          "text": [
            "Epoch [40/50] - Training Accuracy: 0.9978, Validation Accuracy: 0.6607\n"
          ]
        },
        {
          "output_type": "stream",
          "name": "stderr",
          "text": [
            "Epoch [41/50]: 100%|██████████| 14/14 [07:00<00:00, 30.03s/it, acc=0.996, loss=0.0147]\n",
            "100%|██████████| 2/2 [00:16<00:00,  8.32s/it]\n"
          ]
        },
        {
          "output_type": "stream",
          "name": "stdout",
          "text": [
            "Epoch [41/50] - Training Accuracy: 0.9955, Validation Accuracy: 0.6786\n"
          ]
        },
        {
          "output_type": "stream",
          "name": "stderr",
          "text": [
            "Epoch [42/50]: 100%|██████████| 14/14 [07:01<00:00, 30.12s/it, acc=0.998, loss=0.0112]\n",
            "100%|██████████| 2/2 [00:17<00:00,  8.67s/it]\n"
          ]
        },
        {
          "output_type": "stream",
          "name": "stdout",
          "text": [
            "Epoch [42/50] - Training Accuracy: 0.9978, Validation Accuracy: 0.6429\n"
          ]
        },
        {
          "output_type": "stream",
          "name": "stderr",
          "text": [
            "Epoch [43/50]: 100%|██████████| 14/14 [07:01<00:00, 30.11s/it, acc=1, loss=0.00898]\n",
            "100%|██████████| 2/2 [00:16<00:00,  8.36s/it]\n"
          ]
        },
        {
          "output_type": "stream",
          "name": "stdout",
          "text": [
            "Epoch [43/50] - Training Accuracy: 1.0000, Validation Accuracy: 0.6429\n"
          ]
        },
        {
          "output_type": "stream",
          "name": "stderr",
          "text": [
            "Epoch [44/50]: 100%|██████████| 14/14 [06:59<00:00, 30.00s/it, acc=1, loss=0.00973]\n",
            "100%|██████████| 2/2 [00:16<00:00,  8.31s/it]\n"
          ]
        },
        {
          "output_type": "stream",
          "name": "stdout",
          "text": [
            "Epoch [44/50] - Training Accuracy: 1.0000, Validation Accuracy: 0.6607\n"
          ]
        },
        {
          "output_type": "stream",
          "name": "stderr",
          "text": [
            "Epoch [45/50]: 100%|██████████| 14/14 [07:01<00:00, 30.08s/it, acc=0.996, loss=0.0123]\n",
            "100%|██████████| 2/2 [00:16<00:00,  8.29s/it]\n"
          ]
        },
        {
          "output_type": "stream",
          "name": "stdout",
          "text": [
            "Epoch [45/50] - Training Accuracy: 0.9955, Validation Accuracy: 0.6607\n"
          ]
        },
        {
          "output_type": "stream",
          "name": "stderr",
          "text": [
            "Epoch [46/50]: 100%|██████████| 14/14 [06:59<00:00, 29.96s/it, acc=0.998, loss=0.0132]\n",
            "100%|██████████| 2/2 [00:16<00:00,  8.32s/it]\n"
          ]
        },
        {
          "output_type": "stream",
          "name": "stdout",
          "text": [
            "Epoch [46/50] - Training Accuracy: 0.9978, Validation Accuracy: 0.6786\n"
          ]
        },
        {
          "output_type": "stream",
          "name": "stderr",
          "text": [
            "Epoch [47/50]: 100%|██████████| 14/14 [06:58<00:00, 29.93s/it, acc=0.998, loss=0.0122]\n",
            "100%|██████████| 2/2 [00:16<00:00,  8.32s/it]\n"
          ]
        },
        {
          "output_type": "stream",
          "name": "stdout",
          "text": [
            "Epoch [47/50] - Training Accuracy: 0.9978, Validation Accuracy: 0.6607\n"
          ]
        },
        {
          "output_type": "stream",
          "name": "stderr",
          "text": [
            "Epoch [48/50]: 100%|██████████| 14/14 [07:00<00:00, 30.06s/it, acc=0.998, loss=0.0109]\n",
            "100%|██████████| 2/2 [00:16<00:00,  8.32s/it]\n"
          ]
        },
        {
          "output_type": "stream",
          "name": "stdout",
          "text": [
            "Epoch [48/50] - Training Accuracy: 0.9978, Validation Accuracy: 0.6607\n"
          ]
        },
        {
          "output_type": "stream",
          "name": "stderr",
          "text": [
            "Epoch [49/50]: 100%|██████████| 14/14 [07:31<00:00, 32.25s/it, acc=1, loss=0.00547]\n",
            "100%|██████████| 2/2 [00:20<00:00, 10.10s/it]\n"
          ]
        },
        {
          "output_type": "stream",
          "name": "stdout",
          "text": [
            "Epoch [49/50] - Training Accuracy: 1.0000, Validation Accuracy: 0.6607\n"
          ]
        },
        {
          "output_type": "stream",
          "name": "stderr",
          "text": [
            "Epoch [50/50]: 100%|██████████| 14/14 [07:10<00:00, 30.73s/it, acc=1, loss=0.00466]\n",
            "100%|██████████| 2/2 [00:19<00:00,  9.57s/it]\n"
          ]
        },
        {
          "output_type": "stream",
          "name": "stdout",
          "text": [
            "Epoch [50/50] - Training Accuracy: 1.0000, Validation Accuracy: 0.6607\n"
          ]
        }
      ]
    },
    {
      "cell_type": "code",
      "source": [
        "torch.save(model,'model_2.pth')"
      ],
      "metadata": {
        "id": "x80F5O9Q7ob8"
      },
      "execution_count": null,
      "outputs": []
    },
    {
      "cell_type": "markdown",
      "source": [
        "# Training Accuracy and Validation Accuracy"
      ],
      "metadata": {
        "id": "QN39ZyLl78X6"
      }
    },
    {
      "cell_type": "code",
      "source": [
        "plt.figure(figsize=(10, 5))\n",
        "plt.plot(range(1, NUM_EPOCHS + 1), train_accuracies, label='Training Accuracy')\n",
        "plt.plot(range(1, NUM_EPOCHS + 1), val_accuracies, label='Validation Accuracy')\n",
        "plt.xlabel('Epoch')\n",
        "plt.ylabel('Accuracy')\n",
        "plt.ylim(0, 1)\n",
        "plt.xticks(range(NUM_EPOCHS + 1))\n",
        "plt.title('Training and Validation Accuracy')\n",
        "plt.legend()\n",
        "plt.show()"
      ],
      "metadata": {
        "colab": {
          "base_uri": "https://localhost:8080/",
          "height": 507
        },
        "id": "HXwuhiCV41FR",
        "outputId": "6cdb00f5-7a4d-4c60-ba85-731301e0aeb5"
      },
      "execution_count": null,
      "outputs": [
        {
          "output_type": "display_data",
          "data": {
            "text/plain": [
              "<Figure size 1000x500 with 1 Axes>"
            ],
            "image/png": "[encoded data removed]"
          },
          "metadata": {}
        }
      ]
    },
    {
      "cell_type": "markdown",
      "source": [
        "# Training and Validation Loss"
      ],
      "metadata": {
        "id": "abiFdiqx8Hfg"
      }
    },
    {
      "cell_type": "code",
      "source": [
        "plt.figure(figsize=(10, 5))\n",
        "plt.plot(train_losses, label='Training Loss')\n",
        "plt.plot(val_losses, label='Validation Loss')\n",
        "plt.xlabel('Epoch')\n",
        "plt.ylabel('Loss')\n",
        "plt.xticks(range(NUM_EPOCHS + 1))\n",
        "plt.title('Training and Validation Loss')\n",
        "plt.ylim(0,1)\n",
        "plt.legend()\n",
        "plt.show()"
      ],
      "metadata": {
        "id": "5ZCFfj4Y8GSG"
      },
      "execution_count": null,
      "outputs": []
    },
    {
      "cell_type": "code",
      "source": [
        "from sklearn.metrics import classification_report\n",
        "class_report = classification_report(all_test_labels, all_test_preds)\n",
        "class_report = classification_report(all_test_labels, all_test_preds,target_names = ['Political','Non Political'])\n",
        "print(class_report)"
      ],
      "metadata": {
        "colab": {
          "base_uri": "https://localhost:8080/"
        },
        "id": "tqTugq6y8QCQ",
        "outputId": "8df8b857-84de-4360-e71a-b0c8bdc700f9"
      },
      "execution_count": null,
      "outputs": [
        {
          "output_type": "stream",
          "name": "stdout",
          "text": [
            "               precision    recall  f1-score   support\n",
            "\n",
            "    Political       0.62      0.73      0.67        22\n",
            "Non Political       0.80      0.71      0.75        34\n",
            "\n",
            "     accuracy                           0.71        56\n",
            "    macro avg       0.71      0.72      0.71        56\n",
            " weighted avg       0.73      0.71      0.72        56\n",
            "\n"
          ]
        }
      ]
    },
    {
      "cell_type": "code",
      "source": [
        "from sklearn.metrics import confusion_matrix\n",
        "import seaborn as sns\n",
        "\n",
        "conf_matrix = confusion_matrix(all_test_labels, all_test_preds)\n",
        "\n",
        "plt.figure(figsize=(8, 6))\n",
        "sns.heatmap(conf_matrix, annot=True, fmt='d', cmap='Blues')\n",
        "#sns.heatmap(conf_matrix, annot=True, fmt='d', cmap='Blues', xticklabels=['Neutral', 'Negative', 'Positive'], yticklabels=['Neutral', 'Negative','Positive'])\n",
        "plt.title('Confusion Matrix')\n",
        "plt.xlabel('Predicted')\n",
        "plt.ylabel('Actual')\n",
        "plt.show()"
      ],
      "metadata": {
        "id": "MRYSF8jI8Rua",
        "colab": {
          "base_uri": "https://localhost:8080/",
          "height": 584
        },
        "outputId": "75665692-2288-4404-dd36-72fb5b9c5d4a"
      },
      "execution_count": null,
      "outputs": [
        {
          "output_type": "display_data",
          "data": {
            "text/plain": [
              "<Figure size 800x600 with 2 Axes>"
            ],
            "image/png": "[encoded data removed]"
          },
          "metadata": {}
        }
      ]
    },
    {
      "cell_type": "markdown",
      "source": [
        "# Test Accuracy"
      ],
      "metadata": {
        "id": "T1CXLBbg8Xdm"
      }
    },
    {
      "cell_type": "code",
      "source": [
        "model_checkpoint = \"model_2.pth\"\n",
        "model = torch.load(model_checkpoint)\n",
        "model = model.to(device)\n",
        "\n",
        "device = torch.device(\"cuda:0\" if torch.cuda.is_available() else \"cpu\")\n",
        "\n",
        "test_train_accuracies = []\n",
        "\n",
        "def calculate_accuracy(data_loader, test_model):\n",
        "    test_model.eval()\n",
        "    all_preds = []\n",
        "    all_labels = []\n",
        "\n",
        "    with torch.no_grad():\n",
        "        for batch in data_loader:\n",
        "            input_ids = batch['input_ids'].to(device)\n",
        "            attention_mask = batch['attention_mask'].to(device)\n",
        "            labels = batch['label'].to(device)\n",
        "\n",
        "            outputs = test_model(input_ids, attention_mask=attention_mask)\n",
        "            _, preds = torch.max(outputs.logits, 1)\n",
        "            all_preds.extend(preds.tolist())\n",
        "            all_labels.extend(labels.tolist())\n",
        "\n",
        "    accuracy = accuracy_score(all_labels, all_preds)\n",
        "    return accuracy\n",
        "\n",
        "test_accuracy = calculate_accuracy(test_loader, model)\n",
        "print(f\"Test Accuracy: {test_accuracy:.4f}\")\n"
      ],
      "metadata": {
        "id": "vksm8Iwj8aTn",
        "colab": {
          "base_uri": "https://localhost:8080/"
        },
        "outputId": "b115c6f0-a402-48b9-9ca9-97d4e05c37e8"
      },
      "execution_count": null,
      "outputs": [
        {
          "output_type": "stream",
          "name": "stdout",
          "text": [
            "Test Accuracy: 0.7143\n"
          ]
        }
      ]
    },
    {
      "cell_type": "code",
      "source": [
        "epochs = range(1, NUM_EPOCHS + 1)\n",
        "plt.plot(epochs, train_accuracies, label='Training Accuracy')\n",
        "plt.plot(epochs, test_accuracies, label='Testing Accuracy')\n",
        "plt.xlabel('Epochs')\n",
        "plt.ylabel('Accuracy')\n",
        "plt.title('Training and Testing Accuracy')\n",
        "plt.legend()\n",
        "plt.show()"
      ],
      "metadata": {
        "id": "xFKQ6k_V8ggL"
      },
      "execution_count": null,
      "outputs": []
    },
    {
      "cell_type": "code",
      "source": [],
      "metadata": {
        "id": "f04u7cv4xven"
      },
      "execution_count": null,
      "outputs": []
    }
  ]
}